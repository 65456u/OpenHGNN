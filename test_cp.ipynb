{
 "cells": [
  {
   "cell_type": "code",
   "execution_count": 1,
   "metadata": {},
   "outputs": [],
   "source": [
    "import openhgnn"
   ]
  },
  {
   "cell_type": "code",
   "execution_count": 2,
   "metadata": {},
   "outputs": [
    {
     "name": "stdout",
     "output_type": "stream",
     "text": [
      "------------------------------------------------------------------------------\n",
      " Basic setup of this experiment: \n",
      "     model: HMPNN    \n",
      "     dataset: OAG_CS   \n",
      "     task: ktn. \n",
      " This experiment has following parameters. You can use set_params to edit them.\n",
      " Use print(experiment) to print this information again.\n",
      "------------------------------------------------------------------------------\n",
      "batch_size: 64\n",
      "dataset_name: OAG_CS\n",
      "device: cpu\n",
      "evaluate_interval: 5\n",
      "gpu: -1\n",
      "hid_dim: 128\n",
      "hpo_search_space: None\n",
      "hpo_trials: 100\n",
      "in_dim: 1169\n",
      "load_from_pretrained: False\n",
      "lr: 0.001\n",
      "matching_coeff: 1\n",
      "max_epoch: 200\n",
      "mini_batch_flag: False\n",
      "model_name: HMPNN\n",
      "num_layers: 4\n",
      "optimizer: Adam\n",
      "out_dim: 128\n",
      "output_dir: ./openhgnn/output/HMPNN\n",
      "patience: 1\n",
      "ranking: True\n",
      "rel_dim: 128\n",
      "seed: 0\n",
      "source_type: paper\n",
      "target_type: author\n",
      "task_type: L1\n",
      "test_batch: 50\n",
      "train_batch: 200\n",
      "use_best_config: False\n",
      "use_matching_loss: True\n",
      "\n"
     ]
    }
   ],
   "source": [
    "from openhgnn import Experiment\n",
    "experiment = Experiment(model='HMPNN', dataset='OAG_CS', task='ktn', \n",
    "                        gpu=-1, lr=0.001, \n",
    "                        max_epoch=200, num_layers=4,\n",
    "                        task_type='L1',source_type='paper',target_type='author',\n",
    "                        in_dim=1169,hid_dim=128,out_dim=128,rel_dim=128,\n",
    "                        batch_size=64, use_matching_loss=True,\n",
    "                        matching_coeff=1,mini_batch_flag=False,\n",
    "                        evaluate_interval=5,ranking=True\n",
    "                        )"
   ]
  },
  {
   "cell_type": "code",
   "execution_count": 3,
   "metadata": {},
   "outputs": [
    {
     "name": "stderr",
     "output_type": "stream",
     "text": [
      "14 Nov 15:03    INFO  [Config Info]\tModel: HMPNN,\tTask: ktn,\tDataset: OAG_CS\n"
     ]
    },
    {
     "name": "stdout",
     "output_type": "stream",
     "text": [
      "KTN_trainer\n",
      "starting ktn task\n",
      "Loading dataset oag_cs\n",
      "initing hmpnn model\n"
     ]
    },
    {
     "name": "stderr",
     "output_type": "stream",
     "text": [
      "  0%|          | 0/200 [00:00<?, ?it/s]14 Nov 15:04    INFO  Epoch 0 | full-batch training\n",
      "14 Nov 15:05    INFO  Epoch 0 | Train Loss 4.9279\n"
     ]
    },
    {
     "name": "stdout",
     "output_type": "stream",
     "text": [
      "torch.Size([544244, 128])\n",
      "tensor([0.1841], grad_fn=<AddBackward0>)\n"
     ]
    },
    {
     "name": "stderr",
     "output_type": "stream",
     "text": [
      "14 Nov 15:07    INFO  Start evaling\n"
     ]
    },
    {
     "name": "stdout",
     "output_type": "stream",
     "text": [
      "((0.3667836408178547, 0.3918051416321104), (0.17898485695578656, 0.02865772609721136), (0.177747859382282, 0.03800939799460765))\n"
     ]
    },
    {
     "name": "stderr",
     "output_type": "stream",
     "text": [
      "  0%|          | 1/200 [05:24<17:57:11, 324.78s/it]14 Nov 15:09    INFO  Epoch 1 | full-batch training\n",
      "14 Nov 15:09    INFO  Epoch 1 | Train Loss 4.8555\n"
     ]
    },
    {
     "name": "stdout",
     "output_type": "stream",
     "text": [
      "torch.Size([544244, 128])\n",
      "tensor([0.0628], grad_fn=<AddBackward0>)\n"
     ]
    },
    {
     "name": "stderr",
     "output_type": "stream",
     "text": [
      "  1%|          | 2/200 [06:07<8:43:37, 158.67s/it] 14 Nov 15:09    INFO  Epoch 2 | full-batch training\n",
      "14 Nov 15:10    INFO  Epoch 2 | Train Loss 4.7778\n"
     ]
    },
    {
     "name": "stdout",
     "output_type": "stream",
     "text": [
      "torch.Size([544244, 128])\n",
      "tensor([0.0408], grad_fn=<AddBackward0>)\n"
     ]
    },
    {
     "name": "stderr",
     "output_type": "stream",
     "text": [
      "  2%|▏         | 3/200 [06:47<5:44:04, 104.80s/it]14 Nov 15:10    INFO  Epoch 3 | full-batch training\n",
      "14 Nov 15:10    INFO  Epoch 3 | Train Loss 4.6820\n"
     ]
    },
    {
     "name": "stdout",
     "output_type": "stream",
     "text": [
      "torch.Size([544244, 128])\n",
      "tensor([0.0411], grad_fn=<AddBackward0>)\n"
     ]
    },
    {
     "name": "stderr",
     "output_type": "stream",
     "text": [
      "  2%|▏         | 4/200 [07:29<4:20:26, 79.72s/it] 14 Nov 15:11    INFO  Epoch 4 | full-batch training\n",
      "14 Nov 15:11    INFO  Epoch 4 | Train Loss 4.5590\n"
     ]
    },
    {
     "name": "stdout",
     "output_type": "stream",
     "text": [
      "torch.Size([544244, 128])\n",
      "tensor([0.0520], grad_fn=<AddBackward0>)\n"
     ]
    },
    {
     "name": "stderr",
     "output_type": "stream",
     "text": [
      "  2%|▎         | 5/200 [08:10<3:33:56, 65.83s/it]14 Nov 15:11    INFO  Epoch 5 | full-batch training\n",
      "14 Nov 15:12    INFO  Epoch 5 | Train Loss 4.4009\n"
     ]
    },
    {
     "name": "stdout",
     "output_type": "stream",
     "text": [
      "torch.Size([544244, 128])\n",
      "tensor([0.0699], grad_fn=<AddBackward0>)\n"
     ]
    },
    {
     "name": "stderr",
     "output_type": "stream",
     "text": [
      "14 Nov 15:12    INFO  Start evaling\n"
     ]
    },
    {
     "name": "stdout",
     "output_type": "stream",
     "text": [
      "((0.4444411955976775, 0.4417544284687011), (0.2378640102103049, 0.15604789811626685), (0.28170922334925097, 0.24533480557184537))\n"
     ]
    },
    {
     "name": "stderr",
     "output_type": "stream",
     "text": [
      "  3%|▎         | 6/200 [10:15<4:38:02, 85.99s/it]14 Nov 15:13    INFO  Epoch 6 | full-batch training\n",
      "14 Nov 15:14    INFO  Epoch 6 | Train Loss 4.2025\n"
     ]
    },
    {
     "name": "stdout",
     "output_type": "stream",
     "text": [
      "torch.Size([544244, 128])\n",
      "tensor([0.0966], grad_fn=<AddBackward0>)\n"
     ]
    },
    {
     "name": "stderr",
     "output_type": "stream",
     "text": [
      "  4%|▎         | 7/200 [10:57<3:50:06, 71.54s/it]14 Nov 15:14    INFO  Epoch 7 | full-batch training\n",
      "14 Nov 15:14    INFO  Epoch 7 | Train Loss 3.9650\n"
     ]
    },
    {
     "name": "stdout",
     "output_type": "stream",
     "text": [
      "torch.Size([544244, 128])\n",
      "tensor([0.1373], grad_fn=<AddBackward0>)\n"
     ]
    },
    {
     "name": "stderr",
     "output_type": "stream",
     "text": [
      "  4%|▍         | 8/200 [11:39<3:18:55, 62.17s/it]14 Nov 15:15    INFO  Epoch 8 | full-batch training\n",
      "14 Nov 15:15    INFO  Epoch 8 | Train Loss 3.7093\n"
     ]
    },
    {
     "name": "stdout",
     "output_type": "stream",
     "text": [
      "torch.Size([544244, 128])\n",
      "tensor([0.1979], grad_fn=<AddBackward0>)\n"
     ]
    },
    {
     "name": "stderr",
     "output_type": "stream",
     "text": [
      "  4%|▍         | 9/200 [12:19<2:56:15, 55.37s/it]14 Nov 15:16    INFO  Epoch 9 | full-batch training\n",
      "14 Nov 15:16    INFO  Epoch 9 | Train Loss 3.4981\n"
     ]
    },
    {
     "name": "stdout",
     "output_type": "stream",
     "text": [
      "torch.Size([544244, 128])\n",
      "tensor([0.2782], grad_fn=<AddBackward0>)\n"
     ]
    },
    {
     "name": "stderr",
     "output_type": "stream",
     "text": [
      "  5%|▌         | 10/200 [13:01<2:42:27, 51.30s/it]14 Nov 15:16    INFO  Epoch 10 | full-batch training\n",
      "14 Nov 15:16    INFO  Epoch 10 | Train Loss 3.3675\n"
     ]
    },
    {
     "name": "stdout",
     "output_type": "stream",
     "text": [
      "torch.Size([544244, 128])\n",
      "tensor([0.3471], grad_fn=<AddBackward0>)\n"
     ]
    },
    {
     "name": "stderr",
     "output_type": "stream",
     "text": [
      "14 Nov 15:17    INFO  Start evaling\n"
     ]
    },
    {
     "name": "stdout",
     "output_type": "stream",
     "text": [
      "((0.46926753925339326, 0.4498250318492074), (0.22169143407804617, 0.10228125933154603), (0.4471756783796297, 0.48121854138799863))\n"
     ]
    },
    {
     "name": "stderr",
     "output_type": "stream",
     "text": [
      "  6%|▌         | 11/200 [15:07<3:53:07, 74.01s/it]14 Nov 15:18    INFO  Epoch 11 | full-batch training\n",
      "14 Nov 15:19    INFO  Epoch 11 | Train Loss 3.2485\n"
     ]
    },
    {
     "name": "stdout",
     "output_type": "stream",
     "text": [
      "torch.Size([544244, 128])\n",
      "tensor([0.3723], grad_fn=<AddBackward0>)\n"
     ]
    },
    {
     "name": "stderr",
     "output_type": "stream",
     "text": [
      "  6%|▌         | 12/200 [15:50<3:22:05, 64.50s/it]14 Nov 15:19    INFO  Epoch 12 | full-batch training\n",
      "14 Nov 15:19    INFO  Epoch 12 | Train Loss 3.1416\n"
     ]
    },
    {
     "name": "stdout",
     "output_type": "stream",
     "text": [
      "torch.Size([544244, 128])\n",
      "tensor([0.3680], grad_fn=<AddBackward0>)\n"
     ]
    },
    {
     "name": "stderr",
     "output_type": "stream",
     "text": [
      "  6%|▋         | 13/200 [16:31<2:59:04, 57.46s/it]14 Nov 15:20    INFO  Epoch 13 | full-batch training\n",
      "14 Nov 15:20    INFO  Epoch 13 | Train Loss 3.0722\n"
     ]
    },
    {
     "name": "stdout",
     "output_type": "stream",
     "text": [
      "torch.Size([544244, 128])\n",
      "tensor([0.3476], grad_fn=<AddBackward0>)\n"
     ]
    },
    {
     "name": "stderr",
     "output_type": "stream",
     "text": [
      "  7%|▋         | 14/200 [17:14<2:44:46, 53.15s/it]14 Nov 15:20    INFO  Epoch 14 | full-batch training\n",
      "14 Nov 15:21    INFO  Epoch 14 | Train Loss 3.0349\n"
     ]
    },
    {
     "name": "stdout",
     "output_type": "stream",
     "text": [
      "torch.Size([544244, 128])\n",
      "tensor([0.3200], grad_fn=<AddBackward0>)\n"
     ]
    },
    {
     "name": "stderr",
     "output_type": "stream",
     "text": [
      "  8%|▊         | 15/200 [17:56<2:33:03, 49.64s/it]14 Nov 15:21    INFO  Epoch 15 | full-batch training\n",
      "14 Nov 15:21    INFO  Epoch 15 | Train Loss 3.0131\n"
     ]
    },
    {
     "name": "stdout",
     "output_type": "stream",
     "text": [
      "torch.Size([544244, 128])\n",
      "tensor([0.2932], grad_fn=<AddBackward0>)\n"
     ]
    },
    {
     "name": "stderr",
     "output_type": "stream",
     "text": [
      "14 Nov 15:22    INFO  Start evaling\n"
     ]
    },
    {
     "name": "stdout",
     "output_type": "stream",
     "text": [
      "((0.4680523046363422, 0.3738533816483788), (0.220495570225976, 0.09653152500230516), (0.4823452233793047, 0.4422589544309587))\n"
     ]
    },
    {
     "name": "stderr",
     "output_type": "stream",
     "text": [
      "  8%|▊         | 16/200 [20:01<3:42:10, 72.45s/it]14 Nov 15:23    INFO  Epoch 16 | full-batch training\n",
      "14 Nov 15:23    INFO  Epoch 16 | Train Loss 2.9957\n"
     ]
    },
    {
     "name": "stdout",
     "output_type": "stream",
     "text": [
      "torch.Size([544244, 128])\n",
      "tensor([0.2715], grad_fn=<AddBackward0>)\n"
     ]
    },
    {
     "name": "stderr",
     "output_type": "stream",
     "text": [
      "  8%|▊         | 17/200 [20:44<3:14:00, 63.61s/it]14 Nov 15:24    INFO  Epoch 17 | full-batch training\n",
      "14 Nov 15:24    INFO  Epoch 17 | Train Loss 2.9768\n"
     ]
    },
    {
     "name": "stdout",
     "output_type": "stream",
     "text": [
      "torch.Size([544244, 128])\n",
      "tensor([0.2561], grad_fn=<AddBackward0>)\n"
     ]
    },
    {
     "name": "stderr",
     "output_type": "stream",
     "text": [
      "  9%|▉         | 18/200 [21:27<2:54:23, 57.49s/it]14 Nov 15:25    INFO  Epoch 18 | full-batch training\n",
      "14 Nov 15:25    INFO  Epoch 18 | Train Loss 2.9536\n"
     ]
    },
    {
     "name": "stdout",
     "output_type": "stream",
     "text": [
      "torch.Size([544244, 128])\n",
      "tensor([0.2469], grad_fn=<AddBackward0>)\n"
     ]
    },
    {
     "name": "stderr",
     "output_type": "stream",
     "text": [
      " 10%|▉         | 19/200 [22:10<2:40:22, 53.16s/it]14 Nov 15:25    INFO  Epoch 19 | full-batch training\n",
      "14 Nov 15:26    INFO  Epoch 19 | Train Loss 2.9255\n"
     ]
    },
    {
     "name": "stdout",
     "output_type": "stream",
     "text": [
      "torch.Size([544244, 128])\n",
      "tensor([0.2428], grad_fn=<AddBackward0>)\n"
     ]
    },
    {
     "name": "stderr",
     "output_type": "stream",
     "text": [
      " 10%|█         | 20/200 [22:53<2:30:18, 50.10s/it]14 Nov 15:26    INFO  Epoch 20 | full-batch training\n",
      "14 Nov 15:26    INFO  Epoch 20 | Train Loss 2.8941\n"
     ]
    },
    {
     "name": "stdout",
     "output_type": "stream",
     "text": [
      "torch.Size([544244, 128])\n",
      "tensor([0.2423], grad_fn=<AddBackward0>)\n"
     ]
    },
    {
     "name": "stderr",
     "output_type": "stream",
     "text": [
      "14 Nov 15:27    INFO  Start evaling\n"
     ]
    },
    {
     "name": "stdout",
     "output_type": "stream",
     "text": [
      "((0.46891985022186994, 0.40653577771340077), (0.2122126331765139, 0.08038778631212405), (0.47554890986780374, 0.3758483471575666))\n"
     ]
    },
    {
     "name": "stderr",
     "output_type": "stream",
     "text": [
      " 10%|█         | 21/200 [24:58<3:36:28, 72.56s/it]14 Nov 15:28    INFO  Epoch 21 | full-batch training\n",
      "14 Nov 15:28    INFO  Epoch 21 | Train Loss 2.8622\n"
     ]
    },
    {
     "name": "stdout",
     "output_type": "stream",
     "text": [
      "torch.Size([544244, 128])\n",
      "tensor([0.2437], grad_fn=<AddBackward0>)\n"
     ]
    },
    {
     "name": "stderr",
     "output_type": "stream",
     "text": [
      " 11%|█         | 22/200 [25:40<3:07:46, 63.30s/it]14 Nov 15:29    INFO  Epoch 22 | full-batch training\n",
      "14 Nov 15:29    INFO  Epoch 22 | Train Loss 2.8329\n"
     ]
    },
    {
     "name": "stdout",
     "output_type": "stream",
     "text": [
      "torch.Size([544244, 128])\n",
      "tensor([0.2459], grad_fn=<AddBackward0>)\n"
     ]
    },
    {
     "name": "stderr",
     "output_type": "stream",
     "text": [
      " 12%|█▏        | 23/200 [26:24<2:50:02, 57.64s/it]14 Nov 15:30    INFO  Epoch 23 | full-batch training\n",
      "14 Nov 15:30    INFO  Epoch 23 | Train Loss 2.8085\n"
     ]
    },
    {
     "name": "stdout",
     "output_type": "stream",
     "text": [
      "torch.Size([544244, 128])\n",
      "tensor([0.2474], grad_fn=<AddBackward0>)\n"
     ]
    },
    {
     "name": "stderr",
     "output_type": "stream",
     "text": [
      " 12%|█▏        | 24/200 [27:07<2:35:27, 53.00s/it]14 Nov 15:30    INFO  Epoch 24 | full-batch training\n",
      "14 Nov 15:31    INFO  Epoch 24 | Train Loss 2.7900\n"
     ]
    },
    {
     "name": "stdout",
     "output_type": "stream",
     "text": [
      "torch.Size([544244, 128])\n",
      "tensor([0.2469], grad_fn=<AddBackward0>)\n"
     ]
    },
    {
     "name": "stderr",
     "output_type": "stream",
     "text": [
      " 12%|█▎        | 25/200 [27:50<2:25:50, 50.01s/it]14 Nov 15:31    INFO  Epoch 25 | full-batch training\n",
      "14 Nov 15:31    INFO  Epoch 25 | Train Loss 2.7768\n"
     ]
    },
    {
     "name": "stdout",
     "output_type": "stream",
     "text": [
      "torch.Size([544244, 128])\n",
      "tensor([0.2435], grad_fn=<AddBackward0>)\n"
     ]
    },
    {
     "name": "stderr",
     "output_type": "stream",
     "text": [
      "14 Nov 15:32    INFO  Start evaling\n"
     ]
    },
    {
     "name": "stdout",
     "output_type": "stream",
     "text": [
      "((0.470608083775055, 0.4125349577781395), (0.2071303681389752, 0.07343510484713539), (0.4929514167749322, 0.4798877000404366))\n"
     ]
    },
    {
     "name": "stderr",
     "output_type": "stream",
     "text": [
      " 13%|█▎        | 26/200 [29:55<3:30:43, 72.67s/it]14 Nov 15:33    INFO  Epoch 26 | full-batch training\n",
      "14 Nov 15:33    INFO  Epoch 26 | Train Loss 2.7675\n"
     ]
    },
    {
     "name": "stdout",
     "output_type": "stream",
     "text": [
      "torch.Size([544244, 128])\n",
      "tensor([0.2366], grad_fn=<AddBackward0>)\n"
     ]
    },
    {
     "name": "stderr",
     "output_type": "stream",
     "text": [
      " 14%|█▎        | 27/200 [30:39<3:04:22, 63.94s/it]14 Nov 15:34    INFO  Epoch 27 | full-batch training\n",
      "14 Nov 15:34    INFO  Epoch 27 | Train Loss 2.7610\n"
     ]
    },
    {
     "name": "stdout",
     "output_type": "stream",
     "text": [
      "torch.Size([544244, 128])\n",
      "tensor([0.2267], grad_fn=<AddBackward0>)\n"
     ]
    },
    {
     "name": "stderr",
     "output_type": "stream",
     "text": [
      " 14%|█▍        | 28/200 [31:22<2:45:01, 57.57s/it]14 Nov 15:35    INFO  Epoch 28 | full-batch training\n",
      "14 Nov 15:35    INFO  Epoch 28 | Train Loss 2.7568\n"
     ]
    },
    {
     "name": "stdout",
     "output_type": "stream",
     "text": [
      "torch.Size([544244, 128])\n",
      "tensor([0.2149], grad_fn=<AddBackward0>)\n"
     ]
    },
    {
     "name": "stderr",
     "output_type": "stream",
     "text": [
      " 14%|█▍        | 29/200 [32:05<2:32:02, 53.35s/it]14 Nov 15:35    INFO  Epoch 29 | full-batch training\n",
      "14 Nov 15:36    INFO  Epoch 29 | Train Loss 2.7547\n"
     ]
    },
    {
     "name": "stdout",
     "output_type": "stream",
     "text": [
      "torch.Size([544244, 128])\n",
      "tensor([0.2028], grad_fn=<AddBackward0>)\n"
     ]
    },
    {
     "name": "stderr",
     "output_type": "stream",
     "text": [
      " 15%|█▌        | 30/200 [32:48<2:22:28, 50.28s/it]14 Nov 15:36    INFO  Epoch 30 | full-batch training\n",
      "14 Nov 15:36    INFO  Epoch 30 | Train Loss 2.7539\n"
     ]
    },
    {
     "name": "stdout",
     "output_type": "stream",
     "text": [
      "torch.Size([544244, 128])\n",
      "tensor([0.1916], grad_fn=<AddBackward0>)\n"
     ]
    },
    {
     "name": "stderr",
     "output_type": "stream",
     "text": [
      "14 Nov 15:37    INFO  Start evaling\n"
     ]
    },
    {
     "name": "stdout",
     "output_type": "stream",
     "text": [
      "((0.48281035182985615, 0.4400574345612851), (0.21570112174473655, 0.08337544113308969), (0.4966407163729344, 0.4920524991152516))\n"
     ]
    },
    {
     "name": "stderr",
     "output_type": "stream",
     "text": [
      " 16%|█▌        | 31/200 [34:53<3:25:01, 72.79s/it]14 Nov 15:38    INFO  Epoch 31 | full-batch training\n",
      "14 Nov 15:38    INFO  Epoch 31 | Train Loss 2.7533\n"
     ]
    },
    {
     "name": "stdout",
     "output_type": "stream",
     "text": [
      "torch.Size([544244, 128])\n",
      "tensor([0.1822], grad_fn=<AddBackward0>)\n"
     ]
    },
    {
     "name": "stderr",
     "output_type": "stream",
     "text": [
      " 16%|█▌        | 32/200 [35:37<2:59:00, 63.93s/it]14 Nov 15:39    INFO  Epoch 32 | full-batch training\n",
      "14 Nov 15:39    INFO  Epoch 32 | Train Loss 2.7516\n"
     ]
    },
    {
     "name": "stdout",
     "output_type": "stream",
     "text": [
      "torch.Size([544244, 128])\n",
      "tensor([0.1750], grad_fn=<AddBackward0>)\n"
     ]
    },
    {
     "name": "stderr",
     "output_type": "stream",
     "text": [
      " 16%|█▋        | 33/200 [36:20<2:40:17, 57.59s/it]14 Nov 15:40    INFO  Epoch 33 | full-batch training\n",
      "14 Nov 15:40    INFO  Epoch 33 | Train Loss 2.7482\n"
     ]
    },
    {
     "name": "stdout",
     "output_type": "stream",
     "text": [
      "torch.Size([544244, 128])\n",
      "tensor([0.1700], grad_fn=<AddBackward0>)\n"
     ]
    },
    {
     "name": "stderr",
     "output_type": "stream",
     "text": [
      " 17%|█▋        | 34/200 [37:03<2:27:38, 53.36s/it]14 Nov 15:40    INFO  Epoch 34 | full-batch training\n",
      "14 Nov 15:40    INFO  Epoch 34 | Train Loss 2.7427\n"
     ]
    },
    {
     "name": "stdout",
     "output_type": "stream",
     "text": [
      "torch.Size([544244, 128])\n",
      "tensor([0.1669], grad_fn=<AddBackward0>)\n"
     ]
    },
    {
     "name": "stderr",
     "output_type": "stream",
     "text": [
      " 18%|█▊        | 35/200 [37:46<2:18:01, 50.19s/it]14 Nov 15:41    INFO  Epoch 35 | full-batch training\n",
      "14 Nov 15:41    INFO  Epoch 35 | Train Loss 2.7358\n"
     ]
    },
    {
     "name": "stdout",
     "output_type": "stream",
     "text": [
      "torch.Size([544244, 128])\n",
      "tensor([0.1653], grad_fn=<AddBackward0>)\n"
     ]
    },
    {
     "name": "stderr",
     "output_type": "stream",
     "text": [
      "14 Nov 15:42    INFO  Start evaling\n"
     ]
    },
    {
     "name": "stdout",
     "output_type": "stream",
     "text": [
      "((0.4844286222350993, 0.4390495513555448), (0.22445355071661618, 0.09618576618319329), (0.4928270899579616, 0.48884611144979084))\n"
     ]
    },
    {
     "name": "stderr",
     "output_type": "stream",
     "text": [
      " 18%|█▊        | 36/200 [39:52<3:19:20, 72.93s/it]14 Nov 15:43    INFO  Epoch 36 | full-batch training\n",
      "14 Nov 15:43    INFO  Epoch 36 | Train Loss 2.7285\n"
     ]
    },
    {
     "name": "stdout",
     "output_type": "stream",
     "text": [
      "torch.Size([544244, 128])\n",
      "tensor([0.1645], grad_fn=<AddBackward0>)\n"
     ]
    },
    {
     "name": "stderr",
     "output_type": "stream",
     "text": [
      " 18%|█▊        | 37/200 [40:35<2:53:49, 63.99s/it]14 Nov 15:44    INFO  Epoch 37 | full-batch training\n",
      "14 Nov 15:44    INFO  Epoch 37 | Train Loss 2.7217\n"
     ]
    },
    {
     "name": "stdout",
     "output_type": "stream",
     "text": [
      "torch.Size([544244, 128])\n",
      "tensor([0.1638], grad_fn=<AddBackward0>)\n"
     ]
    },
    {
     "name": "stderr",
     "output_type": "stream",
     "text": [
      " 19%|█▉        | 38/200 [41:17<2:35:19, 57.53s/it]14 Nov 15:45    INFO  Epoch 38 | full-batch training\n",
      "14 Nov 15:45    INFO  Epoch 38 | Train Loss 2.7159\n"
     ]
    },
    {
     "name": "stdout",
     "output_type": "stream",
     "text": [
      "torch.Size([544244, 128])\n",
      "tensor([0.1624], grad_fn=<AddBackward0>)\n"
     ]
    },
    {
     "name": "stderr",
     "output_type": "stream",
     "text": [
      " 20%|█▉        | 39/200 [42:01<2:22:47, 53.21s/it]14 Nov 15:45    INFO  Epoch 39 | full-batch training\n",
      "14 Nov 15:45    INFO  Epoch 39 | Train Loss 2.7114\n"
     ]
    },
    {
     "name": "stdout",
     "output_type": "stream",
     "text": [
      "torch.Size([544244, 128])\n",
      "tensor([0.1600], grad_fn=<AddBackward0>)\n"
     ]
    },
    {
     "name": "stderr",
     "output_type": "stream",
     "text": [
      " 20%|██        | 40/200 [42:44<2:14:12, 50.33s/it]14 Nov 15:46    INFO  Epoch 40 | full-batch training\n",
      "14 Nov 15:46    INFO  Epoch 40 | Train Loss 2.7081\n"
     ]
    },
    {
     "name": "stdout",
     "output_type": "stream",
     "text": [
      "torch.Size([544244, 128])\n",
      "tensor([0.1566], grad_fn=<AddBackward0>)\n"
     ]
    },
    {
     "name": "stderr",
     "output_type": "stream",
     "text": [
      "14 Nov 15:47    INFO  Start evaling\n"
     ]
    },
    {
     "name": "stdout",
     "output_type": "stream",
     "text": [
      "((0.48235042793372696, 0.427411105611939), (0.2257729269622542, 0.1028617519079057), (0.49109292415609124, 0.4859566579500913))\n"
     ]
    },
    {
     "name": "stderr",
     "output_type": "stream",
     "text": [
      " 20%|██        | 41/200 [44:49<3:12:58, 72.82s/it]14 Nov 15:48    INFO  Epoch 41 | full-batch training\n",
      "14 Nov 15:48    INFO  Epoch 41 | Train Loss 2.7058\n"
     ]
    },
    {
     "name": "stdout",
     "output_type": "stream",
     "text": [
      "torch.Size([544244, 128])\n",
      "tensor([0.1525], grad_fn=<AddBackward0>)\n"
     ]
    },
    {
     "name": "stderr",
     "output_type": "stream",
     "text": [
      " 21%|██        | 42/200 [45:33<2:48:38, 64.04s/it]14 Nov 15:49    INFO  Epoch 42 | full-batch training\n",
      "14 Nov 15:49    INFO  Epoch 42 | Train Loss 2.7039\n"
     ]
    },
    {
     "name": "stdout",
     "output_type": "stream",
     "text": [
      "torch.Size([544244, 128])\n",
      "tensor([0.1481], grad_fn=<AddBackward0>)\n"
     ]
    },
    {
     "name": "stderr",
     "output_type": "stream",
     "text": [
      " 22%|██▏       | 43/200 [46:16<2:31:10, 57.77s/it]14 Nov 15:50    INFO  Epoch 43 | full-batch training\n",
      "14 Nov 15:50    INFO  Epoch 43 | Train Loss 2.7021\n"
     ]
    },
    {
     "name": "stdout",
     "output_type": "stream",
     "text": [
      "torch.Size([544244, 128])\n",
      "tensor([0.1440], grad_fn=<AddBackward0>)\n"
     ]
    },
    {
     "name": "stderr",
     "output_type": "stream",
     "text": [
      " 22%|██▏       | 44/200 [46:59<2:18:48, 53.39s/it]14 Nov 15:50    INFO  Epoch 44 | full-batch training\n",
      "14 Nov 15:50    INFO  Epoch 44 | Train Loss 2.7001\n"
     ]
    },
    {
     "name": "stdout",
     "output_type": "stream",
     "text": [
      "torch.Size([544244, 128])\n",
      "tensor([0.1404], grad_fn=<AddBackward0>)\n"
     ]
    },
    {
     "name": "stderr",
     "output_type": "stream",
     "text": [
      " 22%|██▎       | 45/200 [47:42<2:09:48, 50.25s/it]14 Nov 15:51    INFO  Epoch 45 | full-batch training\n",
      "14 Nov 15:51    INFO  Epoch 45 | Train Loss 2.6974\n"
     ]
    },
    {
     "name": "stdout",
     "output_type": "stream",
     "text": [
      "torch.Size([544244, 128])\n",
      "tensor([0.1377], grad_fn=<AddBackward0>)\n"
     ]
    },
    {
     "name": "stderr",
     "output_type": "stream",
     "text": [
      "14 Nov 15:52    INFO  Start evaling\n"
     ]
    },
    {
     "name": "stdout",
     "output_type": "stream",
     "text": [
      "((0.48202574144267624, 0.42332264933188785), (0.21532402376472964, 0.08963580389482324), (0.48931653475298276, 0.46754970213570624))\n"
     ]
    },
    {
     "name": "stderr",
     "output_type": "stream",
     "text": [
      " 23%|██▎       | 46/200 [49:48<3:07:09, 72.92s/it]14 Nov 15:53    INFO  Epoch 46 | full-batch training\n",
      "14 Nov 15:53    INFO  Epoch 46 | Train Loss 2.6941\n"
     ]
    },
    {
     "name": "stdout",
     "output_type": "stream",
     "text": [
      "torch.Size([544244, 128])\n",
      "tensor([0.1358], grad_fn=<AddBackward0>)\n"
     ]
    },
    {
     "name": "stderr",
     "output_type": "stream",
     "text": [
      " 24%|██▎       | 47/200 [50:31<2:42:53, 63.88s/it]14 Nov 15:54    INFO  Epoch 47 | full-batch training\n",
      "14 Nov 15:54    INFO  Epoch 47 | Train Loss 2.6901\n"
     ]
    },
    {
     "name": "stdout",
     "output_type": "stream",
     "text": [
      "torch.Size([544244, 128])\n",
      "tensor([0.1347], grad_fn=<AddBackward0>)\n"
     ]
    },
    {
     "name": "stderr",
     "output_type": "stream",
     "text": [
      " 24%|██▍       | 48/200 [51:13<2:25:15, 57.34s/it]14 Nov 15:54    INFO  Epoch 48 | full-batch training\n",
      "14 Nov 15:55    INFO  Epoch 48 | Train Loss 2.6859\n"
     ]
    },
    {
     "name": "stdout",
     "output_type": "stream",
     "text": [
      "torch.Size([544244, 128])\n",
      "tensor([0.1339], grad_fn=<AddBackward0>)\n"
     ]
    },
    {
     "name": "stderr",
     "output_type": "stream",
     "text": [
      " 24%|██▍       | 49/200 [51:55<2:12:56, 52.82s/it]14 Nov 15:55    INFO  Epoch 49 | full-batch training\n",
      "14 Nov 15:55    INFO  Epoch 49 | Train Loss 2.6819\n"
     ]
    },
    {
     "name": "stdout",
     "output_type": "stream",
     "text": [
      "torch.Size([544244, 128])\n",
      "tensor([0.1330], grad_fn=<AddBackward0>)\n"
     ]
    },
    {
     "name": "stderr",
     "output_type": "stream",
     "text": [
      " 25%|██▌       | 50/200 [52:37<2:03:38, 49.46s/it]14 Nov 15:56    INFO  Epoch 50 | full-batch training\n",
      "14 Nov 15:56    INFO  Epoch 50 | Train Loss 2.6782\n"
     ]
    },
    {
     "name": "stdout",
     "output_type": "stream",
     "text": [
      "torch.Size([544244, 128])\n",
      "tensor([0.1319], grad_fn=<AddBackward0>)\n"
     ]
    },
    {
     "name": "stderr",
     "output_type": "stream",
     "text": [
      "14 Nov 15:57    INFO  Start evaling\n"
     ]
    },
    {
     "name": "stdout",
     "output_type": "stream",
     "text": [
      "((0.4863001040225774, 0.43149191545650606), (0.21664528844522196, 0.08949640732752369), (0.49105625140502407, 0.4652194056095885))\n"
     ]
    },
    {
     "name": "stderr",
     "output_type": "stream",
     "text": [
      " 26%|██▌       | 51/200 [54:42<2:59:37, 72.33s/it]14 Nov 15:58    INFO  Epoch 51 | full-batch training\n",
      "14 Nov 15:58    INFO  Epoch 51 | Train Loss 2.6750\n"
     ]
    },
    {
     "name": "stdout",
     "output_type": "stream",
     "text": [
      "torch.Size([544244, 128])\n",
      "tensor([0.1304], grad_fn=<AddBackward0>)\n"
     ]
    },
    {
     "name": "stderr",
     "output_type": "stream",
     "text": [
      " 26%|██▌       | 52/200 [55:25<2:36:13, 63.33s/it]14 Nov 15:59    INFO  Epoch 52 | full-batch training\n",
      "14 Nov 15:59    INFO  Epoch 52 | Train Loss 2.6722\n"
     ]
    },
    {
     "name": "stdout",
     "output_type": "stream",
     "text": [
      "torch.Size([544244, 128])\n",
      "tensor([0.1285], grad_fn=<AddBackward0>)\n"
     ]
    },
    {
     "name": "stderr",
     "output_type": "stream",
     "text": [
      " 26%|██▋       | 53/200 [56:07<2:19:43, 57.03s/it]14 Nov 15:59    INFO  Epoch 53 | full-batch training\n",
      "14 Nov 16:00    INFO  Epoch 53 | Train Loss 2.6695\n"
     ]
    },
    {
     "name": "stdout",
     "output_type": "stream",
     "text": [
      "torch.Size([544244, 128])\n",
      "tensor([0.1264], grad_fn=<AddBackward0>)\n"
     ]
    },
    {
     "name": "stderr",
     "output_type": "stream",
     "text": [
      " 27%|██▋       | 54/200 [56:50<2:08:13, 52.70s/it]14 Nov 16:00    INFO  Epoch 54 | full-batch training\n",
      "14 Nov 16:00    INFO  Epoch 54 | Train Loss 2.6668\n"
     ]
    },
    {
     "name": "stdout",
     "output_type": "stream",
     "text": [
      "torch.Size([544244, 128])\n",
      "tensor([0.1243], grad_fn=<AddBackward0>)\n"
     ]
    },
    {
     "name": "stderr",
     "output_type": "stream",
     "text": [
      " 28%|██▊       | 55/200 [57:32<2:00:03, 49.68s/it]14 Nov 16:01    INFO  Epoch 55 | full-batch training\n",
      "14 Nov 16:01    INFO  Epoch 55 | Train Loss 2.6639\n"
     ]
    },
    {
     "name": "stdout",
     "output_type": "stream",
     "text": [
      "torch.Size([544244, 128])\n",
      "tensor([0.1224], grad_fn=<AddBackward0>)\n"
     ]
    },
    {
     "name": "stderr",
     "output_type": "stream",
     "text": [
      "14 Nov 16:02    INFO  Start evaling\n"
     ]
    },
    {
     "name": "stdout",
     "output_type": "stream",
     "text": [
      "((0.48772199443787434, 0.43306894599370077), (0.22368463672504935, 0.09665185948171309), (0.4896594092781756, 0.4681228905088478))\n"
     ]
    },
    {
     "name": "stderr",
     "output_type": "stream",
     "text": [
      " 28%|██▊       | 56/200 [59:38<2:53:40, 72.36s/it]14 Nov 16:03    INFO  Epoch 56 | full-batch training\n",
      "14 Nov 16:03    INFO  Epoch 56 | Train Loss 2.6607\n"
     ]
    },
    {
     "name": "stdout",
     "output_type": "stream",
     "text": [
      "torch.Size([544244, 128])\n",
      "tensor([0.1208], grad_fn=<AddBackward0>)\n"
     ]
    },
    {
     "name": "stderr",
     "output_type": "stream",
     "text": [
      " 28%|██▊       | 57/200 [1:00:20<2:31:21, 63.50s/it]14 Nov 16:04    INFO  Epoch 57 | full-batch training\n",
      "14 Nov 16:04    INFO  Epoch 57 | Train Loss 2.6573\n"
     ]
    },
    {
     "name": "stdout",
     "output_type": "stream",
     "text": [
      "torch.Size([544244, 128])\n",
      "tensor([0.1193], grad_fn=<AddBackward0>)\n"
     ]
    },
    {
     "name": "stderr",
     "output_type": "stream",
     "text": [
      " 29%|██▉       | 58/200 [1:01:04<2:15:54, 57.42s/it]14 Nov 16:04    INFO  Epoch 58 | full-batch training\n",
      "14 Nov 16:04    INFO  Epoch 58 | Train Loss 2.6538\n"
     ]
    },
    {
     "name": "stdout",
     "output_type": "stream",
     "text": [
      "torch.Size([544244, 128])\n",
      "tensor([0.1179], grad_fn=<AddBackward0>)\n"
     ]
    },
    {
     "name": "stderr",
     "output_type": "stream",
     "text": [
      " 30%|██▉       | 59/200 [1:01:47<2:04:55, 53.16s/it]14 Nov 16:05    INFO  Epoch 59 | full-batch training\n",
      "14 Nov 16:05    INFO  Epoch 59 | Train Loss 2.6500\n"
     ]
    },
    {
     "name": "stdout",
     "output_type": "stream",
     "text": [
      "torch.Size([544244, 128])\n",
      "tensor([0.1166], grad_fn=<AddBackward0>)\n"
     ]
    },
    {
     "name": "stderr",
     "output_type": "stream",
     "text": [
      " 30%|███       | 60/200 [1:02:30<1:56:44, 50.03s/it]14 Nov 16:06    INFO  Epoch 60 | full-batch training\n",
      "14 Nov 16:06    INFO  Epoch 60 | Train Loss 2.6459\n"
     ]
    },
    {
     "name": "stdout",
     "output_type": "stream",
     "text": [
      "torch.Size([544244, 128])\n",
      "tensor([0.1155], grad_fn=<AddBackward0>)\n"
     ]
    },
    {
     "name": "stderr",
     "output_type": "stream",
     "text": [
      "14 Nov 16:06    INFO  Start evaling\n"
     ]
    },
    {
     "name": "stdout",
     "output_type": "stream",
     "text": [
      "((0.4910314818643728, 0.435168437353072), (0.23604975570826583, 0.10920109178512961), (0.49159026989387056, 0.47289322203435874))\n"
     ]
    },
    {
     "name": "stderr",
     "output_type": "stream",
     "text": [
      " 30%|███       | 61/200 [1:04:36<2:49:02, 72.96s/it]14 Nov 16:08    INFO  Epoch 61 | full-batch training\n",
      "14 Nov 16:08    INFO  Epoch 61 | Train Loss 2.6416\n"
     ]
    },
    {
     "name": "stdout",
     "output_type": "stream",
     "text": [
      "torch.Size([544244, 128])\n",
      "tensor([0.1145], grad_fn=<AddBackward0>)\n"
     ]
    },
    {
     "name": "stderr",
     "output_type": "stream",
     "text": [
      " 31%|███       | 62/200 [1:05:19<2:27:22, 64.08s/it]14 Nov 16:09    INFO  Epoch 62 | full-batch training\n",
      "14 Nov 16:09    INFO  Epoch 62 | Train Loss 2.6372\n"
     ]
    },
    {
     "name": "stdout",
     "output_type": "stream",
     "text": [
      "torch.Size([544244, 128])\n",
      "tensor([0.1134], grad_fn=<AddBackward0>)\n"
     ]
    },
    {
     "name": "stderr",
     "output_type": "stream",
     "text": [
      " 32%|███▏      | 63/200 [1:06:03<2:12:08, 57.87s/it]14 Nov 16:09    INFO  Epoch 63 | full-batch training\n",
      "14 Nov 16:09    INFO  Epoch 63 | Train Loss 2.6329\n"
     ]
    },
    {
     "name": "stdout",
     "output_type": "stream",
     "text": [
      "torch.Size([544244, 128])\n",
      "tensor([0.1121], grad_fn=<AddBackward0>)\n"
     ]
    },
    {
     "name": "stderr",
     "output_type": "stream",
     "text": [
      " 32%|███▏      | 64/200 [1:06:45<2:00:40, 53.24s/it]14 Nov 16:10    INFO  Epoch 64 | full-batch training\n",
      "14 Nov 16:10    INFO  Epoch 64 | Train Loss 2.6283\n"
     ]
    },
    {
     "name": "stdout",
     "output_type": "stream",
     "text": [
      "torch.Size([544244, 128])\n",
      "tensor([0.1109], grad_fn=<AddBackward0>)\n"
     ]
    },
    {
     "name": "stderr",
     "output_type": "stream",
     "text": [
      " 32%|███▎      | 65/200 [1:07:28<1:52:46, 50.12s/it]14 Nov 16:11    INFO  Epoch 65 | full-batch training\n",
      "14 Nov 16:11    INFO  Epoch 65 | Train Loss 2.6231\n"
     ]
    },
    {
     "name": "stdout",
     "output_type": "stream",
     "text": [
      "torch.Size([544244, 128])\n",
      "tensor([0.1101], grad_fn=<AddBackward0>)\n"
     ]
    },
    {
     "name": "stderr",
     "output_type": "stream",
     "text": [
      "14 Nov 16:11    INFO  Start evaling\n"
     ]
    },
    {
     "name": "stdout",
     "output_type": "stream",
     "text": [
      "((0.49640844808631923, 0.4399042836100676), (0.243973219879192, 0.11638886844221595), (0.49212290695560695, 0.47597912666852865))\n"
     ]
    },
    {
     "name": "stderr",
     "output_type": "stream",
     "text": [
      " 33%|███▎      | 66/200 [1:09:34<2:42:38, 72.82s/it]14 Nov 16:13    INFO  Epoch 66 | full-batch training\n",
      "14 Nov 16:13    INFO  Epoch 66 | Train Loss 2.6177\n"
     ]
    },
    {
     "name": "stdout",
     "output_type": "stream",
     "text": [
      "torch.Size([544244, 128])\n",
      "tensor([0.1093], grad_fn=<AddBackward0>)\n"
     ]
    },
    {
     "name": "stderr",
     "output_type": "stream",
     "text": [
      " 34%|███▎      | 67/200 [1:10:17<2:21:38, 63.90s/it]14 Nov 16:14    INFO  Epoch 67 | full-batch training\n",
      "14 Nov 16:14    INFO  Epoch 67 | Train Loss 2.6122\n"
     ]
    },
    {
     "name": "stdout",
     "output_type": "stream",
     "text": [
      "torch.Size([544244, 128])\n",
      "tensor([0.1085], grad_fn=<AddBackward0>)\n"
     ]
    },
    {
     "name": "stderr",
     "output_type": "stream",
     "text": [
      " 34%|███▍      | 68/200 [1:11:00<2:07:06, 57.78s/it]14 Nov 16:14    INFO  Epoch 68 | full-batch training\n",
      "14 Nov 16:14    INFO  Epoch 68 | Train Loss 2.6075\n"
     ]
    },
    {
     "name": "stdout",
     "output_type": "stream",
     "text": [
      "torch.Size([544244, 128])\n",
      "tensor([0.1071], grad_fn=<AddBackward0>)\n"
     ]
    },
    {
     "name": "stderr",
     "output_type": "stream",
     "text": [
      " 34%|███▍      | 69/200 [1:11:44<1:56:34, 53.39s/it]14 Nov 16:15    INFO  Epoch 69 | full-batch training\n",
      "14 Nov 16:15    INFO  Epoch 69 | Train Loss 2.6005\n"
     ]
    },
    {
     "name": "stdout",
     "output_type": "stream",
     "text": [
      "torch.Size([544244, 128])\n",
      "tensor([0.1074], grad_fn=<AddBackward0>)\n"
     ]
    },
    {
     "name": "stderr",
     "output_type": "stream",
     "text": [
      " 35%|███▌      | 70/200 [1:12:27<1:49:13, 50.41s/it]14 Nov 16:16    INFO  Epoch 70 | full-batch training\n",
      "14 Nov 16:16    INFO  Epoch 70 | Train Loss 2.5955\n"
     ]
    },
    {
     "name": "stdout",
     "output_type": "stream",
     "text": [
      "torch.Size([544244, 128])\n",
      "tensor([0.1047], grad_fn=<AddBackward0>)\n"
     ]
    },
    {
     "name": "stderr",
     "output_type": "stream",
     "text": [
      "14 Nov 16:16    INFO  Start evaling\n"
     ]
    },
    {
     "name": "stdout",
     "output_type": "stream",
     "text": [
      "((0.500845524326876, 0.44377264852691395), (0.2563351213426852, 0.1282857157724955), (0.49088476299802447, 0.4801855656890954))\n"
     ]
    },
    {
     "name": "stderr",
     "output_type": "stream",
     "text": [
      " 36%|███▌      | 71/200 [1:14:32<2:36:19, 72.71s/it]14 Nov 16:18    INFO  Epoch 71 | full-batch training\n",
      "14 Nov 16:18    INFO  Epoch 71 | Train Loss 2.5885\n"
     ]
    },
    {
     "name": "stdout",
     "output_type": "stream",
     "text": [
      "torch.Size([544244, 128])\n",
      "tensor([0.1046], grad_fn=<AddBackward0>)\n"
     ]
    },
    {
     "name": "stderr",
     "output_type": "stream",
     "text": [
      " 36%|███▌      | 72/200 [1:15:15<2:16:09, 63.83s/it]14 Nov 16:18    INFO  Epoch 72 | full-batch training\n",
      "14 Nov 16:19    INFO  Epoch 72 | Train Loss 2.5798\n"
     ]
    },
    {
     "name": "stdout",
     "output_type": "stream",
     "text": [
      "torch.Size([544244, 128])\n",
      "tensor([0.1060], grad_fn=<AddBackward0>)\n"
     ]
    },
    {
     "name": "stderr",
     "output_type": "stream",
     "text": [
      " 36%|███▋      | 73/200 [1:15:58<2:01:39, 57.48s/it]14 Nov 16:19    INFO  Epoch 73 | full-batch training\n",
      "14 Nov 16:19    INFO  Epoch 73 | Train Loss 2.5745\n"
     ]
    },
    {
     "name": "stdout",
     "output_type": "stream",
     "text": [
      "torch.Size([544244, 128])\n",
      "tensor([0.1028], grad_fn=<AddBackward0>)\n"
     ]
    },
    {
     "name": "stderr",
     "output_type": "stream",
     "text": [
      " 37%|███▋      | 74/200 [1:16:41<1:51:37, 53.15s/it]14 Nov 16:20    INFO  Epoch 74 | full-batch training\n",
      "14 Nov 16:20    INFO  Epoch 74 | Train Loss 2.5671\n"
     ]
    },
    {
     "name": "stdout",
     "output_type": "stream",
     "text": [
      "torch.Size([544244, 128])\n",
      "tensor([0.1021], grad_fn=<AddBackward0>)\n"
     ]
    },
    {
     "name": "stderr",
     "output_type": "stream",
     "text": [
      " 38%|███▊      | 75/200 [1:17:23<1:43:41, 49.77s/it]14 Nov 16:21    INFO  Epoch 75 | full-batch training\n",
      "14 Nov 16:21    INFO  Epoch 75 | Train Loss 2.5565\n"
     ]
    },
    {
     "name": "stdout",
     "output_type": "stream",
     "text": [
      "torch.Size([544244, 128])\n",
      "tensor([0.1045], grad_fn=<AddBackward0>)\n"
     ]
    },
    {
     "name": "stderr",
     "output_type": "stream",
     "text": [
      "14 Nov 16:21    INFO  Start evaling\n"
     ]
    },
    {
     "name": "stdout",
     "output_type": "stream",
     "text": [
      "((0.5066294477448834, 0.45536071087316204), (0.2746501265821017, 0.14604553740162166), (0.4926620113120424, 0.48644849707312665))\n"
     ]
    },
    {
     "name": "stderr",
     "output_type": "stream",
     "text": [
      " 38%|███▊      | 76/200 [1:19:27<2:29:24, 72.29s/it]14 Nov 16:23    INFO  Epoch 76 | full-batch training\n",
      "14 Nov 16:23    INFO  Epoch 76 | Train Loss 2.5502\n"
     ]
    },
    {
     "name": "stdout",
     "output_type": "stream",
     "text": [
      "torch.Size([544244, 128])\n",
      "tensor([0.1015], grad_fn=<AddBackward0>)\n"
     ]
    },
    {
     "name": "stderr",
     "output_type": "stream",
     "text": [
      " 38%|███▊      | 77/200 [1:20:10<2:10:12, 63.52s/it]14 Nov 16:23    INFO  Epoch 77 | full-batch training\n",
      "14 Nov 16:24    INFO  Epoch 77 | Train Loss 2.5413\n"
     ]
    },
    {
     "name": "stdout",
     "output_type": "stream",
     "text": [
      "torch.Size([544244, 128])\n",
      "tensor([0.1007], grad_fn=<AddBackward0>)\n"
     ]
    },
    {
     "name": "stderr",
     "output_type": "stream",
     "text": [
      " 39%|███▉      | 78/200 [1:20:53<1:56:28, 57.28s/it]14 Nov 16:24    INFO  Epoch 78 | full-batch training\n",
      "14 Nov 16:24    INFO  Epoch 78 | Train Loss 2.5300\n"
     ]
    },
    {
     "name": "stdout",
     "output_type": "stream",
     "text": [
      "torch.Size([544244, 128])\n",
      "tensor([0.1025], grad_fn=<AddBackward0>)\n"
     ]
    },
    {
     "name": "stderr",
     "output_type": "stream",
     "text": [
      " 40%|███▉      | 79/200 [1:21:36<1:46:45, 52.94s/it]14 Nov 16:25    INFO  Epoch 79 | full-batch training\n",
      "14 Nov 16:25    INFO  Epoch 79 | Train Loss 2.5218\n"
     ]
    },
    {
     "name": "stdout",
     "output_type": "stream",
     "text": [
      "torch.Size([544244, 128])\n",
      "tensor([0.1006], grad_fn=<AddBackward0>)\n"
     ]
    },
    {
     "name": "stderr",
     "output_type": "stream",
     "text": [
      " 40%|████      | 80/200 [1:22:19<1:40:08, 50.07s/it]14 Nov 16:26    INFO  Epoch 80 | full-batch training\n",
      "14 Nov 16:26    INFO  Epoch 80 | Train Loss 2.5083\n"
     ]
    },
    {
     "name": "stdout",
     "output_type": "stream",
     "text": [
      "torch.Size([544244, 128])\n",
      "tensor([0.1030], grad_fn=<AddBackward0>)\n"
     ]
    },
    {
     "name": "stderr",
     "output_type": "stream",
     "text": [
      "14 Nov 16:26    INFO  Start evaling\n"
     ]
    },
    {
     "name": "stdout",
     "output_type": "stream",
     "text": [
      "((0.5242365334102685, 0.4901231340524308), (0.2957995884917399, 0.17409236621264848), (0.4928214777346089, 0.4834864672470897))\n"
     ]
    },
    {
     "name": "stderr",
     "output_type": "stream",
     "text": [
      " 40%|████      | 81/200 [1:24:25<2:24:26, 72.83s/it]14 Nov 16:28    INFO  Epoch 81 | full-batch training\n",
      "14 Nov 16:28    INFO  Epoch 81 | Train Loss 2.4987\n"
     ]
    },
    {
     "name": "stdout",
     "output_type": "stream",
     "text": [
      "torch.Size([544244, 128])\n",
      "tensor([0.1009], grad_fn=<AddBackward0>)\n"
     ]
    },
    {
     "name": "stderr",
     "output_type": "stream",
     "text": [
      " 41%|████      | 82/200 [1:25:08<2:05:45, 63.95s/it]14 Nov 16:28    INFO  Epoch 82 | full-batch training\n",
      "14 Nov 16:29    INFO  Epoch 82 | Train Loss 2.4859\n"
     ]
    },
    {
     "name": "stdout",
     "output_type": "stream",
     "text": [
      "torch.Size([544244, 128])\n",
      "tensor([0.1018], grad_fn=<AddBackward0>)\n"
     ]
    },
    {
     "name": "stderr",
     "output_type": "stream",
     "text": [
      " 42%|████▏     | 83/200 [1:25:51<1:52:24, 57.64s/it]14 Nov 16:29    INFO  Epoch 83 | full-batch training\n",
      "14 Nov 16:29    INFO  Epoch 83 | Train Loss 2.4719\n"
     ]
    },
    {
     "name": "stdout",
     "output_type": "stream",
     "text": [
      "torch.Size([544244, 128])\n",
      "tensor([0.1035], grad_fn=<AddBackward0>)\n"
     ]
    },
    {
     "name": "stderr",
     "output_type": "stream",
     "text": [
      " 42%|████▏     | 84/200 [1:26:35<1:43:11, 53.38s/it]14 Nov 16:30    INFO  Epoch 84 | full-batch training\n",
      "14 Nov 16:30    INFO  Epoch 84 | Train Loss 2.4630\n"
     ]
    },
    {
     "name": "stdout",
     "output_type": "stream",
     "text": [
      "torch.Size([544244, 128])\n",
      "tensor([0.0999], grad_fn=<AddBackward0>)\n"
     ]
    },
    {
     "name": "stderr",
     "output_type": "stream",
     "text": [
      " 42%|████▎     | 85/200 [1:27:18<1:36:25, 50.31s/it]14 Nov 16:31    INFO  Epoch 85 | full-batch training\n",
      "14 Nov 16:31    INFO  Epoch 85 | Train Loss 2.4420\n"
     ]
    },
    {
     "name": "stdout",
     "output_type": "stream",
     "text": [
      "torch.Size([544244, 128])\n",
      "tensor([0.1082], grad_fn=<AddBackward0>)\n"
     ]
    },
    {
     "name": "stderr",
     "output_type": "stream",
     "text": [
      "14 Nov 16:31    INFO  Start evaling\n"
     ]
    },
    {
     "name": "stdout",
     "output_type": "stream",
     "text": [
      "((0.5496928056256161, 0.5188464174696854), (0.3163350263425587, 0.19485366610838056), (0.4929200446676769, 0.47938980506970347))\n"
     ]
    },
    {
     "name": "stderr",
     "output_type": "stream",
     "text": [
      " 43%|████▎     | 86/200 [1:29:24<2:18:45, 73.03s/it]14 Nov 16:33    INFO  Epoch 86 | full-batch training\n",
      "14 Nov 16:33    INFO  Epoch 86 | Train Loss 2.4353\n"
     ]
    },
    {
     "name": "stdout",
     "output_type": "stream",
     "text": [
      "torch.Size([544244, 128])\n",
      "tensor([0.1008], grad_fn=<AddBackward0>)\n"
     ]
    },
    {
     "name": "stderr",
     "output_type": "stream",
     "text": [
      " 44%|████▎     | 87/200 [1:30:07<2:00:40, 64.07s/it]14 Nov 16:33    INFO  Epoch 87 | full-batch training\n",
      "14 Nov 16:34    INFO  Epoch 87 | Train Loss 2.4131\n"
     ]
    },
    {
     "name": "stdout",
     "output_type": "stream",
     "text": [
      "torch.Size([544244, 128])\n",
      "tensor([0.1072], grad_fn=<AddBackward0>)\n"
     ]
    },
    {
     "name": "stderr",
     "output_type": "stream",
     "text": [
      " 44%|████▍     | 88/200 [1:30:50<1:47:54, 57.81s/it]14 Nov 16:34    INFO  Epoch 88 | full-batch training\n",
      "14 Nov 16:34    INFO  Epoch 88 | Train Loss 2.3999\n"
     ]
    },
    {
     "name": "stdout",
     "output_type": "stream",
     "text": [
      "torch.Size([544244, 128])\n",
      "tensor([0.1040], grad_fn=<AddBackward0>)\n"
     ]
    },
    {
     "name": "stderr",
     "output_type": "stream",
     "text": [
      " 44%|████▍     | 89/200 [1:31:33<1:38:41, 53.34s/it]14 Nov 16:35    INFO  Epoch 89 | full-batch training\n",
      "14 Nov 16:35    INFO  Epoch 89 | Train Loss 2.3854\n"
     ]
    },
    {
     "name": "stdout",
     "output_type": "stream",
     "text": [
      "torch.Size([544244, 128])\n",
      "tensor([0.1037], grad_fn=<AddBackward0>)\n"
     ]
    },
    {
     "name": "stderr",
     "output_type": "stream",
     "text": [
      " 45%|████▌     | 90/200 [1:32:17<1:32:11, 50.29s/it]14 Nov 16:36    INFO  Epoch 90 | full-batch training\n",
      "14 Nov 16:36    INFO  Epoch 90 | Train Loss 2.3631\n"
     ]
    },
    {
     "name": "stdout",
     "output_type": "stream",
     "text": [
      "torch.Size([544244, 128])\n",
      "tensor([0.1116], grad_fn=<AddBackward0>)\n"
     ]
    },
    {
     "name": "stderr",
     "output_type": "stream",
     "text": [
      "14 Nov 16:36    INFO  Start evaling\n"
     ]
    },
    {
     "name": "stdout",
     "output_type": "stream",
     "text": [
      "((0.567614153628884, 0.5329100490777877), (0.3291408009146633, 0.2160436645677626), (0.5029178296066105, 0.5023621582680946))\n"
     ]
    },
    {
     "name": "stderr",
     "output_type": "stream",
     "text": [
      " 46%|████▌     | 91/200 [1:34:22<2:12:30, 72.94s/it]14 Nov 16:38    INFO  Epoch 91 | full-batch training\n",
      "14 Nov 16:38    INFO  Epoch 91 | Train Loss 2.3563\n"
     ]
    },
    {
     "name": "stdout",
     "output_type": "stream",
     "text": [
      "torch.Size([544244, 128])\n",
      "tensor([0.1038], grad_fn=<AddBackward0>)\n"
     ]
    },
    {
     "name": "stderr",
     "output_type": "stream",
     "text": [
      " 46%|████▌     | 92/200 [1:35:06<1:55:31, 64.18s/it]14 Nov 16:38    INFO  Epoch 92 | full-batch training\n",
      "14 Nov 16:39    INFO  Epoch 92 | Train Loss 2.3307\n"
     ]
    },
    {
     "name": "stdout",
     "output_type": "stream",
     "text": [
      "torch.Size([544244, 128])\n",
      "tensor([0.1147], grad_fn=<AddBackward0>)\n"
     ]
    },
    {
     "name": "stderr",
     "output_type": "stream",
     "text": [
      " 46%|████▋     | 93/200 [1:35:49<1:42:55, 57.71s/it]14 Nov 16:39    INFO  Epoch 93 | full-batch training\n",
      "14 Nov 16:39    INFO  Epoch 93 | Train Loss 2.3236\n"
     ]
    },
    {
     "name": "stdout",
     "output_type": "stream",
     "text": [
      "torch.Size([544244, 128])\n",
      "tensor([0.1064], grad_fn=<AddBackward0>)\n"
     ]
    },
    {
     "name": "stderr",
     "output_type": "stream",
     "text": [
      " 47%|████▋     | 94/200 [1:36:31<1:34:03, 53.24s/it]14 Nov 16:40    INFO  Epoch 94 | full-batch training\n",
      "14 Nov 16:40    INFO  Epoch 94 | Train Loss 2.2977\n"
     ]
    },
    {
     "name": "stdout",
     "output_type": "stream",
     "text": [
      "torch.Size([544244, 128])\n",
      "tensor([0.1117], grad_fn=<AddBackward0>)\n"
     ]
    },
    {
     "name": "stderr",
     "output_type": "stream",
     "text": [
      " 48%|████▊     | 95/200 [1:37:15<1:27:53, 50.22s/it]14 Nov 16:40    INFO  Epoch 95 | full-batch training\n",
      "14 Nov 16:41    INFO  Epoch 95 | Train Loss 2.2792\n"
     ]
    },
    {
     "name": "stdout",
     "output_type": "stream",
     "text": [
      "torch.Size([544244, 128])\n",
      "tensor([0.1154], grad_fn=<AddBackward0>)\n"
     ]
    },
    {
     "name": "stderr",
     "output_type": "stream",
     "text": [
      "14 Nov 16:41    INFO  Start evaling\n"
     ]
    },
    {
     "name": "stdout",
     "output_type": "stream",
     "text": [
      "((0.5805001080927643, 0.5414906609501885), (0.3286905660521357, 0.21641674693326124), (0.5152052192032199, 0.5020377712870774))\n"
     ]
    },
    {
     "name": "stderr",
     "output_type": "stream",
     "text": [
      " 48%|████▊     | 96/200 [1:39:21<2:06:30, 72.99s/it]14 Nov 16:43    INFO  Epoch 96 | full-batch training\n",
      "14 Nov 16:43    INFO  Epoch 96 | Train Loss 2.2762\n"
     ]
    },
    {
     "name": "stdout",
     "output_type": "stream",
     "text": [
      "torch.Size([544244, 128])\n",
      "tensor([0.1083], grad_fn=<AddBackward0>)\n"
     ]
    },
    {
     "name": "stderr",
     "output_type": "stream",
     "text": [
      " 48%|████▊     | 97/200 [1:40:05<1:50:33, 64.40s/it]14 Nov 16:43    INFO  Epoch 97 | full-batch training\n",
      "14 Nov 16:44    INFO  Epoch 97 | Train Loss 2.2489\n"
     ]
    },
    {
     "name": "stdout",
     "output_type": "stream",
     "text": [
      "torch.Size([544244, 128])\n",
      "tensor([0.1175], grad_fn=<AddBackward0>)\n"
     ]
    },
    {
     "name": "stderr",
     "output_type": "stream",
     "text": [
      " 49%|████▉     | 98/200 [1:40:48<1:38:40, 58.05s/it]14 Nov 16:44    INFO  Epoch 98 | full-batch training\n",
      "14 Nov 16:44    INFO  Epoch 98 | Train Loss 2.2322\n"
     ]
    },
    {
     "name": "stdout",
     "output_type": "stream",
     "text": [
      "torch.Size([544244, 128])\n",
      "tensor([0.1146], grad_fn=<AddBackward0>)\n"
     ]
    },
    {
     "name": "stderr",
     "output_type": "stream",
     "text": [
      " 50%|████▉     | 99/200 [1:41:31<1:30:10, 53.57s/it]14 Nov 16:45    INFO  Epoch 99 | full-batch training\n",
      "14 Nov 16:45    INFO  Epoch 99 | Train Loss 2.2204\n"
     ]
    },
    {
     "name": "stdout",
     "output_type": "stream",
     "text": [
      "torch.Size([544244, 128])\n",
      "tensor([0.1142], grad_fn=<AddBackward0>)\n"
     ]
    },
    {
     "name": "stderr",
     "output_type": "stream",
     "text": [
      " 50%|█████     | 100/200 [1:42:15<1:24:02, 50.42s/it]14 Nov 16:45    INFO  Epoch 100 | full-batch training\n",
      "14 Nov 16:46    INFO  Epoch 100 | Train Loss 2.2031\n"
     ]
    },
    {
     "name": "stdout",
     "output_type": "stream",
     "text": [
      "torch.Size([544244, 128])\n",
      "tensor([0.1220], grad_fn=<AddBackward0>)\n"
     ]
    },
    {
     "name": "stderr",
     "output_type": "stream",
     "text": [
      "14 Nov 16:46    INFO  Start evaling\n"
     ]
    },
    {
     "name": "stdout",
     "output_type": "stream",
     "text": [
      "((0.5976767274324254, 0.5598409822164304), (0.3202029346155636, 0.20624817506617849), (0.5251499859892113, 0.5064786114184152))\n"
     ]
    },
    {
     "name": "stderr",
     "output_type": "stream",
     "text": [
      " 50%|█████     | 101/200 [1:44:21<2:00:40, 73.14s/it]14 Nov 16:48    INFO  Epoch 101 | full-batch training\n",
      "14 Nov 16:48    INFO  Epoch 101 | Train Loss 2.1943\n"
     ]
    },
    {
     "name": "stdout",
     "output_type": "stream",
     "text": [
      "torch.Size([544244, 128])\n",
      "tensor([0.1172], grad_fn=<AddBackward0>)\n"
     ]
    },
    {
     "name": "stderr",
     "output_type": "stream",
     "text": [
      " 51%|█████     | 102/200 [1:45:04<1:44:50, 64.18s/it]14 Nov 16:48    INFO  Epoch 102 | full-batch training\n",
      "14 Nov 16:48    INFO  Epoch 102 | Train Loss 2.1713\n"
     ]
    },
    {
     "name": "stdout",
     "output_type": "stream",
     "text": [
      "torch.Size([544244, 128])\n",
      "tensor([0.1230], grad_fn=<AddBackward0>)\n"
     ]
    },
    {
     "name": "stderr",
     "output_type": "stream",
     "text": [
      " 52%|█████▏    | 103/200 [1:45:47<1:33:22, 57.76s/it]14 Nov 16:49    INFO  Epoch 103 | full-batch training\n",
      "14 Nov 16:49    INFO  Epoch 103 | Train Loss 2.1594\n"
     ]
    },
    {
     "name": "stdout",
     "output_type": "stream",
     "text": [
      "torch.Size([544244, 128])\n",
      "tensor([0.1241], grad_fn=<AddBackward0>)\n"
     ]
    },
    {
     "name": "stderr",
     "output_type": "stream",
     "text": [
      " 52%|█████▏    | 104/200 [1:46:30<1:25:36, 53.51s/it]14 Nov 16:50    INFO  Epoch 104 | full-batch training\n",
      "14 Nov 16:50    INFO  Epoch 104 | Train Loss 2.1523\n"
     ]
    },
    {
     "name": "stdout",
     "output_type": "stream",
     "text": [
      "torch.Size([544244, 128])\n",
      "tensor([0.1248], grad_fn=<AddBackward0>)\n"
     ]
    },
    {
     "name": "stderr",
     "output_type": "stream",
     "text": [
      " 52%|█████▎    | 105/200 [1:47:14<1:19:55, 50.48s/it]14 Nov 16:50    INFO  Epoch 105 | full-batch training\n",
      "14 Nov 16:51    INFO  Epoch 105 | Train Loss 2.1387\n"
     ]
    },
    {
     "name": "stdout",
     "output_type": "stream",
     "text": [
      "torch.Size([544244, 128])\n",
      "tensor([0.1270], grad_fn=<AddBackward0>)\n"
     ]
    },
    {
     "name": "stderr",
     "output_type": "stream",
     "text": [
      "14 Nov 16:51    INFO  Start evaling\n"
     ]
    },
    {
     "name": "stdout",
     "output_type": "stream",
     "text": [
      "((0.6156790482906928, 0.5837309927607689), (0.3074977367666147, 0.1846598189317218), (0.5345213150046784, 0.514932031268967))\n"
     ]
    },
    {
     "name": "stderr",
     "output_type": "stream",
     "text": [
      " 53%|█████▎    | 106/200 [1:49:20<1:54:53, 73.33s/it]14 Nov 16:53    INFO  Epoch 106 | full-batch training\n",
      "14 Nov 16:53    INFO  Epoch 106 | Train Loss 2.1249\n"
     ]
    },
    {
     "name": "stdout",
     "output_type": "stream",
     "text": [
      "torch.Size([544244, 128])\n",
      "tensor([0.1256], grad_fn=<AddBackward0>)\n"
     ]
    },
    {
     "name": "stderr",
     "output_type": "stream",
     "text": [
      " 54%|█████▎    | 107/200 [1:50:03<1:39:35, 64.25s/it]14 Nov 16:53    INFO  Epoch 107 | full-batch training\n",
      "14 Nov 16:53    INFO  Epoch 107 | Train Loss 2.1118\n"
     ]
    },
    {
     "name": "stdout",
     "output_type": "stream",
     "text": [
      "torch.Size([544244, 128])\n",
      "tensor([0.1286], grad_fn=<AddBackward0>)\n"
     ]
    },
    {
     "name": "stderr",
     "output_type": "stream",
     "text": [
      " 54%|█████▍    | 108/200 [1:50:47<1:28:47, 57.91s/it]14 Nov 16:54    INFO  Epoch 108 | full-batch training\n",
      "14 Nov 16:54    INFO  Epoch 108 | Train Loss 2.1044\n"
     ]
    },
    {
     "name": "stdout",
     "output_type": "stream",
     "text": [
      "torch.Size([544244, 128])\n",
      "tensor([0.1319], grad_fn=<AddBackward0>)\n"
     ]
    },
    {
     "name": "stderr",
     "output_type": "stream",
     "text": [
      " 55%|█████▍    | 109/200 [1:51:29<1:20:57, 53.38s/it]14 Nov 16:55    INFO  Epoch 109 | full-batch training\n",
      "14 Nov 16:55    INFO  Epoch 109 | Train Loss 2.0988\n"
     ]
    },
    {
     "name": "stdout",
     "output_type": "stream",
     "text": [
      "torch.Size([544244, 128])\n",
      "tensor([0.1318], grad_fn=<AddBackward0>)\n"
     ]
    },
    {
     "name": "stderr",
     "output_type": "stream",
     "text": [
      " 55%|█████▌    | 110/200 [1:52:12<1:15:21, 50.24s/it]14 Nov 16:55    INFO  Epoch 110 | full-batch training\n",
      "14 Nov 16:56    INFO  Epoch 110 | Train Loss 2.0865\n"
     ]
    },
    {
     "name": "stdout",
     "output_type": "stream",
     "text": [
      "torch.Size([544244, 128])\n",
      "tensor([0.1323], grad_fn=<AddBackward0>)\n"
     ]
    },
    {
     "name": "stderr",
     "output_type": "stream",
     "text": [
      "14 Nov 16:56    INFO  Start evaling\n"
     ]
    },
    {
     "name": "stdout",
     "output_type": "stream",
     "text": [
      "((0.628004926798983, 0.5989158794014018), (0.299359992229764, 0.17478260093860226), (0.5405434655716209, 0.5240599129389186))\n"
     ]
    },
    {
     "name": "stderr",
     "output_type": "stream",
     "text": [
      " 56%|█████▌    | 111/200 [1:54:18<1:47:55, 72.76s/it]14 Nov 16:58    INFO  Epoch 111 | full-batch training\n",
      "14 Nov 16:58    INFO  Epoch 111 | Train Loss 2.0743\n"
     ]
    },
    {
     "name": "stdout",
     "output_type": "stream",
     "text": [
      "torch.Size([544244, 128])\n",
      "tensor([0.1338], grad_fn=<AddBackward0>)\n"
     ]
    },
    {
     "name": "stderr",
     "output_type": "stream",
     "text": [
      " 56%|█████▌    | 112/200 [1:55:01<1:33:55, 64.04s/it]14 Nov 16:58    INFO  Epoch 112 | full-batch training\n",
      "14 Nov 16:58    INFO  Epoch 112 | Train Loss 2.0695\n"
     ]
    },
    {
     "name": "stdout",
     "output_type": "stream",
     "text": [
      "torch.Size([544244, 128])\n",
      "tensor([0.1345], grad_fn=<AddBackward0>)\n"
     ]
    },
    {
     "name": "stderr",
     "output_type": "stream",
     "text": [
      " 56%|█████▋    | 113/200 [1:55:45<1:23:56, 57.90s/it]14 Nov 16:59    INFO  Epoch 113 | full-batch training\n",
      "14 Nov 16:59    INFO  Epoch 113 | Train Loss 2.0652\n"
     ]
    },
    {
     "name": "stdout",
     "output_type": "stream",
     "text": [
      "torch.Size([544244, 128])\n",
      "tensor([0.1360], grad_fn=<AddBackward0>)\n"
     ]
    },
    {
     "name": "stderr",
     "output_type": "stream",
     "text": [
      " 57%|█████▋    | 114/200 [1:56:28<1:16:49, 53.60s/it]14 Nov 17:00    INFO  Epoch 114 | full-batch training\n",
      "14 Nov 17:00    INFO  Epoch 114 | Train Loss 2.0593\n"
     ]
    },
    {
     "name": "stdout",
     "output_type": "stream",
     "text": [
      "torch.Size([544244, 128])\n",
      "tensor([0.1344], grad_fn=<AddBackward0>)\n"
     ]
    },
    {
     "name": "stderr",
     "output_type": "stream",
     "text": [
      " 57%|█████▊    | 115/200 [1:57:12<1:11:32, 50.49s/it]14 Nov 17:00    INFO  Epoch 115 | full-batch training\n",
      "14 Nov 17:01    INFO  Epoch 115 | Train Loss 2.0468\n"
     ]
    },
    {
     "name": "stdout",
     "output_type": "stream",
     "text": [
      "torch.Size([544244, 128])\n",
      "tensor([0.1366], grad_fn=<AddBackward0>)\n"
     ]
    },
    {
     "name": "stderr",
     "output_type": "stream",
     "text": [
      "14 Nov 17:01    INFO  Start evaling\n"
     ]
    },
    {
     "name": "stdout",
     "output_type": "stream",
     "text": [
      "((0.6373888441171095, 0.6114222818748638), (0.29229281767335186, 0.1669277329053153), (0.542494045196798, 0.5266996491425687))\n"
     ]
    },
    {
     "name": "stderr",
     "output_type": "stream",
     "text": [
      " 58%|█████▊    | 116/200 [1:59:18<1:42:26, 73.17s/it]14 Nov 17:03    INFO  Epoch 116 | full-batch training\n",
      "14 Nov 17:03    INFO  Epoch 116 | Train Loss 2.0410\n"
     ]
    },
    {
     "name": "stdout",
     "output_type": "stream",
     "text": [
      "torch.Size([544244, 128])\n",
      "tensor([0.1370], grad_fn=<AddBackward0>)\n"
     ]
    },
    {
     "name": "stderr",
     "output_type": "stream",
     "text": [
      " 58%|█████▊    | 117/200 [2:00:01<1:28:40, 64.10s/it]14 Nov 17:03    INFO  Epoch 117 | full-batch training\n",
      "14 Nov 17:03    INFO  Epoch 117 | Train Loss 2.0377\n"
     ]
    },
    {
     "name": "stdout",
     "output_type": "stream",
     "text": [
      "torch.Size([544244, 128])\n",
      "tensor([0.1382], grad_fn=<AddBackward0>)\n"
     ]
    },
    {
     "name": "stderr",
     "output_type": "stream",
     "text": [
      " 59%|█████▉    | 118/200 [2:00:44<1:19:04, 57.86s/it]14 Nov 17:04    INFO  Epoch 118 | full-batch training\n",
      "14 Nov 17:04    INFO  Epoch 118 | Train Loss 2.0341\n"
     ]
    },
    {
     "name": "stdout",
     "output_type": "stream",
     "text": [
      "torch.Size([544244, 128])\n",
      "tensor([0.1362], grad_fn=<AddBackward0>)\n"
     ]
    },
    {
     "name": "stderr",
     "output_type": "stream",
     "text": [
      " 60%|█████▉    | 119/200 [2:01:27<1:11:53, 53.25s/it]14 Nov 17:05    INFO  Epoch 119 | full-batch training\n",
      "14 Nov 17:05    INFO  Epoch 119 | Train Loss 2.0247\n"
     ]
    },
    {
     "name": "stdout",
     "output_type": "stream",
     "text": [
      "torch.Size([544244, 128])\n",
      "tensor([0.1362], grad_fn=<AddBackward0>)\n"
     ]
    },
    {
     "name": "stderr",
     "output_type": "stream",
     "text": [
      " 60%|██████    | 120/200 [2:02:10<1:07:00, 50.26s/it]14 Nov 17:05    INFO  Epoch 120 | full-batch training\n",
      "14 Nov 17:06    INFO  Epoch 120 | Train Loss 2.0196\n"
     ]
    },
    {
     "name": "stdout",
     "output_type": "stream",
     "text": [
      "torch.Size([544244, 128])\n",
      "tensor([0.1349], grad_fn=<AddBackward0>)\n"
     ]
    },
    {
     "name": "stderr",
     "output_type": "stream",
     "text": [
      "14 Nov 17:06    INFO  Start evaling\n"
     ]
    },
    {
     "name": "stdout",
     "output_type": "stream",
     "text": [
      "((0.6441850543789539, 0.6208334805913364), (0.2854053857040189, 0.15889745003446776), (0.5448276684042177, 0.5158877867970039))\n"
     ]
    },
    {
     "name": "stderr",
     "output_type": "stream",
     "text": [
      " 60%|██████    | 121/200 [2:04:16<1:36:05, 72.99s/it]14 Nov 17:08    INFO  Epoch 121 | full-batch training\n",
      "14 Nov 17:08    INFO  Epoch 121 | Train Loss 2.0173\n"
     ]
    },
    {
     "name": "stdout",
     "output_type": "stream",
     "text": [
      "torch.Size([544244, 128])\n",
      "tensor([0.1345], grad_fn=<AddBackward0>)\n"
     ]
    },
    {
     "name": "stderr",
     "output_type": "stream",
     "text": [
      " 61%|██████    | 122/200 [2:04:59<1:23:11, 63.99s/it]14 Nov 17:08    INFO  Epoch 122 | full-batch training\n",
      "14 Nov 17:08    INFO  Epoch 122 | Train Loss 2.0130\n"
     ]
    },
    {
     "name": "stdout",
     "output_type": "stream",
     "text": [
      "torch.Size([544244, 128])\n",
      "tensor([0.1342], grad_fn=<AddBackward0>)\n"
     ]
    },
    {
     "name": "stderr",
     "output_type": "stream",
     "text": [
      " 62%|██████▏   | 123/200 [2:05:42<1:13:58, 57.65s/it]14 Nov 17:09    INFO  Epoch 123 | full-batch training\n",
      "14 Nov 17:09    INFO  Epoch 123 | Train Loss 2.0062\n"
     ]
    },
    {
     "name": "stdout",
     "output_type": "stream",
     "text": [
      "torch.Size([544244, 128])\n",
      "tensor([0.1331], grad_fn=<AddBackward0>)\n"
     ]
    },
    {
     "name": "stderr",
     "output_type": "stream",
     "text": [
      " 62%|██████▏   | 124/200 [2:06:25<1:07:29, 53.28s/it]14 Nov 17:10    INFO  Epoch 124 | full-batch training\n",
      "14 Nov 17:10    INFO  Epoch 124 | Train Loss 2.0009\n"
     ]
    },
    {
     "name": "stdout",
     "output_type": "stream",
     "text": [
      "torch.Size([544244, 128])\n",
      "tensor([0.1321], grad_fn=<AddBackward0>)\n"
     ]
    },
    {
     "name": "stderr",
     "output_type": "stream",
     "text": [
      " 62%|██████▎   | 125/200 [2:07:08<1:02:46, 50.21s/it]14 Nov 17:10    INFO  Epoch 125 | full-batch training\n",
      "14 Nov 17:11    INFO  Epoch 125 | Train Loss 1.9969\n"
     ]
    },
    {
     "name": "stdout",
     "output_type": "stream",
     "text": [
      "torch.Size([544244, 128])\n",
      "tensor([0.1324], grad_fn=<AddBackward0>)\n"
     ]
    },
    {
     "name": "stderr",
     "output_type": "stream",
     "text": [
      "14 Nov 17:11    INFO  Start evaling\n"
     ]
    },
    {
     "name": "stdout",
     "output_type": "stream",
     "text": [
      "((0.6492329705253237, 0.6282451244117204), (0.28740269829431864, 0.16130609448061523), (0.5474731445770492, 0.49449138640673407))\n"
     ]
    },
    {
     "name": "stderr",
     "output_type": "stream",
     "text": [
      " 63%|██████▎   | 126/200 [2:09:13<1:29:43, 72.75s/it]14 Nov 17:12    INFO  Epoch 126 | full-batch training\n",
      "14 Nov 17:13    INFO  Epoch 126 | Train Loss 1.9945\n"
     ]
    },
    {
     "name": "stdout",
     "output_type": "stream",
     "text": [
      "torch.Size([544244, 128])\n",
      "tensor([0.1302], grad_fn=<AddBackward0>)\n"
     ]
    },
    {
     "name": "stderr",
     "output_type": "stream",
     "text": [
      " 64%|██████▎   | 127/200 [2:09:57<1:17:50, 63.98s/it]14 Nov 17:13    INFO  Epoch 127 | full-batch training\n",
      "14 Nov 17:13    INFO  Epoch 127 | Train Loss 1.9883\n"
     ]
    },
    {
     "name": "stdout",
     "output_type": "stream",
     "text": [
      "torch.Size([544244, 128])\n",
      "tensor([0.1298], grad_fn=<AddBackward0>)\n"
     ]
    },
    {
     "name": "stderr",
     "output_type": "stream",
     "text": [
      " 64%|██████▍   | 128/200 [2:10:40<1:09:16, 57.72s/it]14 Nov 17:14    INFO  Epoch 128 | full-batch training\n",
      "14 Nov 17:14    INFO  Epoch 128 | Train Loss 1.9826\n"
     ]
    },
    {
     "name": "stdout",
     "output_type": "stream",
     "text": [
      "torch.Size([544244, 128])\n",
      "tensor([0.1297], grad_fn=<AddBackward0>)\n"
     ]
    },
    {
     "name": "stderr",
     "output_type": "stream",
     "text": [
      " 64%|██████▍   | 129/200 [2:11:23<1:03:05, 53.32s/it]14 Nov 17:15    INFO  Epoch 129 | full-batch training\n",
      "14 Nov 17:15    INFO  Epoch 129 | Train Loss 1.9808\n"
     ]
    },
    {
     "name": "stdout",
     "output_type": "stream",
     "text": [
      "torch.Size([544244, 128])\n",
      "tensor([0.1274], grad_fn=<AddBackward0>)\n"
     ]
    },
    {
     "name": "stderr",
     "output_type": "stream",
     "text": [
      " 65%|██████▌   | 130/200 [2:12:06<58:39, 50.27s/it]  14 Nov 17:15    INFO  Epoch 130 | full-batch training\n",
      "14 Nov 17:16    INFO  Epoch 130 | Train Loss 1.9732\n"
     ]
    },
    {
     "name": "stdout",
     "output_type": "stream",
     "text": [
      "torch.Size([544244, 128])\n",
      "tensor([0.1303], grad_fn=<AddBackward0>)\n"
     ]
    },
    {
     "name": "stderr",
     "output_type": "stream",
     "text": [
      "14 Nov 17:16    INFO  Start evaling\n"
     ]
    },
    {
     "name": "stdout",
     "output_type": "stream",
     "text": [
      "((0.6531298114368068, 0.6338719524232224), (0.28808656098202634, 0.16115686362529613), (0.5500083510395087, 0.5033441195623211))\n"
     ]
    },
    {
     "name": "stderr",
     "output_type": "stream",
     "text": [
      " 66%|██████▌   | 131/200 [2:14:12<1:24:03, 73.09s/it]14 Nov 17:17    INFO  Epoch 131 | full-batch training\n",
      "14 Nov 17:18    INFO  Epoch 131 | Train Loss 1.9706\n"
     ]
    },
    {
     "name": "stdout",
     "output_type": "stream",
     "text": [
      "torch.Size([544244, 128])\n",
      "tensor([0.1264], grad_fn=<AddBackward0>)\n"
     ]
    },
    {
     "name": "stderr",
     "output_type": "stream",
     "text": [
      " 66%|██████▌   | 132/200 [2:14:55<1:12:40, 64.12s/it]14 Nov 17:18    INFO  Epoch 132 | full-batch training\n",
      "14 Nov 17:18    INFO  Epoch 132 | Train Loss 1.9654\n"
     ]
    },
    {
     "name": "stdout",
     "output_type": "stream",
     "text": [
      "torch.Size([544244, 128])\n",
      "tensor([0.1257], grad_fn=<AddBackward0>)\n"
     ]
    },
    {
     "name": "stderr",
     "output_type": "stream",
     "text": [
      " 66%|██████▋   | 133/200 [2:15:39<1:04:35, 57.84s/it]14 Nov 17:19    INFO  Epoch 133 | full-batch training\n",
      "14 Nov 17:19    INFO  Epoch 133 | Train Loss 1.9600\n"
     ]
    },
    {
     "name": "stdout",
     "output_type": "stream",
     "text": [
      "torch.Size([544244, 128])\n",
      "tensor([0.1267], grad_fn=<AddBackward0>)\n"
     ]
    },
    {
     "name": "stderr",
     "output_type": "stream",
     "text": [
      " 67%|██████▋   | 134/200 [2:16:22<58:49, 53.47s/it]  14 Nov 17:20    INFO  Epoch 134 | full-batch training\n",
      "14 Nov 17:20    INFO  Epoch 134 | Train Loss 1.9576\n"
     ]
    },
    {
     "name": "stdout",
     "output_type": "stream",
     "text": [
      "torch.Size([544244, 128])\n",
      "tensor([0.1247], grad_fn=<AddBackward0>)\n"
     ]
    },
    {
     "name": "stderr",
     "output_type": "stream",
     "text": [
      " 68%|██████▊   | 135/200 [2:17:05<54:35, 50.39s/it]14 Nov 17:20    INFO  Epoch 135 | full-batch training\n",
      "14 Nov 17:21    INFO  Epoch 135 | Train Loss 1.9506\n"
     ]
    },
    {
     "name": "stdout",
     "output_type": "stream",
     "text": [
      "torch.Size([544244, 128])\n",
      "tensor([0.1262], grad_fn=<AddBackward0>)\n"
     ]
    },
    {
     "name": "stderr",
     "output_type": "stream",
     "text": [
      "14 Nov 17:21    INFO  Start evaling\n"
     ]
    },
    {
     "name": "stdout",
     "output_type": "stream",
     "text": [
      "((0.6576090515242491, 0.6398228360261701), (0.2895154262391428, 0.16185608536624949), (0.5517515078563511, 0.5059736750769765))\n"
     ]
    },
    {
     "name": "stderr",
     "output_type": "stream",
     "text": [
      " 68%|██████▊   | 136/200 [2:19:11<1:17:57, 73.09s/it]14 Nov 17:22    INFO  Epoch 136 | full-batch training\n",
      "14 Nov 17:23    INFO  Epoch 136 | Train Loss 1.9475\n"
     ]
    },
    {
     "name": "stdout",
     "output_type": "stream",
     "text": [
      "torch.Size([544244, 128])\n",
      "tensor([0.1232], grad_fn=<AddBackward0>)\n"
     ]
    },
    {
     "name": "stderr",
     "output_type": "stream",
     "text": [
      " 68%|██████▊   | 137/200 [2:19:54<1:07:15, 64.05s/it]14 Nov 17:23    INFO  Epoch 137 | full-batch training\n",
      "14 Nov 17:23    INFO  Epoch 137 | Train Loss 1.9417\n"
     ]
    },
    {
     "name": "stdout",
     "output_type": "stream",
     "text": [
      "torch.Size([544244, 128])\n",
      "tensor([0.1236], grad_fn=<AddBackward0>)\n"
     ]
    },
    {
     "name": "stderr",
     "output_type": "stream",
     "text": [
      " 69%|██████▉   | 138/200 [2:20:37<59:40, 57.75s/it]  14 Nov 17:24    INFO  Epoch 138 | full-batch training\n",
      "14 Nov 17:24    INFO  Epoch 138 | Train Loss 1.9369\n"
     ]
    },
    {
     "name": "stdout",
     "output_type": "stream",
     "text": [
      "torch.Size([544244, 128])\n",
      "tensor([0.1237], grad_fn=<AddBackward0>)\n"
     ]
    },
    {
     "name": "stderr",
     "output_type": "stream",
     "text": [
      " 70%|██████▉   | 139/200 [2:21:20<54:03, 53.17s/it]14 Nov 17:25    INFO  Epoch 139 | full-batch training\n",
      "14 Nov 17:25    INFO  Epoch 139 | Train Loss 1.9343\n"
     ]
    },
    {
     "name": "stdout",
     "output_type": "stream",
     "text": [
      "torch.Size([544244, 128])\n",
      "tensor([0.1221], grad_fn=<AddBackward0>)\n"
     ]
    },
    {
     "name": "stderr",
     "output_type": "stream",
     "text": [
      " 70%|███████   | 140/200 [2:22:03<50:05, 50.09s/it]14 Nov 17:25    INFO  Epoch 140 | full-batch training\n",
      "14 Nov 17:25    INFO  Epoch 140 | Train Loss 1.9288\n"
     ]
    },
    {
     "name": "stdout",
     "output_type": "stream",
     "text": [
      "torch.Size([544244, 128])\n",
      "tensor([0.1239], grad_fn=<AddBackward0>)\n"
     ]
    },
    {
     "name": "stderr",
     "output_type": "stream",
     "text": [
      "14 Nov 17:26    INFO  Start evaling\n"
     ]
    },
    {
     "name": "stdout",
     "output_type": "stream",
     "text": [
      "((0.6623181959409279, 0.6465415434586191), (0.28639392283878806, 0.15804929342154608), (0.5527877932928229, 0.5082955507370165))\n"
     ]
    },
    {
     "name": "stderr",
     "output_type": "stream",
     "text": [
      " 70%|███████   | 141/200 [2:24:09<1:11:38, 72.86s/it]14 Nov 17:27    INFO  Epoch 141 | full-batch training\n",
      "14 Nov 17:28    INFO  Epoch 141 | Train Loss 1.9276\n"
     ]
    },
    {
     "name": "stdout",
     "output_type": "stream",
     "text": [
      "torch.Size([544244, 128])\n",
      "tensor([0.1221], grad_fn=<AddBackward0>)\n"
     ]
    },
    {
     "name": "stderr",
     "output_type": "stream",
     "text": [
      " 71%|███████   | 142/200 [2:24:52<1:01:51, 63.99s/it]14 Nov 17:28    INFO  Epoch 142 | full-batch training\n",
      "14 Nov 17:28    INFO  Epoch 142 | Train Loss 1.9269\n"
     ]
    },
    {
     "name": "stdout",
     "output_type": "stream",
     "text": [
      "torch.Size([544244, 128])\n",
      "tensor([0.1215], grad_fn=<AddBackward0>)\n"
     ]
    },
    {
     "name": "stderr",
     "output_type": "stream",
     "text": [
      " 72%|███████▏  | 143/200 [2:25:35<54:48, 57.69s/it]  14 Nov 17:29    INFO  Epoch 143 | full-batch training\n",
      "14 Nov 17:29    INFO  Epoch 143 | Train Loss 1.9272\n"
     ]
    },
    {
     "name": "stdout",
     "output_type": "stream",
     "text": [
      "torch.Size([544244, 128])\n",
      "tensor([0.1266], grad_fn=<AddBackward0>)\n"
     ]
    },
    {
     "name": "stderr",
     "output_type": "stream",
     "text": [
      " 72%|███████▏  | 144/200 [2:26:18<49:44, 53.30s/it]14 Nov 17:30    INFO  Epoch 144 | full-batch training\n",
      "14 Nov 17:30    INFO  Epoch 144 | Train Loss 1.9457\n"
     ]
    },
    {
     "name": "stdout",
     "output_type": "stream",
     "text": [
      "torch.Size([544244, 128])\n",
      "tensor([0.1204], grad_fn=<AddBackward0>)\n"
     ]
    },
    {
     "name": "stderr",
     "output_type": "stream",
     "text": [
      " 72%|███████▎  | 145/200 [2:27:01<46:04, 50.26s/it]14 Nov 17:30    INFO  Epoch 145 | full-batch training\n",
      "14 Nov 17:30    INFO  Epoch 145 | Train Loss 1.9122\n"
     ]
    },
    {
     "name": "stdout",
     "output_type": "stream",
     "text": [
      "torch.Size([544244, 128])\n",
      "tensor([0.1339], grad_fn=<AddBackward0>)\n"
     ]
    },
    {
     "name": "stderr",
     "output_type": "stream",
     "text": [
      "14 Nov 17:31    INFO  Start evaling\n"
     ]
    },
    {
     "name": "stdout",
     "output_type": "stream",
     "text": [
      "((0.6662998706761394, 0.6510120823389217), (0.28516102281759187, 0.15633754209763728), (0.5524467368888919, 0.5094036077215555))\n"
     ]
    },
    {
     "name": "stderr",
     "output_type": "stream",
     "text": [
      " 73%|███████▎  | 146/200 [2:29:07<1:05:41, 72.98s/it]14 Nov 17:32    INFO  Epoch 146 | full-batch training\n",
      "14 Nov 17:33    INFO  Epoch 146 | Train Loss 1.9044\n"
     ]
    },
    {
     "name": "stdout",
     "output_type": "stream",
     "text": [
      "torch.Size([544244, 128])\n",
      "tensor([0.1219], grad_fn=<AddBackward0>)\n"
     ]
    },
    {
     "name": "stderr",
     "output_type": "stream",
     "text": [
      " 74%|███████▎  | 147/200 [2:29:50<56:35, 64.06s/it]  14 Nov 17:33    INFO  Epoch 147 | full-batch training\n",
      "14 Nov 17:33    INFO  Epoch 147 | Train Loss 1.9186\n"
     ]
    },
    {
     "name": "stdout",
     "output_type": "stream",
     "text": [
      "torch.Size([544244, 128])\n",
      "tensor([0.1166], grad_fn=<AddBackward0>)\n"
     ]
    },
    {
     "name": "stderr",
     "output_type": "stream",
     "text": [
      " 74%|███████▍  | 148/200 [2:30:34<50:12, 57.94s/it]14 Nov 17:34    INFO  Epoch 148 | full-batch training\n",
      "14 Nov 17:34    INFO  Epoch 148 | Train Loss 1.8967\n"
     ]
    },
    {
     "name": "stdout",
     "output_type": "stream",
     "text": [
      "torch.Size([544244, 128])\n",
      "tensor([0.1272], grad_fn=<AddBackward0>)\n"
     ]
    },
    {
     "name": "stderr",
     "output_type": "stream",
     "text": [
      " 74%|███████▍  | 149/200 [2:31:17<45:32, 53.58s/it]14 Nov 17:35    INFO  Epoch 149 | full-batch training\n",
      "14 Nov 17:35    INFO  Epoch 149 | Train Loss 1.8927\n"
     ]
    },
    {
     "name": "stdout",
     "output_type": "stream",
     "text": [
      "torch.Size([544244, 128])\n",
      "tensor([0.1189], grad_fn=<AddBackward0>)\n"
     ]
    },
    {
     "name": "stderr",
     "output_type": "stream",
     "text": [
      " 75%|███████▌  | 150/200 [2:32:01<42:01, 50.43s/it]14 Nov 17:35    INFO  Epoch 150 | full-batch training\n",
      "14 Nov 17:35    INFO  Epoch 150 | Train Loss 1.9022\n"
     ]
    },
    {
     "name": "stdout",
     "output_type": "stream",
     "text": [
      "torch.Size([544244, 128])\n",
      "tensor([0.1175], grad_fn=<AddBackward0>)\n"
     ]
    },
    {
     "name": "stderr",
     "output_type": "stream",
     "text": [
      "14 Nov 17:36    INFO  Start evaling\n"
     ]
    },
    {
     "name": "stdout",
     "output_type": "stream",
     "text": [
      "((0.6688877093660556, 0.6539862493911086), (0.2857837270828928, 0.15652226961577664), (0.5556367538238035, 0.5135076151315161))\n"
     ]
    },
    {
     "name": "stderr",
     "output_type": "stream",
     "text": [
      " 76%|███████▌  | 151/200 [2:34:07<59:44, 73.14s/it]14 Nov 17:37    INFO  Epoch 151 | full-batch training\n",
      "14 Nov 17:38    INFO  Epoch 151 | Train Loss 1.8834\n"
     ]
    },
    {
     "name": "stdout",
     "output_type": "stream",
     "text": [
      "torch.Size([544244, 128])\n",
      "tensor([0.1198], grad_fn=<AddBackward0>)\n"
     ]
    },
    {
     "name": "stderr",
     "output_type": "stream",
     "text": [
      " 76%|███████▌  | 152/200 [2:34:50<51:22, 64.21s/it]14 Nov 17:38    INFO  Epoch 152 | full-batch training\n",
      "14 Nov 17:38    INFO  Epoch 152 | Train Loss 1.8820\n"
     ]
    },
    {
     "name": "stdout",
     "output_type": "stream",
     "text": [
      "torch.Size([544244, 128])\n",
      "tensor([0.1199], grad_fn=<AddBackward0>)\n"
     ]
    },
    {
     "name": "stderr",
     "output_type": "stream",
     "text": [
      " 76%|███████▋  | 153/200 [2:35:33<45:16, 57.79s/it]14 Nov 17:39    INFO  Epoch 153 | full-batch training\n",
      "14 Nov 17:39    INFO  Epoch 153 | Train Loss 1.8861\n"
     ]
    },
    {
     "name": "stdout",
     "output_type": "stream",
     "text": [
      "torch.Size([544244, 128])\n",
      "tensor([0.1162], grad_fn=<AddBackward0>)\n"
     ]
    },
    {
     "name": "stderr",
     "output_type": "stream",
     "text": [
      " 77%|███████▋  | 154/200 [2:36:16<41:02, 53.53s/it]14 Nov 17:40    INFO  Epoch 154 | full-batch training\n",
      "14 Nov 17:40    INFO  Epoch 154 | Train Loss 1.8721\n"
     ]
    },
    {
     "name": "stdout",
     "output_type": "stream",
     "text": [
      "torch.Size([544244, 128])\n",
      "tensor([0.1153], grad_fn=<AddBackward0>)\n"
     ]
    },
    {
     "name": "stderr",
     "output_type": "stream",
     "text": [
      " 78%|███████▊  | 155/200 [2:36:59<37:46, 50.37s/it]14 Nov 17:40    INFO  Epoch 155 | full-batch training\n",
      "14 Nov 17:40    INFO  Epoch 155 | Train Loss 1.8700\n"
     ]
    },
    {
     "name": "stdout",
     "output_type": "stream",
     "text": [
      "torch.Size([544244, 128])\n",
      "tensor([0.1223], grad_fn=<AddBackward0>)\n"
     ]
    },
    {
     "name": "stderr",
     "output_type": "stream",
     "text": [
      "14 Nov 17:41    INFO  Start evaling\n"
     ]
    },
    {
     "name": "stdout",
     "output_type": "stream",
     "text": [
      "((0.6689194067564479, 0.6532294289461621), (0.28793365574359, 0.15714902940124229), (0.5554591026276176, 0.512892808394145))\n"
     ]
    },
    {
     "name": "stderr",
     "output_type": "stream",
     "text": [
      " 78%|███████▊  | 156/200 [2:39:06<53:36, 73.10s/it]14 Nov 17:42    INFO  Epoch 156 | full-batch training\n",
      "14 Nov 17:43    INFO  Epoch 156 | Train Loss 1.8682\n"
     ]
    },
    {
     "name": "stdout",
     "output_type": "stream",
     "text": [
      "torch.Size([544244, 128])\n",
      "tensor([0.1142], grad_fn=<AddBackward0>)\n"
     ]
    },
    {
     "name": "stderr",
     "output_type": "stream",
     "text": [
      " 78%|███████▊  | 157/200 [2:39:49<45:57, 64.14s/it]14 Nov 17:43    INFO  Epoch 157 | full-batch training\n",
      "14 Nov 17:43    INFO  Epoch 157 | Train Loss 1.8615\n"
     ]
    },
    {
     "name": "stdout",
     "output_type": "stream",
     "text": [
      "torch.Size([544244, 128])\n",
      "tensor([0.1158], grad_fn=<AddBackward0>)\n"
     ]
    },
    {
     "name": "stderr",
     "output_type": "stream",
     "text": [
      " 79%|███████▉  | 158/200 [2:40:32<40:35, 57.99s/it]14 Nov 17:44    INFO  Epoch 158 | full-batch training\n",
      "14 Nov 17:44    INFO  Epoch 158 | Train Loss 1.8581\n"
     ]
    },
    {
     "name": "stdout",
     "output_type": "stream",
     "text": [
      "torch.Size([544244, 128])\n",
      "tensor([0.1182], grad_fn=<AddBackward0>)\n"
     ]
    },
    {
     "name": "stderr",
     "output_type": "stream",
     "text": [
      " 80%|███████▉  | 159/200 [2:41:16<36:36, 53.57s/it]14 Nov 17:45    INFO  Epoch 159 | full-batch training\n",
      "14 Nov 17:45    INFO  Epoch 159 | Train Loss 1.8527\n"
     ]
    },
    {
     "name": "stdout",
     "output_type": "stream",
     "text": [
      "torch.Size([544244, 128])\n",
      "tensor([0.1164], grad_fn=<AddBackward0>)\n"
     ]
    },
    {
     "name": "stderr",
     "output_type": "stream",
     "text": [
      " 80%|████████  | 160/200 [2:41:59<33:38, 50.47s/it]14 Nov 17:45    INFO  Epoch 160 | full-batch training\n",
      "14 Nov 17:45    INFO  Epoch 160 | Train Loss 1.8487\n"
     ]
    },
    {
     "name": "stdout",
     "output_type": "stream",
     "text": [
      "torch.Size([544244, 128])\n",
      "tensor([0.1144], grad_fn=<AddBackward0>)\n"
     ]
    },
    {
     "name": "stderr",
     "output_type": "stream",
     "text": [
      "14 Nov 17:46    INFO  Start evaling\n"
     ]
    },
    {
     "name": "stdout",
     "output_type": "stream",
     "text": [
      "((0.676017233240774, 0.6618179282941522), (0.2837455605010294, 0.15296676929138558), (0.556543537678419, 0.5163435923519046))\n"
     ]
    },
    {
     "name": "stderr",
     "output_type": "stream",
     "text": [
      " 80%|████████  | 161/200 [2:44:04<47:26, 72.98s/it]14 Nov 17:47    INFO  Epoch 161 | full-batch training\n",
      "14 Nov 17:48    INFO  Epoch 161 | Train Loss 1.8453\n"
     ]
    },
    {
     "name": "stdout",
     "output_type": "stream",
     "text": [
      "torch.Size([544244, 128])\n",
      "tensor([0.1172], grad_fn=<AddBackward0>)\n"
     ]
    },
    {
     "name": "stderr",
     "output_type": "stream",
     "text": [
      " 81%|████████  | 162/200 [2:44:48<40:36, 64.11s/it]14 Nov 17:48    INFO  Epoch 162 | full-batch training\n",
      "14 Nov 17:48    INFO  Epoch 162 | Train Loss 1.8387\n"
     ]
    },
    {
     "name": "stdout",
     "output_type": "stream",
     "text": [
      "torch.Size([544244, 128])\n",
      "tensor([0.1152], grad_fn=<AddBackward0>)\n"
     ]
    },
    {
     "name": "stderr",
     "output_type": "stream",
     "text": [
      " 82%|████████▏ | 163/200 [2:45:31<35:36, 57.75s/it]14 Nov 17:49    INFO  Epoch 163 | full-batch training\n",
      "14 Nov 17:49    INFO  Epoch 163 | Train Loss 1.8354\n"
     ]
    },
    {
     "name": "stdout",
     "output_type": "stream",
     "text": [
      "torch.Size([544244, 128])\n",
      "tensor([0.1149], grad_fn=<AddBackward0>)\n"
     ]
    },
    {
     "name": "stderr",
     "output_type": "stream",
     "text": [
      " 82%|████████▏ | 164/200 [2:46:14<32:05, 53.48s/it]14 Nov 17:49    INFO  Epoch 164 | full-batch training\n",
      "14 Nov 17:50    INFO  Epoch 164 | Train Loss 1.8327\n"
     ]
    },
    {
     "name": "stdout",
     "output_type": "stream",
     "text": [
      "torch.Size([544244, 128])\n",
      "tensor([0.1160], grad_fn=<AddBackward0>)\n"
     ]
    },
    {
     "name": "stderr",
     "output_type": "stream",
     "text": [
      " 82%|████████▎ | 165/200 [2:46:58<29:24, 50.42s/it]14 Nov 17:50    INFO  Epoch 165 | full-batch training\n",
      "14 Nov 17:50    INFO  Epoch 165 | Train Loss 1.8264\n"
     ]
    },
    {
     "name": "stdout",
     "output_type": "stream",
     "text": [
      "torch.Size([544244, 128])\n",
      "tensor([0.1141], grad_fn=<AddBackward0>)\n"
     ]
    },
    {
     "name": "stderr",
     "output_type": "stream",
     "text": [
      "14 Nov 17:51    INFO  Start evaling\n"
     ]
    },
    {
     "name": "stdout",
     "output_type": "stream",
     "text": [
      "((0.6763873146557791, 0.6633295607120949), (0.2833817221830053, 0.15305266784297902), (0.5580321128412843, 0.5153104745278768))\n"
     ]
    },
    {
     "name": "stderr",
     "output_type": "stream",
     "text": [
      " 83%|████████▎ | 166/200 [2:49:03<41:23, 73.05s/it]14 Nov 17:52    INFO  Epoch 166 | full-batch training\n",
      "14 Nov 17:52    INFO  Epoch 166 | Train Loss 1.8238\n"
     ]
    },
    {
     "name": "stdout",
     "output_type": "stream",
     "text": [
      "torch.Size([544244, 128])\n",
      "tensor([0.1148], grad_fn=<AddBackward0>)\n"
     ]
    },
    {
     "name": "stderr",
     "output_type": "stream",
     "text": [
      " 84%|████████▎ | 167/200 [2:49:48<35:24, 64.39s/it]14 Nov 17:53    INFO  Epoch 167 | full-batch training\n",
      "14 Nov 17:53    INFO  Epoch 167 | Train Loss 1.8207\n"
     ]
    },
    {
     "name": "stdout",
     "output_type": "stream",
     "text": [
      "torch.Size([544244, 128])\n",
      "tensor([0.1159], grad_fn=<AddBackward0>)\n"
     ]
    },
    {
     "name": "stderr",
     "output_type": "stream",
     "text": [
      " 84%|████████▍ | 168/200 [2:50:31<30:58, 58.08s/it]14 Nov 17:54    INFO  Epoch 168 | full-batch training\n",
      "14 Nov 17:54    INFO  Epoch 168 | Train Loss 1.8210\n"
     ]
    },
    {
     "name": "stdout",
     "output_type": "stream",
     "text": [
      "torch.Size([544244, 128])\n",
      "tensor([0.1130], grad_fn=<AddBackward0>)\n"
     ]
    },
    {
     "name": "stderr",
     "output_type": "stream",
     "text": [
      " 84%|████████▍ | 169/200 [2:51:14<27:42, 53.64s/it]14 Nov 17:54    INFO  Epoch 169 | full-batch training\n",
      "14 Nov 17:55    INFO  Epoch 169 | Train Loss 1.8183\n"
     ]
    },
    {
     "name": "stdout",
     "output_type": "stream",
     "text": [
      "torch.Size([544244, 128])\n",
      "tensor([0.1164], grad_fn=<AddBackward0>)\n"
     ]
    },
    {
     "name": "stderr",
     "output_type": "stream",
     "text": [
      " 85%|████████▌ | 170/200 [2:51:58<25:19, 50.64s/it]14 Nov 17:55    INFO  Epoch 170 | full-batch training\n",
      "14 Nov 17:55    INFO  Epoch 170 | Train Loss 1.8202\n"
     ]
    },
    {
     "name": "stdout",
     "output_type": "stream",
     "text": [
      "torch.Size([544244, 128])\n",
      "tensor([0.1140], grad_fn=<AddBackward0>)\n"
     ]
    },
    {
     "name": "stderr",
     "output_type": "stream",
     "text": [
      "14 Nov 17:56    INFO  Start evaling\n"
     ]
    },
    {
     "name": "stdout",
     "output_type": "stream",
     "text": [
      "((0.6815817969408471, 0.6660488515368274), (0.28219491453354856, 0.14881078673262524), (0.5589026044575877, 0.5184513515103426))\n"
     ]
    },
    {
     "name": "stderr",
     "output_type": "stream",
     "text": [
      " 86%|████████▌ | 171/200 [2:54:04<35:26, 73.32s/it]14 Nov 17:57    INFO  Epoch 171 | full-batch training\n",
      "14 Nov 17:57    INFO  Epoch 171 | Train Loss 1.8065\n"
     ]
    },
    {
     "name": "stdout",
     "output_type": "stream",
     "text": [
      "torch.Size([544244, 128])\n",
      "tensor([0.1140], grad_fn=<AddBackward0>)\n"
     ]
    },
    {
     "name": "stderr",
     "output_type": "stream",
     "text": [
      " 86%|████████▌ | 172/200 [2:54:47<30:01, 64.33s/it]14 Nov 17:58    INFO  Epoch 172 | full-batch training\n",
      "14 Nov 17:58    INFO  Epoch 172 | Train Loss 1.7996\n"
     ]
    },
    {
     "name": "stdout",
     "output_type": "stream",
     "text": [
      "torch.Size([544244, 128])\n",
      "tensor([0.1120], grad_fn=<AddBackward0>)\n"
     ]
    },
    {
     "name": "stderr",
     "output_type": "stream",
     "text": [
      " 86%|████████▋ | 173/200 [2:55:31<26:09, 58.12s/it]14 Nov 17:59    INFO  Epoch 173 | full-batch training\n",
      "14 Nov 17:59    INFO  Epoch 173 | Train Loss 1.8002\n"
     ]
    },
    {
     "name": "stdout",
     "output_type": "stream",
     "text": [
      "torch.Size([544244, 128])\n",
      "tensor([0.1130], grad_fn=<AddBackward0>)\n"
     ]
    },
    {
     "name": "stderr",
     "output_type": "stream",
     "text": [
      " 87%|████████▋ | 174/200 [2:56:14<23:13, 53.60s/it]14 Nov 17:59    INFO  Epoch 174 | full-batch training\n",
      "14 Nov 18:00    INFO  Epoch 174 | Train Loss 1.7960\n"
     ]
    },
    {
     "name": "stdout",
     "output_type": "stream",
     "text": [
      "torch.Size([544244, 128])\n",
      "tensor([0.1139], grad_fn=<AddBackward0>)\n"
     ]
    },
    {
     "name": "stderr",
     "output_type": "stream",
     "text": [
      " 88%|████████▊ | 175/200 [2:56:57<21:02, 50.51s/it]14 Nov 18:00    INFO  Epoch 175 | full-batch training\n",
      "14 Nov 18:00    INFO  Epoch 175 | Train Loss 1.7921\n"
     ]
    },
    {
     "name": "stdout",
     "output_type": "stream",
     "text": [
      "torch.Size([544244, 128])\n",
      "tensor([0.1115], grad_fn=<AddBackward0>)\n"
     ]
    },
    {
     "name": "stderr",
     "output_type": "stream",
     "text": [
      "14 Nov 18:01    INFO  Start evaling\n"
     ]
    },
    {
     "name": "stdout",
     "output_type": "stream",
     "text": [
      "((0.6871841461479394, 0.6751666482683125), (0.27777021067013374, 0.14465480562839925), (0.5603931314463398, 0.5221663797367391))\n"
     ]
    },
    {
     "name": "stderr",
     "output_type": "stream",
     "text": [
      " 88%|████████▊ | 176/200 [2:59:03<29:13, 73.07s/it]14 Nov 18:02    INFO  Epoch 176 | full-batch training\n",
      "14 Nov 18:02    INFO  Epoch 176 | Train Loss 1.7845\n"
     ]
    },
    {
     "name": "stdout",
     "output_type": "stream",
     "text": [
      "torch.Size([544244, 128])\n",
      "tensor([0.1130], grad_fn=<AddBackward0>)\n"
     ]
    },
    {
     "name": "stderr",
     "output_type": "stream",
     "text": [
      " 88%|████████▊ | 177/200 [2:59:47<24:35, 64.17s/it]14 Nov 18:03    INFO  Epoch 177 | full-batch training\n",
      "14 Nov 18:03    INFO  Epoch 177 | Train Loss 1.7804\n"
     ]
    },
    {
     "name": "stdout",
     "output_type": "stream",
     "text": [
      "torch.Size([544244, 128])\n",
      "tensor([0.1127], grad_fn=<AddBackward0>)\n"
     ]
    },
    {
     "name": "stderr",
     "output_type": "stream",
     "text": [
      " 89%|████████▉ | 178/200 [3:00:29<21:10, 57.76s/it]14 Nov 18:04    INFO  Epoch 178 | full-batch training\n",
      "14 Nov 18:04    INFO  Epoch 178 | Train Loss 1.7798\n"
     ]
    },
    {
     "name": "stdout",
     "output_type": "stream",
     "text": [
      "torch.Size([544244, 128])\n",
      "tensor([0.1107], grad_fn=<AddBackward0>)\n"
     ]
    },
    {
     "name": "stderr",
     "output_type": "stream",
     "text": [
      " 90%|████████▉ | 179/200 [3:01:13<18:42, 53.46s/it]14 Nov 18:04    INFO  Epoch 179 | full-batch training\n",
      "14 Nov 18:05    INFO  Epoch 179 | Train Loss 1.7761\n"
     ]
    },
    {
     "name": "stdout",
     "output_type": "stream",
     "text": [
      "torch.Size([544244, 128])\n",
      "tensor([0.1127], grad_fn=<AddBackward0>)\n"
     ]
    },
    {
     "name": "stderr",
     "output_type": "stream",
     "text": [
      " 90%|█████████ | 180/200 [3:01:55<16:44, 50.24s/it]14 Nov 18:05    INFO  Epoch 180 | full-batch training\n",
      "14 Nov 18:05    INFO  Epoch 180 | Train Loss 1.7718\n"
     ]
    },
    {
     "name": "stdout",
     "output_type": "stream",
     "text": [
      "torch.Size([544244, 128])\n",
      "tensor([0.1113], grad_fn=<AddBackward0>)\n"
     ]
    },
    {
     "name": "stderr",
     "output_type": "stream",
     "text": [
      "14 Nov 18:06    INFO  Start evaling\n"
     ]
    },
    {
     "name": "stdout",
     "output_type": "stream",
     "text": [
      "((0.6904711707017934, 0.6787855629738183), (0.27668813819294197, 0.14188848038250798), (0.5609056279507052, 0.5241301545487439))\n"
     ]
    },
    {
     "name": "stderr",
     "output_type": "stream",
     "text": [
      " 90%|█████████ | 181/200 [3:04:01<23:01, 72.73s/it]14 Nov 18:07    INFO  Epoch 181 | full-batch training\n",
      "14 Nov 18:07    INFO  Epoch 181 | Train Loss 1.7641\n"
     ]
    },
    {
     "name": "stdout",
     "output_type": "stream",
     "text": [
      "torch.Size([544244, 128])\n",
      "tensor([0.1111], grad_fn=<AddBackward0>)\n"
     ]
    },
    {
     "name": "stderr",
     "output_type": "stream",
     "text": [
      " 91%|█████████ | 182/200 [3:04:44<19:10, 63.89s/it]14 Nov 18:08    INFO  Epoch 182 | full-batch training\n",
      "14 Nov 18:08    INFO  Epoch 182 | Train Loss 1.7614\n"
     ]
    },
    {
     "name": "stdout",
     "output_type": "stream",
     "text": [
      "torch.Size([544244, 128])\n",
      "tensor([0.1113], grad_fn=<AddBackward0>)\n"
     ]
    },
    {
     "name": "stderr",
     "output_type": "stream",
     "text": [
      " 92%|█████████▏| 183/200 [3:05:27<16:19, 57.64s/it]14 Nov 18:09    INFO  Epoch 183 | full-batch training\n",
      "14 Nov 18:09    INFO  Epoch 183 | Train Loss 1.7613\n"
     ]
    },
    {
     "name": "stdout",
     "output_type": "stream",
     "text": [
      "torch.Size([544244, 128])\n",
      "tensor([0.1105], grad_fn=<AddBackward0>)\n"
     ]
    },
    {
     "name": "stderr",
     "output_type": "stream",
     "text": [
      " 92%|█████████▏| 184/200 [3:06:11<14:15, 53.47s/it]14 Nov 18:09    INFO  Epoch 184 | full-batch training\n",
      "14 Nov 18:10    INFO  Epoch 184 | Train Loss 1.7559\n"
     ]
    },
    {
     "name": "stdout",
     "output_type": "stream",
     "text": [
      "torch.Size([544244, 128])\n",
      "tensor([0.1116], grad_fn=<AddBackward0>)\n"
     ]
    },
    {
     "name": "stderr",
     "output_type": "stream",
     "text": [
      " 92%|█████████▎| 185/200 [3:06:54<12:36, 50.44s/it]14 Nov 18:10    INFO  Epoch 185 | full-batch training\n",
      "14 Nov 18:10    INFO  Epoch 185 | Train Loss 1.7526\n"
     ]
    },
    {
     "name": "stdout",
     "output_type": "stream",
     "text": [
      "torch.Size([544244, 128])\n",
      "tensor([0.1105], grad_fn=<AddBackward0>)\n"
     ]
    },
    {
     "name": "stderr",
     "output_type": "stream",
     "text": [
      "14 Nov 18:11    INFO  Start evaling\n"
     ]
    },
    {
     "name": "stdout",
     "output_type": "stream",
     "text": [
      "((0.6930775932810672, 0.6800738472016352), (0.2761656664914338, 0.14042960041952562), (0.5620001154837955, 0.5255457526102403))\n"
     ]
    },
    {
     "name": "stderr",
     "output_type": "stream",
     "text": [
      " 93%|█████████▎| 186/200 [3:09:00<17:03, 73.09s/it]14 Nov 18:12    INFO  Epoch 186 | full-batch training\n",
      "14 Nov 18:12    INFO  Epoch 186 | Train Loss 1.7482\n"
     ]
    },
    {
     "name": "stdout",
     "output_type": "stream",
     "text": [
      "torch.Size([544244, 128])\n",
      "tensor([0.1115], grad_fn=<AddBackward0>)\n"
     ]
    },
    {
     "name": "stderr",
     "output_type": "stream",
     "text": [
      " 94%|█████████▎| 187/200 [3:09:44<13:54, 64.22s/it]14 Nov 18:13    INFO  Epoch 187 | full-batch training\n",
      "14 Nov 18:13    INFO  Epoch 187 | Train Loss 1.7441\n"
     ]
    },
    {
     "name": "stdout",
     "output_type": "stream",
     "text": [
      "torch.Size([544244, 128])\n",
      "tensor([0.1103], grad_fn=<AddBackward0>)\n"
     ]
    },
    {
     "name": "stderr",
     "output_type": "stream",
     "text": [
      " 94%|█████████▍| 188/200 [3:10:27<11:35, 57.94s/it]14 Nov 18:14    INFO  Epoch 188 | full-batch training\n",
      "14 Nov 18:14    INFO  Epoch 188 | Train Loss 1.7391\n"
     ]
    },
    {
     "name": "stdout",
     "output_type": "stream",
     "text": [
      "torch.Size([544244, 128])\n",
      "tensor([0.1095], grad_fn=<AddBackward0>)\n"
     ]
    },
    {
     "name": "stderr",
     "output_type": "stream",
     "text": [
      " 94%|█████████▍| 189/200 [3:11:10<09:47, 53.43s/it]14 Nov 18:14    INFO  Epoch 189 | full-batch training\n",
      "14 Nov 18:15    INFO  Epoch 189 | Train Loss 1.7347\n"
     ]
    },
    {
     "name": "stdout",
     "output_type": "stream",
     "text": [
      "torch.Size([544244, 128])\n",
      "tensor([0.1103], grad_fn=<AddBackward0>)\n"
     ]
    },
    {
     "name": "stderr",
     "output_type": "stream",
     "text": [
      " 95%|█████████▌| 190/200 [3:11:54<08:25, 50.54s/it]14 Nov 18:15    INFO  Epoch 190 | full-batch training\n",
      "14 Nov 18:15    INFO  Epoch 190 | Train Loss 1.7332\n"
     ]
    },
    {
     "name": "stdout",
     "output_type": "stream",
     "text": [
      "torch.Size([544244, 128])\n",
      "tensor([0.1102], grad_fn=<AddBackward0>)\n"
     ]
    },
    {
     "name": "stderr",
     "output_type": "stream",
     "text": [
      "14 Nov 18:16    INFO  Start evaling\n"
     ]
    },
    {
     "name": "stdout",
     "output_type": "stream",
     "text": [
      "((0.6979784681839328, 0.6858529459080221), (0.2723671619660182, 0.13531363430713272), (0.562508176691022, 0.5265640452326993))\n"
     ]
    },
    {
     "name": "stderr",
     "output_type": "stream",
     "text": [
      " 96%|█████████▌| 191/200 [3:13:59<10:58, 73.15s/it]14 Nov 18:17    INFO  Epoch 191 | full-batch training\n",
      "14 Nov 18:17    INFO  Epoch 191 | Train Loss 1.7309\n"
     ]
    },
    {
     "name": "stdout",
     "output_type": "stream",
     "text": [
      "torch.Size([544244, 128])\n",
      "tensor([0.1099], grad_fn=<AddBackward0>)\n"
     ]
    },
    {
     "name": "stderr",
     "output_type": "stream",
     "text": [
      " 96%|█████████▌| 192/200 [3:14:43<08:35, 64.39s/it]14 Nov 18:18    INFO  Epoch 192 | full-batch training\n",
      "14 Nov 18:18    INFO  Epoch 192 | Train Loss 1.7273\n"
     ]
    },
    {
     "name": "stdout",
     "output_type": "stream",
     "text": [
      "torch.Size([544244, 128])\n",
      "tensor([0.1093], grad_fn=<AddBackward0>)\n"
     ]
    },
    {
     "name": "stderr",
     "output_type": "stream",
     "text": [
      " 96%|█████████▋| 193/200 [3:15:27<06:46, 58.03s/it]14 Nov 18:19    INFO  Epoch 193 | full-batch training\n",
      "14 Nov 18:19    INFO  Epoch 193 | Train Loss 1.7245\n"
     ]
    },
    {
     "name": "stdout",
     "output_type": "stream",
     "text": [
      "torch.Size([544244, 128])\n",
      "tensor([0.1103], grad_fn=<AddBackward0>)\n"
     ]
    },
    {
     "name": "stderr",
     "output_type": "stream",
     "text": [
      " 97%|█████████▋| 194/200 [3:16:10<05:22, 53.70s/it]14 Nov 18:19    INFO  Epoch 194 | full-batch training\n",
      "14 Nov 18:20    INFO  Epoch 194 | Train Loss 1.7267\n"
     ]
    },
    {
     "name": "stdout",
     "output_type": "stream",
     "text": [
      "torch.Size([544244, 128])\n",
      "tensor([0.1089], grad_fn=<AddBackward0>)\n"
     ]
    },
    {
     "name": "stderr",
     "output_type": "stream",
     "text": [
      " 98%|█████████▊| 195/200 [3:16:54<04:13, 50.64s/it]14 Nov 18:20    INFO  Epoch 195 | full-batch training\n",
      "14 Nov 18:20    INFO  Epoch 195 | Train Loss 1.7245\n"
     ]
    },
    {
     "name": "stdout",
     "output_type": "stream",
     "text": [
      "torch.Size([544244, 128])\n",
      "tensor([0.1114], grad_fn=<AddBackward0>)\n"
     ]
    },
    {
     "name": "stderr",
     "output_type": "stream",
     "text": [
      "14 Nov 18:21    INFO  Start evaling\n"
     ]
    },
    {
     "name": "stdout",
     "output_type": "stream",
     "text": [
      "((0.6946179319295722, 0.683986127798849), (0.2716233845601591, 0.13716646886023634), (0.5605742037662337, 0.5245365777517226))\n"
     ]
    },
    {
     "name": "stderr",
     "output_type": "stream",
     "text": [
      " 98%|█████████▊| 196/200 [3:19:00<04:52, 73.21s/it]14 Nov 18:22    INFO  Epoch 196 | full-batch training\n",
      "14 Nov 18:22    INFO  Epoch 196 | Train Loss 1.7222\n"
     ]
    },
    {
     "name": "stdout",
     "output_type": "stream",
     "text": [
      "torch.Size([544244, 128])\n",
      "tensor([0.1088], grad_fn=<AddBackward0>)\n"
     ]
    },
    {
     "name": "stderr",
     "output_type": "stream",
     "text": [
      " 98%|█████████▊| 197/200 [3:19:44<03:13, 64.49s/it]14 Nov 18:23    INFO  Epoch 197 | full-batch training\n",
      "14 Nov 18:23    INFO  Epoch 197 | Train Loss 1.7135\n"
     ]
    },
    {
     "name": "stdout",
     "output_type": "stream",
     "text": [
      "torch.Size([544244, 128])\n",
      "tensor([0.1093], grad_fn=<AddBackward0>)\n"
     ]
    },
    {
     "name": "stderr",
     "output_type": "stream",
     "text": [
      " 99%|█████████▉| 198/200 [3:20:27<01:56, 58.18s/it]14 Nov 18:24    INFO  Epoch 198 | full-batch training\n",
      "14 Nov 18:24    INFO  Epoch 198 | Train Loss 1.7066\n"
     ]
    },
    {
     "name": "stdout",
     "output_type": "stream",
     "text": [
      "torch.Size([544244, 128])\n",
      "tensor([0.1084], grad_fn=<AddBackward0>)\n"
     ]
    },
    {
     "name": "stderr",
     "output_type": "stream",
     "text": [
      "100%|█████████▉| 199/200 [3:21:10<00:53, 53.67s/it]14 Nov 18:24    INFO  Epoch 199 | full-batch training\n",
      "14 Nov 18:25    INFO  Epoch 199 | Train Loss 1.7031\n"
     ]
    },
    {
     "name": "stdout",
     "output_type": "stream",
     "text": [
      "torch.Size([544244, 128])\n",
      "tensor([0.1080], grad_fn=<AddBackward0>)\n"
     ]
    },
    {
     "name": "stderr",
     "output_type": "stream",
     "text": [
      "100%|██████████| 200/200 [3:21:54<00:00, 60.57s/it]\n"
     ]
    }
   ],
   "source": [
    "experiment.run()"
   ]
  },
  {
   "cell_type": "code",
   "execution_count": null,
   "metadata": {},
   "outputs": [],
   "source": []
  }
 ],
 "metadata": {
  "kernelspec": {
   "display_name": "w2",
   "language": "python",
   "name": "python3"
  },
  "language_info": {
   "codemirror_mode": {
    "name": "ipython",
    "version": 3
   },
   "file_extension": ".py",
   "mimetype": "text/x-python",
   "name": "python",
   "nbconvert_exporter": "python",
   "pygments_lexer": "ipython3",
   "version": "3.11.6"
  }
 },
 "nbformat": 4,
 "nbformat_minor": 2
}
