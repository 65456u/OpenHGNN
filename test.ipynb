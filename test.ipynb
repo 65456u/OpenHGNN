{
 "cells": [
  {
   "cell_type": "code",
   "execution_count": 1,
   "metadata": {},
   "outputs": [],
   "source": [
    "import openhgnn\n",
    "from openhgnn.trainerflow import KTNTrainer"
   ]
  },
  {
   "cell_type": "code",
   "execution_count": 2,
   "metadata": {},
   "outputs": [
    {
     "name": "stdout",
     "output_type": "stream",
     "text": [
      "------------------------------------------------------------------------------\n",
      " Basic setup of this experiment: \n",
      "     model: HMPNN    \n",
      "     dataset: OAG_CS   \n",
      "     task: ktn. \n",
      " This experiment has following parameters. You can use set_params to edit them.\n",
      " Use print(experiment) to print this information again.\n",
      "------------------------------------------------------------------------------\n",
      "batch_size: 3072\n",
      "dataset_name: OAG_CS\n",
      "device: cpu\n",
      "evaluate_interval: 10\n",
      "feature_name: feat\n",
      "gpu: -1\n",
      "hid_dim: 128\n",
      "hpo_search_space: None\n",
      "hpo_trials: 100\n",
      "in_dim: 1169\n",
      "load_from_pretrained: False\n",
      "lr: 0.0001\n",
      "matching_coeff: 1\n",
      "max_epoch: 200\n",
      "mini_batch_flag: False\n",
      "model_name: HMPNN\n",
      "num_layers: 4\n",
      "optimizer: Adam\n",
      "out_dim: 128\n",
      "output_dir: ./openhgnn/output/HMPNN\n",
      "patience: 10\n",
      "ranking: True\n",
      "rel_dim: 128\n",
      "seed: 0\n",
      "source_test_batch: 50\n",
      "source_train_batch: 200\n",
      "source_type: paper\n",
      "target_test_batch: 50\n",
      "target_type: author\n",
      "task_type: L1\n",
      "test_batch: 50\n",
      "train_batch: 200\n",
      "use_best_config: False\n",
      "use_matching_loss: True\n",
      "\n"
     ]
    }
   ],
   "source": [
    "from openhgnn import Experiment\n",
    "\n",
    "experiment = Experiment(\n",
    "    model=\"HMPNN\",\n",
    "    dataset=\"OAG_CS\",\n",
    "    task=\"ktn\",\n",
    "    gpu=0-1,\n",
    "    lr=0.0001,\n",
    "    max_epoch=200,\n",
    "    num_layers=4,\n",
    "    task_type=\"L1\",\n",
    "    source_type=\"paper\",\n",
    "    target_type=\"author\",\n",
    "    in_dim=1169,\n",
    "    hid_dim=128,\n",
    "    out_dim=128,\n",
    "    rel_dim=128,\n",
    "    batch_size=3072,\n",
    "    use_matching_loss=True,\n",
    "    matching_coeff=1,\n",
    "    mini_batch_flag=False,\n",
    "    evaluate_interval=10,\n",
    "    ranking=True,\n",
    "    source_train_batch=200,\n",
    "    source_test_batch=50,\n",
    "    target_test_batch=50,\n",
    "    feature_name=\"feat\",\n",
    "    patience=10,\n",
    "    \n",
    ")"
   ]
  },
  {
   "cell_type": "code",
   "execution_count": 3,
   "metadata": {},
   "outputs": [
    {
     "name": "stderr",
     "output_type": "stream",
     "text": [
      "19 Nov 08:04    INFO  [Config Info]\tModel: HMPNN,\tTask: ktn,\tDataset: OAG_CS\n"
     ]
    },
    {
     "name": "stdout",
     "output_type": "stream",
     "text": [
      "KTN_trainer\n",
      "starting ktn task\n",
      "Loading dataset oag_cs\n",
      "initing hmpnn model\n",
      "275\n"
     ]
    },
    {
     "name": "stderr",
     "output_type": "stream",
     "text": [
      "  0%|          | 0/200 [00:00<?, ?it/s]19 Nov 08:05    INFO  [Train Info] Epoch 0 | Train Loss 5.112042427062988 | Matching Loss 0.18410624563694 | Source NDCG 0.2664 | Source MRR 0.0638 | Target NDCG 0.2151 | Target MRR 0.0175 | KTN NDCG 0.2050 | KTN MRR 0.0145\n",
      "  5%|▌         | 10/200 [01:21<24:23,  7.70s/it]19 Nov 08:06    INFO  [Train Info] Epoch 10 | Train Loss 4.9040632247924805 | Matching Loss 0.055074770003557205 | Source NDCG 0.4030 | Source MRR 0.2496 | Target NDCG 0.2135 | Target MRR 0.0178 | KTN NDCG 0.2098 | KTN MRR 0.0168\n",
      "  8%|▊         | 17/200 [02:19<23:20,  7.66s/it]"
     ]
    }
   ],
   "source": [
    "experiment.run()"
   ]
  },
  {
   "cell_type": "code",
   "execution_count": null,
   "metadata": {},
   "outputs": [],
   "source": []
  }
 ],
 "metadata": {
  "kernelspec": {
   "display_name": "w2",
   "language": "python",
   "name": "python3"
  },
  "language_info": {
   "codemirror_mode": {
    "name": "ipython",
    "version": 3
   },
   "file_extension": ".py",
   "mimetype": "text/x-python",
   "name": "python",
   "nbconvert_exporter": "python",
   "pygments_lexer": "ipython3",
   "version": "3.11.6"
  }
 },
 "nbformat": 4,
 "nbformat_minor": 2
}
