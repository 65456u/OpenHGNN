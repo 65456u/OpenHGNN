{
 "cells": [
  {
   "cell_type": "code",
   "execution_count": 1,
   "metadata": {},
   "outputs": [],
   "source": [
    "import openhgnn"
   ]
  },
  {
   "cell_type": "code",
   "execution_count": 2,
   "metadata": {},
   "outputs": [
    {
     "name": "stdout",
     "output_type": "stream",
     "text": [
      "------------------------------------------------------------------------------\n",
      " Basic setup of this experiment: \n",
      "     model: HMPNN    \n",
      "     dataset: OAG_CS   \n",
      "     task: ktn. \n",
      " This experiment has following parameters. You can use set_params to edit them.\n",
      " Use print(experiment) to print this information again.\n",
      "------------------------------------------------------------------------------\n",
      "batch_size: 64\n",
      "dataset_name: OAG_CS\n",
      "device: cpu\n",
      "evaluate_interval: 5\n",
      "gpu: -1\n",
      "hid_dim: 128\n",
      "hpo_search_space: None\n",
      "hpo_trials: 100\n",
      "in_dim: 1169\n",
      "load_from_pretrained: False\n",
      "lr: 0.001\n",
      "matching_coeff: 1\n",
      "max_epoch: 200\n",
      "mini_batch_flag: True\n",
      "model_name: HMPNN\n",
      "num_layers: 4\n",
      "optimizer: Adam\n",
      "out_dim: 128\n",
      "output_dir: ./openhgnn/output/HMPNN\n",
      "patience: 1\n",
      "ranking: True\n",
      "rel_dim: 128\n",
      "seed: 0\n",
      "source_test_batch: 50\n",
      "source_train_batch: 200\n",
      "source_type: paper\n",
      "target_test_batch: 50\n",
      "target_train_batch: 2\n",
      "target_type: author\n",
      "task_type: L1\n",
      "test_batch: 50\n",
      "train_batch: 200\n",
      "use_best_config: False\n",
      "use_matching_loss: True\n",
      "\n"
     ]
    }
   ],
   "source": [
    "from openhgnn import Experiment\n",
    "\n",
    "experiment = Experiment(\n",
    "    model=\"HMPNN\",\n",
    "    dataset=\"OAG_CS\",\n",
    "    task=\"ktn\",\n",
    "    gpu=-1,\n",
    "    lr=0.001,\n",
    "    max_epoch=200,\n",
    "    num_layers=4,\n",
    "    task_type=\"L1\",\n",
    "    source_type=\"paper\",\n",
    "    target_type=\"author\",\n",
    "    in_dim=1169,\n",
    "    hid_dim=128,\n",
    "    out_dim=128,\n",
    "    rel_dim=128,\n",
    "    batch_size=64,\n",
    "    use_matching_loss=True,\n",
    "    matching_coeff=1,\n",
    "    mini_batch_flag=True,\n",
    "    evaluate_interval=5,\n",
    "    ranking=True,\n",
    "    source_train_batch=200,\n",
    "    target_train_batch=2,\n",
    "    source_test_batch=50,\n",
    "    target_test_batch=50,\n",
    ")"
   ]
  },
  {
   "cell_type": "code",
   "execution_count": 3,
   "metadata": {},
   "outputs": [
    {
     "name": "stderr",
     "output_type": "stream",
     "text": [
      "16 Nov 14:08    INFO  [Config Info]\tModel: HMPNN,\tTask: ktn,\tDataset: OAG_CS\n"
     ]
    },
    {
     "name": "stdout",
     "output_type": "stream",
     "text": [
      "KTN_trainer\n",
      "starting ktn task\n",
      "Loading dataset oag_cs\n",
      "initing hmpnn model\n"
     ]
    },
    {
     "name": "stderr",
     "output_type": "stream",
     "text": [
      "  0%|          | 0/200 [00:00<?, ?it/s]16 Nov 14:08    INFO  Epoch 0 | mini-batch training\n",
      "\n",
      "  0%|                                                                                          | 0/2001 [00:00<?, ?it/s]/home/lacuna42/miniforge3/envs/t/lib/python3.11/site-packages/dgl/dataloading/dataloader.py:1149: DGLWarning: Dataloader CPU affinity opt is not enabled, consider switching it on (see enable_cpu_affinity() or CPU best practices for DGL [https://docs.dgl.ai/tutorials/cpu/cpu_best_practises.html])\n",
      "  dgl_warning(\n",
      "\n",
      "  0%|                                                                                  | 1/2001 [00:00<12:26,  2.68it/s]\n",
      "  0%|                                                                                  | 2/2001 [00:00<07:13,  4.61it/s]\n",
      "  0%|                                                                                  | 3/2001 [00:00<05:27,  6.09it/s]\n",
      "  0%|▏                                                                                 | 4/2001 [00:00<04:37,  7.19it/s]\n",
      "  0%|▏                                                                                 | 6/2001 [00:00<03:48,  8.75it/s]\n",
      "  0%|▎                                                                                 | 8/2001 [00:01<03:31,  9.44it/s]\n",
      "  0%|▍                                                                                | 10/2001 [00:01<03:19,  9.96it/s]\n",
      "  1%|▍                                                                                | 12/2001 [00:01<03:14, 10.22it/s]\n",
      "  1%|▌                                                                                | 14/2001 [00:01<03:08, 10.54it/s]\n",
      "  1%|▋                                                                                | 16/2001 [00:01<03:05, 10.67it/s]\n",
      "  1%|▋                                                                                | 18/2001 [00:01<03:03, 10.79it/s]\n",
      "  1%|▊                                                                                | 20/2001 [00:02<03:00, 10.95it/s]\n",
      "  1%|▉                                                                                | 22/2001 [00:02<03:00, 10.99it/s]\n",
      "  1%|▉                                                                                | 24/2001 [00:02<02:59, 11.03it/s]\n",
      "  1%|█                                                                                | 26/2001 [00:02<02:57, 11.10it/s]\n",
      "  1%|█▏                                                                               | 28/2001 [00:02<02:57, 11.12it/s]\n",
      "  1%|█▏                                                                               | 30/2001 [00:03<02:56, 11.17it/s]\n",
      "  2%|█▎                                                                               | 32/2001 [00:03<02:54, 11.25it/s]\n",
      "  2%|█▍                                                                               | 34/2001 [00:03<02:59, 10.93it/s]\n",
      "  2%|█▍                                                                               | 36/2001 [00:03<02:59, 10.97it/s]\n",
      "  2%|█▌                                                                               | 38/2001 [00:03<02:57, 11.05it/s]\n",
      "  2%|█▌                                                                               | 40/2001 [00:03<02:57, 11.03it/s]\n",
      "  2%|█▋                                                                               | 42/2001 [00:04<02:57, 11.01it/s]\n",
      "  2%|█▊                                                                               | 44/2001 [00:04<02:56, 11.08it/s]\n",
      "  2%|█▊                                                                               | 46/2001 [00:04<03:00, 10.85it/s]\n",
      "  2%|█▉                                                                               | 48/2001 [00:04<02:59, 10.90it/s]\n",
      "  2%|██                                                                               | 50/2001 [00:04<02:58, 10.94it/s]\n",
      "  3%|██                                                                               | 52/2001 [00:05<02:57, 11.00it/s]\n",
      "  3%|██▏                                                                              | 54/2001 [00:05<02:56, 11.05it/s]\n",
      "  3%|██▎                                                                              | 56/2001 [00:05<02:55, 11.11it/s]\n",
      "  3%|██▎                                                                              | 58/2001 [00:05<02:53, 11.18it/s]\n",
      "  3%|██▍                                                                              | 60/2001 [00:05<02:53, 11.18it/s]\n",
      "  3%|██▌                                                                              | 62/2001 [00:05<02:52, 11.27it/s]\n",
      "  3%|██▌                                                                              | 64/2001 [00:06<02:51, 11.31it/s]\n",
      "  3%|██▋                                                                              | 66/2001 [00:06<02:55, 11.03it/s]\n",
      "  3%|██▊                                                                              | 68/2001 [00:06<03:14,  9.92it/s]\n",
      "  3%|██▊                                                                              | 70/2001 [00:06<03:07, 10.31it/s]\n",
      "  4%|██▉                                                                              | 72/2001 [00:06<03:01, 10.63it/s]\n",
      "  4%|██▉                                                                              | 74/2001 [00:07<02:57, 10.84it/s]\n",
      "  4%|███                                                                              | 76/2001 [00:07<02:55, 10.98it/s]\n",
      "  4%|███▏                                                                             | 78/2001 [00:07<02:54, 11.01it/s]\n",
      "  4%|███▏                                                                             | 80/2001 [00:07<02:52, 11.15it/s]\n",
      "  4%|███▎                                                                             | 82/2001 [00:07<02:50, 11.23it/s]\n",
      "  4%|███▍                                                                             | 84/2001 [00:07<02:50, 11.26it/s]\n",
      "  4%|███▍                                                                             | 86/2001 [00:08<02:50, 11.25it/s]\n",
      "  4%|███▌                                                                             | 88/2001 [00:08<02:48, 11.32it/s]\n",
      "  4%|███▋                                                                             | 90/2001 [00:08<02:48, 11.36it/s]\n",
      "  5%|███▋                                                                             | 92/2001 [00:08<02:49, 11.25it/s]\n",
      "  5%|███▊                                                                             | 94/2001 [00:08<02:49, 11.26it/s]\n",
      "  5%|███▉                                                                             | 96/2001 [00:09<02:49, 11.27it/s]\n",
      "  5%|███▉                                                                             | 98/2001 [00:09<02:49, 11.21it/s]\n",
      "  5%|███▉                                                                            | 100/2001 [00:09<02:49, 11.22it/s]\n",
      "  5%|████                                                                            | 102/2001 [00:09<02:50, 11.11it/s]\n",
      "  5%|████▏                                                                           | 104/2001 [00:09<02:50, 11.15it/s]"
     ]
    }
   ],
   "source": [
    "experiment.run()"
   ]
  },
  {
   "cell_type": "code",
   "execution_count": null,
   "metadata": {},
   "outputs": [],
   "source": []
  }
 ],
 "metadata": {
  "kernelspec": {
   "display_name": "w2",
   "language": "python",
   "name": "python3"
  },
  "language_info": {
   "codemirror_mode": {
    "name": "ipython",
    "version": 3
   },
   "file_extension": ".py",
   "mimetype": "text/x-python",
   "name": "python",
   "nbconvert_exporter": "python",
   "pygments_lexer": "ipython3",
   "version": "3.11.6"
  }
 },
 "nbformat": 4,
 "nbformat_minor": 2
}
