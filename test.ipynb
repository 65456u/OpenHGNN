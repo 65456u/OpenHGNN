{
 "cells": [
  {
   "cell_type": "code",
   "execution_count": 1,
   "metadata": {},
   "outputs": [],
   "source": [
    "import openhgnn"
   ]
  },
  {
   "cell_type": "code",
   "execution_count": 2,
   "metadata": {},
   "outputs": [
    {
     "name": "stdout",
     "output_type": "stream",
     "text": [
      "------------------------------------------------------------------------------\n",
      " Basic setup of this experiment: \n",
      "     model: HMPNN    \n",
      "     dataset: OAG_CS   \n",
      "     task: ktn. \n",
      " This experiment has following parameters. You can use set_params to edit them.\n",
      " Use print(experiment) to print this information again.\n",
      "------------------------------------------------------------------------------\n",
      "batch_size: 64\n",
      "dataset_name: OAG_CS\n",
      "device: cpu\n",
      "gpu: -1\n",
      "hid_dim: 128\n",
      "hpo_search_space: None\n",
      "hpo_trials: 100\n",
      "in_dim: 1169\n",
      "load_from_pretrained: False\n",
      "lr: 0.0001\n",
      "matching_coeff: 1\n",
      "max_epoch: 30\n",
      "mini_batch_flag: False\n",
      "model_name: HMPNN\n",
      "num_layers: 4\n",
      "optimizer: Adam\n",
      "out_dim: 128\n",
      "output_dir: ./openhgnn/output/HMPNN\n",
      "patience: 1\n",
      "rel_dim: 128\n",
      "seed: 0\n",
      "source_type: paper\n",
      "target_type: author\n",
      "task_type: L1\n",
      "test_batch: 50\n",
      "train_batch: 200\n",
      "use_best_config: False\n",
      "use_matching_loss: True\n",
      "\n"
     ]
    }
   ],
   "source": [
    "from openhgnn import Experiment\n",
    "experiment = Experiment(model='HMPNN', dataset='OAG_CS', task='ktn', \n",
    "                        gpu=-1, lr=0.0001, \n",
    "                        max_epoch=30, num_layers=4,\n",
    "                        task_type='L1',source_type='paper',target_type='author',\n",
    "                        in_dim=1169,hid_dim=128,out_dim=128,rel_dim=128,\n",
    "                        batch_size=64, use_matching_loss=True,\n",
    "                        matching_coeff=1,mini_batch_flag=False\n",
    "                        )"
   ]
  },
  {
   "cell_type": "code",
   "execution_count": 3,
   "metadata": {},
   "outputs": [
    {
     "name": "stderr",
     "output_type": "stream",
     "text": [
      "13 Nov 14:28    INFO  [Config Info]\tModel: HMPNN,\tTask: ktn,\tDataset: OAG_CS\n"
     ]
    },
    {
     "name": "stdout",
     "output_type": "stream",
     "text": [
      "KTN_trainer\n",
      "starting ktn task\n",
      "Loading dataset oag_cs\n",
      "initing hmpnn model\n"
     ]
    },
    {
     "name": "stderr",
     "output_type": "stream",
     "text": [
      "  0%|          | 0/30 [00:00<?, ?it/s]13 Nov 14:28    INFO  Epoch 0 | full-batch training\n",
      "  0%|          | 0/30 [00:14<?, ?it/s]\n"
     ]
    },
    {
     "ename": "RuntimeError",
     "evalue": "a leaf Variable that requires grad is being used in an in-place operation.",
     "output_type": "error",
     "traceback": [
      "\u001b[0;31m---------------------------------------------------------------------------\u001b[0m",
      "\u001b[0;31mRuntimeError\u001b[0m                              Traceback (most recent call last)",
      "\u001b[1;32m/home/lacuna42/nktn/OpenHGNN/test.ipynb Cell 3\u001b[0m line \u001b[0;36m1\n\u001b[0;32m----> <a href='vscode-notebook-cell://ssh-remote%2B34.81.164.216/home/lacuna42/nktn/OpenHGNN/test.ipynb#W2sdnNjb2RlLXJlbW90ZQ%3D%3D?line=0'>1</a>\u001b[0m experiment\u001b[39m.\u001b[39;49mrun()\n",
      "File \u001b[0;32m~/nktn/OpenHGNN/openhgnn/experiment.py:128\u001b[0m, in \u001b[0;36mExperiment.run\u001b[0;34m(self)\u001b[0m\n\u001b[1;32m    126\u001b[0m \u001b[39melse\u001b[39;00m:\n\u001b[1;32m    127\u001b[0m     flow \u001b[39m=\u001b[39m build_flow(\u001b[39mself\u001b[39m\u001b[39m.\u001b[39mconfig, trainerflow)\n\u001b[0;32m--> 128\u001b[0m     result \u001b[39m=\u001b[39m flow\u001b[39m.\u001b[39;49mtrain()\n\u001b[1;32m    129\u001b[0m     \u001b[39mif\u001b[39;00m \u001b[39mhasattr\u001b[39m(\u001b[39mself\u001b[39m\u001b[39m.\u001b[39mconfig, \u001b[39m'\u001b[39m\u001b[39mline_profiler_func\u001b[39m\u001b[39m'\u001b[39m):\n\u001b[1;32m    130\u001b[0m         prof\u001b[39m.\u001b[39mprint_stats()\n",
      "File \u001b[0;32m~/nktn/OpenHGNN/openhgnn/trainerflow/KTN_trainer.py:125\u001b[0m, in \u001b[0;36mKTNTrainer.train\u001b[0;34m(self)\u001b[0m\n\u001b[1;32m    123\u001b[0m \u001b[39melse\u001b[39;00m:\n\u001b[1;32m    124\u001b[0m     \u001b[39mself\u001b[39m\u001b[39m.\u001b[39mlogger\u001b[39m.\u001b[39minfo(\u001b[39m\"\u001b[39m\u001b[39mEpoch \u001b[39m\u001b[39m{:d}\u001b[39;00m\u001b[39m | full-batch training\u001b[39m\u001b[39m\"\u001b[39m\u001b[39m.\u001b[39mformat(epoch))\n\u001b[0;32m--> 125\u001b[0m     train_loss \u001b[39m=\u001b[39m \u001b[39mself\u001b[39;49m\u001b[39m.\u001b[39;49m_full_train_step()\n\u001b[1;32m    126\u001b[0m     \u001b[39mself\u001b[39m\u001b[39m.\u001b[39mlogger\u001b[39m.\u001b[39minfo(\n\u001b[1;32m    127\u001b[0m         \u001b[39m\"\u001b[39m\u001b[39mEpoch \u001b[39m\u001b[39m{:d}\u001b[39;00m\u001b[39m | Train Loss \u001b[39m\u001b[39m{:.4f}\u001b[39;00m\u001b[39m\"\u001b[39m\u001b[39m.\u001b[39mformat(epoch, train_loss)\n\u001b[1;32m    128\u001b[0m     )\n",
      "File \u001b[0;32m~/nktn/OpenHGNN/openhgnn/trainerflow/KTN_trainer.py:147\u001b[0m, in \u001b[0;36mKTNTrainer._full_train_step\u001b[0;34m(self)\u001b[0m\n\u001b[1;32m    145\u001b[0m         processed_y[indices] \u001b[39m=\u001b[39m \u001b[39m1\u001b[39m \u001b[39m/\u001b[39m num_indices\n\u001b[1;32m    146\u001b[0m     processed_y \u001b[39m=\u001b[39m processed_y\u001b[39m.\u001b[39mclone()\u001b[39m.\u001b[39mdetach()\u001b[39m.\u001b[39mrequires_grad_(\u001b[39mTrue\u001b[39;00m)\n\u001b[0;32m--> 147\u001b[0m     loss \u001b[39m+\u001b[39;49m\u001b[39m=\u001b[39;49m \u001b[39mself\u001b[39;49m\u001b[39m.\u001b[39;49mloss_fn(y_row, processed_y)\n\u001b[1;32m    148\u001b[0m loss \u001b[39m/\u001b[39m\u001b[39m=\u001b[39m \u001b[39mlen\u001b[39m(pred_y)\n\u001b[1;32m    149\u001b[0m \u001b[39mself\u001b[39m\u001b[39m.\u001b[39moptimizer\u001b[39m.\u001b[39mzero_grad()\n",
      "\u001b[0;31mRuntimeError\u001b[0m: a leaf Variable that requires grad is being used in an in-place operation."
     ]
    }
   ],
   "source": [
    "experiment.run()"
   ]
  },
  {
   "cell_type": "code",
   "execution_count": null,
   "metadata": {},
   "outputs": [],
   "source": []
  }
 ],
 "metadata": {
  "kernelspec": {
   "display_name": "w2",
   "language": "python",
   "name": "python3"
  },
  "language_info": {
   "codemirror_mode": {
    "name": "ipython",
    "version": 3
   },
   "file_extension": ".py",
   "mimetype": "text/x-python",
   "name": "python",
   "nbconvert_exporter": "python",
   "pygments_lexer": "ipython3",
   "version": "3.11.6"
  }
 },
 "nbformat": 4,
 "nbformat_minor": 2
}
