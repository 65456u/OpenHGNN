{
 "cells": [
  {
   "cell_type": "code",
   "execution_count": 1,
   "metadata": {},
   "outputs": [],
   "source": [
    "import openhgnn"
   ]
  },
  {
   "cell_type": "code",
   "execution_count": 2,
   "metadata": {},
   "outputs": [
    {
     "name": "stdout",
     "output_type": "stream",
     "text": [
      "------------------------------------------------------------------------------\n",
      " Basic setup of this experiment: \n",
      "     model: HMPNN    \n",
      "     dataset: OAG_CS   \n",
      "     task: ktn. \n",
      " This experiment has following parameters. You can use set_params to edit them.\n",
      " Use print(experiment) to print this information again.\n",
      "------------------------------------------------------------------------------\n",
      "batch_size: 64\n",
      "dataset_name: OAG_CS\n",
      "device: cpu\n",
      "gpu: -1\n",
      "hid_dim: 128\n",
      "hpo_search_space: None\n",
      "hpo_trials: 100\n",
      "in_dim: 1169\n",
      "load_from_pretrained: False\n",
      "lr: 0.0001\n",
      "matching_coeff: 0.5\n",
      "max_epoch: 30\n",
      "mini_batch_flag: True\n",
      "model_name: HMPNN\n",
      "num_layers: 4\n",
      "optimizer: Adam\n",
      "out_dim: 128\n",
      "output_dir: ./openhgnn/output/HMPNN\n",
      "patience: 1\n",
      "rel_dim: 128\n",
      "seed: 0\n",
      "source_type: paper\n",
      "target_type: author\n",
      "task_type: L1\n",
      "test_batch: 50\n",
      "train_batch: 200\n",
      "use_best_config: False\n",
      "use_matching_loss: True\n",
      "\n"
     ]
    }
   ],
   "source": [
    "from openhgnn import Experiment\n",
    "experiment = Experiment(model='HMPNN', dataset='OAG_CS', task='ktn', \n",
    "                        gpu=-1, lr=0.0001, \n",
    "                        max_epoch=30, num_layers=4,\n",
    "                        task_type='L1',source_type='paper',target_type='author',\n",
    "                        in_dim=1169,hid_dim=128,out_dim=128,rel_dim=128,\n",
    "                        batch_size=64, use_matching_loss=True,\n",
    "                        matching_coeff=0.5\n",
    "                        )"
   ]
  },
  {
   "cell_type": "code",
   "execution_count": 3,
   "metadata": {},
   "outputs": [
    {
     "name": "stderr",
     "output_type": "stream",
     "text": [
      "10 Nov 13:50    INFO  [Config Info]\tModel: HMPNN,\tTask: ktn,\tDataset: OAG_CS\n"
     ]
    },
    {
     "name": "stdout",
     "output_type": "stream",
     "text": [
      "KTN_trainer\n",
      "starting ktn task\n",
      "Loading dataset oag_cs\n",
      "initing hmpnn model\n"
     ]
    },
    {
     "name": "stderr",
     "output_type": "stream",
     "text": [
      "  0%|          | 0/30 [00:00<?, ?it/s]10 Nov 13:50    INFO  Epoch 0 | mini-batch training\n",
      "\n",
      "  0%|                                                                                          | 0/2001 [00:00<?, ?it/s]/home/lacuna42/miniforge3/envs/t/lib/python3.11/site-packages/dgl/dataloading/dataloader.py:1149: DGLWarning: Dataloader CPU affinity opt is not enabled, consider switching it on (see enable_cpu_affinity() or CPU best practices for DGL [https://docs.dgl.ai/tutorials/cpu/cpu_best_practises.html])\n",
      "  dgl_warning(\n",
      "10 Nov 13:50    INFO  loss: 10.7339\n",
      "  0%|                                                                                          | 0/2001 [00:07<?, ?it/s]\n",
      "10 Nov 13:50    INFO  Epoch 0 | Train Loss 10.7339\n"
     ]
    },
    {
     "name": "stdout",
     "output_type": "stream",
     "text": [
      "torch.Size([544244, 128])\n",
      "tensor([0.1841], grad_fn=<AddBackward0>)\n"
     ]
    },
    {
     "name": "stderr",
     "output_type": "stream",
     "text": [
      "  3%|▎         | 1/30 [00:34<16:46, 34.70s/it]10 Nov 13:51    INFO  Epoch 1 | mini-batch training\n",
      "\n",
      "  0%|                                                                                          | 0/2001 [00:00<?, ?it/s]10 Nov 13:51    INFO  loss: 9.5687\n",
      "  0%|                                                                                          | 0/2001 [00:07<?, ?it/s]\n",
      "10 Nov 13:51    INFO  Epoch 1 | Train Loss 9.5687\n"
     ]
    },
    {
     "name": "stdout",
     "output_type": "stream",
     "text": [
      "torch.Size([544244, 128])\n",
      "tensor([0.1698], grad_fn=<AddBackward0>)\n"
     ]
    },
    {
     "name": "stderr",
     "output_type": "stream",
     "text": [
      "  7%|▋         | 2/30 [01:09<16:10, 34.67s/it]10 Nov 13:51    INFO  Epoch 2 | mini-batch training\n",
      "\n",
      "  0%|                                                                                          | 0/2001 [00:00<?, ?it/s]10 Nov 13:52    INFO  loss: 8.0877\n",
      "  0%|                                                                                          | 0/2001 [00:07<?, ?it/s]\n",
      "10 Nov 13:52    INFO  Epoch 2 | Train Loss 8.0877\n"
     ]
    },
    {
     "name": "stdout",
     "output_type": "stream",
     "text": [
      "torch.Size([544244, 128])\n",
      "tensor([0.1565], grad_fn=<AddBackward0>)\n"
     ]
    },
    {
     "name": "stderr",
     "output_type": "stream",
     "text": [
      " 10%|█         | 3/30 [01:43<15:35, 34.64s/it]10 Nov 13:52    INFO  Epoch 3 | mini-batch training\n",
      "\n",
      "  0%|                                                                                          | 0/2001 [00:00<?, ?it/s]10 Nov 13:52    INFO  loss: 8.1661\n",
      "  0%|                                                                                          | 0/2001 [00:07<?, ?it/s]\n",
      "10 Nov 13:52    INFO  Epoch 3 | Train Loss 8.1661\n"
     ]
    },
    {
     "name": "stdout",
     "output_type": "stream",
     "text": [
      "torch.Size([544244, 128])\n",
      "tensor([0.1445], grad_fn=<AddBackward0>)\n"
     ]
    },
    {
     "name": "stderr",
     "output_type": "stream",
     "text": [
      "10 Nov 13:53    INFO  [Train Info] Early Stop!\tEpoch:3\n",
      " 10%|█         | 3/30 [02:18<20:46, 46.15s/it]\n"
     ]
    }
   ],
   "source": [
    "experiment.run()\n"
   ]
  },
  {
   "cell_type": "code",
   "execution_count": null,
   "metadata": {},
   "outputs": [],
   "source": []
  }
 ],
 "metadata": {
  "kernelspec": {
   "display_name": "w2",
   "language": "python",
   "name": "python3"
  },
  "language_info": {
   "codemirror_mode": {
    "name": "ipython",
    "version": 3
   },
   "file_extension": ".py",
   "mimetype": "text/x-python",
   "name": "python",
   "nbconvert_exporter": "python",
   "pygments_lexer": "ipython3",
   "version": "3.11.6"
  }
 },
 "nbformat": 4,
 "nbformat_minor": 2
}
