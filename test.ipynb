{
 "cells": [
  {
   "cell_type": "code",
   "execution_count": 1,
   "metadata": {},
   "outputs": [],
   "source": [
    "%load_ext autoreload\n",
    "%autoreload 2"
   ]
  },
  {
   "cell_type": "code",
   "execution_count": 2,
   "metadata": {},
   "outputs": [
    {
     "name": "stderr",
     "output_type": "stream",
     "text": [
      "/home/lacuna42/miniforge3/envs/w2/lib/python3.11/site-packages/tqdm/auto.py:21: TqdmWarning: IProgress not found. Please update jupyter and ipywidgets. See https://ipywidgets.readthedocs.io/en/stable/user_install.html\n",
      "  from .autonotebook import tqdm as notebook_tqdm\n"
     ]
    }
   ],
   "source": [
    "import openhgnn"
   ]
  },
  {
   "cell_type": "code",
   "execution_count": 3,
   "metadata": {},
   "outputs": [
    {
     "name": "stdout",
     "output_type": "stream",
     "text": [
      "------------------------------------------------------------------------------\n",
      " Basic setup of this experiment: \n",
      "     model: HMPNN    \n",
      "     dataset: OAG_CS   \n",
      "     task: ktn. \n",
      " This experiment has following parameters. You can use set_params to edit them.\n",
      " Use print(experiment) to print this information again.\n",
      "------------------------------------------------------------------------------\n",
      "batch_size: 64\n",
      "dataset_name: OAG_CS\n",
      "device: cpu\n",
      "gpu: -1\n",
      "hid_dim: 128\n",
      "hpo_search_space: None\n",
      "hpo_trials: 100\n",
      "in_dim: 1169\n",
      "load_from_pretrained: False\n",
      "lr: 0.05\n",
      "max_epoch: 30\n",
      "mini_batch_flag: True\n",
      "model_name: HMPNN\n",
      "num_layers: 4\n",
      "optimizer: Adam\n",
      "out_dim: 128\n",
      "output_dir: ./openhgnn/output/HMPNN\n",
      "patience: 1\n",
      "rel_dim: 128\n",
      "seed: 0\n",
      "source_type: paper\n",
      "target_type: author\n",
      "task_type: L1\n",
      "test_batch: 50\n",
      "train_batch: 200\n",
      "use_best_config: False\n",
      "\n"
     ]
    }
   ],
   "source": [
    "from openhgnn import Experiment\n",
    "experiment = Experiment(model='HMPNN', dataset='OAG_CS', task='ktn', \n",
    "                        gpu=-1, lr=0.05, \n",
    "                        max_epoch=30, num_layers=4,\n",
    "                        task_type='L1',source_type='paper',target_type='author',\n",
    "                        in_dim=1169,hid_dim=128,out_dim=128,rel_dim=128,\n",
    "                        batch_size=64\n",
    "                        )"
   ]
  },
  {
   "cell_type": "code",
   "execution_count": 4,
   "metadata": {},
   "outputs": [
    {
     "name": "stderr",
     "output_type": "stream",
     "text": [
      "10 Nov 08:16    INFO  [Config Info]\tModel: HMPNN,\tTask: ktn,\tDataset: OAG_CS\n"
     ]
    },
    {
     "name": "stdout",
     "output_type": "stream",
     "text": [
      "KTN_trainer\n",
      "starting ktn task\n",
      "Loading dataset oag_cs\n"
     ]
    },
    {
     "name": "stdout",
     "output_type": "stream",
     "text": [
      "starting ktn task\n",
      "Loading dataset oag_cs\n",
      "initing hmpnn model\n"
     ]
    },
    {
     "name": "stderr",
     "output_type": "stream",
     "text": [
      "  0%|          | 0/30 [00:00<?, ?it/s]10 Nov 08:16    INFO  Epoch 0 | mini-batch training\n",
      "\n",
      "  0%|                                                                                          | 0/2001 [00:00<?, ?it/s]/home/lacuna42/miniforge3/envs/w2/lib/python3.11/site-packages/dgl/dataloading/dataloader.py:1149: DGLWarning: Dataloader CPU affinity opt is not enabled, consider switching it on (see enable_cpu_affinity() or CPU best practices for DGL [https://docs.dgl.ai/tutorials/cpu/cpu_best_practises.html])\n",
      "  dgl_warning(\n"
     ]
    },
    {
     "name": "stdout",
     "output_type": "stream",
     "text": [
      "layer\n",
      "Block(num_src_nodes={'affiliation': 7880, 'author': 472173, 'field': 45717, 'paper': 544243, 'venue': 6924},\n",
      "      num_dst_nodes={'affiliation': 977, 'author': 367745, 'field': 45643, 'paper': 543544, 'venue': 6368},\n",
      "      num_edges={('affiliation', 'affiliation-author', 'author'): 463858, ('author', 'author-affiliation', 'affiliation'): 441377, ('author', 'author-paper', 'paper'): 1090008, ('field', 'field-field', 'field'): 524456, ('field', 'field-paper', 'paper'): 3706306, ('paper', 'paper-author', 'author'): 1036504, ('paper', 'paper-field', 'field'): 3709616, ('paper', 'paper-paper', 'paper'): 11576635, ('paper', 'paper-venue', 'venue'): 543400, ('venue', 'venue-paper', 'paper'): 543544},\n",
      "      metagraph=[('affiliation', 'author', 'affiliation-author'), ('author', 'affiliation', 'author-affiliation'), ('author', 'paper', 'author-paper'), ('paper', 'author', 'paper-author'), ('paper', 'field', 'paper-field'), ('paper', 'paper', 'paper-paper'), ('paper', 'venue', 'paper-venue'), ('field', 'field', 'field-field'), ('field', 'paper', 'field-paper'), ('venue', 'paper', 'venue-paper')])\n",
      "HMPNNLayer(\n",
      "  (conv): HeteroGraphConv(\n",
      "    (mods): ModuleDict(\n",
      "      (affiliation-author): GraphConv(in=1169, out=128, normalization=both, activation=<function relu at 0x7f52bb98b240>)\n",
      "      (author-affiliation): GraphConv(in=1169, out=128, normalization=both, activation=<function relu at 0x7f52bb98b240>)\n",
      "      (author-paper): GraphConv(in=1169, out=128, normalization=both, activation=<function relu at 0x7f52bb98b240>)\n",
      "      (field-field): GraphConv(in=1169, out=128, normalization=both, activation=<function relu at 0x7f52bb98b240>)\n",
      "      (field-paper): GraphConv(in=1169, out=128, normalization=both, activation=<function relu at 0x7f52bb98b240>)\n",
      "      (paper-author): GraphConv(in=1169, out=128, normalization=both, activation=<function relu at 0x7f52bb98b240>)\n",
      "      (paper-field): GraphConv(in=1169, out=128, normalization=both, activation=<function relu at 0x7f52bb98b240>)\n",
      "      (paper-paper): GraphConv(in=1169, out=128, normalization=both, activation=<function relu at 0x7f52bb98b240>)\n",
      "      (paper-venue): GraphConv(in=1169, out=128, normalization=both, activation=<function relu at 0x7f52bb98b240>)\n",
      "      (venue-paper): GraphConv(in=1169, out=128, normalization=both, activation=<function relu at 0x7f52bb98b240>)\n",
      "    )\n",
      "  )\n",
      ")\n",
      "layer\n",
      "Block(num_src_nodes={'affiliation': 977, 'author': 367745, 'field': 45643, 'paper': 543544, 'venue': 6368},\n",
      "      num_dst_nodes={'affiliation': 190, 'author': 2363, 'field': 10015, 'paper': 410428, 'venue': 447},\n",
      "      num_edges={('affiliation', 'affiliation-author', 'author'): 5012, ('author', 'author-affiliation', 'affiliation'): 175061, ('author', 'author-paper', 'paper'): 843073, ('field', 'field-field', 'field'): 269019, ('field', 'field-paper', 'paper'): 2861917, ('paper', 'paper-author', 'author'): 47450, ('paper', 'paper-field', 'field'): 2653585, ('paper', 'paper-paper', 'paper'): 9083670, ('paper', 'paper-venue', 'venue'): 298154, ('venue', 'venue-paper', 'paper'): 410428},\n",
      "      metagraph=[('affiliation', 'author', 'affiliation-author'), ('author', 'affiliation', 'author-affiliation'), ('author', 'paper', 'author-paper'), ('paper', 'author', 'paper-author'), ('paper', 'field', 'paper-field'), ('paper', 'paper', 'paper-paper'), ('paper', 'venue', 'paper-venue'), ('field', 'field', 'field-field'), ('field', 'paper', 'field-paper'), ('venue', 'paper', 'venue-paper')])\n",
      "HMPNNLayer(\n",
      "  (conv): HeteroGraphConv(\n",
      "    (mods): ModuleDict(\n",
      "      (affiliation-author): GraphConv(in=128, out=128, normalization=both, activation=<function relu at 0x7f52bb98b240>)\n",
      "      (author-affiliation): GraphConv(in=128, out=128, normalization=both, activation=<function relu at 0x7f52bb98b240>)\n",
      "      (author-paper): GraphConv(in=128, out=128, normalization=both, activation=<function relu at 0x7f52bb98b240>)\n",
      "      (field-field): GraphConv(in=128, out=128, normalization=both, activation=<function relu at 0x7f52bb98b240>)\n",
      "      (field-paper): GraphConv(in=128, out=128, normalization=both, activation=<function relu at 0x7f52bb98b240>)\n",
      "      (paper-author): GraphConv(in=128, out=128, normalization=both, activation=<function relu at 0x7f52bb98b240>)\n",
      "      (paper-field): GraphConv(in=128, out=128, normalization=both, activation=<function relu at 0x7f52bb98b240>)\n",
      "      (paper-paper): GraphConv(in=128, out=128, normalization=both, activation=<function relu at 0x7f52bb98b240>)\n",
      "      (paper-venue): GraphConv(in=128, out=128, normalization=both, activation=<function relu at 0x7f52bb98b240>)\n",
      "      (venue-paper): GraphConv(in=128, out=128, normalization=both, activation=<function relu at 0x7f52bb98b240>)\n",
      "    )\n",
      "  )\n",
      ")\n",
      "layer\n",
      "Block(num_src_nodes={'affiliation': 190, 'author': 2363, 'field': 10015, 'paper': 410428, 'venue': 447},\n",
      "      num_dst_nodes={'affiliation': 0, 'author': 145, 'field': 352, 'paper': 1322, 'venue': 54},\n",
      "      num_edges={('affiliation', 'affiliation-author', 'author'): 308, ('author', 'author-affiliation', 'affiliation'): 0, ('author', 'author-paper', 'paper'): 3027, ('field', 'field-field', 'field'): 12498, ('field', 'field-paper', 'paper'): 8925, ('paper', 'paper-author', 'author'): 2782, ('paper', 'paper-field', 'field'): 762279, ('paper', 'paper-paper', 'paper'): 129060, ('paper', 'paper-venue', 'venue'): 62857, ('venue', 'venue-paper', 'paper'): 1322},\n",
      "      metagraph=[('affiliation', 'author', 'affiliation-author'), ('author', 'affiliation', 'author-affiliation'), ('author', 'paper', 'author-paper'), ('paper', 'author', 'paper-author'), ('paper', 'field', 'paper-field'), ('paper', 'paper', 'paper-paper'), ('paper', 'venue', 'paper-venue'), ('field', 'field', 'field-field'), ('field', 'paper', 'field-paper'), ('venue', 'paper', 'venue-paper')])\n",
      "HMPNNLayer(\n",
      "  (conv): HeteroGraphConv(\n",
      "    (mods): ModuleDict(\n",
      "      (affiliation-author): GraphConv(in=128, out=128, normalization=both, activation=<function relu at 0x7f52bb98b240>)\n",
      "      (author-affiliation): GraphConv(in=128, out=128, normalization=both, activation=<function relu at 0x7f52bb98b240>)\n",
      "      (author-paper): GraphConv(in=128, out=128, normalization=both, activation=<function relu at 0x7f52bb98b240>)\n",
      "      (field-field): GraphConv(in=128, out=128, normalization=both, activation=<function relu at 0x7f52bb98b240>)\n",
      "      (field-paper): GraphConv(in=128, out=128, normalization=both, activation=<function relu at 0x7f52bb98b240>)\n",
      "      (paper-author): GraphConv(in=128, out=128, normalization=both, activation=<function relu at 0x7f52bb98b240>)\n",
      "      (paper-field): GraphConv(in=128, out=128, normalization=both, activation=<function relu at 0x7f52bb98b240>)\n",
      "      (paper-paper): GraphConv(in=128, out=128, normalization=both, activation=<function relu at 0x7f52bb98b240>)\n",
      "      (paper-venue): GraphConv(in=128, out=128, normalization=both, activation=<function relu at 0x7f52bb98b240>)\n",
      "      (venue-paper): GraphConv(in=128, out=128, normalization=both, activation=<function relu at 0x7f52bb98b240>)\n",
      "    )\n",
      "  )\n",
      ")\n",
      "layer\n",
      "Block(num_src_nodes={'affiliation': 0, 'author': 145, 'field': 352, 'paper': 1322, 'venue': 54},\n",
      "      num_dst_nodes={'affiliation': 0, 'author': 0, 'field': 0, 'paper': 64, 'venue': 0},\n",
      "      num_edges={('affiliation', 'affiliation-author', 'author'): 0, ('author', 'author-affiliation', 'affiliation'): 0, ('author', 'author-paper', 'paper'): 145, ('field', 'field-field', 'field'): 0, ('field', 'field-paper', 'paper'): 422, ('paper', 'paper-author', 'author'): 0, ('paper', 'paper-field', 'field'): 0, ('paper', 'paper-paper', 'paper'): 1271, ('paper', 'paper-venue', 'venue'): 0, ('venue', 'venue-paper', 'paper'): 64},\n",
      "      metagraph=[('affiliation', 'author', 'affiliation-author'), ('author', 'affiliation', 'author-affiliation'), ('author', 'paper', 'author-paper'), ('paper', 'author', 'paper-author'), ('paper', 'field', 'paper-field'), ('paper', 'paper', 'paper-paper'), ('paper', 'venue', 'paper-venue'), ('field', 'field', 'field-field'), ('field', 'paper', 'field-paper'), ('venue', 'paper', 'venue-paper')])\n",
      "HMPNNLayer(\n",
      "  (conv): HeteroGraphConv(\n",
      "    (mods): ModuleDict(\n",
      "      (affiliation-author): GraphConv(in=128, out=128, normalization=both, activation=None)\n",
      "      (author-affiliation): GraphConv(in=128, out=128, normalization=both, activation=None)\n",
      "      (author-paper): GraphConv(in=128, out=128, normalization=both, activation=None)\n",
      "      (field-field): GraphConv(in=128, out=128, normalization=both, activation=None)\n",
      "      (field-paper): GraphConv(in=128, out=128, normalization=both, activation=None)\n",
      "      (paper-author): GraphConv(in=128, out=128, normalization=both, activation=None)\n",
      "      (paper-field): GraphConv(in=128, out=128, normalization=both, activation=None)\n",
      "      (paper-paper): GraphConv(in=128, out=128, normalization=both, activation=None)\n",
      "      (paper-venue): GraphConv(in=128, out=128, normalization=both, activation=None)\n",
      "      (venue-paper): GraphConv(in=128, out=128, normalization=both, activation=None)\n",
      "    )\n",
      "  )\n",
      ")\n"
     ]
    },
    {
     "name": "stderr",
     "output_type": "stream",
     "text": [
      "  0%|                                                                                          | 0/2001 [00:09<?, ?it/s]\n",
      "  0%|          | 0/30 [00:09<?, ?it/s]\n"
     ]
    },
    {
     "ename": "RuntimeError",
     "evalue": "The size of tensor a (50) must match the size of tensor b (128) at non-singleton dimension 1",
     "output_type": "error",
     "traceback": [
      "\u001b[0;31m---------------------------------------------------------------------------\u001b[0m",
      "\u001b[0;31mRuntimeError\u001b[0m                              Traceback (most recent call last)",
      "\u001b[1;32m/home/lacuna42/nktn/OpenHGNN/test.ipynb Cell 4\u001b[0m line \u001b[0;36m1\n\u001b[0;32m----> <a href='vscode-notebook-cell://ssh-remote%2B104.155.211.102/home/lacuna42/nktn/OpenHGNN/test.ipynb#W3sdnNjb2RlLXJlbW90ZQ%3D%3D?line=0'>1</a>\u001b[0m experiment\u001b[39m.\u001b[39;49mrun()\n",
      "File \u001b[0;32m~/nktn/OpenHGNN/openhgnn/experiment.py:128\u001b[0m, in \u001b[0;36mExperiment.run\u001b[0;34m(self)\u001b[0m\n\u001b[1;32m    126\u001b[0m \u001b[39melse\u001b[39;00m:\n\u001b[1;32m    127\u001b[0m     flow \u001b[39m=\u001b[39m build_flow(\u001b[39mself\u001b[39m\u001b[39m.\u001b[39mconfig, trainerflow)\n\u001b[0;32m--> 128\u001b[0m     result \u001b[39m=\u001b[39m flow\u001b[39m.\u001b[39;49mtrain()\n\u001b[1;32m    129\u001b[0m     \u001b[39mif\u001b[39;00m \u001b[39mhasattr\u001b[39m(\u001b[39mself\u001b[39m\u001b[39m.\u001b[39mconfig, \u001b[39m'\u001b[39m\u001b[39mline_profiler_func\u001b[39m\u001b[39m'\u001b[39m):\n\u001b[1;32m    130\u001b[0m         prof\u001b[39m.\u001b[39mprint_stats()\n",
      "File \u001b[0;32m~/nktn/OpenHGNN/openhgnn/trainerflow/KTN_trainer.py:83\u001b[0m, in \u001b[0;36mKTNTrainer.train\u001b[0;34m(self)\u001b[0m\n\u001b[1;32m     81\u001b[0m \u001b[39mif\u001b[39;00m \u001b[39mself\u001b[39m\u001b[39m.\u001b[39margs\u001b[39m.\u001b[39mmini_batch_flag:\n\u001b[1;32m     82\u001b[0m     \u001b[39mself\u001b[39m\u001b[39m.\u001b[39mlogger\u001b[39m.\u001b[39minfo(\u001b[39m\"\u001b[39m\u001b[39mEpoch \u001b[39m\u001b[39m{:d}\u001b[39;00m\u001b[39m | mini-batch training\u001b[39m\u001b[39m\"\u001b[39m\u001b[39m.\u001b[39mformat(epoch))\n\u001b[0;32m---> 83\u001b[0m     train_loss \u001b[39m=\u001b[39m \u001b[39mself\u001b[39;49m\u001b[39m.\u001b[39;49m_mini_train_step()\n\u001b[1;32m     84\u001b[0m \u001b[39melse\u001b[39;00m:\n\u001b[1;32m     85\u001b[0m     \u001b[39mself\u001b[39m\u001b[39m.\u001b[39mlogger\u001b[39m.\u001b[39minfo(\u001b[39m\"\u001b[39m\u001b[39mEpoch \u001b[39m\u001b[39m{:d}\u001b[39;00m\u001b[39m | full-batch training\u001b[39m\u001b[39m\"\u001b[39m\u001b[39m.\u001b[39mformat(epoch))\n",
      "File \u001b[0;32m~/nktn/OpenHGNN/openhgnn/trainerflow/KTN_trainer.py:107\u001b[0m, in \u001b[0;36mKTNTrainer._mini_train_step\u001b[0;34m(self)\u001b[0m\n\u001b[1;32m    105\u001b[0m lbl\u001b[39m=\u001b[39m\u001b[39mself\u001b[39m\u001b[39m.\u001b[39msource_labels[seeds[\u001b[39mself\u001b[39m\u001b[39m.\u001b[39msource_type]]\u001b[39m.\u001b[39mto(\u001b[39mself\u001b[39m\u001b[39m.\u001b[39mdevice)\n\u001b[1;32m    106\u001b[0m logits\u001b[39m=\u001b[39m\u001b[39mself\u001b[39m\u001b[39m.\u001b[39mmodel([block \u001b[39mfor\u001b[39;00m block \u001b[39min\u001b[39;00m blocks],h)[\u001b[39mself\u001b[39m\u001b[39m.\u001b[39msource_type]\n\u001b[0;32m--> 107\u001b[0m loss\u001b[39m=\u001b[39m\u001b[39mself\u001b[39;49m\u001b[39m.\u001b[39;49mloss_fn(logits,lbl)\n\u001b[1;32m    108\u001b[0m \u001b[39mprint\u001b[39m(loss)\n",
      "File \u001b[0;32m~/nktn/OpenHGNN/openhgnn/tasks/ktn.py:81\u001b[0m, in \u001b[0;36mClassifier.calc_loss\u001b[0;34m(self, y_pred, y_true)\u001b[0m\n\u001b[1;32m     80\u001b[0m \u001b[39mdef\u001b[39;00m \u001b[39mcalc_loss\u001b[39m(\u001b[39mself\u001b[39m, y_pred, y_true):\n\u001b[0;32m---> 81\u001b[0m     \u001b[39mreturn\u001b[39;00m \u001b[39mself\u001b[39;49m\u001b[39m.\u001b[39;49mcriterion(y_pred, y_true)\n",
      "File \u001b[0;32m~/miniforge3/envs/w2/lib/python3.11/site-packages/torch/nn/modules/module.py:1518\u001b[0m, in \u001b[0;36mModule._wrapped_call_impl\u001b[0;34m(self, *args, **kwargs)\u001b[0m\n\u001b[1;32m   1516\u001b[0m     \u001b[39mreturn\u001b[39;00m \u001b[39mself\u001b[39m\u001b[39m.\u001b[39m_compiled_call_impl(\u001b[39m*\u001b[39margs, \u001b[39m*\u001b[39m\u001b[39m*\u001b[39mkwargs)  \u001b[39m# type: ignore[misc]\u001b[39;00m\n\u001b[1;32m   1517\u001b[0m \u001b[39melse\u001b[39;00m:\n\u001b[0;32m-> 1518\u001b[0m     \u001b[39mreturn\u001b[39;00m \u001b[39mself\u001b[39;49m\u001b[39m.\u001b[39;49m_call_impl(\u001b[39m*\u001b[39;49margs, \u001b[39m*\u001b[39;49m\u001b[39m*\u001b[39;49mkwargs)\n",
      "File \u001b[0;32m~/miniforge3/envs/w2/lib/python3.11/site-packages/torch/nn/modules/module.py:1527\u001b[0m, in \u001b[0;36mModule._call_impl\u001b[0;34m(self, *args, **kwargs)\u001b[0m\n\u001b[1;32m   1522\u001b[0m \u001b[39m# If we don't have any hooks, we want to skip the rest of the logic in\u001b[39;00m\n\u001b[1;32m   1523\u001b[0m \u001b[39m# this function, and just call forward.\u001b[39;00m\n\u001b[1;32m   1524\u001b[0m \u001b[39mif\u001b[39;00m \u001b[39mnot\u001b[39;00m (\u001b[39mself\u001b[39m\u001b[39m.\u001b[39m_backward_hooks \u001b[39mor\u001b[39;00m \u001b[39mself\u001b[39m\u001b[39m.\u001b[39m_backward_pre_hooks \u001b[39mor\u001b[39;00m \u001b[39mself\u001b[39m\u001b[39m.\u001b[39m_forward_hooks \u001b[39mor\u001b[39;00m \u001b[39mself\u001b[39m\u001b[39m.\u001b[39m_forward_pre_hooks\n\u001b[1;32m   1525\u001b[0m         \u001b[39mor\u001b[39;00m _global_backward_pre_hooks \u001b[39mor\u001b[39;00m _global_backward_hooks\n\u001b[1;32m   1526\u001b[0m         \u001b[39mor\u001b[39;00m _global_forward_hooks \u001b[39mor\u001b[39;00m _global_forward_pre_hooks):\n\u001b[0;32m-> 1527\u001b[0m     \u001b[39mreturn\u001b[39;00m forward_call(\u001b[39m*\u001b[39;49margs, \u001b[39m*\u001b[39;49m\u001b[39m*\u001b[39;49mkwargs)\n\u001b[1;32m   1529\u001b[0m \u001b[39mtry\u001b[39;00m:\n\u001b[1;32m   1530\u001b[0m     result \u001b[39m=\u001b[39m \u001b[39mNone\u001b[39;00m\n",
      "File \u001b[0;32m~/miniforge3/envs/w2/lib/python3.11/site-packages/torch/nn/modules/loss.py:470\u001b[0m, in \u001b[0;36mKLDivLoss.forward\u001b[0;34m(self, input, target)\u001b[0m\n\u001b[1;32m    469\u001b[0m \u001b[39mdef\u001b[39;00m \u001b[39mforward\u001b[39m(\u001b[39mself\u001b[39m, \u001b[39minput\u001b[39m: Tensor, target: Tensor) \u001b[39m-\u001b[39m\u001b[39m>\u001b[39m Tensor:\n\u001b[0;32m--> 470\u001b[0m     \u001b[39mreturn\u001b[39;00m F\u001b[39m.\u001b[39;49mkl_div(\u001b[39minput\u001b[39;49m, target, reduction\u001b[39m=\u001b[39;49m\u001b[39mself\u001b[39;49m\u001b[39m.\u001b[39;49mreduction, log_target\u001b[39m=\u001b[39;49m\u001b[39mself\u001b[39;49m\u001b[39m.\u001b[39;49mlog_target)\n",
      "File \u001b[0;32m~/miniforge3/envs/w2/lib/python3.11/site-packages/torch/nn/functional.py:2955\u001b[0m, in \u001b[0;36mkl_div\u001b[0;34m(input, target, size_average, reduce, reduction, log_target)\u001b[0m\n\u001b[1;32m   2952\u001b[0m     \u001b[39melse\u001b[39;00m:\n\u001b[1;32m   2953\u001b[0m         reduction_enum \u001b[39m=\u001b[39m _Reduction\u001b[39m.\u001b[39mget_enum(reduction)\n\u001b[0;32m-> 2955\u001b[0m reduced \u001b[39m=\u001b[39m torch\u001b[39m.\u001b[39;49mkl_div(\u001b[39minput\u001b[39;49m, target, reduction_enum, log_target\u001b[39m=\u001b[39;49mlog_target)\n\u001b[1;32m   2957\u001b[0m \u001b[39mif\u001b[39;00m reduction \u001b[39m==\u001b[39m \u001b[39m\"\u001b[39m\u001b[39mbatchmean\u001b[39m\u001b[39m\"\u001b[39m \u001b[39mand\u001b[39;00m \u001b[39minput\u001b[39m\u001b[39m.\u001b[39mdim() \u001b[39m!=\u001b[39m \u001b[39m0\u001b[39m:\n\u001b[1;32m   2958\u001b[0m     reduced \u001b[39m=\u001b[39m reduced \u001b[39m/\u001b[39m \u001b[39minput\u001b[39m\u001b[39m.\u001b[39msize()[\u001b[39m0\u001b[39m]\n",
      "\u001b[0;31mRuntimeError\u001b[0m: The size of tensor a (50) must match the size of tensor b (128) at non-singleton dimension 1"
     ]
    }
   ],
   "source": [
    "experiment.run()\n"
   ]
  },
  {
   "cell_type": "code",
   "execution_count": null,
   "metadata": {},
   "outputs": [],
   "source": []
  }
 ],
 "metadata": {
  "kernelspec": {
   "display_name": "w2",
   "language": "python",
   "name": "python3"
  },
  "language_info": {
   "codemirror_mode": {
    "name": "ipython",
    "version": 3
   },
   "file_extension": ".py",
   "mimetype": "text/x-python",
   "name": "python",
   "nbconvert_exporter": "python",
   "pygments_lexer": "ipython3",
   "version": "3.11.6"
  }
 },
 "nbformat": 4,
 "nbformat_minor": 2
}
