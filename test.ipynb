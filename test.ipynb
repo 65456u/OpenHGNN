{
 "cells": [
  {
   "cell_type": "code",
   "execution_count": 1,
   "metadata": {},
   "outputs": [],
   "source": [
    "import openhgnn\n",
    "from openhgnn.trainerflow import KTNTrainer"
   ]
  },
  {
   "cell_type": "code",
   "execution_count": 2,
   "metadata": {},
   "outputs": [
    {
     "name": "stdout",
     "output_type": "stream",
     "text": [
      "------------------------------------------------------------------------------\n",
      " Basic setup of this experiment: \n",
      "     model: HMPNN    \n",
      "     dataset: OAG_CS   \n",
      "     task: ktn. \n",
      " This experiment has following parameters. You can use set_params to edit them.\n",
      " Use print(experiment) to print this information again.\n",
      "------------------------------------------------------------------------------\n",
      "batch_size: 3072\n",
      "dataset_name: OAG_CS\n",
      "device: cuda:0\n",
      "evaluate_interval: 10\n",
      "feature_name: feat\n",
      "gpu: 0\n",
      "hid_dim: 128\n",
      "hpo_search_space: None\n",
      "hpo_trials: 100\n",
      "in_dim: 1169\n",
      "line_profiler_func: [<function KTNTrainer.train at 0x7fa897b402c0>]\n",
      "load_from_pretrained: False\n",
      "lr: 0.001\n",
      "matching_coeff: 1\n",
      "max_epoch: 300\n",
      "mini_batch_flag: True\n",
      "model_name: HMPNN\n",
      "num_layers: 4\n",
      "optimizer: Adam\n",
      "out_dim: 128\n",
      "output_dir: ./openhgnn/output/HMPNN\n",
      "patience: 10\n",
      "ranking: True\n",
      "rel_dim: 128\n",
      "seed: 0\n",
      "source_test_batch: 50\n",
      "source_train_batch: 200\n",
      "source_type: paper\n",
      "target_test_batch: 50\n",
      "target_train_batch: 2\n",
      "target_type: author\n",
      "task_type: L1\n",
      "test_batch: 50\n",
      "train_batch: 200\n",
      "use_best_config: False\n",
      "use_matching_loss: True\n",
      "\n"
     ]
    }
   ],
   "source": [
    "from openhgnn import Experiment\n",
    "\n",
    "experiment = Experiment(\n",
    "    model=\"HMPNN\",\n",
    "    dataset=\"OAG_CS\",\n",
    "    task=\"ktn\",\n",
    "    gpu=0,\n",
    "    lr=0.001,\n",
    "    max_epoch=300,\n",
    "    num_layers=4,\n",
    "    task_type=\"L1\",\n",
    "    source_type=\"paper\",\n",
    "    target_type=\"author\",\n",
    "    in_dim=1169,\n",
    "    hid_dim=128,\n",
    "    out_dim=128,\n",
    "    rel_dim=128,\n",
    "    batch_size=3072,\n",
    "    use_matching_loss=True,\n",
    "    matching_coeff=1,\n",
    "    mini_batch_flag=True,\n",
    "    evaluate_interval=10,\n",
    "    ranking=True,\n",
    "    source_train_batch=200,\n",
    "    target_train_batch=2,\n",
    "    source_test_batch=50,\n",
    "    target_test_batch=50,\n",
    "    feature_name=\"feat\",\n",
    "    line_profiler_func=[KTNTrainer.train,],\n",
    "    patience=10,\n",
    "    \n",
    ")"
   ]
  },
  {
   "cell_type": "code",
   "execution_count": 3,
   "metadata": {},
   "outputs": [
    {
     "name": "stderr",
     "output_type": "stream",
     "text": [
      "18 Nov 02:09    INFO  [Config Info]\tModel: HMPNN,\tTask: ktn,\tDataset: OAG_CS\n"
     ]
    },
    {
     "name": "stdout",
     "output_type": "stream",
     "text": [
      "KTN_trainer\n",
      "starting ktn task\n",
      "Loading dataset oag_cs\n",
      "initing hmpnn model\n",
      "275\n"
     ]
    },
    {
     "name": "stderr",
     "output_type": "stream",
     "text": [
      "  0%|          | 0/300 [00:00<?, ?it/s]18 Nov 02:09    INFO  Epoch 0 | mini-batch training\n"
     ]
    },
    {
     "name": "stdout",
     "output_type": "stream",
     "text": [
      "tensor([0.0686], device='cuda:0', grad_fn=<DivBackward0>)\n",
      "tensor([0.0035], device='cuda:0', grad_fn=<DivBackward0>)\n",
      "(0.4880422319044182, 0.44606269667882664, 0.15198331252590783, 0.008166670107862883, 0.49462883469068836, 0.4910111709702461)\n"
     ]
    },
    {
     "name": "stderr",
     "output_type": "stream",
     "text": [
      "  0%|          | 1/300 [01:00<4:59:11, 60.04s/it]18 Nov 02:10    INFO  Epoch 1 | mini-batch training\n"
     ]
    },
    {
     "name": "stdout",
     "output_type": "stream",
     "text": [
      "tensor([0.0602], device='cuda:0', grad_fn=<DivBackward0>)\n",
      "tensor([0.0027], device='cuda:0', grad_fn=<DivBackward0>)\n"
     ]
    },
    {
     "name": "stderr",
     "output_type": "stream",
     "text": [
      "  1%|          | 2/300 [01:09<2:29:21, 30.07s/it]18 Nov 02:10    INFO  Epoch 2 | mini-batch training\n"
     ]
    },
    {
     "name": "stdout",
     "output_type": "stream",
     "text": [
      "tensor([0.0522], device='cuda:0', grad_fn=<DivBackward0>)\n",
      "tensor([0.0032], device='cuda:0', grad_fn=<DivBackward0>)\n"
     ]
    },
    {
     "name": "stderr",
     "output_type": "stream",
     "text": [
      "  1%|          | 3/300 [01:18<1:41:22, 20.48s/it]18 Nov 02:10    INFO  Epoch 3 | mini-batch training\n"
     ]
    },
    {
     "name": "stdout",
     "output_type": "stream",
     "text": [
      "tensor([0.0488], device='cuda:0', grad_fn=<DivBackward0>)\n",
      "tensor([0.0028], device='cuda:0', grad_fn=<DivBackward0>)\n"
     ]
    },
    {
     "name": "stderr",
     "output_type": "stream",
     "text": [
      "  1%|▏         | 4/300 [01:27<1:18:46, 15.97s/it]18 Nov 02:11    INFO  Epoch 4 | mini-batch training\n"
     ]
    },
    {
     "name": "stdout",
     "output_type": "stream",
     "text": [
      "tensor([0.0439], device='cuda:0', grad_fn=<DivBackward0>)\n",
      "tensor([0.0028], device='cuda:0', grad_fn=<DivBackward0>)\n"
     ]
    },
    {
     "name": "stderr",
     "output_type": "stream",
     "text": [
      "  2%|▏         | 5/300 [01:36<1:06:14, 13.47s/it]18 Nov 02:11    INFO  Epoch 5 | mini-batch training\n"
     ]
    },
    {
     "name": "stdout",
     "output_type": "stream",
     "text": [
      "tensor([0.0411], device='cuda:0', grad_fn=<DivBackward0>)\n",
      "tensor([0.0026], device='cuda:0', grad_fn=<DivBackward0>)\n"
     ]
    },
    {
     "name": "stderr",
     "output_type": "stream",
     "text": [
      "  2%|▏         | 6/300 [01:45<58:36, 11.96s/it]  18 Nov 02:11    INFO  Epoch 6 | mini-batch training\n"
     ]
    },
    {
     "name": "stdout",
     "output_type": "stream",
     "text": [
      "tensor([0.0394], device='cuda:0', grad_fn=<DivBackward0>)\n",
      "tensor([0.0024], device='cuda:0', grad_fn=<DivBackward0>)\n"
     ]
    },
    {
     "name": "stderr",
     "output_type": "stream",
     "text": [
      "  2%|▏         | 7/300 [01:54<53:40, 10.99s/it]18 Nov 02:11    INFO  Epoch 7 | mini-batch training\n"
     ]
    },
    {
     "name": "stdout",
     "output_type": "stream",
     "text": [
      "tensor([0.0379], device='cuda:0', grad_fn=<DivBackward0>)\n",
      "tensor([0.0023], device='cuda:0', grad_fn=<DivBackward0>)\n"
     ]
    },
    {
     "name": "stderr",
     "output_type": "stream",
     "text": [
      "  3%|▎         | 8/300 [02:03<50:26, 10.37s/it]18 Nov 02:11    INFO  Epoch 8 | mini-batch training\n"
     ]
    },
    {
     "name": "stdout",
     "output_type": "stream",
     "text": [
      "tensor([0.0361], device='cuda:0', grad_fn=<DivBackward0>)\n",
      "tensor([0.0022], device='cuda:0', grad_fn=<DivBackward0>)\n"
     ]
    },
    {
     "name": "stderr",
     "output_type": "stream",
     "text": [
      "  3%|▎         | 9/300 [02:12<48:26,  9.99s/it]18 Nov 02:11    INFO  Epoch 9 | mini-batch training\n"
     ]
    },
    {
     "name": "stdout",
     "output_type": "stream",
     "text": [
      "tensor([0.0351], device='cuda:0', grad_fn=<DivBackward0>)\n",
      "tensor([0.0021], device='cuda:0', grad_fn=<DivBackward0>)\n"
     ]
    },
    {
     "name": "stderr",
     "output_type": "stream",
     "text": [
      "  3%|▎         | 10/300 [02:21<47:08,  9.75s/it]18 Nov 02:12    INFO  Epoch 10 | mini-batch training\n"
     ]
    },
    {
     "name": "stdout",
     "output_type": "stream",
     "text": [
      "tensor([0.0341], device='cuda:0', grad_fn=<DivBackward0>)\n",
      "tensor([0.0020], device='cuda:0', grad_fn=<DivBackward0>)\n",
      "(0.551107819929237, 0.49665506723225405, 0.1696024173139091, 0.03563982818077201, 0.5493515901134939, 0.5453365232568641)\n"
     ]
    },
    {
     "name": "stderr",
     "output_type": "stream",
     "text": [
      "  4%|▎         | 11/300 [03:20<1:59:50, 24.88s/it]18 Nov 02:13    INFO  Epoch 11 | mini-batch training\n"
     ]
    },
    {
     "name": "stdout",
     "output_type": "stream",
     "text": [
      "tensor([0.0335], device='cuda:0', grad_fn=<DivBackward0>)\n",
      "tensor([0.0020], device='cuda:0', grad_fn=<DivBackward0>)\n"
     ]
    },
    {
     "name": "stderr",
     "output_type": "stream",
     "text": [
      "  4%|▍         | 12/300 [03:30<1:36:27, 20.10s/it]18 Nov 02:13    INFO  Epoch 12 | mini-batch training\n"
     ]
    },
    {
     "name": "stdout",
     "output_type": "stream",
     "text": [
      "tensor([0.0331], device='cuda:0', grad_fn=<DivBackward0>)\n",
      "tensor([0.0019], device='cuda:0', grad_fn=<DivBackward0>)\n"
     ]
    },
    {
     "name": "stderr",
     "output_type": "stream",
     "text": [
      "  4%|▍         | 13/300 [03:39<1:20:17, 16.79s/it]18 Nov 02:13    INFO  Epoch 13 | mini-batch training\n"
     ]
    },
    {
     "name": "stdout",
     "output_type": "stream",
     "text": [
      "tensor([0.0321], device='cuda:0', grad_fn=<DivBackward0>)\n",
      "tensor([0.0018], device='cuda:0', grad_fn=<DivBackward0>)\n"
     ]
    },
    {
     "name": "stderr",
     "output_type": "stream",
     "text": [
      "  5%|▍         | 14/300 [03:48<1:08:57, 14.47s/it]18 Nov 02:13    INFO  Epoch 14 | mini-batch training\n"
     ]
    },
    {
     "name": "stdout",
     "output_type": "stream",
     "text": [
      "tensor([0.0317], device='cuda:0', grad_fn=<DivBackward0>)\n",
      "tensor([0.0018], device='cuda:0', grad_fn=<DivBackward0>)\n"
     ]
    },
    {
     "name": "stderr",
     "output_type": "stream",
     "text": [
      "  5%|▌         | 15/300 [03:57<1:01:03, 12.85s/it]18 Nov 02:13    INFO  Epoch 15 | mini-batch training\n"
     ]
    },
    {
     "name": "stdout",
     "output_type": "stream",
     "text": [
      "tensor([0.0313], device='cuda:0', grad_fn=<DivBackward0>)\n",
      "tensor([0.0017], device='cuda:0', grad_fn=<DivBackward0>)\n"
     ]
    },
    {
     "name": "stderr",
     "output_type": "stream",
     "text": [
      "  5%|▌         | 16/300 [04:06<55:35, 11.74s/it]  18 Nov 02:13    INFO  Epoch 16 | mini-batch training\n"
     ]
    },
    {
     "name": "stdout",
     "output_type": "stream",
     "text": [
      "tensor([0.0311], device='cuda:0', grad_fn=<DivBackward0>)\n",
      "tensor([0.0017], device='cuda:0', grad_fn=<DivBackward0>)\n"
     ]
    },
    {
     "name": "stderr",
     "output_type": "stream",
     "text": [
      "  6%|▌         | 17/300 [04:15<51:52, 11.00s/it]18 Nov 02:13    INFO  Epoch 17 | mini-batch training\n"
     ]
    },
    {
     "name": "stdout",
     "output_type": "stream",
     "text": [
      "tensor([0.0304], device='cuda:0', grad_fn=<DivBackward0>)\n",
      "tensor([0.0016], device='cuda:0', grad_fn=<DivBackward0>)\n"
     ]
    },
    {
     "name": "stderr",
     "output_type": "stream",
     "text": [
      "  6%|▌         | 18/300 [04:25<49:04, 10.44s/it]18 Nov 02:14    INFO  Epoch 18 | mini-batch training\n"
     ]
    },
    {
     "name": "stdout",
     "output_type": "stream",
     "text": [
      "tensor([0.0297], device='cuda:0', grad_fn=<DivBackward0>)\n",
      "tensor([0.0016], device='cuda:0', grad_fn=<DivBackward0>)\n"
     ]
    },
    {
     "name": "stderr",
     "output_type": "stream",
     "text": [
      "  6%|▋         | 19/300 [04:34<47:10, 10.07s/it]18 Nov 02:14    INFO  Epoch 19 | mini-batch training\n"
     ]
    },
    {
     "name": "stdout",
     "output_type": "stream",
     "text": [
      "tensor([0.0300], device='cuda:0', grad_fn=<DivBackward0>)\n",
      "tensor([0.0015], device='cuda:0', grad_fn=<DivBackward0>)\n"
     ]
    },
    {
     "name": "stderr",
     "output_type": "stream",
     "text": [
      "  7%|▋         | 20/300 [04:43<45:53,  9.83s/it]18 Nov 02:14    INFO  Epoch 20 | mini-batch training\n"
     ]
    },
    {
     "name": "stdout",
     "output_type": "stream",
     "text": [
      "tensor([0.0300], device='cuda:0', grad_fn=<DivBackward0>)\n",
      "tensor([0.0015], device='cuda:0', grad_fn=<DivBackward0>)\n",
      "(0.5935477812133518, 0.5545550156418798, 0.17801518540868388, 0.04580363569098418, 0.5530321854814816, 0.52155108001894)\n"
     ]
    },
    {
     "name": "stderr",
     "output_type": "stream",
     "text": [
      "  7%|▋         | 21/300 [05:42<1:54:25, 24.61s/it]18 Nov 02:15    INFO  Epoch 21 | mini-batch training\n"
     ]
    },
    {
     "name": "stdout",
     "output_type": "stream",
     "text": [
      "tensor([0.0292], device='cuda:0', grad_fn=<DivBackward0>)\n",
      "tensor([0.0015], device='cuda:0', grad_fn=<DivBackward0>)\n"
     ]
    },
    {
     "name": "stderr",
     "output_type": "stream",
     "text": [
      "  7%|▋         | 22/300 [05:51<1:32:53, 20.05s/it]18 Nov 02:15    INFO  Epoch 22 | mini-batch training\n"
     ]
    },
    {
     "name": "stdout",
     "output_type": "stream",
     "text": [
      "tensor([0.0287], device='cuda:0', grad_fn=<DivBackward0>)\n",
      "tensor([0.0014], device='cuda:0', grad_fn=<DivBackward0>)\n"
     ]
    },
    {
     "name": "stderr",
     "output_type": "stream",
     "text": [
      "  8%|▊         | 23/300 [06:01<1:17:24, 16.77s/it]18 Nov 02:15    INFO  Epoch 23 | mini-batch training\n"
     ]
    },
    {
     "name": "stdout",
     "output_type": "stream",
     "text": [
      "tensor([0.0288], device='cuda:0', grad_fn=<DivBackward0>)\n",
      "tensor([0.0014], device='cuda:0', grad_fn=<DivBackward0>)\n"
     ]
    },
    {
     "name": "stderr",
     "output_type": "stream",
     "text": [
      "  8%|▊         | 24/300 [06:10<1:06:37, 14.48s/it]18 Nov 02:15    INFO  Epoch 24 | mini-batch training\n"
     ]
    },
    {
     "name": "stdout",
     "output_type": "stream",
     "text": [
      "tensor([0.0290], device='cuda:0', grad_fn=<DivBackward0>)\n",
      "tensor([0.0014], device='cuda:0', grad_fn=<DivBackward0>)\n"
     ]
    },
    {
     "name": "stderr",
     "output_type": "stream",
     "text": [
      "  8%|▊         | 25/300 [06:19<59:10, 12.91s/it]  18 Nov 02:16    INFO  Epoch 25 | mini-batch training\n"
     ]
    },
    {
     "name": "stdout",
     "output_type": "stream",
     "text": [
      "tensor([0.0281], device='cuda:0', grad_fn=<DivBackward0>)\n",
      "tensor([0.0013], device='cuda:0', grad_fn=<DivBackward0>)\n"
     ]
    },
    {
     "name": "stderr",
     "output_type": "stream",
     "text": [
      "  9%|▊         | 26/300 [06:28<54:04, 11.84s/it]18 Nov 02:16    INFO  Epoch 26 | mini-batch training\n"
     ]
    },
    {
     "name": "stdout",
     "output_type": "stream",
     "text": [
      "tensor([0.0282], device='cuda:0', grad_fn=<DivBackward0>)\n",
      "tensor([0.0013], device='cuda:0', grad_fn=<DivBackward0>)\n"
     ]
    },
    {
     "name": "stderr",
     "output_type": "stream",
     "text": [
      "  9%|▉         | 27/300 [06:38<50:17, 11.05s/it]18 Nov 02:16    INFO  Epoch 27 | mini-batch training\n"
     ]
    },
    {
     "name": "stdout",
     "output_type": "stream",
     "text": [
      "tensor([0.0283], device='cuda:0', grad_fn=<DivBackward0>)\n",
      "tensor([0.0012], device='cuda:0', grad_fn=<DivBackward0>)\n"
     ]
    },
    {
     "name": "stderr",
     "output_type": "stream",
     "text": [
      "  9%|▉         | 28/300 [06:47<47:34, 10.49s/it]18 Nov 02:16    INFO  Epoch 28 | mini-batch training\n"
     ]
    },
    {
     "name": "stdout",
     "output_type": "stream",
     "text": [
      "tensor([0.0278], device='cuda:0', grad_fn=<DivBackward0>)\n",
      "tensor([0.0013], device='cuda:0', grad_fn=<DivBackward0>)\n"
     ]
    },
    {
     "name": "stderr",
     "output_type": "stream",
     "text": [
      " 10%|▉         | 29/300 [06:56<45:27, 10.06s/it]18 Nov 02:16    INFO  Epoch 29 | mini-batch training\n"
     ]
    },
    {
     "name": "stdout",
     "output_type": "stream",
     "text": [
      "tensor([0.0277], device='cuda:0', grad_fn=<DivBackward0>)\n",
      "tensor([0.0012], device='cuda:0', grad_fn=<DivBackward0>)\n"
     ]
    },
    {
     "name": "stderr",
     "output_type": "stream",
     "text": [
      " 10%|█         | 30/300 [07:05<43:58,  9.77s/it]18 Nov 02:16    INFO  Epoch 30 | mini-batch training\n"
     ]
    },
    {
     "name": "stdout",
     "output_type": "stream",
     "text": [
      "tensor([0.0275], device='cuda:0', grad_fn=<DivBackward0>)\n",
      "tensor([0.0012], device='cuda:0', grad_fn=<DivBackward0>)\n",
      "(0.5924266718291361, 0.549657642841329, 0.17833023315633637, 0.045309572561086586, 0.54798144099195, 0.5128560364522979)\n"
     ]
    },
    {
     "name": "stderr",
     "output_type": "stream",
     "text": [
      " 10%|█         | 31/300 [08:03<1:49:20, 24.39s/it]18 Nov 02:17    INFO  Epoch 31 | mini-batch training\n"
     ]
    },
    {
     "name": "stdout",
     "output_type": "stream",
     "text": [
      "tensor([0.0273], device='cuda:0', grad_fn=<DivBackward0>)\n",
      "tensor([0.0012], device='cuda:0', grad_fn=<DivBackward0>)\n"
     ]
    },
    {
     "name": "stderr",
     "output_type": "stream",
     "text": [
      " 11%|█         | 32/300 [08:12<1:28:15, 19.76s/it]18 Nov 02:17    INFO  Epoch 32 | mini-batch training\n"
     ]
    },
    {
     "name": "stdout",
     "output_type": "stream",
     "text": [
      "tensor([0.0276], device='cuda:0', grad_fn=<DivBackward0>)\n",
      "tensor([0.0011], device='cuda:0', grad_fn=<DivBackward0>)\n"
     ]
    },
    {
     "name": "stderr",
     "output_type": "stream",
     "text": [
      " 11%|█         | 33/300 [08:21<1:13:29, 16.51s/it]18 Nov 02:18    INFO  Epoch 33 | mini-batch training\n"
     ]
    },
    {
     "name": "stdout",
     "output_type": "stream",
     "text": [
      "tensor([0.0270], device='cuda:0', grad_fn=<DivBackward0>)\n",
      "tensor([0.0011], device='cuda:0', grad_fn=<DivBackward0>)\n"
     ]
    },
    {
     "name": "stderr",
     "output_type": "stream",
     "text": [
      " 11%|█▏        | 34/300 [08:30<1:03:11, 14.26s/it]18 Nov 02:18    INFO  Epoch 34 | mini-batch training\n"
     ]
    },
    {
     "name": "stdout",
     "output_type": "stream",
     "text": [
      "tensor([0.0270], device='cuda:0', grad_fn=<DivBackward0>)\n",
      "tensor([0.0011], device='cuda:0', grad_fn=<DivBackward0>)\n"
     ]
    },
    {
     "name": "stderr",
     "output_type": "stream",
     "text": [
      " 12%|█▏        | 35/300 [08:39<56:11, 12.72s/it]  18 Nov 02:18    INFO  Epoch 35 | mini-batch training\n"
     ]
    },
    {
     "name": "stdout",
     "output_type": "stream",
     "text": [
      "tensor([0.0269], device='cuda:0', grad_fn=<DivBackward0>)\n",
      "tensor([0.0011], device='cuda:0', grad_fn=<DivBackward0>)\n"
     ]
    },
    {
     "name": "stderr",
     "output_type": "stream",
     "text": [
      " 12%|█▏        | 36/300 [08:49<51:10, 11.63s/it]18 Nov 02:18    INFO  Epoch 36 | mini-batch training\n"
     ]
    },
    {
     "name": "stdout",
     "output_type": "stream",
     "text": [
      "tensor([0.0270], device='cuda:0', grad_fn=<DivBackward0>)\n",
      "tensor([0.0011], device='cuda:0', grad_fn=<DivBackward0>)\n"
     ]
    },
    {
     "name": "stderr",
     "output_type": "stream",
     "text": [
      " 12%|█▏        | 37/300 [08:58<47:30, 10.84s/it]18 Nov 02:18    INFO  Epoch 37 | mini-batch training\n"
     ]
    },
    {
     "name": "stdout",
     "output_type": "stream",
     "text": [
      "tensor([0.0270], device='cuda:0', grad_fn=<DivBackward0>)\n",
      "tensor([0.0011], device='cuda:0', grad_fn=<DivBackward0>)\n"
     ]
    },
    {
     "name": "stderr",
     "output_type": "stream",
     "text": [
      " 13%|█▎        | 38/300 [09:06<44:54, 10.28s/it]18 Nov 02:18    INFO  Epoch 38 | mini-batch training\n"
     ]
    },
    {
     "name": "stdout",
     "output_type": "stream",
     "text": [
      "tensor([0.0270], device='cuda:0', grad_fn=<DivBackward0>)\n",
      "tensor([0.0010], device='cuda:0', grad_fn=<DivBackward0>)\n"
     ]
    },
    {
     "name": "stderr",
     "output_type": "stream",
     "text": [
      " 13%|█▎        | 39/300 [09:15<43:02,  9.89s/it]18 Nov 02:18    INFO  Epoch 39 | mini-batch training\n"
     ]
    },
    {
     "name": "stdout",
     "output_type": "stream",
     "text": [
      "tensor([0.0267], device='cuda:0', grad_fn=<DivBackward0>)\n",
      "tensor([0.0011], device='cuda:0', grad_fn=<DivBackward0>)\n"
     ]
    },
    {
     "name": "stderr",
     "output_type": "stream",
     "text": [
      " 13%|█▎        | 40/300 [09:25<41:50,  9.66s/it]18 Nov 02:19    INFO  Epoch 40 | mini-batch training\n"
     ]
    },
    {
     "name": "stdout",
     "output_type": "stream",
     "text": [
      "tensor([0.0263], device='cuda:0', grad_fn=<DivBackward0>)\n",
      "tensor([0.0010], device='cuda:0', grad_fn=<DivBackward0>)\n",
      "(0.5915610261049564, 0.5494421174243813, 0.17747426555476867, 0.044064442400821247, 0.5397217884518911, 0.49790571922587473)\n"
     ]
    },
    {
     "name": "stderr",
     "output_type": "stream",
     "text": [
      " 14%|█▎        | 41/300 [10:23<1:45:05, 24.35s/it]18 Nov 02:20    INFO  Epoch 41 | mini-batch training\n"
     ]
    },
    {
     "name": "stdout",
     "output_type": "stream",
     "text": [
      "tensor([0.0264], device='cuda:0', grad_fn=<DivBackward0>)\n",
      "tensor([0.0010], device='cuda:0', grad_fn=<DivBackward0>)\n"
     ]
    },
    {
     "name": "stderr",
     "output_type": "stream",
     "text": [
      " 14%|█▍        | 42/300 [10:32<1:24:48, 19.72s/it]18 Nov 02:20    INFO  Epoch 42 | mini-batch training\n"
     ]
    },
    {
     "name": "stdout",
     "output_type": "stream",
     "text": [
      "tensor([0.0262], device='cuda:0', grad_fn=<DivBackward0>)\n",
      "tensor([0.0010], device='cuda:0', grad_fn=<DivBackward0>)\n"
     ]
    },
    {
     "name": "stderr",
     "output_type": "stream",
     "text": [
      " 14%|█▍        | 43/300 [10:41<1:10:45, 16.52s/it]18 Nov 02:20    INFO  Epoch 43 | mini-batch training\n"
     ]
    },
    {
     "name": "stdout",
     "output_type": "stream",
     "text": [
      "tensor([0.0259], device='cuda:0', grad_fn=<DivBackward0>)\n",
      "tensor([0.0010], device='cuda:0', grad_fn=<DivBackward0>)\n"
     ]
    },
    {
     "name": "stderr",
     "output_type": "stream",
     "text": [
      " 15%|█▍        | 44/300 [10:50<1:01:06, 14.32s/it]18 Nov 02:20    INFO  Epoch 44 | mini-batch training\n"
     ]
    },
    {
     "name": "stdout",
     "output_type": "stream",
     "text": [
      "tensor([0.0262], device='cuda:0', grad_fn=<DivBackward0>)\n",
      "tensor([0.0010], device='cuda:0', grad_fn=<DivBackward0>)\n"
     ]
    },
    {
     "name": "stderr",
     "output_type": "stream",
     "text": [
      " 15%|█▌        | 45/300 [11:00<54:15, 12.77s/it]  18 Nov 02:20    INFO  Epoch 45 | mini-batch training\n"
     ]
    },
    {
     "name": "stdout",
     "output_type": "stream",
     "text": [
      "tensor([0.0259], device='cuda:0', grad_fn=<DivBackward0>)\n",
      "tensor([0.0009], device='cuda:0', grad_fn=<DivBackward0>)\n"
     ]
    },
    {
     "name": "stderr",
     "output_type": "stream",
     "text": [
      " 15%|█▌        | 46/300 [11:09<49:24, 11.67s/it]18 Nov 02:20    INFO  Epoch 46 | mini-batch training\n"
     ]
    },
    {
     "name": "stdout",
     "output_type": "stream",
     "text": [
      "tensor([0.0261], device='cuda:0', grad_fn=<DivBackward0>)\n",
      "tensor([0.0009], device='cuda:0', grad_fn=<DivBackward0>)\n"
     ]
    },
    {
     "name": "stderr",
     "output_type": "stream",
     "text": [
      " 16%|█▌        | 47/300 [11:18<45:49, 10.87s/it]18 Nov 02:20    INFO  Epoch 47 | mini-batch training\n"
     ]
    },
    {
     "name": "stdout",
     "output_type": "stream",
     "text": [
      "tensor([0.0259], device='cuda:0', grad_fn=<DivBackward0>)\n",
      "tensor([0.0009], device='cuda:0', grad_fn=<DivBackward0>)\n"
     ]
    },
    {
     "name": "stderr",
     "output_type": "stream",
     "text": [
      " 16%|█▌        | 48/300 [11:27<43:33, 10.37s/it]18 Nov 02:21    INFO  Epoch 48 | mini-batch training\n"
     ]
    },
    {
     "name": "stdout",
     "output_type": "stream",
     "text": [
      "tensor([0.0259], device='cuda:0', grad_fn=<DivBackward0>)\n",
      "tensor([0.0009], device='cuda:0', grad_fn=<DivBackward0>)\n"
     ]
    },
    {
     "name": "stderr",
     "output_type": "stream",
     "text": [
      " 16%|█▋        | 49/300 [11:36<41:48,  9.99s/it]18 Nov 02:21    INFO  Epoch 49 | mini-batch training\n"
     ]
    },
    {
     "name": "stdout",
     "output_type": "stream",
     "text": [
      "tensor([0.0255], device='cuda:0', grad_fn=<DivBackward0>)\n",
      "tensor([0.0009], device='cuda:0', grad_fn=<DivBackward0>)\n"
     ]
    },
    {
     "name": "stderr",
     "output_type": "stream",
     "text": [
      " 17%|█▋        | 50/300 [11:45<40:24,  9.70s/it]18 Nov 02:21    INFO  Epoch 50 | mini-batch training\n"
     ]
    },
    {
     "name": "stdout",
     "output_type": "stream",
     "text": [
      "tensor([0.0256], device='cuda:0', grad_fn=<DivBackward0>)\n",
      "tensor([0.0009], device='cuda:0', grad_fn=<DivBackward0>)\n",
      "(0.585269973086874, 0.5427595158578202, 0.1790111857864249, 0.04589351200850879, 0.5446806678238406, 0.5035442801714417)\n"
     ]
    },
    {
     "name": "stderr",
     "output_type": "stream",
     "text": [
      " 17%|█▋        | 51/300 [12:44<1:41:04, 24.36s/it]18 Nov 02:22    INFO  Epoch 51 | mini-batch training\n"
     ]
    },
    {
     "name": "stdout",
     "output_type": "stream",
     "text": [
      "tensor([0.0256], device='cuda:0', grad_fn=<DivBackward0>)\n",
      "tensor([0.0009], device='cuda:0', grad_fn=<DivBackward0>)\n"
     ]
    },
    {
     "name": "stderr",
     "output_type": "stream",
     "text": [
      " 17%|█▋        | 52/300 [12:53<1:21:38, 19.75s/it]18 Nov 02:22    INFO  Epoch 52 | mini-batch training\n"
     ]
    },
    {
     "name": "stdout",
     "output_type": "stream",
     "text": [
      "tensor([0.0257], device='cuda:0', grad_fn=<DivBackward0>)\n",
      "tensor([0.0009], device='cuda:0', grad_fn=<DivBackward0>)\n"
     ]
    },
    {
     "name": "stderr",
     "output_type": "stream",
     "text": [
      " 18%|█▊        | 53/300 [13:02<1:08:03, 16.53s/it]18 Nov 02:22    INFO  Epoch 53 | mini-batch training\n"
     ]
    },
    {
     "name": "stdout",
     "output_type": "stream",
     "text": [
      "tensor([0.0258], device='cuda:0', grad_fn=<DivBackward0>)\n",
      "tensor([0.0009], device='cuda:0', grad_fn=<DivBackward0>)\n"
     ]
    },
    {
     "name": "stderr",
     "output_type": "stream",
     "text": [
      " 18%|█▊        | 54/300 [13:11<58:42, 14.32s/it]  18 Nov 02:22    INFO  Epoch 54 | mini-batch training\n"
     ]
    },
    {
     "name": "stdout",
     "output_type": "stream",
     "text": [
      "tensor([0.0255], device='cuda:0', grad_fn=<DivBackward0>)\n",
      "tensor([0.0009], device='cuda:0', grad_fn=<DivBackward0>)\n"
     ]
    },
    {
     "name": "stderr",
     "output_type": "stream",
     "text": [
      " 18%|█▊        | 55/300 [13:20<51:58, 12.73s/it]18 Nov 02:23    INFO  Epoch 55 | mini-batch training\n"
     ]
    },
    {
     "name": "stdout",
     "output_type": "stream",
     "text": [
      "tensor([0.0255], device='cuda:0', grad_fn=<DivBackward0>)\n",
      "tensor([0.0008], device='cuda:0', grad_fn=<DivBackward0>)\n"
     ]
    },
    {
     "name": "stderr",
     "output_type": "stream",
     "text": [
      " 19%|█▊        | 56/300 [13:29<47:29, 11.68s/it]18 Nov 02:23    INFO  Epoch 56 | mini-batch training\n"
     ]
    },
    {
     "name": "stdout",
     "output_type": "stream",
     "text": [
      "tensor([0.0252], device='cuda:0', grad_fn=<DivBackward0>)\n",
      "tensor([0.0008], device='cuda:0', grad_fn=<DivBackward0>)\n"
     ]
    },
    {
     "name": "stderr",
     "output_type": "stream",
     "text": [
      " 19%|█▉        | 57/300 [13:38<44:07, 10.89s/it]18 Nov 02:23    INFO  Epoch 57 | mini-batch training\n"
     ]
    },
    {
     "name": "stdout",
     "output_type": "stream",
     "text": [
      "tensor([0.0252], device='cuda:0', grad_fn=<DivBackward0>)\n",
      "tensor([0.0008], device='cuda:0', grad_fn=<DivBackward0>)\n"
     ]
    },
    {
     "name": "stderr",
     "output_type": "stream",
     "text": [
      " 19%|█▉        | 58/300 [13:47<41:37, 10.32s/it]18 Nov 02:23    INFO  Epoch 58 | mini-batch training\n"
     ]
    },
    {
     "name": "stdout",
     "output_type": "stream",
     "text": [
      "tensor([0.0255], device='cuda:0', grad_fn=<DivBackward0>)\n",
      "tensor([0.0008], device='cuda:0', grad_fn=<DivBackward0>)\n"
     ]
    },
    {
     "name": "stderr",
     "output_type": "stream",
     "text": [
      " 20%|█▉        | 59/300 [13:56<39:48,  9.91s/it]18 Nov 02:23    INFO  Epoch 59 | mini-batch training\n"
     ]
    },
    {
     "name": "stdout",
     "output_type": "stream",
     "text": [
      "tensor([0.0250], device='cuda:0', grad_fn=<DivBackward0>)\n",
      "tensor([0.0008], device='cuda:0', grad_fn=<DivBackward0>)\n"
     ]
    },
    {
     "name": "stderr",
     "output_type": "stream",
     "text": [
      " 20%|██        | 60/300 [14:05<38:44,  9.69s/it]18 Nov 02:23    INFO  Epoch 60 | mini-batch training\n"
     ]
    },
    {
     "name": "stdout",
     "output_type": "stream",
     "text": [
      "tensor([0.0252], device='cuda:0', grad_fn=<DivBackward0>)\n",
      "tensor([0.0008], device='cuda:0', grad_fn=<DivBackward0>)\n",
      "(0.5871569436463617, 0.5450153727652871, 0.17879758003001542, 0.04492512118809849, 0.5415371635336125, 0.5004962287008982)\n"
     ]
    },
    {
     "name": "stderr",
     "output_type": "stream",
     "text": [
      " 20%|██        | 61/300 [15:04<1:36:47, 24.30s/it]18 Nov 02:24    INFO  Epoch 61 | mini-batch training\n"
     ]
    },
    {
     "name": "stdout",
     "output_type": "stream",
     "text": [
      "tensor([0.0252], device='cuda:0', grad_fn=<DivBackward0>)\n",
      "tensor([0.0008], device='cuda:0', grad_fn=<DivBackward0>)\n"
     ]
    },
    {
     "name": "stderr",
     "output_type": "stream",
     "text": [
      " 21%|██        | 62/300 [15:13<1:18:17, 19.74s/it]18 Nov 02:24    INFO  Epoch 62 | mini-batch training\n"
     ]
    },
    {
     "name": "stdout",
     "output_type": "stream",
     "text": [
      "tensor([0.0253], device='cuda:0', grad_fn=<DivBackward0>)\n",
      "tensor([0.0008], device='cuda:0', grad_fn=<DivBackward0>)\n"
     ]
    },
    {
     "name": "stderr",
     "output_type": "stream",
     "text": [
      " 21%|██        | 63/300 [15:22<1:05:17, 16.53s/it]18 Nov 02:25    INFO  Epoch 63 | mini-batch training\n"
     ]
    },
    {
     "name": "stdout",
     "output_type": "stream",
     "text": [
      "tensor([0.0248], device='cuda:0', grad_fn=<DivBackward0>)\n",
      "tensor([0.0008], device='cuda:0', grad_fn=<DivBackward0>)\n"
     ]
    },
    {
     "name": "stderr",
     "output_type": "stream",
     "text": [
      " 21%|██▏       | 64/300 [15:31<56:11, 14.29s/it]  18 Nov 02:25    INFO  Epoch 64 | mini-batch training\n"
     ]
    },
    {
     "name": "stdout",
     "output_type": "stream",
     "text": [
      "tensor([0.0247], device='cuda:0', grad_fn=<DivBackward0>)\n",
      "tensor([0.0008], device='cuda:0', grad_fn=<DivBackward0>)\n"
     ]
    },
    {
     "name": "stderr",
     "output_type": "stream",
     "text": [
      " 22%|██▏       | 65/300 [15:40<49:49, 12.72s/it]18 Nov 02:25    INFO  Epoch 65 | mini-batch training\n"
     ]
    },
    {
     "name": "stdout",
     "output_type": "stream",
     "text": [
      "tensor([0.0250], device='cuda:0', grad_fn=<DivBackward0>)\n",
      "tensor([0.0008], device='cuda:0', grad_fn=<DivBackward0>)\n"
     ]
    },
    {
     "name": "stderr",
     "output_type": "stream",
     "text": [
      " 22%|██▏       | 66/300 [15:49<45:16, 11.61s/it]18 Nov 02:25    INFO  Epoch 66 | mini-batch training\n"
     ]
    },
    {
     "name": "stdout",
     "output_type": "stream",
     "text": [
      "tensor([0.0249], device='cuda:0', grad_fn=<DivBackward0>)\n",
      "tensor([0.0007], device='cuda:0', grad_fn=<DivBackward0>)\n"
     ]
    },
    {
     "name": "stderr",
     "output_type": "stream",
     "text": [
      " 22%|██▏       | 67/300 [15:58<42:01, 10.82s/it]18 Nov 02:25    INFO  Epoch 67 | mini-batch training\n"
     ]
    },
    {
     "name": "stdout",
     "output_type": "stream",
     "text": [
      "tensor([0.0249], device='cuda:0', grad_fn=<DivBackward0>)\n",
      "tensor([0.0007], device='cuda:0', grad_fn=<DivBackward0>)\n"
     ]
    },
    {
     "name": "stderr",
     "output_type": "stream",
     "text": [
      " 23%|██▎       | 68/300 [16:07<39:42, 10.27s/it]18 Nov 02:25    INFO  Epoch 68 | mini-batch training\n"
     ]
    },
    {
     "name": "stdout",
     "output_type": "stream",
     "text": [
      "tensor([0.0246], device='cuda:0', grad_fn=<DivBackward0>)\n",
      "tensor([0.0007], device='cuda:0', grad_fn=<DivBackward0>)\n"
     ]
    },
    {
     "name": "stderr",
     "output_type": "stream",
     "text": [
      " 23%|██▎       | 69/300 [16:16<38:07,  9.90s/it]18 Nov 02:25    INFO  Epoch 69 | mini-batch training\n"
     ]
    },
    {
     "name": "stdout",
     "output_type": "stream",
     "text": [
      "tensor([0.0250], device='cuda:0', grad_fn=<DivBackward0>)\n",
      "tensor([0.0007], device='cuda:0', grad_fn=<DivBackward0>)\n"
     ]
    },
    {
     "name": "stderr",
     "output_type": "stream",
     "text": [
      " 23%|██▎       | 70/300 [16:25<36:54,  9.63s/it]18 Nov 02:26    INFO  Epoch 70 | mini-batch training\n"
     ]
    },
    {
     "name": "stdout",
     "output_type": "stream",
     "text": [
      "tensor([0.0247], device='cuda:0', grad_fn=<DivBackward0>)\n",
      "tensor([0.0007], device='cuda:0', grad_fn=<DivBackward0>)\n",
      "(0.5753655564746731, 0.5265239740941184, 0.17829513363219143, 0.0435256732335937, 0.5416745319440768, 0.49876634560475785)\n"
     ]
    },
    {
     "name": "stderr",
     "output_type": "stream",
     "text": [
      " 24%|██▎       | 71/300 [17:23<1:32:54, 24.34s/it]18 Nov 02:27    INFO  Epoch 71 | mini-batch training\n"
     ]
    },
    {
     "name": "stdout",
     "output_type": "stream",
     "text": [
      "tensor([0.0244], device='cuda:0', grad_fn=<DivBackward0>)\n",
      "tensor([0.0007], device='cuda:0', grad_fn=<DivBackward0>)\n"
     ]
    },
    {
     "name": "stderr",
     "output_type": "stream",
     "text": [
      " 24%|██▍       | 72/300 [17:33<1:15:04, 19.76s/it]18 Nov 02:27    INFO  Epoch 72 | mini-batch training\n"
     ]
    },
    {
     "name": "stdout",
     "output_type": "stream",
     "text": [
      "tensor([0.0245], device='cuda:0', grad_fn=<DivBackward0>)\n",
      "tensor([0.0007], device='cuda:0', grad_fn=<DivBackward0>)\n"
     ]
    },
    {
     "name": "stderr",
     "output_type": "stream",
     "text": [
      " 24%|██▍       | 73/300 [17:42<1:02:32, 16.53s/it]18 Nov 02:27    INFO  Epoch 73 | mini-batch training\n"
     ]
    },
    {
     "name": "stdout",
     "output_type": "stream",
     "text": [
      "tensor([0.0247], device='cuda:0', grad_fn=<DivBackward0>)\n",
      "tensor([0.0007], device='cuda:0', grad_fn=<DivBackward0>)\n"
     ]
    },
    {
     "name": "stderr",
     "output_type": "stream",
     "text": [
      " 25%|██▍       | 74/300 [17:51<53:48, 14.28s/it]  18 Nov 02:27    INFO  Epoch 74 | mini-batch training\n"
     ]
    },
    {
     "name": "stdout",
     "output_type": "stream",
     "text": [
      "tensor([0.0244], device='cuda:0', grad_fn=<DivBackward0>)\n",
      "tensor([0.0007], device='cuda:0', grad_fn=<DivBackward0>)\n"
     ]
    },
    {
     "name": "stderr",
     "output_type": "stream",
     "text": [
      " 25%|██▌       | 75/300 [18:00<47:40, 12.72s/it]18 Nov 02:27    INFO  Epoch 75 | mini-batch training\n"
     ]
    },
    {
     "name": "stdout",
     "output_type": "stream",
     "text": [
      "tensor([0.0241], device='cuda:0', grad_fn=<DivBackward0>)\n",
      "tensor([0.0007], device='cuda:0', grad_fn=<DivBackward0>)\n"
     ]
    },
    {
     "name": "stderr",
     "output_type": "stream",
     "text": [
      " 25%|██▌       | 76/300 [18:09<43:21, 11.61s/it]18 Nov 02:27    INFO  Epoch 76 | mini-batch training\n"
     ]
    },
    {
     "name": "stdout",
     "output_type": "stream",
     "text": [
      "tensor([0.0241], device='cuda:0', grad_fn=<DivBackward0>)\n",
      "tensor([0.0007], device='cuda:0', grad_fn=<DivBackward0>)\n"
     ]
    },
    {
     "name": "stderr",
     "output_type": "stream",
     "text": [
      " 26%|██▌       | 77/300 [18:18<40:15, 10.83s/it]18 Nov 02:27    INFO  Epoch 77 | mini-batch training\n"
     ]
    },
    {
     "name": "stdout",
     "output_type": "stream",
     "text": [
      "tensor([0.0243], device='cuda:0', grad_fn=<DivBackward0>)\n",
      "tensor([0.0007], device='cuda:0', grad_fn=<DivBackward0>)\n"
     ]
    },
    {
     "name": "stderr",
     "output_type": "stream",
     "text": [
      " 26%|██▌       | 78/300 [18:27<38:02, 10.28s/it]18 Nov 02:28    INFO  Epoch 78 | mini-batch training\n"
     ]
    },
    {
     "name": "stdout",
     "output_type": "stream",
     "text": [
      "tensor([0.0244], device='cuda:0', grad_fn=<DivBackward0>)\n",
      "tensor([0.0007], device='cuda:0', grad_fn=<DivBackward0>)\n"
     ]
    },
    {
     "name": "stderr",
     "output_type": "stream",
     "text": [
      " 26%|██▋       | 79/300 [18:36<36:27,  9.90s/it]18 Nov 02:28    INFO  Epoch 79 | mini-batch training\n"
     ]
    },
    {
     "name": "stdout",
     "output_type": "stream",
     "text": [
      "tensor([0.0242], device='cuda:0', grad_fn=<DivBackward0>)\n",
      "tensor([0.0006], device='cuda:0', grad_fn=<DivBackward0>)\n"
     ]
    },
    {
     "name": "stderr",
     "output_type": "stream",
     "text": [
      " 27%|██▋       | 80/300 [18:45<35:18,  9.63s/it]18 Nov 02:28    INFO  Epoch 80 | mini-batch training\n"
     ]
    },
    {
     "name": "stdout",
     "output_type": "stream",
     "text": [
      "tensor([0.0245], device='cuda:0', grad_fn=<DivBackward0>)\n",
      "tensor([0.0006], device='cuda:0', grad_fn=<DivBackward0>)\n",
      "(0.5852681593054576, 0.5378733074006632, 0.17732766575344713, 0.041857929571050737, 0.5457104257304454, 0.5075910127909155)\n"
     ]
    },
    {
     "name": "stderr",
     "output_type": "stream",
     "text": [
      " 27%|██▋       | 81/300 [19:43<1:28:31, 24.25s/it]18 Nov 02:29    INFO  Epoch 81 | mini-batch training\n"
     ]
    },
    {
     "name": "stdout",
     "output_type": "stream",
     "text": [
      "tensor([0.0244], device='cuda:0', grad_fn=<DivBackward0>)\n",
      "tensor([0.0006], device='cuda:0', grad_fn=<DivBackward0>)\n"
     ]
    },
    {
     "name": "stderr",
     "output_type": "stream",
     "text": [
      " 27%|██▋       | 82/300 [19:52<1:11:30, 19.68s/it]18 Nov 02:29    INFO  Epoch 82 | mini-batch training\n"
     ]
    },
    {
     "name": "stdout",
     "output_type": "stream",
     "text": [
      "tensor([0.0241], device='cuda:0', grad_fn=<DivBackward0>)\n",
      "tensor([0.0006], device='cuda:0', grad_fn=<DivBackward0>)\n"
     ]
    },
    {
     "name": "stderr",
     "output_type": "stream",
     "text": [
      " 28%|██▊       | 83/300 [20:01<59:30, 16.45s/it]  18 Nov 02:29    INFO  Epoch 83 | mini-batch training\n"
     ]
    },
    {
     "name": "stdout",
     "output_type": "stream",
     "text": [
      "tensor([0.0240], device='cuda:0', grad_fn=<DivBackward0>)\n",
      "tensor([0.0006], device='cuda:0', grad_fn=<DivBackward0>)\n"
     ]
    },
    {
     "name": "stderr",
     "output_type": "stream",
     "text": [
      " 28%|██▊       | 84/300 [20:10<51:09, 14.21s/it]18 Nov 02:29    INFO  Epoch 84 | mini-batch training\n"
     ]
    },
    {
     "name": "stdout",
     "output_type": "stream",
     "text": [
      "tensor([0.0241], device='cuda:0', grad_fn=<DivBackward0>)\n",
      "tensor([0.0006], device='cuda:0', grad_fn=<DivBackward0>)\n"
     ]
    },
    {
     "name": "stderr",
     "output_type": "stream",
     "text": [
      " 28%|██▊       | 85/300 [20:19<45:13, 12.62s/it]18 Nov 02:30    INFO  Epoch 85 | mini-batch training\n"
     ]
    },
    {
     "name": "stdout",
     "output_type": "stream",
     "text": [
      "tensor([0.0243], device='cuda:0', grad_fn=<DivBackward0>)\n",
      "tensor([0.0006], device='cuda:0', grad_fn=<DivBackward0>)\n"
     ]
    },
    {
     "name": "stderr",
     "output_type": "stream",
     "text": [
      " 29%|██▊       | 86/300 [20:28<41:04, 11.52s/it]18 Nov 02:30    INFO  Epoch 86 | mini-batch training\n"
     ]
    },
    {
     "name": "stdout",
     "output_type": "stream",
     "text": [
      "tensor([0.0237], device='cuda:0', grad_fn=<DivBackward0>)\n",
      "tensor([0.0006], device='cuda:0', grad_fn=<DivBackward0>)\n"
     ]
    },
    {
     "name": "stderr",
     "output_type": "stream",
     "text": [
      " 29%|██▉       | 87/300 [20:37<38:09, 10.75s/it]18 Nov 02:30    INFO  Epoch 87 | mini-batch training\n"
     ]
    },
    {
     "name": "stdout",
     "output_type": "stream",
     "text": [
      "tensor([0.0241], device='cuda:0', grad_fn=<DivBackward0>)\n",
      "tensor([0.0006], device='cuda:0', grad_fn=<DivBackward0>)\n"
     ]
    },
    {
     "name": "stderr",
     "output_type": "stream",
     "text": [
      " 29%|██▉       | 88/300 [20:46<36:04, 10.21s/it]18 Nov 02:30    INFO  Epoch 88 | mini-batch training\n"
     ]
    },
    {
     "name": "stdout",
     "output_type": "stream",
     "text": [
      "tensor([0.0243], device='cuda:0', grad_fn=<DivBackward0>)\n",
      "tensor([0.0006], device='cuda:0', grad_fn=<DivBackward0>)\n"
     ]
    },
    {
     "name": "stderr",
     "output_type": "stream",
     "text": [
      " 30%|██▉       | 89/300 [20:55<34:40,  9.86s/it]18 Nov 02:30    INFO  Epoch 89 | mini-batch training\n"
     ]
    },
    {
     "name": "stdout",
     "output_type": "stream",
     "text": [
      "tensor([0.0239], device='cuda:0', grad_fn=<DivBackward0>)\n",
      "tensor([0.0006], device='cuda:0', grad_fn=<DivBackward0>)\n"
     ]
    },
    {
     "name": "stderr",
     "output_type": "stream",
     "text": [
      " 30%|███       | 90/300 [21:04<33:36,  9.60s/it]18 Nov 02:30    INFO  Epoch 90 | mini-batch training\n"
     ]
    },
    {
     "name": "stdout",
     "output_type": "stream",
     "text": [
      "tensor([0.0239], device='cuda:0', grad_fn=<DivBackward0>)\n",
      "tensor([0.0006], device='cuda:0', grad_fn=<DivBackward0>)\n",
      "(0.5785033572248204, 0.5277998721543207, 0.17878741453230895, 0.042627385322912235, 0.54538906252539, 0.5116696562602641)\n"
     ]
    },
    {
     "name": "stderr",
     "output_type": "stream",
     "text": [
      " 30%|███       | 91/300 [22:02<1:24:42, 24.32s/it]18 Nov 02:31    INFO  Epoch 91 | mini-batch training\n"
     ]
    },
    {
     "name": "stdout",
     "output_type": "stream",
     "text": [
      "tensor([0.0236], device='cuda:0', grad_fn=<DivBackward0>)\n",
      "tensor([0.0006], device='cuda:0', grad_fn=<DivBackward0>)\n"
     ]
    },
    {
     "name": "stderr",
     "output_type": "stream",
     "text": [
      " 31%|███       | 92/300 [22:11<1:08:22, 19.72s/it]18 Nov 02:31    INFO  Epoch 92 | mini-batch training\n"
     ]
    },
    {
     "name": "stdout",
     "output_type": "stream",
     "text": [
      "tensor([0.0238], device='cuda:0', grad_fn=<DivBackward0>)\n",
      "tensor([0.0006], device='cuda:0', grad_fn=<DivBackward0>)\n"
     ]
    },
    {
     "name": "stderr",
     "output_type": "stream",
     "text": [
      " 31%|███       | 93/300 [22:20<56:53, 16.49s/it]  18 Nov 02:32    INFO  Epoch 93 | mini-batch training\n"
     ]
    },
    {
     "name": "stdout",
     "output_type": "stream",
     "text": [
      "tensor([0.0237], device='cuda:0', grad_fn=<DivBackward0>)\n",
      "tensor([0.0006], device='cuda:0', grad_fn=<DivBackward0>)\n"
     ]
    },
    {
     "name": "stderr",
     "output_type": "stream",
     "text": [
      " 31%|███▏      | 94/300 [22:29<48:55, 14.25s/it]18 Nov 02:32    INFO  Epoch 94 | mini-batch training\n"
     ]
    },
    {
     "name": "stdout",
     "output_type": "stream",
     "text": [
      "tensor([0.0236], device='cuda:0', grad_fn=<DivBackward0>)\n",
      "tensor([0.0006], device='cuda:0', grad_fn=<DivBackward0>)\n"
     ]
    },
    {
     "name": "stderr",
     "output_type": "stream",
     "text": [
      " 32%|███▏      | 95/300 [22:38<43:15, 12.66s/it]18 Nov 02:32    INFO  Epoch 95 | mini-batch training\n"
     ]
    },
    {
     "name": "stdout",
     "output_type": "stream",
     "text": [
      "tensor([0.0238], device='cuda:0', grad_fn=<DivBackward0>)\n",
      "tensor([0.0006], device='cuda:0', grad_fn=<DivBackward0>)\n"
     ]
    },
    {
     "name": "stderr",
     "output_type": "stream",
     "text": [
      " 32%|███▏      | 96/300 [22:47<39:14, 11.54s/it]18 Nov 02:32    INFO  Epoch 96 | mini-batch training\n"
     ]
    },
    {
     "name": "stdout",
     "output_type": "stream",
     "text": [
      "tensor([0.0236], device='cuda:0', grad_fn=<DivBackward0>)\n",
      "tensor([0.0006], device='cuda:0', grad_fn=<DivBackward0>)\n"
     ]
    },
    {
     "name": "stderr",
     "output_type": "stream",
     "text": [
      " 32%|███▏      | 97/300 [22:56<36:32, 10.80s/it]18 Nov 02:32    INFO  Epoch 97 | mini-batch training\n"
     ]
    },
    {
     "name": "stdout",
     "output_type": "stream",
     "text": [
      "tensor([0.0232], device='cuda:0', grad_fn=<DivBackward0>)\n",
      "tensor([0.0006], device='cuda:0', grad_fn=<DivBackward0>)\n"
     ]
    },
    {
     "name": "stderr",
     "output_type": "stream",
     "text": [
      " 33%|███▎      | 98/300 [23:05<34:42, 10.31s/it]18 Nov 02:32    INFO  Epoch 98 | mini-batch training\n"
     ]
    },
    {
     "name": "stdout",
     "output_type": "stream",
     "text": [
      "tensor([0.0236], device='cuda:0', grad_fn=<DivBackward0>)\n",
      "tensor([0.0006], device='cuda:0', grad_fn=<DivBackward0>)\n"
     ]
    },
    {
     "name": "stderr",
     "output_type": "stream",
     "text": [
      " 33%|███▎      | 99/300 [23:15<33:14,  9.92s/it]18 Nov 02:32    INFO  Epoch 99 | mini-batch training\n"
     ]
    },
    {
     "name": "stdout",
     "output_type": "stream",
     "text": [
      "tensor([0.0235], device='cuda:0', grad_fn=<DivBackward0>)\n",
      "tensor([0.0005], device='cuda:0', grad_fn=<DivBackward0>)\n"
     ]
    },
    {
     "name": "stderr",
     "output_type": "stream",
     "text": [
      " 33%|███▎      | 100/300 [23:23<32:07,  9.64s/it]18 Nov 02:33    INFO  Epoch 100 | mini-batch training\n"
     ]
    },
    {
     "name": "stdout",
     "output_type": "stream",
     "text": [
      "tensor([0.0237], device='cuda:0', grad_fn=<DivBackward0>)\n",
      "tensor([0.0005], device='cuda:0', grad_fn=<DivBackward0>)\n",
      "(0.5736929289112572, 0.5187469119366986, 0.178777821875986, 0.04214609810651788, 0.542259840107216, 0.5103892445526239)\n"
     ]
    },
    {
     "name": "stderr",
     "output_type": "stream",
     "text": [
      " 34%|███▎      | 101/300 [24:22<1:20:35, 24.30s/it]18 Nov 02:34    INFO  Epoch 101 | mini-batch training\n"
     ]
    },
    {
     "name": "stdout",
     "output_type": "stream",
     "text": [
      "tensor([0.0236], device='cuda:0', grad_fn=<DivBackward0>)\n",
      "tensor([0.0005], device='cuda:0', grad_fn=<DivBackward0>)\n"
     ]
    },
    {
     "name": "stderr",
     "output_type": "stream",
     "text": [
      " 34%|███▍      | 102/300 [24:31<1:05:02, 19.71s/it]18 Nov 02:34    INFO  Epoch 102 | mini-batch training\n"
     ]
    },
    {
     "name": "stdout",
     "output_type": "stream",
     "text": [
      "tensor([0.0241], device='cuda:0', grad_fn=<DivBackward0>)\n",
      "tensor([0.0005], device='cuda:0', grad_fn=<DivBackward0>)\n"
     ]
    },
    {
     "name": "stderr",
     "output_type": "stream",
     "text": [
      " 34%|███▍      | 103/300 [24:40<54:08, 16.49s/it]  18 Nov 02:34    INFO  Epoch 103 | mini-batch training\n"
     ]
    },
    {
     "name": "stdout",
     "output_type": "stream",
     "text": [
      "tensor([0.0236], device='cuda:0', grad_fn=<DivBackward0>)\n",
      "tensor([0.0005], device='cuda:0', grad_fn=<DivBackward0>)\n"
     ]
    },
    {
     "name": "stderr",
     "output_type": "stream",
     "text": [
      " 35%|███▍      | 104/300 [24:49<46:27, 14.22s/it]18 Nov 02:34    INFO  Epoch 104 | mini-batch training\n"
     ]
    },
    {
     "name": "stdout",
     "output_type": "stream",
     "text": [
      "tensor([0.0234], device='cuda:0', grad_fn=<DivBackward0>)\n",
      "tensor([0.0005], device='cuda:0', grad_fn=<DivBackward0>)\n"
     ]
    },
    {
     "name": "stderr",
     "output_type": "stream",
     "text": [
      " 35%|███▌      | 105/300 [24:58<41:07, 12.65s/it]18 Nov 02:34    INFO  Epoch 105 | mini-batch training\n"
     ]
    },
    {
     "name": "stdout",
     "output_type": "stream",
     "text": [
      "tensor([0.0235], device='cuda:0', grad_fn=<DivBackward0>)\n",
      "tensor([0.0005], device='cuda:0', grad_fn=<DivBackward0>)\n"
     ]
    },
    {
     "name": "stderr",
     "output_type": "stream",
     "text": [
      " 35%|███▌      | 106/300 [25:07<37:19, 11.54s/it]18 Nov 02:34    INFO  Epoch 106 | mini-batch training\n"
     ]
    },
    {
     "name": "stdout",
     "output_type": "stream",
     "text": [
      "tensor([0.0232], device='cuda:0', grad_fn=<DivBackward0>)\n",
      "tensor([0.0005], device='cuda:0', grad_fn=<DivBackward0>)\n"
     ]
    },
    {
     "name": "stderr",
     "output_type": "stream",
     "text": [
      " 36%|███▌      | 107/300 [25:16<34:39, 10.78s/it]18 Nov 02:34    INFO  Epoch 107 | mini-batch training\n"
     ]
    },
    {
     "name": "stdout",
     "output_type": "stream",
     "text": [
      "tensor([0.0236], device='cuda:0', grad_fn=<DivBackward0>)\n",
      "tensor([0.0005], device='cuda:0', grad_fn=<DivBackward0>)\n"
     ]
    },
    {
     "name": "stderr",
     "output_type": "stream",
     "text": [
      "18 Nov 02:35    INFO  [Train Info] Early Stop!\tEpoch:107\n",
      " 36%|███▌      | 107/300 [25:25<45:51, 14.26s/it]\n"
     ]
    },
    {
     "name": "stdout",
     "output_type": "stream",
     "text": [
      "Timer unit: 1e-09 s\n",
      "\n",
      "Total time: 1525.51 s\n",
      "File: /home/lacuna42/nktn/OpenHGNN/openhgnn/trainerflow/KTN_trainer.py\n",
      "Function: train at line 107\n",
      "\n",
      "Line #      Hits         Time  Per Hit   % Time  Line Contents\n",
      "==============================================================\n",
      "   107                                               def train(self):\n",
      "   108         1    2015264.0    2e+06      0.0          self.preprocess()\n",
      "   109         1      11477.0  11477.0      0.0          stopper = EarlyStopping(self.args.patience)\n",
      "   110         1    2116612.0    2e+06      0.0          epoch_iter = tqdm(range(self.max_epoch))\n",
      "   111       108  108978821.0    1e+06      0.0          for epoch in epoch_iter:\n",
      "   112       108     178254.0   1650.5      0.0              if self.args.mini_batch_flag:\n",
      "   113       108  165498667.0    2e+06      0.0                  self.logger.info(\"Epoch {:d} | mini-batch training\".format(epoch))\n",
      "   114       108        1e+12    9e+09     64.0                  train_loss, matching_loss = self._mini_train_step()\n",
      "   115       108 2272236070.0    2e+07      0.1                  print(train_loss)\n",
      "   116       108  192401140.0    2e+06      0.0                  print(matching_loss)\n",
      "   117       108   50278580.0 465542.4      0.0                  loss = train_loss + self.matching_coeff * matching_loss\n",
      "   118       108  850143197.0    8e+06      0.1                  early_stop = stopper.loss_step(loss, self.model)\n",
      "   119       108     252584.0   2338.7      0.0                  if epoch % self.evaluate_interval == 0:\n",
      "   120        11        5e+11    5e+10     35.8                      acc = self._mini_test_step()\n",
      "   121        11   15231352.0    1e+06      0.0                      print(acc)\n",
      "   122       108      67513.0    625.1      0.0                  if early_stop:\n",
      "   123         1    1800351.0    2e+06      0.0                      self.logger.train_info(\"Early Stop!\\tEpoch:\" + str(epoch))\n",
      "   124         1    1410110.0    1e+06      0.0                      break\n",
      "   125                                                       else:\n",
      "   126                                                           self.logger.info(\"Epoch {:d} | full-batch training\".format(epoch))\n",
      "   127                                                           train_loss = self._full_train_step()\n",
      "   128                                                           self.logger.info(\n",
      "   129                                                               \"Epoch {:d} | Train Loss {:.4f}\".format(epoch, train_loss)\n",
      "   130                                                           )\n",
      "   131                                                           h_dict = self.feature\n",
      "   132                                                           h_dict = self.model(self.g, h_dict)\n",
      "   133                                                           h_S = h_dict[self.source_type]\n",
      "   134                                                           h_T = h_dict[self.target_type]\n",
      "   135                                                           matching_loss = self.get_matching_loss(h_S, h_T, self.g)\n",
      "   136                                                           print(matching_loss)\n",
      "   137                                                           loss = train_loss + self.matching_coeff * matching_loss\n",
      "   138                                                           self.optimizer.zero_grad()\n",
      "   139                                                           loss.backward()\n",
      "   140                                                           self.optimizer.step()\n",
      "   141                                                           if epoch % self.evaluate_interval == 0:\n",
      "   142                                                               self.logger.info(\"Start evaling\")\n",
      "   143                                                               acc = self._full_test_step()\n",
      "   144                                                               print(acc)\n",
      "   145                                                               # use summary writer to record the acc\n",
      "\n"
     ]
    }
   ],
   "source": [
    "experiment.run()"
   ]
  },
  {
   "cell_type": "code",
   "execution_count": null,
   "metadata": {},
   "outputs": [],
   "source": [
    "def _ndcg(rel):\n",
    "    length=rel.shape[1]\n",
    "    r_rel_gain=torch.log2(torch.arange(2,length+2))\n",
    "    dcg=torch.sum(rel/r_rel_gain,dim=1)\n",
    "    sorted_rel,_=torch.sort(input=rel,descending=True,dim=1)\n",
    "    idcg=torch.sum(sorted_rel/r_rel_gain,dim=1)\n",
    "    ndcg=dcg/idcg\n",
    "    return torch.mean(ndcg)\n",
    "def calc_acc(y_pred, y_true):\n",
    "    bi = torch.argsort(y_pred, dim=-1, descending=True)\n",
    "    rel = y_true[torch.arange(len(y_true))[:, None], bi]\n",
    "    print(rel)\n",
    "    ndcg = _ndcg(rel)\n",
    "    return ndcg"
   ]
  }
 ],
 "metadata": {
  "kernelspec": {
   "display_name": "w2",
   "language": "python",
   "name": "python3"
  },
  "language_info": {
   "codemirror_mode": {
    "name": "ipython",
    "version": 3
   },
   "file_extension": ".py",
   "mimetype": "text/x-python",
   "name": "python",
   "nbconvert_exporter": "python",
   "pygments_lexer": "ipython3",
   "version": "3.11.6"
  }
 },
 "nbformat": 4,
 "nbformat_minor": 2
}
