{
 "cells": [
  {
   "cell_type": "code",
   "execution_count": 1,
   "metadata": {},
   "outputs": [],
   "source": [
    "%load_ext autoreload\n",
    "%autoreload 2"
   ]
  },
  {
   "cell_type": "code",
   "execution_count": 2,
   "metadata": {},
   "outputs": [
    {
     "ename": "ModuleNotFoundError",
     "evalue": "No module named 'scipy'",
     "output_type": "error",
     "traceback": [
      "\u001b[0;31m---------------------------------------------------------------------------\u001b[0m",
      "\u001b[0;31mModuleNotFoundError\u001b[0m                       Traceback (most recent call last)",
      "\u001b[1;32m/home/lacuna42/nktn/OpenHGNN/test.ipynb Cell 2\u001b[0m line \u001b[0;36m1\n\u001b[0;32m----> <a href='vscode-notebook-cell://ssh-remote%2B35.221.149.59/home/lacuna42/nktn/OpenHGNN/test.ipynb#W4sdnNjb2RlLXJlbW90ZQ%3D%3D?line=0'>1</a>\u001b[0m \u001b[39mimport\u001b[39;00m \u001b[39mopenhgnn\u001b[39;00m\n\u001b[1;32m      <a href='vscode-notebook-cell://ssh-remote%2B35.221.149.59/home/lacuna42/nktn/OpenHGNN/test.ipynb#W4sdnNjb2RlLXJlbW90ZQ%3D%3D?line=1'>2</a>\u001b[0m \u001b[39mfrom\u001b[39;00m \u001b[39moag_dataset\u001b[39;00m \u001b[39mimport\u001b[39;00m OAGDataset\n",
      "File \u001b[0;32m~/nktn/OpenHGNN/openhgnn/__init__.py:1\u001b[0m\n\u001b[0;32m----> 1\u001b[0m \u001b[39mfrom\u001b[39;00m \u001b[39m.\u001b[39;00m\u001b[39mmodels\u001b[39;00m \u001b[39mimport\u001b[39;00m \u001b[39m*\u001b[39m\n\u001b[1;32m      2\u001b[0m \u001b[39mfrom\u001b[39;00m \u001b[39m.\u001b[39;00m\u001b[39mdataset\u001b[39;00m \u001b[39mimport\u001b[39;00m \u001b[39m*\u001b[39m\n\u001b[1;32m      3\u001b[0m \u001b[39mfrom\u001b[39;00m \u001b[39m.\u001b[39;00m\u001b[39mlayers\u001b[39;00m \u001b[39mimport\u001b[39;00m \u001b[39m*\u001b[39m\n",
      "File \u001b[0;32m~/nktn/OpenHGNN/openhgnn/models/__init__.py:120\u001b[0m\n\u001b[1;32m     62\u001b[0m     \u001b[39mreturn\u001b[39;00m MODEL_REGISTRY[model]\n\u001b[1;32m     65\u001b[0m SUPPORTED_MODELS \u001b[39m=\u001b[39m {\n\u001b[1;32m     66\u001b[0m     \u001b[39m\"\u001b[39m\u001b[39mCompGCN\u001b[39m\u001b[39m\"\u001b[39m: \u001b[39m\"\u001b[39m\u001b[39mopenhgnn.models.CompGCN\u001b[39m\u001b[39m\"\u001b[39m,\n\u001b[1;32m     67\u001b[0m     \u001b[39m\"\u001b[39m\u001b[39mHetGNN\u001b[39m\u001b[39m\"\u001b[39m: \u001b[39m\"\u001b[39m\u001b[39mopenhgnn.models.HetGNN\u001b[39m\u001b[39m\"\u001b[39m,\n\u001b[0;32m   (...)\u001b[0m\n\u001b[1;32m    117\u001b[0m     \u001b[39m\"\u001b[39m\u001b[39mHMPNN\u001b[39m\u001b[39m\"\u001b[39m: \u001b[39m\"\u001b[39m\u001b[39mopenhgnn.models.HMPNN\u001b[39m\u001b[39m\"\u001b[39m,\n\u001b[1;32m    118\u001b[0m }\n\u001b[0;32m--> 120\u001b[0m \u001b[39mfrom\u001b[39;00m \u001b[39m.\u001b[39;00m\u001b[39mHGCL\u001b[39;00m \u001b[39mimport\u001b[39;00m HGCL\n\u001b[1;32m    121\u001b[0m \u001b[39mfrom\u001b[39;00m \u001b[39m.\u001b[39;00m\u001b[39mCompGCN\u001b[39;00m \u001b[39mimport\u001b[39;00m CompGCN\n\u001b[1;32m    122\u001b[0m \u001b[39mfrom\u001b[39;00m \u001b[39m.\u001b[39;00m\u001b[39mHetGNN\u001b[39;00m \u001b[39mimport\u001b[39;00m HetGNN\n",
      "File \u001b[0;32m~/nktn/OpenHGNN/openhgnn/models/HGCL.py:5\u001b[0m\n\u001b[1;32m      3\u001b[0m \u001b[39mimport\u001b[39;00m \u001b[39mtorch\u001b[39;00m\u001b[39m.\u001b[39;00m\u001b[39mnn\u001b[39;00m \u001b[39mas\u001b[39;00m \u001b[39mnn\u001b[39;00m\n\u001b[1;32m      4\u001b[0m \u001b[39mimport\u001b[39;00m \u001b[39mtorch\u001b[39;00m\u001b[39m.\u001b[39;00m\u001b[39mnn\u001b[39;00m\u001b[39m.\u001b[39;00m\u001b[39mfunctional\u001b[39;00m \u001b[39mas\u001b[39;00m \u001b[39mF\u001b[39;00m\n\u001b[0;32m----> 5\u001b[0m \u001b[39mimport\u001b[39;00m \u001b[39mscipy\u001b[39;00m\u001b[39m.\u001b[39;00m\u001b[39msparse\u001b[39;00m \u001b[39mas\u001b[39;00m \u001b[39msp\u001b[39;00m\n\u001b[1;32m      6\u001b[0m \u001b[39mimport\u001b[39;00m \u001b[39mnumpy\u001b[39;00m \u001b[39mas\u001b[39;00m \u001b[39mnp\u001b[39;00m\n\u001b[1;32m      7\u001b[0m \u001b[39mfrom\u001b[39;00m \u001b[39mopenhgnn\u001b[39;00m\u001b[39m.\u001b[39;00m\u001b[39mmodels\u001b[39;00m\u001b[39m.\u001b[39;00m\u001b[39mbase_model\u001b[39;00m \u001b[39mimport\u001b[39;00m BaseModel\n",
      "\u001b[0;31mModuleNotFoundError\u001b[0m: No module named 'scipy'"
     ]
    }
   ],
   "source": [
    "import openhgnn\n",
    "from oag_dataset import OAGDataset"
   ]
  },
  {
   "cell_type": "code",
   "execution_count": 2,
   "metadata": {},
   "outputs": [
    {
     "name": "stdout",
     "output_type": "stream",
     "text": [
      "------------------------------------------------------------------------------\n",
      " Basic setup of this experiment: \n",
      "     model: HMPNN    \n",
      "     dataset: aifb   \n",
      "     task: node_classification. \n",
      " This experiment has following parameters. You can use set_params to edit them.\n",
      " Use print(experiment) to print this information again.\n",
      "------------------------------------------------------------------------------\n",
      "dataset_name: aifb\n",
      "device: cpu\n",
      "gpu: -1\n",
      "hidden_dim: 64\n",
      "hpo_search_space: None\n",
      "hpo_trials: 100\n",
      "load_from_pretrained: False\n",
      "lr: 0.05\n",
      "max_epoch: 30\n",
      "model_name: HMPNN\n",
      "num_layers: 3\n",
      "optimizer: Adam\n",
      "output_dir: ./openhgnn/output/HMPNN\n",
      "patience: 1\n",
      "seed: 0\n",
      "use_best_config: False\n",
      "\n"
     ]
    }
   ],
   "source": [
    "from openhgnn import Experiment\n",
    "experiment = Experiment(model='HMPNN', dataset='aifb', task='node_classification', gpu=-1, lr=0.05, hidden_dim=64,\n",
    "                        max_epoch=30, num_layers=3)"
   ]
  },
  {
   "cell_type": "code",
   "execution_count": 3,
   "metadata": {},
   "outputs": [
    {
     "name": "stderr",
     "output_type": "stream",
     "text": [
      "03 Nov 07:57    INFO  [Config Info]\tModel: HMPNN,\tTask: node_classification,\tDataset: aifb\n"
     ]
    },
    {
     "name": "stdout",
     "output_type": "stream",
     "text": [
      "Done loading data from cached files.\n"
     ]
    },
    {
     "name": "stderr",
     "output_type": "stream",
     "text": [
      "03 Nov 07:57    INFO  [Dataset Process] Split train into train/valid with the ratio of 8:2 \n",
      "03 Nov 07:57    INFO  [NC Specific] Modify the out_dim with num_classes\n"
     ]
    },
    {
     "ename": "AttributeError",
     "evalue": "'Config' object has no attribute 'hid_dim'",
     "output_type": "error",
     "traceback": [
      "\u001b[0;31m---------------------------------------------------------------------------\u001b[0m",
      "\u001b[0;31mAttributeError\u001b[0m                            Traceback (most recent call last)",
      "\u001b[1;32m/home/lacuna42/nktn/OpenHGNN/test.ipynb Cell 3\u001b[0m line \u001b[0;36m1\n\u001b[0;32m----> <a href='vscode-notebook-cell://ssh-remote%2B35.229.217.225/home/lacuna42/nktn/OpenHGNN/test.ipynb#X11sdnNjb2RlLXJlbW90ZQ%3D%3D?line=0'>1</a>\u001b[0m experiment\u001b[39m.\u001b[39;49mrun()\n",
      "File \u001b[0;32m~/nktn/OpenHGNN/openhgnn/experiment.py:126\u001b[0m, in \u001b[0;36mExperiment.run\u001b[0;34m(self)\u001b[0m\n\u001b[1;32m    124\u001b[0m     hpo_experiment(\u001b[39mself\u001b[39m\u001b[39m.\u001b[39mconfig, trainerflow)\n\u001b[1;32m    125\u001b[0m \u001b[39melse\u001b[39;00m:\n\u001b[0;32m--> 126\u001b[0m     flow \u001b[39m=\u001b[39m build_flow(\u001b[39mself\u001b[39;49m\u001b[39m.\u001b[39;49mconfig, trainerflow)\n\u001b[1;32m    127\u001b[0m     result \u001b[39m=\u001b[39m flow\u001b[39m.\u001b[39mtrain()\n\u001b[1;32m    128\u001b[0m     \u001b[39mif\u001b[39;00m \u001b[39mhasattr\u001b[39m(\u001b[39mself\u001b[39m\u001b[39m.\u001b[39mconfig, \u001b[39m'\u001b[39m\u001b[39mline_profiler_func\u001b[39m\u001b[39m'\u001b[39m):\n",
      "File \u001b[0;32m~/nktn/OpenHGNN/openhgnn/trainerflow/__init__.py:46\u001b[0m, in \u001b[0;36mbuild_flow\u001b[0;34m(args, flow_name)\u001b[0m\n\u001b[1;32m     44\u001b[0m \u001b[39mif\u001b[39;00m \u001b[39mnot\u001b[39;00m try_import_flow(flow_name):\n\u001b[1;32m     45\u001b[0m     exit(\u001b[39m1\u001b[39m)\n\u001b[0;32m---> 46\u001b[0m \u001b[39mreturn\u001b[39;00m FLOW_REGISTRY[flow_name](args)\n",
      "File \u001b[0;32m~/nktn/OpenHGNN/openhgnn/trainerflow/node_classification.py:43\u001b[0m, in \u001b[0;36mNodeClassification.__init__\u001b[0;34m(self, args)\u001b[0m\n\u001b[1;32m     40\u001b[0m     args\u001b[39m.\u001b[39mout_dim \u001b[39m=\u001b[39m \u001b[39mself\u001b[39m\u001b[39m.\u001b[39mnum_classes\n\u001b[1;32m     41\u001b[0m \u001b[39mself\u001b[39m\u001b[39m.\u001b[39margs\u001b[39m.\u001b[39mout_node_type \u001b[39m=\u001b[39m [\u001b[39mself\u001b[39m\u001b[39m.\u001b[39mcategory]\n\u001b[0;32m---> 43\u001b[0m \u001b[39mself\u001b[39m\u001b[39m.\u001b[39mmodel \u001b[39m=\u001b[39m build_model(\u001b[39mself\u001b[39;49m\u001b[39m.\u001b[39;49mmodel)\u001b[39m.\u001b[39;49mbuild_model_from_args(\u001b[39mself\u001b[39;49m\u001b[39m.\u001b[39;49margs, \u001b[39mself\u001b[39;49m\u001b[39m.\u001b[39;49mhg)\u001b[39m.\u001b[39mto(\u001b[39mself\u001b[39m\u001b[39m.\u001b[39mdevice)\n\u001b[1;32m     45\u001b[0m \u001b[39mself\u001b[39m\u001b[39m.\u001b[39moptimizer \u001b[39m=\u001b[39m \u001b[39mself\u001b[39m\u001b[39m.\u001b[39mcandidate_optimizer[args\u001b[39m.\u001b[39moptimizer](\u001b[39mself\u001b[39m\u001b[39m.\u001b[39mmodel\u001b[39m.\u001b[39mparameters(),\n\u001b[1;32m     46\u001b[0m                                                           lr\u001b[39m=\u001b[39margs\u001b[39m.\u001b[39mlr, weight_decay\u001b[39m=\u001b[39margs\u001b[39m.\u001b[39mweight_decay)\n\u001b[1;32m     48\u001b[0m \u001b[39mself\u001b[39m\u001b[39m.\u001b[39mtrain_idx, \u001b[39mself\u001b[39m\u001b[39m.\u001b[39mval_idx, \u001b[39mself\u001b[39m\u001b[39m.\u001b[39mtest_idx \u001b[39m=\u001b[39m \u001b[39mself\u001b[39m\u001b[39m.\u001b[39mtask\u001b[39m.\u001b[39mget_split()\n",
      "File \u001b[0;32m~/nktn/OpenHGNN/openhgnn/models/HMPNN.py:14\u001b[0m, in \u001b[0;36mHMPNN.build_model_from_args\u001b[0;34m(cls, args, hg)\u001b[0m\n\u001b[1;32m     11\u001b[0m \u001b[39m@classmethod\u001b[39m\n\u001b[1;32m     12\u001b[0m \u001b[39mdef\u001b[39;00m \u001b[39mbuild_model_from_args\u001b[39m(\u001b[39mcls\u001b[39m, args, hg):\n\u001b[1;32m     13\u001b[0m     \u001b[39mreturn\u001b[39;00m \u001b[39msuper\u001b[39m()\u001b[39m.\u001b[39mbuild_model_from_args(\n\u001b[0;32m---> 14\u001b[0m         args, args\u001b[39m.\u001b[39mhidden_dim, args\u001b[39m.\u001b[39;49mhid_dim, args\u001b[39m.\u001b[39mout_dim, hg\u001b[39m.\u001b[39metypes, args\u001b[39m.\u001b[39mnum_layers\n\u001b[1;32m     15\u001b[0m     )\n",
      "\u001b[0;31mAttributeError\u001b[0m: 'Config' object has no attribute 'hid_dim'"
     ]
    }
   ],
   "source": [
    "experiment.run()"
   ]
  },
  {
   "cell_type": "code",
   "execution_count": null,
   "metadata": {},
   "outputs": [],
   "source": []
  }
 ],
 "metadata": {
  "kernelspec": {
   "display_name": "w2",
   "language": "python",
   "name": "python3"
  },
  "language_info": {
   "codemirror_mode": {
    "name": "ipython",
    "version": 3
   },
   "file_extension": ".py",
   "mimetype": "text/x-python",
   "name": "python",
   "nbconvert_exporter": "python",
   "pygments_lexer": "ipython3",
   "version": "3.11.6"
  }
 },
 "nbformat": 4,
 "nbformat_minor": 2
}
