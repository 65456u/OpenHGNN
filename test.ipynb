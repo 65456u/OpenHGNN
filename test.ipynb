{
 "cells": [
  {
   "cell_type": "code",
   "execution_count": 1,
   "metadata": {},
   "outputs": [],
   "source": [
    "import openhgnn\n",
    "from openhgnn.trainerflow import KTNTrainer\n",
    "from openhgnn import Experiment"
   ]
  },
  {
   "cell_type": "code",
   "execution_count": 2,
   "metadata": {},
   "outputs": [
    {
     "name": "stdout",
     "output_type": "stream",
     "text": [
      "------------------------------------------------------------------------------\n",
      " Basic setup of this experiment: \n",
      "     model: HMPNN    \n",
      "     dataset: OAG_CS   \n",
      "     task: ktn. \n",
      " This experiment has following parameters. You can use set_params to edit them.\n",
      " Use print(experiment) to print this information again.\n",
      "------------------------------------------------------------------------------\n",
      "dataset_name: OAG_CS\n",
      "device: cpu\n",
      "gpu: -1\n",
      "hid_dim: 128\n",
      "hpo_search_space: None\n",
      "hpo_trials: 100\n",
      "load_from_pretrained: False\n",
      "lr: 0.001\n",
      "max_epoch: 1000\n",
      "model_name: HMPNN\n",
      "num_layers: 4\n",
      "optimizer: Adam\n",
      "output_dir: ./openhgnn/output/HMPNN\n",
      "patience: 1\n",
      "seed: 0\n",
      "use_best_config: False\n",
      "\n"
     ]
    }
   ],
   "source": [
    "experiment = Experiment(model='HMPNN',dataset='OAG_CS',task='ktn')"
   ]
  },
  {
   "cell_type": "code",
   "execution_count": 3,
   "metadata": {},
   "outputs": [
    {
     "name": "stderr",
     "output_type": "stream",
     "text": [
      "24 Nov 10:05    INFO  [Config Info]\tModel: HMPNN,\tTask: ktn,\tDataset: OAG_CS\n"
     ]
    },
    {
     "name": "stdout",
     "output_type": "stream",
     "text": [
      "KTN_trainer\n",
      "starting ktn task\n",
      "Loading dataset oag_cs\n",
      "initing hmpnn model\n"
     ]
    },
    {
     "name": "stderr",
     "output_type": "stream",
     "text": [
      "  0%|          | 0/1000 [00:00<?, ?it/s]24 Nov 10:05    INFO  [Train Info] Epoch 0 | Train Loss 5.1120 | Matching Loss 0.1841 | Source Acc 0.3956 | Target Acc 0.2106 | KTN Acc 0.2091\n",
      "  0%|          | 1/1000 [00:10<3:01:08, 10.88s/it]24 Nov 10:05    INFO  [Train Info] Epoch 1 | Train Loss 4.9182 | Matching Loss 0.0628 | Source Acc 0.4321 | Target Acc 0.2120 | KTN Acc 0.2131\n",
      "  0%|          | 2/1000 [00:21<2:57:52, 10.69s/it]24 Nov 10:05    INFO  [Train Info] Epoch 2 | Train Loss 4.8186 | Matching Loss 0.0408 | Source Acc 0.4534 | Target Acc 0.2254 | KTN Acc 0.2256\n",
      "  0%|          | 3/1000 [00:32<2:57:36, 10.69s/it]24 Nov 10:05    INFO  [Train Info] Epoch 3 | Train Loss 4.7231 | Matching Loss 0.0411 | Source Acc 0.4585 | Target Acc 0.2485 | KTN Acc 0.2509\n",
      "  0%|          | 4/1000 [00:42<2:56:33, 10.64s/it]24 Nov 10:06    INFO  [Train Info] Epoch 4 | Train Loss 4.6110 | Matching Loss 0.0520 | Source Acc 0.4648 | Target Acc 0.2662 | KTN Acc 0.2834\n",
      "  0%|          | 5/1000 [00:53<2:56:12, 10.63s/it]24 Nov 10:06    INFO  [Train Info] Epoch 5 | Train Loss 4.4708 | Matching Loss 0.0699 | Source Acc 0.4716 | Target Acc 0.2752 | KTN Acc 0.3207\n",
      "  1%|          | 6/1000 [01:03<2:54:41, 10.55s/it]24 Nov 10:06    INFO  [Train Info] Epoch 6 | Train Loss 4.2991 | Matching Loss 0.0966 | Source Acc 0.4771 | Target Acc 0.2799 | KTN Acc 0.3511\n",
      "  1%|          | 7/1000 [01:14<2:54:46, 10.56s/it]24 Nov 10:06    INFO  [Train Info] Epoch 7 | Train Loss 4.1024 | Matching Loss 0.1373 | Source Acc 0.4815 | Target Acc 0.2760 | KTN Acc 0.4000\n",
      "  1%|          | 8/1000 [01:24<2:54:38, 10.56s/it]24 Nov 10:06    INFO  [Train Info] Epoch 8 | Train Loss 3.9072 | Matching Loss 0.1979 | Source Acc 0.4853 | Target Acc 0.2630 | KTN Acc 0.4456\n",
      "  1%|          | 9/1000 [01:35<2:53:21, 10.50s/it]24 Nov 10:06    INFO  [Train Info] Epoch 9 | Train Loss 3.7762 | Matching Loss 0.2782 | Source Acc 0.4897 | Target Acc 0.2548 | KTN Acc 0.4652\n",
      "  1%|          | 10/1000 [01:45<2:53:14, 10.50s/it]24 Nov 10:07    INFO  [Train Info] Epoch 10 | Train Loss 3.7145 | Matching Loss 0.3471 | Source Acc 0.4964 | Target Acc 0.2562 | KTN Acc 0.4832\n",
      "24 Nov 10:07    INFO  [Train Info] Early Stop!\tEpoch:10\n",
      "  1%|          | 10/1000 [01:56<3:11:34, 11.61s/it]\n"
     ]
    }
   ],
   "source": [
    "experiment.run()"
   ]
  },
  {
   "cell_type": "code",
   "execution_count": 4,
   "metadata": {},
   "outputs": [
    {
     "name": "stdout",
     "output_type": "stream",
     "text": [
      "------------------------------------------------------------------------------\n",
      " Basic setup of this experiment: \n",
      "     model: HMPNN    \n",
      "     dataset: OAG_CS   \n",
      "     task: ktn. \n",
      " This experiment has following parameters. You can use set_params to edit them.\n",
      " Use print(experiment) to print this information again.\n",
      "------------------------------------------------------------------------------\n",
      "batch_size: 3072\n",
      "dataset_name: OAG_CS\n",
      "device: cpu\n",
      "evaluate_interval: 10\n",
      "evaluation_metric: ndcg\n",
      "feature_name: feat\n",
      "gpu: -1\n",
      "hid_dim: 128\n",
      "hpo_search_space: None\n",
      "hpo_trials: 100\n",
      "load_from_pretrained: False\n",
      "lr: 0.001\n",
      "matching_coeff: 1\n",
      "max_epoch: 200\n",
      "mini_batch_flag: False\n",
      "model_name: HMPNN\n",
      "num_layers: 4\n",
      "optimizer: Adam\n",
      "output_dir: ./openhgnn/output/HMPNN\n",
      "patience: 10\n",
      "ranking: True\n",
      "seed: 0\n",
      "source_test_batch: 50\n",
      "source_train_batch: 200\n",
      "source_type: paper\n",
      "target_test_batch: 50\n",
      "target_type: author\n",
      "task_type: L1\n",
      "use_best_config: False\n",
      "use_matching_loss: True\n",
      "\n"
     ]
    }
   ],
   "source": [
    "from openhgnn import Experiment\n",
    "\n",
    "experiment = Experiment(\n",
    "    model=\"HMPNN\",\n",
    "    dataset=\"OAG_CS\",\n",
    "    task=\"ktn\",\n",
    "    gpu=-1,\n",
    "    lr=0.001,\n",
    "    max_epoch=200,\n",
    "    num_layers=4,\n",
    "    task_type=\"L1\",\n",
    "    source_type=\"paper\",\n",
    "    target_type=\"author\",\n",
    "    hid_dim=128,\n",
    "    batch_size=3072,\n",
    "    use_matching_loss=True,\n",
    "    matching_coeff=1,\n",
    "    mini_batch_flag=False,\n",
    "    evaluate_interval=10,\n",
    "    ranking=True,\n",
    "    source_train_batch=200,\n",
    "    source_test_batch=50,\n",
    "    target_test_batch=50,\n",
    "    feature_name=\"feat\",\n",
    "    patience=10,\n",
    "    evaluation_metric=\"ndcg\"\n",
    "    \n",
    ")"
   ]
  },
  {
   "cell_type": "code",
   "execution_count": 5,
   "metadata": {},
   "outputs": [
    {
     "name": "stdout",
     "output_type": "stream",
     "text": [
      "KTN_trainer\n",
      "starting ktn task\n",
      "Loading dataset oag_cs\n",
      "initing hmpnn model\n"
     ]
    },
    {
     "name": "stderr",
     "output_type": "stream",
     "text": [
      " 86%|████████▋ | 173/200 [19:25<03:08,  7.00s/it]"
     ]
    }
   ],
   "source": [
    "experiment.run()"
   ]
  },
  {
   "cell_type": "code",
   "execution_count": null,
   "metadata": {},
   "outputs": [],
   "source": []
  }
 ],
 "metadata": {
  "kernelspec": {
   "display_name": "w2",
   "language": "python",
   "name": "python3"
  },
  "language_info": {
   "codemirror_mode": {
    "name": "ipython",
    "version": 3
   },
   "file_extension": ".py",
   "mimetype": "text/x-python",
   "name": "python",
   "nbconvert_exporter": "python",
   "pygments_lexer": "ipython3",
   "version": "3.11.6"
  }
 },
 "nbformat": 4,
 "nbformat_minor": 2
}
