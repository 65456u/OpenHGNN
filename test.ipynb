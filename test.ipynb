{
 "cells": [
  {
   "cell_type": "code",
   "execution_count": 1,
   "metadata": {},
   "outputs": [],
   "source": [
    "import openhgnn"
   ]
  },
  {
   "cell_type": "code",
   "execution_count": 2,
   "metadata": {},
   "outputs": [
    {
     "name": "stdout",
     "output_type": "stream",
     "text": [
      "------------------------------------------------------------------------------\n",
      " Basic setup of this experiment: \n",
      "     model: HMPNN    \n",
      "     dataset: OAG_CS   \n",
      "     task: ktn. \n",
      " This experiment has following parameters. You can use set_params to edit them.\n",
      " Use print(experiment) to print this information again.\n",
      "------------------------------------------------------------------------------\n",
      "batch_size: 64\n",
      "dataset_name: OAG_CS\n",
      "device: cpu\n",
      "evaluate_interval: 5\n",
      "gpu: -1\n",
      "hid_dim: 128\n",
      "hpo_search_space: None\n",
      "hpo_trials: 100\n",
      "in_dim: 1169\n",
      "load_from_pretrained: False\n",
      "lr: 0.001\n",
      "matching_coeff: 1\n",
      "max_epoch: 200\n",
      "mini_batch_flag: False\n",
      "model_name: HMPNN\n",
      "num_layers: 4\n",
      "optimizer: Adam\n",
      "out_dim: 128\n",
      "output_dir: ./openhgnn/output/HMPNN\n",
      "patience: 1\n",
      "ranking: True\n",
      "rel_dim: 128\n",
      "seed: 0\n",
      "source_type: paper\n",
      "target_type: author\n",
      "task_type: L1\n",
      "test_batch: 50\n",
      "train_batch: 200\n",
      "use_best_config: False\n",
      "use_matching_loss: True\n",
      "\n"
     ]
    }
   ],
   "source": [
    "from openhgnn import Experiment\n",
    "experiment = Experiment(model='HMPNN', dataset='OAG_CS', task='ktn', \n",
    "                        gpu=-1, lr=0.001, \n",
    "                        max_epoch=200, num_layers=4,\n",
    "                        task_type='L1',source_type='paper',target_type='author',\n",
    "                        in_dim=1169,hid_dim=128,out_dim=128,rel_dim=128,\n",
    "                        batch_size=64, use_matching_loss=True,\n",
    "                        matching_coeff=1,mini_batch_flag=False,\n",
    "                        evaluate_interval=5,ranking=True\n",
    "                        )"
   ]
  },
  {
   "cell_type": "code",
   "execution_count": 3,
   "metadata": {},
   "outputs": [
    {
     "name": "stderr",
     "output_type": "stream",
     "text": [
      "14 Nov 12:26    INFO  [Config Info]\tModel: HMPNN,\tTask: ktn,\tDataset: OAG_CS\n"
     ]
    },
    {
     "name": "stdout",
     "output_type": "stream",
     "text": [
      "KTN_trainer\n",
      "starting ktn task\n",
      "Loading dataset oag_cs\n",
      "initing hmpnn model\n"
     ]
    },
    {
     "name": "stderr",
     "output_type": "stream",
     "text": [
      "  0%|          | 0/200 [00:00<?, ?it/s]14 Nov 12:27    INFO  Epoch 0 | full-batch training\n",
      "14 Nov 12:27    INFO  Epoch 0 | Train Loss 4.9279\n"
     ]
    },
    {
     "name": "stdout",
     "output_type": "stream",
     "text": [
      "torch.Size([544244, 128])\n",
      "tensor([0.1841], grad_fn=<AddBackward0>)\n"
     ]
    },
    {
     "name": "stderr",
     "output_type": "stream",
     "text": [
      "14 Nov 12:28    INFO  Start evaling\n"
     ]
    },
    {
     "name": "stdout",
     "output_type": "stream",
     "text": [
      "((0.36678352224285055, 0.39180514064952926), (0.17898485592248792, 0.028657725426568244), (0.1777478542649085, 0.038009396329968664))\n"
     ]
    },
    {
     "name": "stderr",
     "output_type": "stream",
     "text": [
      "  0%|          | 1/200 [02:50<9:26:02, 170.67s/it]14 Nov 12:29    INFO  Epoch 1 | full-batch training\n",
      "14 Nov 12:29    INFO  Epoch 1 | Train Loss 4.8555\n"
     ]
    },
    {
     "name": "stdout",
     "output_type": "stream",
     "text": [
      "torch.Size([544244, 128])\n",
      "tensor([0.0628], grad_fn=<AddBackward0>)\n"
     ]
    },
    {
     "name": "stderr",
     "output_type": "stream",
     "text": [
      "  1%|          | 2/200 [03:34<5:16:41, 95.97s/it] 14 Nov 12:30    INFO  Epoch 2 | full-batch training\n",
      "14 Nov 12:30    INFO  Epoch 2 | Train Loss 4.7778\n"
     ]
    },
    {
     "name": "stdout",
     "output_type": "stream",
     "text": [
      "torch.Size([544244, 128])\n",
      "tensor([0.0408], grad_fn=<AddBackward0>)\n"
     ]
    },
    {
     "name": "stderr",
     "output_type": "stream",
     "text": [
      "  2%|▏         | 3/200 [04:15<3:53:38, 71.16s/it]14 Nov 12:31    INFO  Epoch 3 | full-batch training\n",
      "14 Nov 12:31    INFO  Epoch 3 | Train Loss 4.6820\n"
     ]
    },
    {
     "name": "stdout",
     "output_type": "stream",
     "text": [
      "torch.Size([544244, 128])\n",
      "tensor([0.0411], grad_fn=<AddBackward0>)\n"
     ]
    },
    {
     "name": "stderr",
     "output_type": "stream",
     "text": [
      "  2%|▏         | 4/200 [04:59<3:17:09, 60.36s/it]14 Nov 12:31    INFO  Epoch 4 | full-batch training\n",
      "14 Nov 12:32    INFO  Epoch 4 | Train Loss 4.5590\n"
     ]
    },
    {
     "name": "stdout",
     "output_type": "stream",
     "text": [
      "torch.Size([544244, 128])\n",
      "tensor([0.0520], grad_fn=<AddBackward0>)\n"
     ]
    },
    {
     "name": "stderr",
     "output_type": "stream",
     "text": [
      "  2%|▎         | 5/200 [05:41<2:54:38, 53.73s/it]14 Nov 12:32    INFO  Epoch 5 | full-batch training\n",
      "14 Nov 12:32    INFO  Epoch 5 | Train Loss 4.4009\n"
     ]
    },
    {
     "name": "stdout",
     "output_type": "stream",
     "text": [
      "torch.Size([544244, 128])\n",
      "tensor([0.0699], grad_fn=<AddBackward0>)\n"
     ]
    },
    {
     "name": "stderr",
     "output_type": "stream",
     "text": [
      "14 Nov 12:33    INFO  Start evaling\n"
     ]
    },
    {
     "name": "stdout",
     "output_type": "stream",
     "text": [
      "((0.4444411672216499, 0.44175438932646344), (0.23786405390457438, 0.15604792940678724), (0.2817094244526148, 0.24533511044251524))\n"
     ]
    },
    {
     "name": "stderr",
     "output_type": "stream",
     "text": [
      "  3%|▎         | 6/200 [07:50<4:16:32, 79.34s/it]14 Nov 12:34    INFO  Epoch 6 | full-batch training\n",
      "14 Nov 12:34    INFO  Epoch 6 | Train Loss 4.2025\n"
     ]
    },
    {
     "name": "stdout",
     "output_type": "stream",
     "text": [
      "torch.Size([544244, 128])\n",
      "tensor([0.0966], grad_fn=<AddBackward0>)\n"
     ]
    },
    {
     "name": "stderr",
     "output_type": "stream",
     "text": [
      "  4%|▎         | 7/200 [08:32<3:35:54, 67.12s/it]14 Nov 12:35    INFO  Epoch 7 | full-batch training\n",
      "14 Nov 12:35    INFO  Epoch 7 | Train Loss 3.9650\n"
     ]
    },
    {
     "name": "stdout",
     "output_type": "stream",
     "text": [
      "torch.Size([544244, 128])\n",
      "tensor([0.1373], grad_fn=<AddBackward0>)\n"
     ]
    },
    {
     "name": "stderr",
     "output_type": "stream",
     "text": [
      "  4%|▍         | 8/200 [09:16<3:10:49, 59.63s/it]14 Nov 12:36    INFO  Epoch 8 | full-batch training\n",
      "14 Nov 12:36    INFO  Epoch 8 | Train Loss 3.7094\n"
     ]
    },
    {
     "name": "stdout",
     "output_type": "stream",
     "text": [
      "torch.Size([544244, 128])\n",
      "tensor([0.1979], grad_fn=<AddBackward0>)\n"
     ]
    },
    {
     "name": "stderr",
     "output_type": "stream",
     "text": [
      "  4%|▍         | 9/200 [09:59<2:53:02, 54.36s/it]14 Nov 12:36    INFO  Epoch 9 | full-batch training\n",
      "14 Nov 12:37    INFO  Epoch 9 | Train Loss 3.4981\n"
     ]
    },
    {
     "name": "stdout",
     "output_type": "stream",
     "text": [
      "torch.Size([544244, 128])\n",
      "tensor([0.2782], grad_fn=<AddBackward0>)\n"
     ]
    },
    {
     "name": "stderr",
     "output_type": "stream",
     "text": [
      "  5%|▌         | 10/200 [10:42<2:41:08, 50.89s/it]14 Nov 12:37    INFO  Epoch 10 | full-batch training\n",
      "14 Nov 12:37    INFO  Epoch 10 | Train Loss 3.3675\n"
     ]
    },
    {
     "name": "stdout",
     "output_type": "stream",
     "text": [
      "torch.Size([544244, 128])\n",
      "tensor([0.3471], grad_fn=<AddBackward0>)\n"
     ]
    },
    {
     "name": "stderr",
     "output_type": "stream",
     "text": [
      "14 Nov 12:38    INFO  Start evaling\n"
     ]
    },
    {
     "name": "stdout",
     "output_type": "stream",
     "text": [
      "((0.46926750938674106, 0.4498250961916634), (0.22169154664406313, 0.1022815595667803), (0.44717539953602947, 0.48121854066013003))\n"
     ]
    },
    {
     "name": "stderr",
     "output_type": "stream",
     "text": [
      "  6%|▌         | 11/200 [12:48<3:53:20, 74.08s/it]14 Nov 12:39    INFO  Epoch 11 | full-batch training\n",
      "14 Nov 12:39    INFO  Epoch 11 | Train Loss 3.2485\n"
     ]
    },
    {
     "name": "stdout",
     "output_type": "stream",
     "text": [
      "torch.Size([544244, 128])\n",
      "tensor([0.3723], grad_fn=<AddBackward0>)\n"
     ]
    },
    {
     "name": "stderr",
     "output_type": "stream",
     "text": [
      "  6%|▌         | 12/200 [13:31<3:22:33, 64.65s/it]14 Nov 12:40    INFO  Epoch 12 | full-batch training\n",
      "14 Nov 12:40    INFO  Epoch 12 | Train Loss 3.1416\n"
     ]
    },
    {
     "name": "stdout",
     "output_type": "stream",
     "text": [
      "torch.Size([544244, 128])\n",
      "tensor([0.3680], grad_fn=<AddBackward0>)\n"
     ]
    },
    {
     "name": "stderr",
     "output_type": "stream",
     "text": [
      "  6%|▋         | 13/200 [14:14<3:00:57, 58.06s/it]14 Nov 12:41    INFO  Epoch 13 | full-batch training\n",
      "14 Nov 12:41    INFO  Epoch 13 | Train Loss 3.0722\n"
     ]
    },
    {
     "name": "stdout",
     "output_type": "stream",
     "text": [
      "torch.Size([544244, 128])\n",
      "tensor([0.3476], grad_fn=<AddBackward0>)\n"
     ]
    },
    {
     "name": "stderr",
     "output_type": "stream",
     "text": [
      "  7%|▋         | 14/200 [14:56<2:44:47, 53.16s/it]14 Nov 12:41    INFO  Epoch 14 | full-batch training\n",
      "14 Nov 12:42    INFO  Epoch 14 | Train Loss 3.0349\n"
     ]
    },
    {
     "name": "stdout",
     "output_type": "stream",
     "text": [
      "torch.Size([544244, 128])\n",
      "tensor([0.3200], grad_fn=<AddBackward0>)\n"
     ]
    },
    {
     "name": "stderr",
     "output_type": "stream",
     "text": [
      "  8%|▊         | 15/200 [15:39<2:34:02, 49.96s/it]14 Nov 12:42    INFO  Epoch 15 | full-batch training\n",
      "14 Nov 12:42    INFO  Epoch 15 | Train Loss 3.0131\n"
     ]
    },
    {
     "name": "stdout",
     "output_type": "stream",
     "text": [
      "torch.Size([544244, 128])\n",
      "tensor([0.2932], grad_fn=<AddBackward0>)\n"
     ]
    },
    {
     "name": "stderr",
     "output_type": "stream",
     "text": [
      "14 Nov 12:43    INFO  Start evaling\n"
     ]
    },
    {
     "name": "stdout",
     "output_type": "stream",
     "text": [
      "((0.4680523306078791, 0.3738533071991856), (0.22049539753416747, 0.09653158859948119), (0.48234541065395653, 0.44225914211300044))\n"
     ]
    },
    {
     "name": "stderr",
     "output_type": "stream",
     "text": [
      "  8%|▊         | 16/200 [17:46<3:44:27, 73.19s/it]14 Nov 12:44    INFO  Epoch 16 | full-batch training\n",
      "14 Nov 12:44    INFO  Epoch 16 | Train Loss 2.9957\n"
     ]
    },
    {
     "name": "stdout",
     "output_type": "stream",
     "text": [
      "torch.Size([544244, 128])\n",
      "tensor([0.2715], grad_fn=<AddBackward0>)\n"
     ]
    },
    {
     "name": "stderr",
     "output_type": "stream",
     "text": [
      "  8%|▊         | 17/200 [18:28<3:14:54, 63.90s/it]14 Nov 12:45    INFO  Epoch 17 | full-batch training\n",
      "14 Nov 12:45    INFO  Epoch 17 | Train Loss 2.9768\n"
     ]
    },
    {
     "name": "stdout",
     "output_type": "stream",
     "text": [
      "torch.Size([544244, 128])\n",
      "tensor([0.2561], grad_fn=<AddBackward0>)\n"
     ]
    },
    {
     "name": "stderr",
     "output_type": "stream",
     "text": [
      "  9%|▉         | 18/200 [19:11<2:54:29, 57.53s/it]14 Nov 12:46    INFO  Epoch 18 | full-batch training\n",
      "14 Nov 12:46    INFO  Epoch 18 | Train Loss 2.9536\n"
     ]
    },
    {
     "name": "stdout",
     "output_type": "stream",
     "text": [
      "torch.Size([544244, 128])\n",
      "tensor([0.2469], grad_fn=<AddBackward0>)\n"
     ]
    },
    {
     "name": "stderr",
     "output_type": "stream",
     "text": [
      " 10%|▉         | 19/200 [19:53<2:39:20, 52.82s/it]14 Nov 12:46    INFO  Epoch 19 | full-batch training\n",
      "14 Nov 12:46    INFO  Epoch 19 | Train Loss 2.9255\n"
     ]
    },
    {
     "name": "stdout",
     "output_type": "stream",
     "text": [
      "torch.Size([544244, 128])\n",
      "tensor([0.2428], grad_fn=<AddBackward0>)\n"
     ]
    },
    {
     "name": "stderr",
     "output_type": "stream",
     "text": [
      " 10%|█         | 20/200 [20:35<2:28:43, 49.58s/it]14 Nov 12:47    INFO  Epoch 20 | full-batch training\n",
      "14 Nov 12:47    INFO  Epoch 20 | Train Loss 2.8941\n"
     ]
    },
    {
     "name": "stdout",
     "output_type": "stream",
     "text": [
      "torch.Size([544244, 128])\n",
      "tensor([0.2423], grad_fn=<AddBackward0>)\n"
     ]
    },
    {
     "name": "stderr",
     "output_type": "stream",
     "text": [
      "14 Nov 12:48    INFO  Start evaling\n"
     ]
    },
    {
     "name": "stdout",
     "output_type": "stream",
     "text": [
      "((0.46891979479140505, 0.4065353009598991), (0.21221416594889847, 0.08039289345126524), (0.47555217696558083, 0.37584969317746714))\n"
     ]
    },
    {
     "name": "stderr",
     "output_type": "stream",
     "text": [
      " 10%|█         | 21/200 [22:41<3:36:10, 72.46s/it]14 Nov 12:49    INFO  Epoch 21 | full-batch training\n",
      "14 Nov 12:49    INFO  Epoch 21 | Train Loss 2.8622\n"
     ]
    },
    {
     "name": "stdout",
     "output_type": "stream",
     "text": [
      "torch.Size([544244, 128])\n",
      "tensor([0.2437], grad_fn=<AddBackward0>)\n"
     ]
    },
    {
     "name": "stderr",
     "output_type": "stream",
     "text": [
      " 11%|█         | 22/200 [23:23<3:08:04, 63.40s/it]14 Nov 12:50    INFO  Epoch 22 | full-batch training\n",
      "14 Nov 12:50    INFO  Epoch 22 | Train Loss 2.8329\n"
     ]
    },
    {
     "name": "stdout",
     "output_type": "stream",
     "text": [
      "torch.Size([544244, 128])\n",
      "tensor([0.2459], grad_fn=<AddBackward0>)\n"
     ]
    },
    {
     "name": "stderr",
     "output_type": "stream",
     "text": [
      " 12%|█▏        | 23/200 [24:05<2:48:32, 57.13s/it]14 Nov 12:51    INFO  Epoch 23 | full-batch training\n",
      "14 Nov 12:51    INFO  Epoch 23 | Train Loss 2.8085\n"
     ]
    },
    {
     "name": "stdout",
     "output_type": "stream",
     "text": [
      "torch.Size([544244, 128])\n",
      "tensor([0.2474], grad_fn=<AddBackward0>)\n"
     ]
    },
    {
     "name": "stderr",
     "output_type": "stream",
     "text": [
      " 12%|█▏        | 24/200 [24:47<2:34:06, 52.54s/it]14 Nov 12:51    INFO  Epoch 24 | full-batch training\n",
      "14 Nov 12:51    INFO  Epoch 24 | Train Loss 2.7900\n"
     ]
    },
    {
     "name": "stdout",
     "output_type": "stream",
     "text": [
      "torch.Size([544244, 128])\n",
      "tensor([0.2469], grad_fn=<AddBackward0>)\n"
     ]
    },
    {
     "name": "stderr",
     "output_type": "stream",
     "text": [
      " 12%|█▎        | 25/200 [25:30<2:24:55, 49.69s/it]14 Nov 12:52    INFO  Epoch 25 | full-batch training\n",
      "14 Nov 12:52    INFO  Epoch 25 | Train Loss 2.7768\n"
     ]
    },
    {
     "name": "stdout",
     "output_type": "stream",
     "text": [
      "torch.Size([544244, 128])\n",
      "tensor([0.2435], grad_fn=<AddBackward0>)\n"
     ]
    },
    {
     "name": "stderr",
     "output_type": "stream",
     "text": [
      "14 Nov 12:53    INFO  Start evaling\n"
     ]
    },
    {
     "name": "stdout",
     "output_type": "stream",
     "text": [
      "((0.4706081476196261, 0.41253509706495145), (0.20713006642554468, 0.07343671483165029), (0.4929516818624129, 0.47988768637259216))\n"
     ]
    },
    {
     "name": "stderr",
     "output_type": "stream",
     "text": [
      " 13%|█▎        | 26/200 [27:38<3:31:42, 73.00s/it]14 Nov 12:54    INFO  Epoch 26 | full-batch training\n",
      "14 Nov 12:54    INFO  Epoch 26 | Train Loss 2.7675\n"
     ]
    },
    {
     "name": "stdout",
     "output_type": "stream",
     "text": [
      "torch.Size([544244, 128])\n",
      "tensor([0.2366], grad_fn=<AddBackward0>)\n"
     ]
    },
    {
     "name": "stderr",
     "output_type": "stream",
     "text": [
      " 14%|█▎        | 27/200 [28:22<3:05:22, 64.29s/it]14 Nov 12:55    INFO  Epoch 27 | full-batch training\n",
      "14 Nov 12:55    INFO  Epoch 27 | Train Loss 2.7610\n"
     ]
    },
    {
     "name": "stdout",
     "output_type": "stream",
     "text": [
      "torch.Size([544244, 128])\n",
      "tensor([0.2267], grad_fn=<AddBackward0>)\n"
     ]
    },
    {
     "name": "stderr",
     "output_type": "stream",
     "text": [
      " 14%|█▍        | 28/200 [29:06<2:46:48, 58.19s/it]14 Nov 12:56    INFO  Epoch 28 | full-batch training\n",
      "14 Nov 12:56    INFO  Epoch 28 | Train Loss 2.7568\n"
     ]
    },
    {
     "name": "stdout",
     "output_type": "stream",
     "text": [
      "torch.Size([544244, 128])\n",
      "tensor([0.2149], grad_fn=<AddBackward0>)\n"
     ]
    },
    {
     "name": "stderr",
     "output_type": "stream",
     "text": [
      " 14%|█▍        | 29/200 [29:49<2:32:58, 53.67s/it]14 Nov 12:56    INFO  Epoch 29 | full-batch training\n",
      "14 Nov 12:56    INFO  Epoch 29 | Train Loss 2.7547\n"
     ]
    },
    {
     "name": "stdout",
     "output_type": "stream",
     "text": [
      "torch.Size([544244, 128])\n",
      "tensor([0.2028], grad_fn=<AddBackward0>)\n"
     ]
    },
    {
     "name": "stderr",
     "output_type": "stream",
     "text": [
      " 15%|█▌        | 30/200 [30:35<2:25:55, 51.50s/it]14 Nov 12:57    INFO  Epoch 30 | full-batch training\n",
      "14 Nov 12:57    INFO  Epoch 30 | Train Loss 2.7539\n"
     ]
    },
    {
     "name": "stdout",
     "output_type": "stream",
     "text": [
      "torch.Size([544244, 128])\n",
      "tensor([0.1916], grad_fn=<AddBackward0>)\n"
     ]
    },
    {
     "name": "stderr",
     "output_type": "stream",
     "text": [
      "14 Nov 12:58    INFO  Start evaling\n"
     ]
    },
    {
     "name": "stdout",
     "output_type": "stream",
     "text": [
      "((0.48281385120000164, 0.44005958524634636), (0.21569907588333867, 0.08337071201330568), (0.49664660551395234, 0.49205555579436405))\n"
     ]
    },
    {
     "name": "stderr",
     "output_type": "stream",
     "text": [
      " 16%|█▌        | 31/200 [32:44<3:30:43, 74.81s/it]14 Nov 12:59    INFO  Epoch 31 | full-batch training\n",
      "14 Nov 12:59    INFO  Epoch 31 | Train Loss 2.7533\n"
     ]
    },
    {
     "name": "stdout",
     "output_type": "stream",
     "text": [
      "torch.Size([544244, 128])\n",
      "tensor([0.1822], grad_fn=<AddBackward0>)\n"
     ]
    },
    {
     "name": "stderr",
     "output_type": "stream",
     "text": [
      " 16%|█▌        | 32/200 [33:27<3:02:22, 65.13s/it]14 Nov 13:00    INFO  Epoch 32 | full-batch training\n",
      "14 Nov 13:00    INFO  Epoch 32 | Train Loss 2.7516\n"
     ]
    },
    {
     "name": "stdout",
     "output_type": "stream",
     "text": [
      "torch.Size([544244, 128])\n",
      "tensor([0.1750], grad_fn=<AddBackward0>)\n"
     ]
    },
    {
     "name": "stderr",
     "output_type": "stream",
     "text": [
      " 16%|█▋        | 33/200 [34:09<2:42:04, 58.23s/it]14 Nov 13:01    INFO  Epoch 33 | full-batch training\n",
      "14 Nov 13:01    INFO  Epoch 33 | Train Loss 2.7482\n"
     ]
    },
    {
     "name": "stdout",
     "output_type": "stream",
     "text": [
      "torch.Size([544244, 128])\n",
      "tensor([0.1700], grad_fn=<AddBackward0>)\n"
     ]
    },
    {
     "name": "stderr",
     "output_type": "stream",
     "text": [
      " 17%|█▋        | 34/200 [34:53<2:29:02, 53.87s/it]14 Nov 13:01    INFO  Epoch 34 | full-batch training\n",
      "14 Nov 13:01    INFO  Epoch 34 | Train Loss 2.7427\n"
     ]
    },
    {
     "name": "stdout",
     "output_type": "stream",
     "text": [
      "torch.Size([544244, 128])\n",
      "tensor([0.1669], grad_fn=<AddBackward0>)\n"
     ]
    },
    {
     "name": "stderr",
     "output_type": "stream",
     "text": [
      " 18%|█▊        | 35/200 [35:36<2:19:24, 50.70s/it]14 Nov 13:02    INFO  Epoch 35 | full-batch training\n",
      "14 Nov 13:02    INFO  Epoch 35 | Train Loss 2.7358\n"
     ]
    },
    {
     "name": "stdout",
     "output_type": "stream",
     "text": [
      "torch.Size([544244, 128])\n",
      "tensor([0.1653], grad_fn=<AddBackward0>)\n"
     ]
    },
    {
     "name": "stderr",
     "output_type": "stream",
     "text": [
      "14 Nov 13:03    INFO  Start evaling\n"
     ]
    },
    {
     "name": "stdout",
     "output_type": "stream",
     "text": [
      "((0.4844288851717093, 0.4390502782144344), (0.22446395064616856, 0.09619086806280895), (0.49280455744670437, 0.48885119833672114))\n"
     ]
    },
    {
     "name": "stderr",
     "output_type": "stream",
     "text": [
      " 18%|█▊        | 36/200 [37:43<3:21:05, 73.57s/it]14 Nov 13:04    INFO  Epoch 36 | full-batch training\n",
      "14 Nov 13:04    INFO  Epoch 36 | Train Loss 2.7285\n"
     ]
    },
    {
     "name": "stdout",
     "output_type": "stream",
     "text": [
      "torch.Size([544244, 128])\n",
      "tensor([0.1645], grad_fn=<AddBackward0>)\n"
     ]
    },
    {
     "name": "stderr",
     "output_type": "stream",
     "text": [
      " 18%|█▊        | 37/200 [38:25<2:54:12, 64.13s/it]14 Nov 13:05    INFO  Epoch 37 | full-batch training\n",
      "14 Nov 13:05    INFO  Epoch 37 | Train Loss 2.7216\n"
     ]
    },
    {
     "name": "stdout",
     "output_type": "stream",
     "text": [
      "torch.Size([544244, 128])\n",
      "tensor([0.1638], grad_fn=<AddBackward0>)\n"
     ]
    },
    {
     "name": "stderr",
     "output_type": "stream",
     "text": [
      " 19%|█▉        | 38/200 [39:08<2:35:47, 57.70s/it]14 Nov 13:06    INFO  Epoch 38 | full-batch training\n",
      "14 Nov 13:06    INFO  Epoch 38 | Train Loss 2.7159\n"
     ]
    },
    {
     "name": "stdout",
     "output_type": "stream",
     "text": [
      "torch.Size([544244, 128])\n",
      "tensor([0.1624], grad_fn=<AddBackward0>)\n"
     ]
    },
    {
     "name": "stderr",
     "output_type": "stream",
     "text": [
      " 20%|█▉        | 39/200 [39:50<2:22:38, 53.16s/it]14 Nov 13:06    INFO  Epoch 39 | full-batch training\n",
      "14 Nov 13:06    INFO  Epoch 39 | Train Loss 2.7114\n"
     ]
    },
    {
     "name": "stdout",
     "output_type": "stream",
     "text": [
      "torch.Size([544244, 128])\n",
      "tensor([0.1600], grad_fn=<AddBackward0>)\n"
     ]
    },
    {
     "name": "stderr",
     "output_type": "stream",
     "text": [
      " 20%|██        | 40/200 [40:33<2:13:22, 50.01s/it]14 Nov 13:07    INFO  Epoch 40 | full-batch training\n",
      "14 Nov 13:07    INFO  Epoch 40 | Train Loss 2.7082\n"
     ]
    },
    {
     "name": "stdout",
     "output_type": "stream",
     "text": [
      "torch.Size([544244, 128])\n",
      "tensor([0.1566], grad_fn=<AddBackward0>)\n"
     ]
    },
    {
     "name": "stderr",
     "output_type": "stream",
     "text": [
      "14 Nov 13:08    INFO  Start evaling\n"
     ]
    },
    {
     "name": "stdout",
     "output_type": "stream",
     "text": [
      "((0.4823379126061773, 0.427395138497565), (0.22606225724255094, 0.10329446516275874), (0.4911253488588875, 0.4859994582778528))\n"
     ]
    },
    {
     "name": "stderr",
     "output_type": "stream",
     "text": [
      " 20%|██        | 41/200 [42:40<3:13:45, 73.12s/it]14 Nov 13:09    INFO  Epoch 41 | full-batch training\n",
      "14 Nov 13:09    INFO  Epoch 41 | Train Loss 2.7058\n"
     ]
    },
    {
     "name": "stdout",
     "output_type": "stream",
     "text": [
      "torch.Size([544244, 128])\n",
      "tensor([0.1525], grad_fn=<AddBackward0>)\n"
     ]
    },
    {
     "name": "stderr",
     "output_type": "stream",
     "text": [
      " 21%|██        | 42/200 [43:23<2:48:54, 64.14s/it]14 Nov 13:10    INFO  Epoch 42 | full-batch training\n",
      "14 Nov 13:10    INFO  Epoch 42 | Train Loss 2.7039\n"
     ]
    },
    {
     "name": "stdout",
     "output_type": "stream",
     "text": [
      "torch.Size([544244, 128])\n",
      "tensor([0.1481], grad_fn=<AddBackward0>)\n"
     ]
    },
    {
     "name": "stderr",
     "output_type": "stream",
     "text": [
      " 22%|██▏       | 43/200 [44:06<2:31:21, 57.85s/it]14 Nov 13:11    INFO  Epoch 43 | full-batch training\n",
      "14 Nov 13:11    INFO  Epoch 43 | Train Loss 2.7021\n"
     ]
    },
    {
     "name": "stdout",
     "output_type": "stream",
     "text": [
      "torch.Size([544244, 128])\n",
      "tensor([0.1440], grad_fn=<AddBackward0>)\n"
     ]
    },
    {
     "name": "stderr",
     "output_type": "stream",
     "text": [
      " 22%|██▏       | 44/200 [44:49<2:18:15, 53.18s/it]14 Nov 13:11    INFO  Epoch 44 | full-batch training\n",
      "14 Nov 13:11    INFO  Epoch 44 | Train Loss 2.7000\n"
     ]
    },
    {
     "name": "stdout",
     "output_type": "stream",
     "text": [
      "torch.Size([544244, 128])\n",
      "tensor([0.1405], grad_fn=<AddBackward0>)\n"
     ]
    },
    {
     "name": "stderr",
     "output_type": "stream",
     "text": [
      " 22%|██▎       | 45/200 [45:31<2:09:06, 49.98s/it]14 Nov 13:12    INFO  Epoch 45 | full-batch training\n",
      "14 Nov 13:12    INFO  Epoch 45 | Train Loss 2.6974\n"
     ]
    },
    {
     "name": "stdout",
     "output_type": "stream",
     "text": [
      "torch.Size([544244, 128])\n",
      "tensor([0.1377], grad_fn=<AddBackward0>)\n"
     ]
    },
    {
     "name": "stderr",
     "output_type": "stream",
     "text": [
      "14 Nov 13:13    INFO  Start evaling\n"
     ]
    },
    {
     "name": "stdout",
     "output_type": "stream",
     "text": [
      "((0.4819774007383272, 0.42326853979872087), (0.21531740865791896, 0.08982576846279657), (0.48930137777362176, 0.46759924007958587))\n"
     ]
    },
    {
     "name": "stderr",
     "output_type": "stream",
     "text": [
      " 23%|██▎       | 46/200 [47:39<3:08:05, 73.28s/it]14 Nov 13:14    INFO  Epoch 46 | full-batch training\n",
      "14 Nov 13:14    INFO  Epoch 46 | Train Loss 2.6940\n"
     ]
    },
    {
     "name": "stdout",
     "output_type": "stream",
     "text": [
      "torch.Size([544244, 128])\n",
      "tensor([0.1359], grad_fn=<AddBackward0>)\n"
     ]
    },
    {
     "name": "stderr",
     "output_type": "stream",
     "text": [
      " 24%|██▎       | 47/200 [48:22<2:43:55, 64.28s/it]14 Nov 13:15    INFO  Epoch 47 | full-batch training\n",
      "14 Nov 13:15    INFO  Epoch 47 | Train Loss 2.6901\n"
     ]
    },
    {
     "name": "stdout",
     "output_type": "stream",
     "text": [
      "torch.Size([544244, 128])\n",
      "tensor([0.1347], grad_fn=<AddBackward0>)\n"
     ]
    },
    {
     "name": "stderr",
     "output_type": "stream",
     "text": [
      " 24%|██▍       | 48/200 [49:05<2:26:37, 57.88s/it]14 Nov 13:16    INFO  Epoch 48 | full-batch training\n",
      "14 Nov 13:16    INFO  Epoch 48 | Train Loss 2.6859\n"
     ]
    },
    {
     "name": "stdout",
     "output_type": "stream",
     "text": [
      "torch.Size([544244, 128])\n",
      "tensor([0.1338], grad_fn=<AddBackward0>)\n"
     ]
    },
    {
     "name": "stderr",
     "output_type": "stream",
     "text": [
      " 24%|██▍       | 49/200 [49:48<2:14:11, 53.32s/it]14 Nov 13:16    INFO  Epoch 49 | full-batch training\n",
      "14 Nov 13:16    INFO  Epoch 49 | Train Loss 2.6818\n"
     ]
    },
    {
     "name": "stdout",
     "output_type": "stream",
     "text": [
      "torch.Size([544244, 128])\n",
      "tensor([0.1330], grad_fn=<AddBackward0>)\n"
     ]
    },
    {
     "name": "stderr",
     "output_type": "stream",
     "text": [
      " 25%|██▌       | 50/200 [50:30<2:05:13, 50.09s/it]14 Nov 13:17    INFO  Epoch 50 | full-batch training\n",
      "14 Nov 13:17    INFO  Epoch 50 | Train Loss 2.6781\n"
     ]
    },
    {
     "name": "stdout",
     "output_type": "stream",
     "text": [
      "torch.Size([544244, 128])\n",
      "tensor([0.1319], grad_fn=<AddBackward0>)\n"
     ]
    },
    {
     "name": "stderr",
     "output_type": "stream",
     "text": [
      "14 Nov 13:18    INFO  Start evaling\n"
     ]
    },
    {
     "name": "stdout",
     "output_type": "stream",
     "text": [
      "((0.48630554436320267, 0.43153484910442585), (0.21695203979433686, 0.08996491232541076), (0.4911975444332606, 0.46520724828953314))\n"
     ]
    },
    {
     "name": "stderr",
     "output_type": "stream",
     "text": [
      " 26%|██▌       | 51/200 [52:36<3:00:55, 72.86s/it]14 Nov 13:19    INFO  Epoch 51 | full-batch training\n",
      "14 Nov 13:19    INFO  Epoch 51 | Train Loss 2.6749\n"
     ]
    },
    {
     "name": "stdout",
     "output_type": "stream",
     "text": [
      "torch.Size([544244, 128])\n",
      "tensor([0.1304], grad_fn=<AddBackward0>)\n"
     ]
    },
    {
     "name": "stderr",
     "output_type": "stream",
     "text": [
      " 26%|██▌       | 52/200 [53:19<2:37:42, 63.94s/it]14 Nov 13:20    INFO  Epoch 52 | full-batch training\n",
      "14 Nov 13:20    INFO  Epoch 52 | Train Loss 2.6721\n"
     ]
    },
    {
     "name": "stdout",
     "output_type": "stream",
     "text": [
      "torch.Size([544244, 128])\n",
      "tensor([0.1284], grad_fn=<AddBackward0>)\n"
     ]
    },
    {
     "name": "stderr",
     "output_type": "stream",
     "text": [
      " 26%|██▋       | 53/200 [54:03<2:21:24, 57.72s/it]14 Nov 13:20    INFO  Epoch 53 | full-batch training\n",
      "14 Nov 13:21    INFO  Epoch 53 | Train Loss 2.6695\n"
     ]
    },
    {
     "name": "stdout",
     "output_type": "stream",
     "text": [
      "torch.Size([544244, 128])\n",
      "tensor([0.1263], grad_fn=<AddBackward0>)\n"
     ]
    },
    {
     "name": "stderr",
     "output_type": "stream",
     "text": [
      " 27%|██▋       | 54/200 [54:46<2:10:14, 53.52s/it]14 Nov 13:21    INFO  Epoch 54 | full-batch training\n",
      "14 Nov 13:21    INFO  Epoch 54 | Train Loss 2.6668\n"
     ]
    },
    {
     "name": "stdout",
     "output_type": "stream",
     "text": [
      "torch.Size([544244, 128])\n",
      "tensor([0.1243], grad_fn=<AddBackward0>)\n"
     ]
    },
    {
     "name": "stderr",
     "output_type": "stream",
     "text": [
      " 28%|██▊       | 55/200 [55:33<2:04:26, 51.50s/it]14 Nov 13:22    INFO  Epoch 55 | full-batch training\n",
      "14 Nov 13:22    INFO  Epoch 55 | Train Loss 2.6639\n"
     ]
    },
    {
     "name": "stdout",
     "output_type": "stream",
     "text": [
      "torch.Size([544244, 128])\n",
      "tensor([0.1224], grad_fn=<AddBackward0>)\n"
     ]
    },
    {
     "name": "stderr",
     "output_type": "stream",
     "text": [
      "14 Nov 13:23    INFO  Start evaling\n"
     ]
    },
    {
     "name": "stdout",
     "output_type": "stream",
     "text": [
      "((0.48771825087963716, 0.4331862233303452), (0.225074972270749, 0.09918159179577478), (0.49035626239092944, 0.46858692453266587))\n"
     ]
    },
    {
     "name": "stderr",
     "output_type": "stream",
     "text": [
      " 28%|██▊       | 56/200 [57:44<3:00:53, 75.37s/it]14 Nov 13:24    INFO  Epoch 56 | full-batch training\n",
      "14 Nov 13:24    INFO  Epoch 56 | Train Loss 2.6607\n"
     ]
    },
    {
     "name": "stdout",
     "output_type": "stream",
     "text": [
      "torch.Size([544244, 128])\n",
      "tensor([0.1208], grad_fn=<AddBackward0>)\n"
     ]
    },
    {
     "name": "stderr",
     "output_type": "stream",
     "text": [
      " 28%|██▊       | 57/200 [58:28<2:37:21, 66.03s/it]14 Nov 13:25    INFO  Epoch 57 | full-batch training\n",
      "14 Nov 13:25    INFO  Epoch 57 | Train Loss 2.6572\n"
     ]
    },
    {
     "name": "stdout",
     "output_type": "stream",
     "text": [
      "torch.Size([544244, 128])\n",
      "tensor([0.1194], grad_fn=<AddBackward0>)\n"
     ]
    },
    {
     "name": "stderr",
     "output_type": "stream",
     "text": [
      " 29%|██▉       | 58/200 [59:12<2:20:21, 59.31s/it]14 Nov 13:26    INFO  Epoch 58 | full-batch training\n",
      "14 Nov 13:26    INFO  Epoch 58 | Train Loss 2.6536\n"
     ]
    },
    {
     "name": "stdout",
     "output_type": "stream",
     "text": [
      "torch.Size([544244, 128])\n",
      "tensor([0.1180], grad_fn=<AddBackward0>)\n"
     ]
    },
    {
     "name": "stderr",
     "output_type": "stream",
     "text": [
      " 30%|██▉       | 59/200 [59:55<2:07:47, 54.38s/it]14 Nov 13:26    INFO  Epoch 59 | full-batch training\n",
      "14 Nov 13:27    INFO  Epoch 59 | Train Loss 2.6498\n"
     ]
    },
    {
     "name": "stdout",
     "output_type": "stream",
     "text": [
      "torch.Size([544244, 128])\n",
      "tensor([0.1168], grad_fn=<AddBackward0>)\n"
     ]
    },
    {
     "name": "stderr",
     "output_type": "stream",
     "text": [
      " 30%|███       | 60/200 [1:00:38<1:58:40, 50.86s/it]14 Nov 13:27    INFO  Epoch 60 | full-batch training\n",
      "14 Nov 13:27    INFO  Epoch 60 | Train Loss 2.6459\n"
     ]
    },
    {
     "name": "stdout",
     "output_type": "stream",
     "text": [
      "torch.Size([544244, 128])\n",
      "tensor([0.1155], grad_fn=<AddBackward0>)\n"
     ]
    },
    {
     "name": "stderr",
     "output_type": "stream",
     "text": [
      "14 Nov 13:28    INFO  Start evaling\n"
     ]
    },
    {
     "name": "stdout",
     "output_type": "stream",
     "text": [
      "((0.4911146832467117, 0.43509022721194557), (0.2383832671435273, 0.11282365129931841), (0.4914405827506754, 0.4730841373960885))\n"
     ]
    },
    {
     "name": "stderr",
     "output_type": "stream",
     "text": [
      " 30%|███       | 61/200 [1:02:44<2:50:35, 73.63s/it]14 Nov 13:29    INFO  Epoch 61 | full-batch training\n",
      "14 Nov 13:29    INFO  Epoch 61 | Train Loss 2.6418\n"
     ]
    },
    {
     "name": "stdout",
     "output_type": "stream",
     "text": [
      "torch.Size([544244, 128])\n",
      "tensor([0.1143], grad_fn=<AddBackward0>)\n"
     ]
    },
    {
     "name": "stderr",
     "output_type": "stream",
     "text": [
      " 31%|███       | 62/200 [1:03:53<2:45:53, 72.12s/it]14 Nov 13:30    INFO  Epoch 62 | full-batch training\n",
      "14 Nov 13:30    INFO  Epoch 62 | Train Loss 2.6375\n"
     ]
    },
    {
     "name": "stdout",
     "output_type": "stream",
     "text": [
      "torch.Size([544244, 128])\n",
      "tensor([0.1130], grad_fn=<AddBackward0>)\n"
     ]
    },
    {
     "name": "stderr",
     "output_type": "stream",
     "text": [
      " 32%|███▏      | 63/200 [1:04:41<2:28:19, 64.96s/it]14 Nov 13:31    INFO  Epoch 63 | full-batch training\n",
      "14 Nov 13:31    INFO  Epoch 63 | Train Loss 2.6331\n"
     ]
    },
    {
     "name": "stdout",
     "output_type": "stream",
     "text": [
      "torch.Size([544244, 128])\n",
      "tensor([0.1118], grad_fn=<AddBackward0>)\n"
     ]
    },
    {
     "name": "stderr",
     "output_type": "stream",
     "text": [
      " 32%|███▏      | 64/200 [1:05:25<2:13:04, 58.71s/it]14 Nov 13:32    INFO  Epoch 64 | full-batch training\n",
      "14 Nov 13:32    INFO  Epoch 64 | Train Loss 2.6281\n"
     ]
    },
    {
     "name": "stdout",
     "output_type": "stream",
     "text": [
      "torch.Size([544244, 128])\n",
      "tensor([0.1110], grad_fn=<AddBackward0>)\n"
     ]
    },
    {
     "name": "stderr",
     "output_type": "stream",
     "text": [
      " 32%|███▎      | 65/200 [1:06:08<2:01:35, 54.04s/it]14 Nov 13:33    INFO  Epoch 65 | full-batch training\n",
      "14 Nov 13:33    INFO  Epoch 65 | Train Loss 2.6229\n"
     ]
    },
    {
     "name": "stdout",
     "output_type": "stream",
     "text": [
      "torch.Size([544244, 128])\n",
      "tensor([0.1103], grad_fn=<AddBackward0>)\n"
     ]
    },
    {
     "name": "stderr",
     "output_type": "stream",
     "text": [
      "14 Nov 13:33    INFO  Start evaling\n"
     ]
    },
    {
     "name": "stdout",
     "output_type": "stream",
     "text": [
      "((0.496023204962087, 0.43989328373335274), (0.24408172618042878, 0.11601256323120694), (0.49203747164185224, 0.4750859006530371))\n"
     ]
    },
    {
     "name": "stderr",
     "output_type": "stream",
     "text": [
      " 33%|███▎      | 66/200 [1:08:16<2:49:38, 75.96s/it]14 Nov 13:35    INFO  Epoch 66 | full-batch training\n",
      "14 Nov 13:35    INFO  Epoch 66 | Train Loss 2.6176\n"
     ]
    },
    {
     "name": "stdout",
     "output_type": "stream",
     "text": [
      "torch.Size([544244, 128])\n",
      "tensor([0.1094], grad_fn=<AddBackward0>)\n"
     ]
    },
    {
     "name": "stderr",
     "output_type": "stream",
     "text": [
      " 34%|███▎      | 67/200 [1:08:59<2:26:33, 66.12s/it]14 Nov 13:35    INFO  Epoch 67 | full-batch training\n",
      "14 Nov 13:36    INFO  Epoch 67 | Train Loss 2.6127\n"
     ]
    },
    {
     "name": "stdout",
     "output_type": "stream",
     "text": [
      "torch.Size([544244, 128])\n",
      "tensor([0.1080], grad_fn=<AddBackward0>)\n"
     ]
    },
    {
     "name": "stderr",
     "output_type": "stream",
     "text": [
      " 34%|███▍      | 68/200 [1:09:41<2:09:47, 59.00s/it]14 Nov 13:36    INFO  Epoch 68 | full-batch training\n",
      "14 Nov 13:36    INFO  Epoch 68 | Train Loss 2.6066\n"
     ]
    },
    {
     "name": "stdout",
     "output_type": "stream",
     "text": [
      "torch.Size([544244, 128])\n",
      "tensor([0.1079], grad_fn=<AddBackward0>)\n"
     ]
    },
    {
     "name": "stderr",
     "output_type": "stream",
     "text": [
      " 34%|███▍      | 69/200 [1:10:24<1:58:14, 54.15s/it]14 Nov 13:37    INFO  Epoch 69 | full-batch training\n",
      "14 Nov 13:37    INFO  Epoch 69 | Train Loss 2.6021\n"
     ]
    },
    {
     "name": "stdout",
     "output_type": "stream",
     "text": [
      "torch.Size([544244, 128])\n",
      "tensor([0.1059], grad_fn=<AddBackward0>)\n"
     ]
    },
    {
     "name": "stderr",
     "output_type": "stream",
     "text": [
      " 35%|███▌      | 70/200 [1:11:07<1:50:08, 50.83s/it]14 Nov 13:38    INFO  Epoch 70 | full-batch training\n",
      "14 Nov 13:38    INFO  Epoch 70 | Train Loss 2.5941\n"
     ]
    },
    {
     "name": "stdout",
     "output_type": "stream",
     "text": [
      "torch.Size([544244, 128])\n",
      "tensor([0.1061], grad_fn=<AddBackward0>)\n"
     ]
    },
    {
     "name": "stderr",
     "output_type": "stream",
     "text": [
      "14 Nov 13:38    INFO  Start evaling\n"
     ]
    },
    {
     "name": "stdout",
     "output_type": "stream",
     "text": [
      "((0.500379383978185, 0.4432280624215144), (0.2571148613383575, 0.12705827532912195), (0.4912385322449064, 0.4783413998722174))\n"
     ]
    },
    {
     "name": "stderr",
     "output_type": "stream",
     "text": [
      " 36%|███▌      | 71/200 [1:13:15<2:38:45, 73.84s/it]14 Nov 13:40    INFO  Epoch 71 | full-batch training\n",
      "14 Nov 13:40    INFO  Epoch 71 | Train Loss 2.5874\n"
     ]
    },
    {
     "name": "stdout",
     "output_type": "stream",
     "text": [
      "torch.Size([544244, 128])\n",
      "tensor([0.1056], grad_fn=<AddBackward0>)\n"
     ]
    },
    {
     "name": "stderr",
     "output_type": "stream",
     "text": [
      " 36%|███▌      | 72/200 [1:13:57<2:17:33, 64.48s/it]14 Nov 13:40    INFO  Epoch 72 | full-batch training\n",
      "14 Nov 13:41    INFO  Epoch 72 | Train Loss 2.5823\n"
     ]
    },
    {
     "name": "stdout",
     "output_type": "stream",
     "text": [
      "torch.Size([544244, 128])\n",
      "tensor([0.1035], grad_fn=<AddBackward0>)\n"
     ]
    },
    {
     "name": "stderr",
     "output_type": "stream",
     "text": [
      " 36%|███▋      | 73/200 [1:14:40<2:02:47, 58.01s/it]14 Nov 13:41    INFO  Epoch 73 | full-batch training\n",
      "14 Nov 13:41    INFO  Epoch 73 | Train Loss 2.5733\n"
     ]
    },
    {
     "name": "stdout",
     "output_type": "stream",
     "text": [
      "torch.Size([544244, 128])\n",
      "tensor([0.1041], grad_fn=<AddBackward0>)\n"
     ]
    },
    {
     "name": "stderr",
     "output_type": "stream",
     "text": [
      " 37%|███▋      | 74/200 [1:15:23<1:52:24, 53.53s/it]14 Nov 13:42    INFO  Epoch 74 | full-batch training\n",
      "14 Nov 13:42    INFO  Epoch 74 | Train Loss 2.5657\n"
     ]
    },
    {
     "name": "stdout",
     "output_type": "stream",
     "text": [
      "torch.Size([544244, 128])\n",
      "tensor([0.1034], grad_fn=<AddBackward0>)\n"
     ]
    },
    {
     "name": "stderr",
     "output_type": "stream",
     "text": [
      " 38%|███▊      | 75/200 [1:16:06<1:45:09, 50.48s/it]14 Nov 13:43    INFO  Epoch 75 | full-batch training\n",
      "14 Nov 13:43    INFO  Epoch 75 | Train Loss 2.5591\n"
     ]
    },
    {
     "name": "stdout",
     "output_type": "stream",
     "text": [
      "torch.Size([544244, 128])\n",
      "tensor([0.1018], grad_fn=<AddBackward0>)\n"
     ]
    },
    {
     "name": "stderr",
     "output_type": "stream",
     "text": [
      "14 Nov 13:43    INFO  Start evaling\n"
     ]
    },
    {
     "name": "stdout",
     "output_type": "stream",
     "text": [
      "((0.5057186536133812, 0.45484716952978993), (0.2771466414218903, 0.1489395041935141), (0.4918781428272763, 0.4847529691612505))\n"
     ]
    },
    {
     "name": "stderr",
     "output_type": "stream",
     "text": [
      " 38%|███▊      | 76/200 [1:18:15<2:32:23, 73.74s/it]14 Nov 13:45    INFO  Epoch 76 | full-batch training\n",
      "14 Nov 13:45    INFO  Epoch 76 | Train Loss 2.5480\n"
     ]
    },
    {
     "name": "stdout",
     "output_type": "stream",
     "text": [
      "torch.Size([544244, 128])\n",
      "tensor([0.1037], grad_fn=<AddBackward0>)\n"
     ]
    },
    {
     "name": "stderr",
     "output_type": "stream",
     "text": [
      " 38%|███▊      | 77/200 [1:18:58<2:12:40, 64.72s/it]14 Nov 13:45    INFO  Epoch 77 | full-batch training\n",
      "14 Nov 13:46    INFO  Epoch 77 | Train Loss 2.5403\n"
     ]
    },
    {
     "name": "stdout",
     "output_type": "stream",
     "text": [
      "torch.Size([544244, 128])\n",
      "tensor([0.1015], grad_fn=<AddBackward0>)\n"
     ]
    },
    {
     "name": "stderr",
     "output_type": "stream",
     "text": [
      " 39%|███▉      | 78/200 [1:19:41<1:58:19, 58.19s/it]14 Nov 13:46    INFO  Epoch 78 | full-batch training\n",
      "14 Nov 13:46    INFO  Epoch 78 | Train Loss 2.5311\n"
     ]
    },
    {
     "name": "stdout",
     "output_type": "stream",
     "text": [
      "torch.Size([544244, 128])\n",
      "tensor([0.1010], grad_fn=<AddBackward0>)\n"
     ]
    },
    {
     "name": "stderr",
     "output_type": "stream",
     "text": [
      " 40%|███▉      | 79/200 [1:20:24<1:48:10, 53.64s/it]14 Nov 13:47    INFO  Epoch 79 | full-batch training\n",
      "14 Nov 13:47    INFO  Epoch 79 | Train Loss 2.5188\n"
     ]
    },
    {
     "name": "stdout",
     "output_type": "stream",
     "text": [
      "torch.Size([544244, 128])\n",
      "tensor([0.1035], grad_fn=<AddBackward0>)\n"
     ]
    },
    {
     "name": "stderr",
     "output_type": "stream",
     "text": [
      " 40%|████      | 80/200 [1:21:07<1:40:43, 50.36s/it]14 Nov 13:48    INFO  Epoch 80 | full-batch training\n",
      "14 Nov 13:48    INFO  Epoch 80 | Train Loss 2.5116\n"
     ]
    },
    {
     "name": "stdout",
     "output_type": "stream",
     "text": [
      "torch.Size([544244, 128])\n",
      "tensor([0.1003], grad_fn=<AddBackward0>)\n"
     ]
    },
    {
     "name": "stderr",
     "output_type": "stream",
     "text": [
      "14 Nov 13:48    INFO  Start evaling\n"
     ]
    },
    {
     "name": "stdout",
     "output_type": "stream",
     "text": [
      "((0.5228230724731946, 0.4852373967334598), (0.2973376332675514, 0.17623357413949267), (0.4918387219473162, 0.48179802111531095))\n"
     ]
    },
    {
     "name": "stderr",
     "output_type": "stream",
     "text": [
      " 40%|████      | 81/200 [1:23:15<2:26:16, 73.75s/it]14 Nov 13:50    INFO  Epoch 81 | full-batch training\n",
      "14 Nov 13:50    INFO  Epoch 81 | Train Loss 2.4959\n"
     ]
    },
    {
     "name": "stdout",
     "output_type": "stream",
     "text": [
      "torch.Size([544244, 128])\n",
      "tensor([0.1044], grad_fn=<AddBackward0>)\n"
     ]
    },
    {
     "name": "stderr",
     "output_type": "stream",
     "text": [
      " 41%|████      | 82/200 [1:23:59<2:07:09, 64.65s/it]14 Nov 13:50    INFO  Epoch 82 | full-batch training\n",
      "14 Nov 13:51    INFO  Epoch 82 | Train Loss 2.4864\n"
     ]
    },
    {
     "name": "stdout",
     "output_type": "stream",
     "text": [
      "torch.Size([544244, 128])\n",
      "tensor([0.1013], grad_fn=<AddBackward0>)\n"
     ]
    },
    {
     "name": "stderr",
     "output_type": "stream",
     "text": [
      " 42%|████▏     | 83/200 [1:24:41<1:53:18, 58.10s/it]14 Nov 13:51    INFO  Epoch 83 | full-batch training\n",
      "14 Nov 13:51    INFO  Epoch 83 | Train Loss 2.4733\n"
     ]
    },
    {
     "name": "stdout",
     "output_type": "stream",
     "text": [
      "torch.Size([544244, 128])\n",
      "tensor([0.1018], grad_fn=<AddBackward0>)\n"
     ]
    },
    {
     "name": "stderr",
     "output_type": "stream",
     "text": [
      " 42%|████▏     | 84/200 [1:25:24<1:43:21, 53.46s/it]14 Nov 13:52    INFO  Epoch 84 | full-batch training\n",
      "14 Nov 13:52    INFO  Epoch 84 | Train Loss 2.4587\n"
     ]
    },
    {
     "name": "stdout",
     "output_type": "stream",
     "text": [
      "torch.Size([544244, 128])\n",
      "tensor([0.1037], grad_fn=<AddBackward0>)\n"
     ]
    },
    {
     "name": "stderr",
     "output_type": "stream",
     "text": [
      " 42%|████▎     | 85/200 [1:26:08<1:36:50, 50.52s/it]14 Nov 13:53    INFO  Epoch 85 | full-batch training\n",
      "14 Nov 13:53    INFO  Epoch 85 | Train Loss 2.4483\n"
     ]
    },
    {
     "name": "stdout",
     "output_type": "stream",
     "text": [
      "torch.Size([544244, 128])\n",
      "tensor([0.1010], grad_fn=<AddBackward0>)\n"
     ]
    },
    {
     "name": "stderr",
     "output_type": "stream",
     "text": [
      "14 Nov 13:53    INFO  Start evaling\n"
     ]
    },
    {
     "name": "stdout",
     "output_type": "stream",
     "text": [
      "((0.5469828229786271, 0.5124731226567032), (0.31138564782684025, 0.190695079254075), (0.49309939726160945, 0.47297287959076134))\n"
     ]
    },
    {
     "name": "stderr",
     "output_type": "stream",
     "text": [
      " 43%|████▎     | 86/200 [1:28:14<2:19:16, 73.30s/it]14 Nov 13:55    INFO  Epoch 86 | full-batch training\n",
      "14 Nov 13:55    INFO  Epoch 86 | Train Loss 2.4269\n"
     ]
    },
    {
     "name": "stdout",
     "output_type": "stream",
     "text": [
      "torch.Size([544244, 128])\n",
      "tensor([0.1092], grad_fn=<AddBackward0>)\n"
     ]
    },
    {
     "name": "stderr",
     "output_type": "stream",
     "text": [
      " 44%|████▎     | 87/200 [1:28:57<2:00:48, 64.15s/it]14 Nov 13:55    INFO  Epoch 87 | full-batch training\n",
      "14 Nov 13:56    INFO  Epoch 87 | Train Loss 2.4214\n"
     ]
    },
    {
     "name": "stdout",
     "output_type": "stream",
     "text": [
      "torch.Size([544244, 128])\n",
      "tensor([0.1004], grad_fn=<AddBackward0>)\n"
     ]
    },
    {
     "name": "stderr",
     "output_type": "stream",
     "text": [
      " 44%|████▍     | 88/200 [1:29:40<1:47:45, 57.72s/it]14 Nov 13:56    INFO  Epoch 88 | full-batch training\n",
      "14 Nov 13:56    INFO  Epoch 88 | Train Loss 2.3971\n"
     ]
    },
    {
     "name": "stdout",
     "output_type": "stream",
     "text": [
      "torch.Size([544244, 128])\n",
      "tensor([0.1083], grad_fn=<AddBackward0>)\n"
     ]
    },
    {
     "name": "stderr",
     "output_type": "stream",
     "text": [
      " 44%|████▍     | 89/200 [1:30:23<1:38:40, 53.34s/it]14 Nov 13:57    INFO  Epoch 89 | full-batch training\n",
      "14 Nov 13:57    INFO  Epoch 89 | Train Loss 2.3840\n"
     ]
    },
    {
     "name": "stdout",
     "output_type": "stream",
     "text": [
      "torch.Size([544244, 128])\n",
      "tensor([0.1046], grad_fn=<AddBackward0>)\n"
     ]
    },
    {
     "name": "stderr",
     "output_type": "stream",
     "text": [
      " 45%|████▌     | 90/200 [1:31:05<1:31:22, 49.84s/it]14 Nov 13:57    INFO  Epoch 90 | full-batch training\n",
      "14 Nov 13:58    INFO  Epoch 90 | Train Loss 2.3689\n"
     ]
    },
    {
     "name": "stdout",
     "output_type": "stream",
     "text": [
      "torch.Size([544244, 128])\n",
      "tensor([0.1045], grad_fn=<AddBackward0>)\n"
     ]
    },
    {
     "name": "stderr",
     "output_type": "stream",
     "text": [
      "14 Nov 13:58    INFO  Start evaling\n"
     ]
    },
    {
     "name": "stdout",
     "output_type": "stream",
     "text": [
      "((0.568771340605586, 0.5345948756518676), (0.3254799209163991, 0.21078860255270157), (0.5042084429676036, 0.5003532890404365))\n"
     ]
    },
    {
     "name": "stderr",
     "output_type": "stream",
     "text": [
      " 46%|████▌     | 91/200 [1:33:11<2:12:22, 72.86s/it]14 Nov 14:00    INFO  Epoch 91 | full-batch training\n",
      "14 Nov 14:00    INFO  Epoch 91 | Train Loss 2.3469\n"
     ]
    },
    {
     "name": "stdout",
     "output_type": "stream",
     "text": [
      "torch.Size([544244, 128])\n",
      "tensor([0.1122], grad_fn=<AddBackward0>)\n"
     ]
    },
    {
     "name": "stderr",
     "output_type": "stream",
     "text": [
      " 46%|████▌     | 92/200 [1:33:54<1:55:07, 63.96s/it]14 Nov 14:00    INFO  Epoch 92 | full-batch training\n",
      "14 Nov 14:00    INFO  Epoch 92 | Train Loss 2.3409\n"
     ]
    },
    {
     "name": "stdout",
     "output_type": "stream",
     "text": [
      "torch.Size([544244, 128])\n",
      "tensor([0.1042], grad_fn=<AddBackward0>)\n"
     ]
    },
    {
     "name": "stderr",
     "output_type": "stream",
     "text": [
      " 46%|████▋     | 93/200 [1:34:37<1:42:43, 57.60s/it]14 Nov 14:01    INFO  Epoch 93 | full-batch training\n",
      "14 Nov 14:01    INFO  Epoch 93 | Train Loss 2.3136\n"
     ]
    },
    {
     "name": "stdout",
     "output_type": "stream",
     "text": [
      "torch.Size([544244, 128])\n",
      "tensor([0.1151], grad_fn=<AddBackward0>)\n"
     ]
    },
    {
     "name": "stderr",
     "output_type": "stream",
     "text": [
      " 47%|████▋     | 94/200 [1:35:20<1:33:46, 53.08s/it]14 Nov 14:02    INFO  Epoch 94 | full-batch training\n",
      "14 Nov 14:02    INFO  Epoch 94 | Train Loss 2.3026\n"
     ]
    },
    {
     "name": "stdout",
     "output_type": "stream",
     "text": [
      "torch.Size([544244, 128])\n",
      "tensor([0.1079], grad_fn=<AddBackward0>)\n"
     ]
    },
    {
     "name": "stderr",
     "output_type": "stream",
     "text": [
      " 48%|████▊     | 95/200 [1:36:02<1:27:15, 49.87s/it]14 Nov 14:02    INFO  Epoch 95 | full-batch training\n",
      "14 Nov 14:03    INFO  Epoch 95 | Train Loss 2.2806\n"
     ]
    },
    {
     "name": "stdout",
     "output_type": "stream",
     "text": [
      "torch.Size([544244, 128])\n",
      "tensor([0.1118], grad_fn=<AddBackward0>)\n"
     ]
    },
    {
     "name": "stderr",
     "output_type": "stream",
     "text": [
      "14 Nov 14:03    INFO  Start evaling\n"
     ]
    },
    {
     "name": "stdout",
     "output_type": "stream",
     "text": [
      "((0.5857930286482778, 0.5519572567992915), (0.3240185237731336, 0.21264169227754953), (0.5204233530298505, 0.5136971169529524))\n"
     ]
    },
    {
     "name": "stderr",
     "output_type": "stream",
     "text": [
      " 48%|████▊     | 96/200 [1:38:10<2:07:13, 73.40s/it]14 Nov 14:05    INFO  Epoch 96 | full-batch training\n",
      "14 Nov 14:05    INFO  Epoch 96 | Train Loss 2.2611\n"
     ]
    },
    {
     "name": "stdout",
     "output_type": "stream",
     "text": [
      "torch.Size([544244, 128])\n",
      "tensor([0.1172], grad_fn=<AddBackward0>)\n"
     ]
    },
    {
     "name": "stderr",
     "output_type": "stream",
     "text": [
      " 48%|████▊     | 97/200 [1:38:54<1:50:31, 64.39s/it]14 Nov 14:05    INFO  Epoch 97 | full-batch training\n",
      "14 Nov 14:05    INFO  Epoch 97 | Train Loss 2.2551\n"
     ]
    },
    {
     "name": "stdout",
     "output_type": "stream",
     "text": [
      "torch.Size([544244, 128])\n",
      "tensor([0.1115], grad_fn=<AddBackward0>)\n"
     ]
    },
    {
     "name": "stderr",
     "output_type": "stream",
     "text": [
      " 49%|████▉     | 98/200 [1:39:36<1:38:18, 57.83s/it]14 Nov 14:06    INFO  Epoch 98 | full-batch training\n",
      "14 Nov 14:06    INFO  Epoch 98 | Train Loss 2.2309\n"
     ]
    },
    {
     "name": "stdout",
     "output_type": "stream",
     "text": [
      "torch.Size([544244, 128])\n",
      "tensor([0.1211], grad_fn=<AddBackward0>)\n"
     ]
    },
    {
     "name": "stderr",
     "output_type": "stream",
     "text": [
      " 50%|████▉     | 99/200 [1:40:18<1:29:22, 53.10s/it]14 Nov 14:07    INFO  Epoch 99 | full-batch training\n",
      "14 Nov 14:07    INFO  Epoch 99 | Train Loss 2.2206\n"
     ]
    },
    {
     "name": "stdout",
     "output_type": "stream",
     "text": [
      "torch.Size([544244, 128])\n",
      "tensor([0.1150], grad_fn=<AddBackward0>)\n"
     ]
    },
    {
     "name": "stderr",
     "output_type": "stream",
     "text": [
      " 50%|█████     | 100/200 [1:41:01<1:23:25, 50.06s/it]14 Nov 14:07    INFO  Epoch 100 | full-batch training\n",
      "14 Nov 14:08    INFO  Epoch 100 | Train Loss 2.2002\n"
     ]
    },
    {
     "name": "stdout",
     "output_type": "stream",
     "text": [
      "torch.Size([544244, 128])\n",
      "tensor([0.1187], grad_fn=<AddBackward0>)\n"
     ]
    },
    {
     "name": "stderr",
     "output_type": "stream",
     "text": [
      "14 Nov 14:08    INFO  Start evaling\n"
     ]
    },
    {
     "name": "stdout",
     "output_type": "stream",
     "text": [
      "((0.6014554597618471, 0.5689819818777582), (0.31945083436812416, 0.2030416277799414), (0.5308109169079144, 0.5174136966239055))\n"
     ]
    },
    {
     "name": "stderr",
     "output_type": "stream",
     "text": [
      " 50%|█████     | 101/200 [1:43:08<2:00:25, 72.99s/it]14 Nov 14:10    INFO  Epoch 101 | full-batch training\n",
      "14 Nov 14:10    INFO  Epoch 101 | Train Loss 2.1826\n"
     ]
    },
    {
     "name": "stdout",
     "output_type": "stream",
     "text": [
      "torch.Size([544244, 128])\n",
      "tensor([0.1245], grad_fn=<AddBackward0>)\n"
     ]
    },
    {
     "name": "stderr",
     "output_type": "stream",
     "text": [
      " 51%|█████     | 102/200 [1:43:51<1:44:35, 64.03s/it]14 Nov 14:10    INFO  Epoch 102 | full-batch training\n",
      "14 Nov 14:10    INFO  Epoch 102 | Train Loss 2.1772\n"
     ]
    },
    {
     "name": "stdout",
     "output_type": "stream",
     "text": [
      "torch.Size([544244, 128])\n",
      "tensor([0.1200], grad_fn=<AddBackward0>)\n"
     ]
    },
    {
     "name": "stderr",
     "output_type": "stream",
     "text": [
      " 52%|█████▏    | 103/200 [1:44:33<1:32:45, 57.38s/it]14 Nov 14:11    INFO  Epoch 103 | full-batch training\n",
      "14 Nov 14:11    INFO  Epoch 103 | Train Loss 2.1596\n"
     ]
    },
    {
     "name": "stdout",
     "output_type": "stream",
     "text": [
      "torch.Size([544244, 128])\n",
      "tensor([0.1258], grad_fn=<AddBackward0>)\n"
     ]
    },
    {
     "name": "stderr",
     "output_type": "stream",
     "text": [
      " 52%|█████▏    | 104/200 [1:45:15<1:24:49, 53.01s/it]14 Nov 14:12    INFO  Epoch 104 | full-batch training\n",
      "14 Nov 14:12    INFO  Epoch 104 | Train Loss 2.1477\n"
     ]
    },
    {
     "name": "stdout",
     "output_type": "stream",
     "text": [
      "torch.Size([544244, 128])\n",
      "tensor([0.1257], grad_fn=<AddBackward0>)\n"
     ]
    },
    {
     "name": "stderr",
     "output_type": "stream",
     "text": [
      " 52%|█████▎    | 105/200 [1:45:59<1:19:14, 50.05s/it]14 Nov 14:12    INFO  Epoch 105 | full-batch training\n",
      "14 Nov 14:13    INFO  Epoch 105 | Train Loss 2.1337\n"
     ]
    },
    {
     "name": "stdout",
     "output_type": "stream",
     "text": [
      "torch.Size([544244, 128])\n",
      "tensor([0.1269], grad_fn=<AddBackward0>)\n"
     ]
    },
    {
     "name": "stderr",
     "output_type": "stream",
     "text": [
      "14 Nov 14:13    INFO  Start evaling\n"
     ]
    },
    {
     "name": "stdout",
     "output_type": "stream",
     "text": [
      "((0.6170683300120018, 0.5877383163421123), (0.30853512204240086, 0.1846683373579531), (0.536100865251123, 0.5204967390024865))\n"
     ]
    },
    {
     "name": "stderr",
     "output_type": "stream",
     "text": [
      " 53%|█████▎    | 106/200 [1:48:05<1:54:25, 73.04s/it]14 Nov 14:15    INFO  Epoch 106 | full-batch training\n",
      "14 Nov 14:15    INFO  Epoch 106 | Train Loss 2.1188\n"
     ]
    },
    {
     "name": "stdout",
     "output_type": "stream",
     "text": [
      "torch.Size([544244, 128])\n",
      "tensor([0.1304], grad_fn=<AddBackward0>)\n"
     ]
    },
    {
     "name": "stderr",
     "output_type": "stream",
     "text": [
      " 54%|█████▎    | 107/200 [1:48:48<1:39:10, 63.98s/it]14 Nov 14:15    INFO  Epoch 107 | full-batch training\n",
      "14 Nov 14:15    INFO  Epoch 107 | Train Loss 2.1135\n"
     ]
    },
    {
     "name": "stdout",
     "output_type": "stream",
     "text": [
      "torch.Size([544244, 128])\n",
      "tensor([0.1288], grad_fn=<AddBackward0>)\n"
     ]
    },
    {
     "name": "stderr",
     "output_type": "stream",
     "text": [
      " 54%|█████▍    | 108/200 [1:49:31<1:28:20, 57.61s/it]14 Nov 14:16    INFO  Epoch 108 | full-batch training\n",
      "14 Nov 14:16    INFO  Epoch 108 | Train Loss 2.1061\n"
     ]
    },
    {
     "name": "stdout",
     "output_type": "stream",
     "text": [
      "torch.Size([544244, 128])\n",
      "tensor([0.1324], grad_fn=<AddBackward0>)\n"
     ]
    },
    {
     "name": "stderr",
     "output_type": "stream",
     "text": [
      " 55%|█████▍    | 109/200 [1:50:14<1:20:50, 53.31s/it]14 Nov 14:17    INFO  Epoch 109 | full-batch training\n",
      "14 Nov 14:17    INFO  Epoch 109 | Train Loss 2.0968\n"
     ]
    },
    {
     "name": "stdout",
     "output_type": "stream",
     "text": [
      "torch.Size([544244, 128])\n",
      "tensor([0.1330], grad_fn=<AddBackward0>)\n"
     ]
    },
    {
     "name": "stderr",
     "output_type": "stream",
     "text": [
      " 55%|█████▌    | 110/200 [1:50:57<1:15:08, 50.10s/it]14 Nov 14:17    INFO  Epoch 110 | full-batch training\n",
      "14 Nov 14:18    INFO  Epoch 110 | Train Loss 2.0826\n"
     ]
    },
    {
     "name": "stdout",
     "output_type": "stream",
     "text": [
      "torch.Size([544244, 128])\n",
      "tensor([0.1331], grad_fn=<AddBackward0>)\n"
     ]
    },
    {
     "name": "stderr",
     "output_type": "stream",
     "text": [
      "14 Nov 14:18    INFO  Start evaling\n"
     ]
    },
    {
     "name": "stdout",
     "output_type": "stream",
     "text": [
      "((0.629678256897022, 0.6016567658817463), (0.3021134091782668, 0.177337825387304), (0.5393282708907869, 0.5229063251420715))\n"
     ]
    },
    {
     "name": "stderr",
     "output_type": "stream",
     "text": [
      " 56%|█████▌    | 111/200 [1:53:05<1:49:06, 73.55s/it]14 Nov 14:20    INFO  Epoch 111 | full-batch training\n",
      "14 Nov 14:20    INFO  Epoch 111 | Train Loss 2.0738\n"
     ]
    },
    {
     "name": "stdout",
     "output_type": "stream",
     "text": [
      "torch.Size([544244, 128])\n",
      "tensor([0.1342], grad_fn=<AddBackward0>)\n"
     ]
    },
    {
     "name": "stderr",
     "output_type": "stream",
     "text": [
      " 56%|█████▌    | 112/200 [1:53:48<1:34:19, 64.31s/it]14 Nov 14:20    INFO  Epoch 112 | full-batch training\n",
      "14 Nov 14:20    INFO  Epoch 112 | Train Loss 2.0689\n"
     ]
    },
    {
     "name": "stdout",
     "output_type": "stream",
     "text": [
      "torch.Size([544244, 128])\n",
      "tensor([0.1367], grad_fn=<AddBackward0>)\n"
     ]
    },
    {
     "name": "stderr",
     "output_type": "stream",
     "text": [
      " 56%|█████▋    | 113/200 [1:54:31<1:23:52, 57.84s/it]14 Nov 14:21    INFO  Epoch 113 | full-batch training\n",
      "14 Nov 14:21    INFO  Epoch 113 | Train Loss 2.0634\n"
     ]
    },
    {
     "name": "stdout",
     "output_type": "stream",
     "text": [
      "torch.Size([544244, 128])\n",
      "tensor([0.1359], grad_fn=<AddBackward0>)\n"
     ]
    },
    {
     "name": "stderr",
     "output_type": "stream",
     "text": [
      " 57%|█████▋    | 114/200 [1:55:13<1:16:21, 53.28s/it]14 Nov 14:22    INFO  Epoch 114 | full-batch training\n",
      "14 Nov 14:22    INFO  Epoch 114 | Train Loss 2.0558\n"
     ]
    },
    {
     "name": "stdout",
     "output_type": "stream",
     "text": [
      "torch.Size([544244, 128])\n",
      "tensor([0.1350], grad_fn=<AddBackward0>)\n"
     ]
    },
    {
     "name": "stderr",
     "output_type": "stream",
     "text": [
      " 57%|█████▊    | 115/200 [1:55:56<1:11:00, 50.12s/it]14 Nov 14:22    INFO  Epoch 115 | full-batch training\n",
      "14 Nov 14:23    INFO  Epoch 115 | Train Loss 2.0440\n"
     ]
    },
    {
     "name": "stdout",
     "output_type": "stream",
     "text": [
      "torch.Size([544244, 128])\n",
      "tensor([0.1401], grad_fn=<AddBackward0>)\n"
     ]
    },
    {
     "name": "stderr",
     "output_type": "stream",
     "text": [
      "14 Nov 14:23    INFO  Start evaling\n"
     ]
    },
    {
     "name": "stdout",
     "output_type": "stream",
     "text": [
      "((0.6383718961554022, 0.6128848488389737), (0.29417524415751706, 0.16755211080374452), (0.5426855755199993, 0.5269236741483786))\n"
     ]
    },
    {
     "name": "stderr",
     "output_type": "stream",
     "text": [
      " 58%|█████▊    | 116/200 [1:58:03<1:42:37, 73.31s/it]14 Nov 14:24    INFO  Epoch 116 | full-batch training\n",
      "14 Nov 14:25    INFO  Epoch 116 | Train Loss 2.0411\n"
     ]
    },
    {
     "name": "stdout",
     "output_type": "stream",
     "text": [
      "torch.Size([544244, 128])\n",
      "tensor([0.1366], grad_fn=<AddBackward0>)\n"
     ]
    },
    {
     "name": "stderr",
     "output_type": "stream",
     "text": [
      " 58%|█████▊    | 117/200 [1:58:45<1:28:27, 63.94s/it]14 Nov 14:25    INFO  Epoch 117 | full-batch training\n",
      "14 Nov 14:25    INFO  Epoch 117 | Train Loss 2.0372\n"
     ]
    },
    {
     "name": "stdout",
     "output_type": "stream",
     "text": [
      "torch.Size([544244, 128])\n",
      "tensor([0.1351], grad_fn=<AddBackward0>)\n"
     ]
    },
    {
     "name": "stderr",
     "output_type": "stream",
     "text": [
      " 59%|█████▉    | 118/200 [1:59:28<1:18:32, 57.46s/it]14 Nov 14:26    INFO  Epoch 118 | full-batch training\n",
      "14 Nov 14:26    INFO  Epoch 118 | Train Loss 2.0295\n"
     ]
    },
    {
     "name": "stdout",
     "output_type": "stream",
     "text": [
      "torch.Size([544244, 128])\n",
      "tensor([0.1391], grad_fn=<AddBackward0>)\n"
     ]
    },
    {
     "name": "stderr",
     "output_type": "stream",
     "text": [
      " 60%|█████▉    | 119/200 [2:00:10<1:11:27, 52.93s/it]14 Nov 14:27    INFO  Epoch 119 | full-batch training\n",
      "14 Nov 14:27    INFO  Epoch 119 | Train Loss 2.0268\n"
     ]
    },
    {
     "name": "stdout",
     "output_type": "stream",
     "text": [
      "torch.Size([544244, 128])\n",
      "tensor([0.1350], grad_fn=<AddBackward0>)\n"
     ]
    },
    {
     "name": "stderr",
     "output_type": "stream",
     "text": [
      " 60%|██████    | 120/200 [2:00:55<1:07:14, 50.43s/it]14 Nov 14:27    INFO  Epoch 120 | full-batch training\n",
      "14 Nov 14:28    INFO  Epoch 120 | Train Loss 2.0186\n"
     ]
    },
    {
     "name": "stdout",
     "output_type": "stream",
     "text": [
      "torch.Size([544244, 128])\n",
      "tensor([0.1350], grad_fn=<AddBackward0>)\n"
     ]
    },
    {
     "name": "stderr",
     "output_type": "stream",
     "text": [
      "14 Nov 14:28    INFO  Start evaling\n"
     ]
    },
    {
     "name": "stdout",
     "output_type": "stream",
     "text": [
      "((0.6430061519500513, 0.6188869959427601), (0.28488474521036933, 0.15744045004843205), (0.5461117764397571, 0.5069081311511072))\n"
     ]
    },
    {
     "name": "stderr",
     "output_type": "stream",
     "text": [
      " 60%|██████    | 121/200 [2:03:02<1:36:57, 73.63s/it]14 Nov 14:29    INFO  Epoch 121 | full-batch training\n",
      "14 Nov 14:30    INFO  Epoch 121 | Train Loss 2.0134\n"
     ]
    },
    {
     "name": "stdout",
     "output_type": "stream",
     "text": [
      "torch.Size([544244, 128])\n",
      "tensor([0.1357], grad_fn=<AddBackward0>)\n"
     ]
    },
    {
     "name": "stderr",
     "output_type": "stream",
     "text": [
      " 61%|██████    | 122/200 [2:03:46<1:24:02, 64.65s/it]14 Nov 14:30    INFO  Epoch 122 | full-batch training\n",
      "14 Nov 14:30    INFO  Epoch 122 | Train Loss 2.0124\n"
     ]
    },
    {
     "name": "stdout",
     "output_type": "stream",
     "text": [
      "torch.Size([544244, 128])\n",
      "tensor([0.1323], grad_fn=<AddBackward0>)\n"
     ]
    },
    {
     "name": "stderr",
     "output_type": "stream",
     "text": [
      " 62%|██████▏   | 123/200 [2:04:29<1:14:29, 58.04s/it]14 Nov 14:31    INFO  Epoch 123 | full-batch training\n",
      "14 Nov 14:31    INFO  Epoch 123 | Train Loss 2.0051\n"
     ]
    },
    {
     "name": "stdout",
     "output_type": "stream",
     "text": [
      "torch.Size([544244, 128])\n",
      "tensor([0.1337], grad_fn=<AddBackward0>)\n"
     ]
    },
    {
     "name": "stderr",
     "output_type": "stream",
     "text": [
      " 62%|██████▏   | 124/200 [2:05:11<1:07:38, 53.40s/it]14 Nov 14:32    INFO  Epoch 124 | full-batch training\n",
      "14 Nov 14:32    INFO  Epoch 124 | Train Loss 2.0012\n"
     ]
    },
    {
     "name": "stdout",
     "output_type": "stream",
     "text": [
      "torch.Size([544244, 128])\n",
      "tensor([0.1331], grad_fn=<AddBackward0>)\n"
     ]
    },
    {
     "name": "stderr",
     "output_type": "stream",
     "text": [
      " 62%|██████▎   | 125/200 [2:05:55<1:02:58, 50.38s/it]14 Nov 14:32    INFO  Epoch 125 | full-batch training\n",
      "14 Nov 14:33    INFO  Epoch 125 | Train Loss 1.9994\n"
     ]
    },
    {
     "name": "stdout",
     "output_type": "stream",
     "text": [
      "torch.Size([544244, 128])\n",
      "tensor([0.1302], grad_fn=<AddBackward0>)\n"
     ]
    },
    {
     "name": "stderr",
     "output_type": "stream",
     "text": [
      "14 Nov 14:33    INFO  Start evaling\n"
     ]
    },
    {
     "name": "stdout",
     "output_type": "stream",
     "text": [
      "((0.6469735476588377, 0.624550840569791), (0.28612215826538806, 0.15859857613433556), (0.5485629514448874, 0.4955566816024378))\n"
     ]
    },
    {
     "name": "stderr",
     "output_type": "stream",
     "text": [
      " 63%|██████▎   | 126/200 [2:08:03<1:30:47, 73.61s/it]14 Nov 14:34    INFO  Epoch 126 | full-batch training\n",
      "14 Nov 14:35    INFO  Epoch 126 | Train Loss 1.9918\n"
     ]
    },
    {
     "name": "stdout",
     "output_type": "stream",
     "text": [
      "torch.Size([544244, 128])\n",
      "tensor([0.1307], grad_fn=<AddBackward0>)\n"
     ]
    },
    {
     "name": "stderr",
     "output_type": "stream",
     "text": [
      " 64%|██████▎   | 127/200 [2:08:46<1:18:24, 64.45s/it]14 Nov 14:35    INFO  Epoch 127 | full-batch training\n",
      "14 Nov 14:35    INFO  Epoch 127 | Train Loss 1.9863\n"
     ]
    },
    {
     "name": "stdout",
     "output_type": "stream",
     "text": [
      "torch.Size([544244, 128])\n",
      "tensor([0.1306], grad_fn=<AddBackward0>)\n"
     ]
    },
    {
     "name": "stderr",
     "output_type": "stream",
     "text": [
      " 64%|██████▍   | 128/200 [2:09:28<1:09:14, 57.71s/it]14 Nov 14:36    INFO  Epoch 128 | full-batch training\n",
      "14 Nov 14:36    INFO  Epoch 128 | Train Loss 1.9846\n"
     ]
    },
    {
     "name": "stdout",
     "output_type": "stream",
     "text": [
      "torch.Size([544244, 128])\n",
      "tensor([0.1278], grad_fn=<AddBackward0>)\n"
     ]
    },
    {
     "name": "stderr",
     "output_type": "stream",
     "text": [
      " 64%|██████▍   | 129/200 [2:10:10<1:02:46, 53.05s/it]14 Nov 14:37    INFO  Epoch 129 | full-batch training\n",
      "14 Nov 14:37    INFO  Epoch 129 | Train Loss 1.9780\n"
     ]
    },
    {
     "name": "stdout",
     "output_type": "stream",
     "text": [
      "torch.Size([544244, 128])\n",
      "tensor([0.1288], grad_fn=<AddBackward0>)\n"
     ]
    },
    {
     "name": "stderr",
     "output_type": "stream",
     "text": [
      " 65%|██████▌   | 130/200 [2:10:52<57:57, 49.68s/it]  14 Nov 14:37    INFO  Epoch 130 | full-batch training\n",
      "14 Nov 14:37    INFO  Epoch 130 | Train Loss 1.9737\n"
     ]
    },
    {
     "name": "stdout",
     "output_type": "stream",
     "text": [
      "torch.Size([544244, 128])\n",
      "tensor([0.1279], grad_fn=<AddBackward0>)\n"
     ]
    },
    {
     "name": "stderr",
     "output_type": "stream",
     "text": [
      "14 Nov 14:38    INFO  Start evaling\n"
     ]
    },
    {
     "name": "stdout",
     "output_type": "stream",
     "text": [
      "((0.6517298398447475, 0.6316900397930256), (0.2859525072887908, 0.15804921384007856), (0.5500524469576376, 0.5027637409155717))\n"
     ]
    },
    {
     "name": "stderr",
     "output_type": "stream",
     "text": [
      " 66%|██████▌   | 131/200 [2:12:59<1:23:57, 73.01s/it]14 Nov 14:39    INFO  Epoch 131 | full-batch training\n",
      "14 Nov 14:40    INFO  Epoch 131 | Train Loss 1.9719\n"
     ]
    },
    {
     "name": "stdout",
     "output_type": "stream",
     "text": [
      "torch.Size([544244, 128])\n",
      "tensor([0.1261], grad_fn=<AddBackward0>)\n"
     ]
    },
    {
     "name": "stderr",
     "output_type": "stream",
     "text": [
      " 66%|██████▌   | 132/200 [2:13:42<1:12:22, 63.87s/it]14 Nov 14:40    INFO  Epoch 132 | full-batch training\n",
      "14 Nov 14:40    INFO  Epoch 132 | Train Loss 1.9654\n"
     ]
    },
    {
     "name": "stdout",
     "output_type": "stream",
     "text": [
      "torch.Size([544244, 128])\n",
      "tensor([0.1287], grad_fn=<AddBackward0>)\n"
     ]
    },
    {
     "name": "stderr",
     "output_type": "stream",
     "text": [
      " 66%|██████▋   | 133/200 [2:14:26<1:04:53, 58.12s/it]14 Nov 14:41    INFO  Epoch 133 | full-batch training\n",
      "14 Nov 14:41    INFO  Epoch 133 | Train Loss 1.9655\n"
     ]
    },
    {
     "name": "stdout",
     "output_type": "stream",
     "text": [
      "torch.Size([544244, 128])\n",
      "tensor([0.1246], grad_fn=<AddBackward0>)\n"
     ]
    },
    {
     "name": "stderr",
     "output_type": "stream",
     "text": [
      " 67%|██████▋   | 134/200 [2:15:09<58:56, 53.59s/it]  14 Nov 14:42    INFO  Epoch 134 | full-batch training\n",
      "14 Nov 14:42    INFO  Epoch 134 | Train Loss 1.9609\n"
     ]
    },
    {
     "name": "stdout",
     "output_type": "stream",
     "text": [
      "torch.Size([544244, 128])\n",
      "tensor([0.1260], grad_fn=<AddBackward0>)\n"
     ]
    },
    {
     "name": "stderr",
     "output_type": "stream",
     "text": [
      " 68%|██████▊   | 135/200 [2:15:53<54:42, 50.50s/it]14 Nov 14:42    INFO  Epoch 135 | full-batch training\n",
      "14 Nov 14:42    INFO  Epoch 135 | Train Loss 1.9574\n"
     ]
    },
    {
     "name": "stdout",
     "output_type": "stream",
     "text": [
      "torch.Size([544244, 128])\n",
      "tensor([0.1255], grad_fn=<AddBackward0>)\n"
     ]
    },
    {
     "name": "stderr",
     "output_type": "stream",
     "text": [
      "14 Nov 14:43    INFO  Start evaling\n"
     ]
    },
    {
     "name": "stdout",
     "output_type": "stream",
     "text": [
      "((0.6584056092133386, 0.6418867998741711), (0.2871705468471455, 0.15901709069339431), (0.551542895448266, 0.5073858337970939))\n"
     ]
    },
    {
     "name": "stderr",
     "output_type": "stream",
     "text": [
      " 68%|██████▊   | 136/200 [2:17:59<1:18:17, 73.40s/it]14 Nov 14:44    INFO  Epoch 136 | full-batch training\n",
      "14 Nov 14:45    INFO  Epoch 136 | Train Loss 1.9520\n"
     ]
    },
    {
     "name": "stdout",
     "output_type": "stream",
     "text": [
      "torch.Size([544244, 128])\n",
      "tensor([0.1236], grad_fn=<AddBackward0>)\n"
     ]
    },
    {
     "name": "stderr",
     "output_type": "stream",
     "text": [
      " 68%|██████▊   | 137/200 [2:18:43<1:07:38, 64.41s/it]14 Nov 14:45    INFO  Epoch 137 | full-batch training\n",
      "14 Nov 14:45    INFO  Epoch 137 | Train Loss 1.9438\n"
     ]
    },
    {
     "name": "stdout",
     "output_type": "stream",
     "text": [
      "torch.Size([544244, 128])\n",
      "tensor([0.1231], grad_fn=<AddBackward0>)\n"
     ]
    },
    {
     "name": "stderr",
     "output_type": "stream",
     "text": [
      " 69%|██████▉   | 138/200 [2:19:26<59:58, 58.04s/it]  14 Nov 14:46    INFO  Epoch 138 | full-batch training\n",
      "14 Nov 14:46    INFO  Epoch 138 | Train Loss 1.9377\n"
     ]
    },
    {
     "name": "stdout",
     "output_type": "stream",
     "text": [
      "torch.Size([544244, 128])\n",
      "tensor([0.1239], grad_fn=<AddBackward0>)\n"
     ]
    },
    {
     "name": "stderr",
     "output_type": "stream",
     "text": [
      " 70%|██████▉   | 139/200 [2:20:09<54:27, 53.56s/it]14 Nov 14:47    INFO  Epoch 139 | full-batch training\n",
      "14 Nov 14:47    INFO  Epoch 139 | Train Loss 1.9369\n"
     ]
    },
    {
     "name": "stdout",
     "output_type": "stream",
     "text": [
      "torch.Size([544244, 128])\n",
      "tensor([0.1219], grad_fn=<AddBackward0>)\n"
     ]
    },
    {
     "name": "stderr",
     "output_type": "stream",
     "text": [
      " 70%|███████   | 140/200 [2:20:52<50:29, 50.49s/it]14 Nov 14:47    INFO  Epoch 140 | full-batch training\n",
      "14 Nov 14:47    INFO  Epoch 140 | Train Loss 1.9322\n"
     ]
    },
    {
     "name": "stdout",
     "output_type": "stream",
     "text": [
      "torch.Size([544244, 128])\n",
      "tensor([0.1226], grad_fn=<AddBackward0>)\n"
     ]
    },
    {
     "name": "stderr",
     "output_type": "stream",
     "text": [
      "14 Nov 14:48    INFO  Start evaling\n"
     ]
    },
    {
     "name": "stdout",
     "output_type": "stream",
     "text": [
      "((0.6619097129292879, 0.6454965417308549), (0.2875471725366114, 0.15846717017028442), (0.5530404658022626, 0.5088744911666838))\n"
     ]
    },
    {
     "name": "stderr",
     "output_type": "stream",
     "text": [
      " 70%|███████   | 141/200 [2:23:06<1:14:16, 75.53s/it]14 Nov 14:50    INFO  Epoch 141 | full-batch training\n",
      "14 Nov 14:50    INFO  Epoch 141 | Train Loss 1.9267\n"
     ]
    },
    {
     "name": "stdout",
     "output_type": "stream",
     "text": [
      "torch.Size([544244, 128])\n",
      "tensor([0.1222], grad_fn=<AddBackward0>)\n"
     ]
    },
    {
     "name": "stderr",
     "output_type": "stream",
     "text": [
      " 71%|███████   | 142/200 [2:23:49<1:03:36, 65.79s/it]14 Nov 14:50    INFO  Epoch 142 | full-batch training\n",
      "14 Nov 14:50    INFO  Epoch 142 | Train Loss 1.9238\n"
     ]
    },
    {
     "name": "stdout",
     "output_type": "stream",
     "text": [
      "torch.Size([544244, 128])\n",
      "tensor([0.1195], grad_fn=<AddBackward0>)\n"
     ]
    }
   ],
   "source": [
    "experiment.run()"
   ]
  },
  {
   "cell_type": "code",
   "execution_count": null,
   "metadata": {},
   "outputs": [],
   "source": []
  }
 ],
 "metadata": {
  "kernelspec": {
   "display_name": "w2",
   "language": "python",
   "name": "python3"
  },
  "language_info": {
   "codemirror_mode": {
    "name": "ipython",
    "version": 3
   },
   "file_extension": ".py",
   "mimetype": "text/x-python",
   "name": "python",
   "nbconvert_exporter": "python",
   "pygments_lexer": "ipython3",
   "version": "3.11.6"
  }
 },
 "nbformat": 4,
 "nbformat_minor": 2
}
