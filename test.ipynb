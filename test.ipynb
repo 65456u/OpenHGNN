{
 "cells": [
  {
   "cell_type": "code",
   "execution_count": 1,
   "metadata": {},
   "outputs": [],
   "source": [
    "import openhgnn\n",
    "from openhgnn.trainerflow import KTNTrainer"
   ]
  },
  {
   "cell_type": "code",
   "execution_count": 2,
   "metadata": {},
   "outputs": [
    {
     "name": "stdout",
     "output_type": "stream",
     "text": [
      "------------------------------------------------------------------------------\n",
      " Basic setup of this experiment: \n",
      "     model: HMPNN    \n",
      "     dataset: OAG_CS   \n",
      "     task: ktn. \n",
      " This experiment has following parameters. You can use set_params to edit them.\n",
      " Use print(experiment) to print this information again.\n",
      "------------------------------------------------------------------------------\n",
      "batch_size: 3072\n",
      "dataset_name: OAG_CS\n",
      "device: cuda:0\n",
      "evaluate_interval: 5\n",
      "feature_name: feat\n",
      "gpu: 0\n",
      "hid_dim: 128\n",
      "hpo_search_space: None\n",
      "hpo_trials: 100\n",
      "in_dim: 1169\n",
      "load_from_pretrained: False\n",
      "lr: 0.001\n",
      "matching_coeff: 1\n",
      "max_epoch: 300\n",
      "mini_batch_flag: True\n",
      "model_name: HMPNN\n",
      "num_layers: 4\n",
      "optimizer: Adam\n",
      "out_dim: 128\n",
      "output_dir: ./openhgnn/output/HMPNN\n",
      "patience: 1\n",
      "ranking: True\n",
      "rel_dim: 128\n",
      "seed: 0\n",
      "source_test_batch: 50\n",
      "source_train_batch: 200\n",
      "source_type: paper\n",
      "target_test_batch: 50\n",
      "target_train_batch: 2\n",
      "target_type: author\n",
      "task_type: L1\n",
      "test_batch: 50\n",
      "train_batch: 200\n",
      "use_best_config: False\n",
      "use_matching_loss: True\n",
      "\n"
     ]
    }
   ],
   "source": [
    "from openhgnn import Experiment\n",
    "\n",
    "experiment = Experiment(\n",
    "    model=\"HMPNN\",\n",
    "    dataset=\"OAG_CS\",\n",
    "    task=\"ktn\",\n",
    "    gpu=0,\n",
    "    lr=0.001,\n",
    "    max_epoch=300,\n",
    "    num_layers=4,\n",
    "    task_type=\"L1\",\n",
    "    source_type=\"paper\",\n",
    "    target_type=\"author\",\n",
    "    in_dim=1169,\n",
    "    hid_dim=128,\n",
    "    out_dim=128,\n",
    "    rel_dim=128,\n",
    "    batch_size=3072,\n",
    "    use_matching_loss=True,\n",
    "    matching_coeff=1,\n",
    "    mini_batch_flag=True,\n",
    "    evaluate_interval=5,\n",
    "    ranking=True,\n",
    "    source_train_batch=200,\n",
    "    target_train_batch=2,\n",
    "    source_test_batch=50,\n",
    "    target_test_batch=50,\n",
    "    feature_name=\"feat\",\n",
    "    # line_profiler_func=[KTNTrainer._mini_test_step,]\n",
    ")"
   ]
  },
  {
   "cell_type": "code",
   "execution_count": 3,
   "metadata": {},
   "outputs": [
    {
     "name": "stderr",
     "output_type": "stream",
     "text": [
      "17 Nov 14:48    INFO  [Config Info]\tModel: HMPNN,\tTask: ktn,\tDataset: OAG_CS\n"
     ]
    },
    {
     "name": "stdout",
     "output_type": "stream",
     "text": [
      "KTN_trainer\n",
      "starting ktn task\n",
      "Loading dataset oag_cs\n",
      "initing hmpnn model\n",
      "275\n"
     ]
    },
    {
     "name": "stderr",
     "output_type": "stream",
     "text": [
      "  0%|          | 0/300 [00:00<?, ?it/s]17 Nov 14:48    INFO  Epoch 0 | mini-batch training\n"
     ]
    },
    {
     "name": "stdout",
     "output_type": "stream",
     "text": [
      "tensor([0.0686], device='cuda:0', grad_fn=<DivBackward0>)\n",
      "tensor([0.0035], device='cuda:0', grad_fn=<DivBackward0>)\n",
      "(0.48799299536187357, 0.4450232941953233, 0.15205678537919168, 0.00821251516230205, 0.4950409951637788, 0.49151156803975593)\n"
     ]
    },
    {
     "name": "stderr",
     "output_type": "stream",
     "text": [
      "  0%|          | 1/300 [00:51<4:17:12, 51.61s/it]17 Nov 14:49    INFO  Epoch 1 | mini-batch training\n"
     ]
    },
    {
     "name": "stdout",
     "output_type": "stream",
     "text": [
      "tensor([0.0603], device='cuda:0', grad_fn=<DivBackward0>)\n",
      "tensor([0.0027], device='cuda:0', grad_fn=<DivBackward0>)\n"
     ]
    },
    {
     "name": "stderr",
     "output_type": "stream",
     "text": [
      "  1%|          | 2/300 [00:59<2:09:17, 26.03s/it]17 Nov 14:49    INFO  Epoch 2 | mini-batch training\n"
     ]
    },
    {
     "name": "stdout",
     "output_type": "stream",
     "text": [
      "tensor([0.0519], device='cuda:0', grad_fn=<DivBackward0>)\n",
      "tensor([0.0032], device='cuda:0', grad_fn=<DivBackward0>)\n"
     ]
    },
    {
     "name": "stderr",
     "output_type": "stream",
     "text": [
      "  1%|          | 3/300 [01:07<1:28:20, 17.85s/it]17 Nov 14:50    INFO  Epoch 3 | mini-batch training\n"
     ]
    },
    {
     "name": "stdout",
     "output_type": "stream",
     "text": [
      "tensor([0.0486], device='cuda:0', grad_fn=<DivBackward0>)\n",
      "tensor([0.0028], device='cuda:0', grad_fn=<DivBackward0>)\n"
     ]
    },
    {
     "name": "stderr",
     "output_type": "stream",
     "text": [
      "  1%|▏         | 4/300 [01:15<1:09:02, 14.00s/it]17 Nov 14:50    INFO  Epoch 4 | mini-batch training\n"
     ]
    },
    {
     "name": "stdout",
     "output_type": "stream",
     "text": [
      "tensor([0.0439], device='cuda:0', grad_fn=<DivBackward0>)\n",
      "tensor([0.0028], device='cuda:0', grad_fn=<DivBackward0>)\n"
     ]
    },
    {
     "name": "stderr",
     "output_type": "stream",
     "text": [
      "  2%|▏         | 5/300 [01:24<58:17, 11.86s/it]  17 Nov 14:50    INFO  Epoch 5 | mini-batch training\n"
     ]
    },
    {
     "name": "stdout",
     "output_type": "stream",
     "text": [
      "tensor([0.0411], device='cuda:0', grad_fn=<DivBackward0>)\n",
      "tensor([0.0026], device='cuda:0', grad_fn=<DivBackward0>)\n",
      "(0.4817898596698161, 0.40384221264587, 0.16078696991419003, 0.02566385889562252, 0.5501470410664502, 0.5531711498510341)\n"
     ]
    },
    {
     "name": "stderr",
     "output_type": "stream",
     "text": [
      "  2%|▏         | 6/300 [02:13<2:01:26, 24.78s/it]17 Nov 14:51    INFO  Epoch 6 | mini-batch training\n"
     ]
    },
    {
     "name": "stdout",
     "output_type": "stream",
     "text": [
      "tensor([0.0390], device='cuda:0', grad_fn=<DivBackward0>)\n",
      "tensor([0.0024], device='cuda:0', grad_fn=<DivBackward0>)\n"
     ]
    },
    {
     "name": "stderr",
     "output_type": "stream",
     "text": [
      "  2%|▏         | 7/300 [02:22<1:34:44, 19.40s/it]17 Nov 14:51    INFO  Epoch 7 | mini-batch training\n"
     ]
    },
    {
     "name": "stdout",
     "output_type": "stream",
     "text": [
      "tensor([0.0374], device='cuda:0', grad_fn=<DivBackward0>)\n",
      "tensor([0.0023], device='cuda:0', grad_fn=<DivBackward0>)\n"
     ]
    },
    {
     "name": "stderr",
     "output_type": "stream",
     "text": [
      "  3%|▎         | 8/300 [02:30<1:16:58, 15.82s/it]17 Nov 14:51    INFO  Epoch 8 | mini-batch training\n"
     ]
    },
    {
     "name": "stdout",
     "output_type": "stream",
     "text": [
      "tensor([0.0361], device='cuda:0', grad_fn=<DivBackward0>)\n",
      "tensor([0.0022], device='cuda:0', grad_fn=<DivBackward0>)\n"
     ]
    },
    {
     "name": "stderr",
     "output_type": "stream",
     "text": [
      "  3%|▎         | 9/300 [02:38<1:05:08, 13.43s/it]17 Nov 14:51    INFO  Epoch 9 | mini-batch training\n"
     ]
    },
    {
     "name": "stdout",
     "output_type": "stream",
     "text": [
      "tensor([0.0347], device='cuda:0', grad_fn=<DivBackward0>)\n",
      "tensor([0.0021], device='cuda:0', grad_fn=<DivBackward0>)\n"
     ]
    },
    {
     "name": "stderr",
     "output_type": "stream",
     "text": [
      "  3%|▎         | 10/300 [02:46<57:08, 11.82s/it] 17 Nov 14:51    INFO  Epoch 10 | mini-batch training\n"
     ]
    },
    {
     "name": "stdout",
     "output_type": "stream",
     "text": [
      "tensor([0.0340], device='cuda:0', grad_fn=<DivBackward0>)\n",
      "tensor([0.0020], device='cuda:0', grad_fn=<DivBackward0>)\n"
     ]
    }
   ],
   "source": [
    "experiment.run()"
   ]
  },
  {
   "cell_type": "code",
   "execution_count": null,
   "metadata": {},
   "outputs": [],
   "source": []
  }
 ],
 "metadata": {
  "kernelspec": {
   "display_name": "w2",
   "language": "python",
   "name": "python3"
  },
  "language_info": {
   "codemirror_mode": {
    "name": "ipython",
    "version": 3
   },
   "file_extension": ".py",
   "mimetype": "text/x-python",
   "name": "python",
   "nbconvert_exporter": "python",
   "pygments_lexer": "ipython3",
   "version": "3.11.6"
  }
 },
 "nbformat": 4,
 "nbformat_minor": 2
}
