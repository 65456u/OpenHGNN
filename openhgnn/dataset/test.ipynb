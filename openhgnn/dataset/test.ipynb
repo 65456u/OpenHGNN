{
 "cells": [
  {
   "cell_type": "code",
   "execution_count": 2,
   "metadata": {},
   "outputs": [],
   "source": [
    "import dgl\n",
    "import torch as th"
   ]
  },
  {
   "cell_type": "code",
   "execution_count": 3,
   "metadata": {},
   "outputs": [],
   "source": [
    "glist, dims = dgl.load_graphs(\"oag_cs.bin\")\n",
    "g = glist[0]"
   ]
  },
  {
   "cell_type": "code",
   "execution_count": 5,
   "metadata": {},
   "outputs": [],
   "source": [
    "\n",
    "train_mask = g.nodes['paper'].data[\"train_mask\"]\n",
    "test_mask = g.nodes['paper'].data[\"test_mask\"]\n",
    "train_idx = th.nonzero(train_mask, as_tuple=False).squeeze()\n",
    "test_idx = th.nonzero(test_mask, as_tuple=False).squeeze()"
   ]
  },
  {
   "cell_type": "code",
   "execution_count": 8,
   "metadata": {},
   "outputs": [],
   "source": [
    "subg=dgl.sampling.sample_neighbors(g,{'paper':train_idx[:64]},1)"
   ]
  },
  {
   "cell_type": "code",
   "execution_count": 17,
   "metadata": {},
   "outputs": [],
   "source": [
    "sg = dgl.to_block(subg, {\"paper\": train_idx[:64]})"
   ]
  },
  {
   "cell_type": "code",
   "execution_count": 18,
   "metadata": {},
   "outputs": [
    {
     "data": {
      "text/plain": [
       "Block(num_src_nodes={'affiliation': 0, 'author': 60, 'field': 59, 'paper': 125, 'venue': 1},\n",
       "      num_dst_nodes={'affiliation': 0, 'author': 0, 'field': 0, 'paper': 64, 'venue': 0},\n",
       "      num_edges={('affiliation', 'affiliation-author', 'author'): 0, ('author', 'author-affiliation', 'affiliation'): 0, ('author', 'author-paper', 'paper'): 60, ('field', 'field-field', 'field'): 0, ('field', 'field-paper', 'paper'): 64, ('paper', 'paper-author', 'author'): 0, ('paper', 'paper-field', 'field'): 0, ('paper', 'paper-paper', 'paper'): 64, ('paper', 'paper-venue', 'venue'): 0, ('venue', 'venue-paper', 'paper'): 64},\n",
       "      metagraph=[('affiliation', 'author', 'affiliation-author'), ('author', 'affiliation', 'author-affiliation'), ('author', 'paper', 'author-paper'), ('paper', 'author', 'paper-author'), ('paper', 'field', 'paper-field'), ('paper', 'paper', 'paper-paper'), ('paper', 'venue', 'paper-venue'), ('field', 'field', 'field-field'), ('field', 'paper', 'field-paper'), ('venue', 'paper', 'venue-paper')])"
      ]
     },
     "execution_count": 18,
     "metadata": {},
     "output_type": "execute_result"
    }
   ],
   "source": [
    "sg"
   ]
  },
  {
   "cell_type": "code",
   "execution_count": 19,
   "metadata": {},
   "outputs": [],
   "source": [
    "import dgl\n",
    "import dgl.function as fn\n",
    "import numpy as np\n",
    "import torch as th\n",
    "import scipy.sparse as ssp\n",
    "import array\n",
    "import torch\n",
    "\n",
    "\n",
    "\n",
    "class Budget(object):\n",
    "    def __init__(self, hg, n_types, NS):\n",
    "        self.n_types = {}\n",
    "        for key, value in n_types.items():\n",
    "            self.n_types[key] = th.zeros(value)\n",
    "        self.NS = NS\n",
    "        self.hg = hg\n",
    "    def update(self, dst_type, idxs):\n",
    "        for etype in self.hg.canonical_etypes:\n",
    "            if dst_type == etype[2]:\n",
    "                src_type = etype[0]\n",
    "                #degree = self.hg.in_degrees(idx, etype=etype)\n",
    "                for i in idxs:\n",
    "                    src_idx = self.hg.predecessors(i, etype=etype)\n",
    "                    #if src_idx.shape[0] > 0:\n",
    "                    len = src_idx.shape[0]\n",
    "                    if src_type in self.NS.keys():\n",
    "                        src_idx = th.tensor([i for i in src_idx if i not in self.NS[src_type]])\n",
    "                    if src_idx.shape[0] > 0:\n",
    "                        self.n_types[src_type][src_idx] += 1 / len\n",
    "\n",
    "    def pop(self, type, idx):\n",
    "        self.n_types[type][idx] = 0\n",
    "\n",
    "\n",
    "class HGTsampler(object):\n",
    "    def __init__(self, hg, category, num_nodes_per_type, num_steps):\n",
    "        self.n_types = {}\n",
    "        for n in hg.ntypes:\n",
    "            self.n_types[n] = hg.num_nodes(n)\n",
    "        self.category = category\n",
    "        self.num_nodes_per_type = num_nodes_per_type\n",
    "        self.num_steps = num_steps\n",
    "        self.hg = hg\n",
    "\n",
    "    def sampler_subgraph(self, seed_nodes):\n",
    "        OS = {self.category: th.stack(seed_nodes)}\n",
    "        NS = OS\n",
    "        B = Budget(self.hg, self.n_types, NS)\n",
    "        for type, idxs in OS.items():\n",
    "            B.update(type, idxs)\n",
    "        for i in range(self.num_steps):\n",
    "            prob = {}\n",
    "            for src_type, p in B.n_types.items():\n",
    "                #print(src_type)\n",
    "                if p.max() > 0:\n",
    "                    prob[src_type] = p / th.sum(p)\n",
    "                    sampled_idx = th.multinomial(prob[src_type], self.num_nodes_per_type, replacement=False)\n",
    "                    if not OS.__contains__(src_type):\n",
    "                        OS[src_type] = sampled_idx\n",
    "                    else:\n",
    "                        OS[src_type] = th.cat((OS[src_type], sampled_idx))\n",
    "                    B.update(src_type, sampled_idx)\n",
    "                    B.pop(src_type, sampled_idx)\n",
    "        sg = self.hg.subgraph(OS)\n",
    "        return sg, OS\n",
    "\n",
    "\n",
    "\n",
    "\n",
    "def HGT_preprocess4mag(hg, train_idx):\n",
    "    hg = hg.to('cpu')\n",
    "    edges = {etype: hg.edges(etype=etype) for etype in hg.canonical_etypes}\n",
    "    edges.update({(v, e + '_inv', u): (dst, src) for (u, e, v), (src, dst) in edges.items()})\n",
    "    hg2 = dgl.heterograph(edges)\n",
    "    hg2 = dgl.to_simple(hg2)\n",
    "\n",
    "    # Initialize year\n",
    "    hg2.nodes['paper'].data['timestamp'] = hg.nodes['paper'].data['year'].squeeze()\n",
    "    for ntype in hg.ntypes:\n",
    "        if ntype != 'paper':\n",
    "            hg2.nodes[ntype].data['timestamp'] = th.zeros(hg2.num_nodes(ntype), dtype=th.int64)\n",
    "\n",
    "    # Aggregate bag-of-paper features\n",
    "    hg2.nodes['paper'].data['feat'] = hg.nodes['paper'].data['feat']\n",
    "    hg2.update_all(fn.copy_u('feat', 'm'), fn.mean('m', 'feat'), etype='has_topic')  # field_of_study\n",
    "    hg2.update_all(fn.copy_u('feat', 'm'), fn.mean('m', 'feat'), etype='writes_inv')  # author\n",
    "    hg2.update_all(fn.copy_u('feat', 'm'), fn.mean('m', 'feat'), etype='affiliated_with')  # institution\n",
    "\n",
    "    # Attach log-degree to feature of each node type\n",
    "    for ntype in hg2.ntypes:\n",
    "        hg2.nodes[ntype].data['deg'] = th.zeros(hg2.num_nodes(ntype))\n",
    "    for utype, etype, vtype in hg2.canonical_etypes:\n",
    "        hg2.nodes[vtype].data['deg'] += hg2.in_degrees(etype=etype)\n",
    "    for ntype in hg2.ntypes:\n",
    "        hg2.nodes[ntype].data['feat'] = th.cat([\n",
    "            hg2.nodes[ntype].data['feat'],\n",
    "            th.log10(hg2.nodes[ntype].data['deg'][:, None])], 1)\n",
    "        del hg2.nodes[ntype].data['deg']\n",
    "\n",
    "    for ntype in hg2.ntypes:\n",
    "        hg2.nodes[ntype].data['train_mask'] = torch.zeros(hg2.num_nodes(ntype), dtype=torch.bool)\n",
    "        if ntype == 'paper':\n",
    "            hg2.nodes[ntype].data['train_mask'][train_idx['paper']] = True\n",
    "\n",
    "    # Convert to homogeneous graph and add self-loop\n",
    "    g = dgl.to_homogeneous(hg2, ndata=['timestamp', 'feat'])\n",
    "    g.edata['etype'] = g.edata[dgl.ETYPE]\n",
    "    g.ndata['ntype'] = g.ndata[dgl.NTYPE]\n",
    "    g.ndata['nid'] = g.ndata[dgl.NID]\n",
    "    del g.edata[dgl.ETYPE]\n",
    "    del g.edata[dgl.EID]\n",
    "    del g.ndata[dgl.NTYPE]\n",
    "    del g.ndata[dgl.NID]\n",
    "    num_nodes = g.num_nodes()\n",
    "    g = dgl.add_self_loop(g)\n",
    "    g.edata['etype'][-num_nodes:] = len(hg2.etypes)\n",
    "\n",
    "    return g"
   ]
  },
  {
   "cell_type": "code",
   "execution_count": 21,
   "metadata": {},
   "outputs": [],
   "source": [
    "source_sampler = HGTsampler(g, \"paper\", 1, 4)\n",
    "target_sampler = HGTsampler(g, \"author\", 1, 4)"
   ]
  },
  {
   "cell_type": "code",
   "execution_count": 22,
   "metadata": {},
   "outputs": [],
   "source": [
    "dataloader = torch.utils.data.DataLoader(\n",
    "    train_idx,\n",
    "    batch_size=64,\n",
    "    collate_fn=source_sampler.sampler_subgraph,\n",
    "    # num_workers=self.args.num_workers,\n",
    "    shuffle=True,\n",
    "    drop_last=False,\n",
    ")"
   ]
  },
  {
   "cell_type": "code",
   "execution_count": 24,
   "metadata": {},
   "outputs": [],
   "source": [
    "a = next(iter(dataloader))"
   ]
  },
  {
   "cell_type": "code",
   "execution_count": 27,
   "metadata": {},
   "outputs": [
    {
     "data": {
      "text/plain": [
       "Graph(num_nodes={'affiliation': 3, 'author': 4, 'field': 4, 'paper': 68, 'venue': 4},\n",
       "      num_edges={('affiliation', 'affiliation-author', 'author'): 4, ('author', 'author-affiliation', 'affiliation'): 4, ('author', 'author-paper', 'paper'): 4, ('field', 'field-field', 'field'): 0, ('field', 'field-paper', 'paper'): 12, ('paper', 'paper-author', 'author'): 4, ('paper', 'paper-field', 'field'): 12, ('paper', 'paper-paper', 'paper'): 4, ('paper', 'paper-venue', 'venue'): 6, ('venue', 'venue-paper', 'paper'): 6},\n",
       "      metagraph=[('affiliation', 'author', 'affiliation-author'), ('author', 'affiliation', 'author-affiliation'), ('author', 'paper', 'author-paper'), ('paper', 'author', 'paper-author'), ('paper', 'field', 'paper-field'), ('paper', 'paper', 'paper-paper'), ('paper', 'venue', 'paper-venue'), ('field', 'field', 'field-field'), ('field', 'paper', 'field-paper'), ('venue', 'paper', 'venue-paper')])"
      ]
     },
     "execution_count": 27,
     "metadata": {},
     "output_type": "execute_result"
    }
   ],
   "source": [
    "a[0]"
   ]
  },
  {
   "cell_type": "code",
   "execution_count": 28,
   "metadata": {},
   "outputs": [
    {
     "data": {
      "text/plain": [
       "{'paper': tensor([ 33651, 264064,  14129,  39863, 543680, 260598,   1306, 461042, 137527,\n",
       "         294628, 374634, 439779, 517751, 286602, 418241,  67096, 245625, 411516,\n",
       "         296457, 362784, 238363, 507455, 258262, 499626, 481229, 319118, 510740,\n",
       "         230058, 402512, 372653,  83105, 398140, 538131, 137585, 295265, 198069,\n",
       "         152263, 103080, 356339,  83636, 350655, 494942, 339255, 235273, 457007,\n",
       "         287447,  33411, 263254, 379369,  84454, 343389, 278408, 343024, 406782,\n",
       "         407633, 282809, 300775, 396011, 410717,  25376, 170043, 408125, 196552,\n",
       "         126510, 259669, 264690, 350802, 170224]),\n",
       " 'author': tensor([316872, 129736, 316873, 263227]),\n",
       " 'field': tensor([11117, 28920, 26443,  6745]),\n",
       " 'venue': tensor([6216, 4184, 3527, 4798]),\n",
       " 'affiliation': tensor([ 903, 5136, 2587])}"
      ]
     },
     "execution_count": 28,
     "metadata": {},
     "output_type": "execute_result"
    }
   ],
   "source": [
    "a[1]"
   ]
  },
  {
   "cell_type": "code",
   "execution_count": 30,
   "metadata": {},
   "outputs": [],
   "source": [
    "sg=a[0]"
   ]
  },
  {
   "cell_type": "code",
   "execution_count": null,
   "metadata": {},
   "outputs": [],
   "source": []
  },
  {
   "cell_type": "code",
   "execution_count": null,
   "metadata": {},
   "outputs": [],
   "source": []
  },
  {
   "cell_type": "code",
   "execution_count": 37,
   "metadata": {},
   "outputs": [],
   "source": [
    "# sampler = dgl.dataloading.MultiLayerFullNeighborSampler(4)\n",
    "sampler = dgl.dataloading.NeighborSampler([4, 4, 4, 4])\n",
    "dataloader = dgl.dataloading.DataLoader(\n",
    "    g,\n",
    "    {'paper':train_idx},\n",
    "    sampler,\n",
    "    batch_size=64,\n",
    "    shuffle=True,\n",
    "    drop_last=False,\n",
    "    # num_workers=4,\n",
    ")"
   ]
  },
  {
   "cell_type": "code",
   "execution_count": 38,
   "metadata": {},
   "outputs": [
    {
     "data": {
      "text/plain": [
       "<dgl.dataloading.dataloader.DataLoader at 0x7f8f213e4bd0>"
      ]
     },
     "execution_count": 38,
     "metadata": {},
     "output_type": "execute_result"
    }
   ],
   "source": [
    "dataloader"
   ]
  },
  {
   "cell_type": "code",
   "execution_count": 39,
   "metadata": {},
   "outputs": [
    {
     "name": "stderr",
     "output_type": "stream",
     "text": [
      "/home/lacuna42/miniforge3/envs/t/lib/python3.11/site-packages/dgl/dataloading/dataloader.py:1149: DGLWarning: Dataloader CPU affinity opt is not enabled, consider switching it on (see enable_cpu_affinity() or CPU best practices for DGL [https://docs.dgl.ai/tutorials/cpu/cpu_best_practises.html])\n",
      "  dgl_warning(\n"
     ]
    }
   ],
   "source": [
    "input_nodes, output_nodes, blocks = next(iter(dataloader))"
   ]
  },
  {
   "cell_type": "code",
   "execution_count": 40,
   "metadata": {},
   "outputs": [
    {
     "name": "stdout",
     "output_type": "stream",
     "text": [
      "affiliation torch.Size([1456])\n",
      "author torch.Size([27224])\n",
      "field torch.Size([16016])\n",
      "paper torch.Size([95813])\n",
      "venue torch.Size([2276])\n"
     ]
    }
   ],
   "source": [
    "for key, valud in input_nodes.items():\n",
    "    print(key, valud.shape)"
   ]
  },
  {
   "cell_type": "code",
   "execution_count": 10,
   "metadata": {},
   "outputs": [
    {
     "data": {
      "text/plain": [
       "{'affiliation': tensor([  12, 1162,  401,  ..., 1976, 8583, 2821]),\n",
       " 'author': tensor([ 39272, 166534, 166535,  ..., 471093, 471095, 471096]),\n",
       " 'field': tensor([19352, 10896, 34017,  ..., 40603, 12309, 27933]),\n",
       " 'paper': tensor([ 64303, 428584, 254819,  ..., 466368, 535494, 323348]),\n",
       " 'venue': tensor([ 562, 5285, 3053,  ..., 1862, 3666,  360])}"
      ]
     },
     "execution_count": 10,
     "metadata": {},
     "output_type": "execute_result"
    }
   ],
   "source": [
    "input_nodes"
   ]
  },
  {
   "cell_type": "code",
   "execution_count": 11,
   "metadata": {},
   "outputs": [
    {
     "data": {
      "text/plain": [
       "{'affiliation': tensor([[ 0.0029, -0.0018,  0.0022,  ..., -0.0012,  0.0005,  0.0403],\n",
       "         [ 0.0063,  0.0010,  0.0018,  ..., -0.0010,  0.0011,  0.0296],\n",
       "         [ 0.0037,  0.0021,  0.0017,  ..., -0.0016,  0.0004,  0.0286],\n",
       "         ...,\n",
       "         [ 0.0008, -0.0025,  0.0030,  ..., -0.0001, -0.0033,  0.0099],\n",
       "         [ 0.0025, -0.0022,  0.0038,  ...,  0.0043, -0.0015,  0.0042],\n",
       "         [ 0.0029, -0.0014, -0.0007,  ...,  0.0044,  0.0012,  0.0136]]),\n",
       " 'author': tensor([[ 0.0000e+00,  0.0000e+00,  0.0000e+00,  ...,  8.7267e-05,\n",
       "          -1.3538e-04,  5.7543e-03],\n",
       "         [ 0.0000e+00,  0.0000e+00,  0.0000e+00,  ..., -1.3289e-03,\n",
       "           9.0451e-04,  9.6308e-03],\n",
       "         [ 0.0000e+00,  0.0000e+00,  0.0000e+00,  ..., -1.7089e-04,\n",
       "           3.0572e-03,  4.0321e-03],\n",
       "         ...,\n",
       "         [ 0.0000e+00,  0.0000e+00,  0.0000e+00,  ...,  0.0000e+00,\n",
       "           0.0000e+00, -1.0000e+00],\n",
       "         [ 0.0000e+00,  0.0000e+00,  0.0000e+00,  ...,  0.0000e+00,\n",
       "           0.0000e+00, -1.0000e+00],\n",
       "         [ 0.0000e+00,  0.0000e+00,  0.0000e+00,  ..., -5.0532e-03,\n",
       "          -2.4794e-03,  1.5250e-02]]),\n",
       " 'field': tensor([[-4.6618e-02, -1.1785e-02,  3.0433e-02,  ...,  0.0000e+00,\n",
       "           0.0000e+00, -3.5643e-01],\n",
       "         [ 1.9235e-03, -3.9725e-04,  3.6276e-03,  ..., -4.6246e-03,\n",
       "          -6.4250e-04,  2.5319e-03],\n",
       "         [-1.2349e-03, -2.9300e-03,  3.9127e-03,  ...,  3.2370e-03,\n",
       "           1.6877e-03,  6.3564e-03],\n",
       "         ...,\n",
       "         [ 1.9096e-03,  1.3867e-03,  2.3700e-03,  ...,  1.2364e-03,\n",
       "           2.5083e-03,  7.0780e-03],\n",
       "         [ 3.7830e-05,  5.4851e-04,  8.2707e-04,  ...,  1.0757e-03,\n",
       "           7.5982e-04,  1.5335e-02],\n",
       "         [ 1.4453e-03, -1.7878e-03,  4.6908e-04,  ..., -7.0911e-04,\n",
       "           1.0335e-03,  1.4313e-02]]),\n",
       " 'paper': tensor([[ 0.0000,  0.0000,  0.0000,  ..., -0.0032, -0.0007,  0.0090],\n",
       "         [ 0.0000,  0.0000,  0.0000,  ..., -0.0106,  0.0010,  0.0099],\n",
       "         [ 0.0000,  0.0000,  0.0000,  ..., -0.0009, -0.0046,  0.0082],\n",
       "         ...,\n",
       "         [ 0.0000,  0.0000,  0.0000,  ...,  0.0020, -0.0033,  0.0066],\n",
       "         [ 0.0000,  0.0000,  0.0000,  ..., -0.0028,  0.0002,  0.0027],\n",
       "         [ 0.0000,  0.0000,  0.0000,  ..., -0.0013,  0.0082,  0.0041]]),\n",
       " 'venue': tensor([[ 5.6821e-04,  3.0065e-05,  2.2393e-03,  ..., -2.2604e-03,\n",
       "           1.1174e-03,  2.2809e-02],\n",
       "         [-1.4805e-03, -3.8860e-03,  1.2471e-03,  ..., -6.9615e-04,\n",
       "           5.2194e-04,  3.4028e-02],\n",
       "         [-2.5020e-03, -3.1805e-03, -3.3185e-04,  ..., -2.9193e-04,\n",
       "          -3.8082e-04,  1.5247e-02],\n",
       "         ...,\n",
       "         [-8.2875e-06,  1.2714e-03, -2.5557e-03,  ..., -4.5544e-03,\n",
       "           2.3767e-03,  9.5970e-03],\n",
       "         [ 3.2156e-03, -5.4920e-03,  1.5362e-03,  ..., -2.0576e-03,\n",
       "          -4.7241e-04,  1.6888e-02],\n",
       "         [-1.5940e-03, -3.7156e-04, -4.1280e-04,  ..., -1.3173e-03,\n",
       "           8.2073e-03,  4.0477e-03]])}"
      ]
     },
     "execution_count": 11,
     "metadata": {},
     "output_type": "execute_result"
    }
   ],
   "source": [
    "g.ndata[\"feat\"]"
   ]
  },
  {
   "cell_type": "code",
   "execution_count": 79,
   "metadata": {},
   "outputs": [],
   "source": [
    "labels = g.ndata[\"L1\"][\"author\"]"
   ]
  },
  {
   "cell_type": "code",
   "execution_count": 80,
   "metadata": {},
   "outputs": [],
   "source": [
    "lbl_dim = dims[\"L1\"]"
   ]
  },
  {
   "cell_type": "code",
   "execution_count": 44,
   "metadata": {},
   "outputs": [
    {
     "ename": "RuntimeError",
     "evalue": "shape mismatch: value tensor of shape [510189, 275] cannot be broadcast to indexing result of shape [668109]",
     "output_type": "error",
     "traceback": [
      "\u001b[0;31m---------------------------------------------------------------------------\u001b[0m",
      "\u001b[0;31mRuntimeError\u001b[0m                              Traceback (most recent call last)",
      "\u001b[1;32m/home/lacuna42/OpenHGNN/openhgnn/dataset/test.ipynb Cell 14\u001b[0m line \u001b[0;36m1\n\u001b[1;32m     <a href='vscode-notebook-cell://ssh-remote%2B34.27.125.147/home/lacuna42/OpenHGNN/openhgnn/dataset/test.ipynb#X16sdnNjb2RlLXJlbW90ZQ%3D%3D?line=13'>14</a>\u001b[0m     mask \u001b[39m=\u001b[39m indices \u001b[39m<\u001b[39m num_indices\u001b[39m.\u001b[39munsqueeze(\u001b[39m1\u001b[39m)\n\u001b[1;32m     <a href='vscode-notebook-cell://ssh-remote%2B34.27.125.147/home/lacuna42/OpenHGNN/openhgnn/dataset/test.ipynb#X16sdnNjb2RlLXJlbW90ZQ%3D%3D?line=14'>15</a>\u001b[0m     values \u001b[39m=\u001b[39m torch\u001b[39m.\u001b[39mones_like(num_indices, dtype\u001b[39m=\u001b[39mtorch\u001b[39m.\u001b[39mfloat) \u001b[39m/\u001b[39m num_indices\u001b[39m.\u001b[39mclamp(\u001b[39mmin\u001b[39m\u001b[39m=\u001b[39m\u001b[39m1\u001b[39m)\n\u001b[0;32m---> <a href='vscode-notebook-cell://ssh-remote%2B34.27.125.147/home/lacuna42/OpenHGNN/openhgnn/dataset/test.ipynb#X16sdnNjb2RlLXJlbW90ZQ%3D%3D?line=15'>16</a>\u001b[0m     processed_labels[task_type][node_type][mask] \u001b[39m=\u001b[39m values\u001b[39m.\u001b[39munsqueeze(\u001b[39m1\u001b[39m)\u001b[39m.\u001b[39mexpand(\u001b[39m-\u001b[39m\u001b[39m1\u001b[39m, dims[task_type])\n\u001b[1;32m     <a href='vscode-notebook-cell://ssh-remote%2B34.27.125.147/home/lacuna42/OpenHGNN/openhgnn/dataset/test.ipynb#X16sdnNjb2RlLXJlbW90ZQ%3D%3D?line=16'>17</a>\u001b[0m \u001b[39melse\u001b[39;00m:\n\u001b[1;32m     <a href='vscode-notebook-cell://ssh-remote%2B34.27.125.147/home/lacuna42/OpenHGNN/openhgnn/dataset/test.ipynb#X16sdnNjb2RlLXJlbW90ZQ%3D%3D?line=17'>18</a>\u001b[0m     processed_labels[task_type][node_type] \u001b[39m=\u001b[39m labels\n",
      "\u001b[0;31mRuntimeError\u001b[0m: shape mismatch: value tensor of shape [510189, 275] cannot be broadcast to indexing result of shape [668109]"
     ]
    }
   ],
   "source": [
    "processed_labels = {}\n",
    "for task_type in [\"L1\"]:\n",
    "    processed_labels[task_type] = {}\n",
    "    for node_type in [\"author\"]:\n",
    "        labels = g.ndata[task_type][node_type]\n",
    "        if labels.shape[1] != dims[task_type]:\n",
    "            processed_labels[task_type][node_type] = torch.zeros(\n",
    "                (labels.shape[0], dims[task_type])\n",
    "            )\n",
    "            num_indices = torch.count_nonzero(labels + 1, dim=1)\n",
    "            for i in range(labels.shape[0]):\n",
    "                indices = labels[i, : num_indices[i]].to(torch.int)\n",
    "                processed_labels[task_type][node_type][i, indices] = 1 / num_indices[\n",
    "                    i\n",
    "                ].clamp(min=1)\n",
    "        else:\n",
    "            processed_labels[task_type][node_type] = labels"
   ]
  },
  {
   "cell_type": "code",
   "execution_count": 66,
   "metadata": {},
   "outputs": [],
   "source": [
    "def process_category(labels: torch.tensor, num_classes: int) -> torch.tensor:\n",
    "    if labels.shape[1] != num_classes:\n",
    "        processed_labels = torch.zeros((labels.shape[0], num_classes))\n",
    "        num_indices = torch.count_nonzero(labels + 1, dim=1)\n",
    "        for i in range(labels.shape[0]):\n",
    "            indices = labels[i, : num_indices[i]].to(torch.int)\n",
    "            processed_labels[i, indices] = 1 / num_indices[i].clamp(min=1)\n",
    "    else:\n",
    "        processed_labels = labels\n",
    "    return processed_labels"
   ]
  },
  {
   "cell_type": "code",
   "execution_count": 43,
   "metadata": {},
   "outputs": [],
   "source": [
    "lb = g.ndata[\"L1\"][\"author\"]"
   ]
  },
  {
   "cell_type": "code",
   "execution_count": 49,
   "metadata": {},
   "outputs": [],
   "source": [
    "num_indices"
   ]
  },
  {
   "cell_type": "code",
   "execution_count": 67,
   "metadata": {},
   "outputs": [],
   "source": [
    "a = process_category(lb[:50], dims[\"L1\"].item())"
   ]
  },
  {
   "cell_type": "code",
   "execution_count": 68,
   "metadata": {},
   "outputs": [
    {
     "data": {
      "text/plain": [
       "tensor([[0.0000, 0.0000, 0.0000,  ..., 0.0000, 0.0000, 0.0000],\n",
       "        [0.5000, 0.5000, 0.0000,  ..., 0.0000, 0.0000, 0.0000],\n",
       "        [0.0000, 0.0000, 0.0000,  ..., 0.0000, 0.0000, 0.0000],\n",
       "        ...,\n",
       "        [1.0000, 0.0000, 0.0000,  ..., 0.0000, 0.0000, 0.0000],\n",
       "        [0.0000, 0.0000, 0.0000,  ..., 0.0000, 0.0000, 0.0000],\n",
       "        [0.0000, 0.0000, 0.0000,  ..., 0.0000, 0.0000, 0.0000]])"
      ]
     },
     "execution_count": 68,
     "metadata": {},
     "output_type": "execute_result"
    }
   ],
   "source": [
    "a"
   ]
  },
  {
   "cell_type": "code",
   "execution_count": 34,
   "metadata": {},
   "outputs": [
    {
     "data": {
      "text/plain": [
       "tensor([19., -1., -1., -1., -1., -1., -1., -1., -1., -1., -1., -1., -1., -1.,\n",
       "        -1., -1., -1., -1., -1., -1., -1., -1., -1., -1., -1., -1., -1., -1.,\n",
       "        -1., -1., -1., -1., -1., -1., -1., -1., -1., -1., -1., -1., -1., -1.,\n",
       "        -1., -1., -1., -1., -1., -1., -1., -1.])"
      ]
     },
     "execution_count": 34,
     "metadata": {},
     "output_type": "execute_result"
    }
   ],
   "source": [
    "lb[42]"
   ]
  },
  {
   "cell_type": "code",
   "execution_count": 35,
   "metadata": {},
   "outputs": [
    {
     "data": {
      "text/plain": [
       "tensor(1.)"
      ]
     },
     "execution_count": 35,
     "metadata": {},
     "output_type": "execute_result"
    }
   ],
   "source": [
    "a[42][19]"
   ]
  },
  {
   "cell_type": "code",
   "execution_count": 3,
   "metadata": {},
   "outputs": [
    {
     "data": {
      "text/plain": [
       "SparseMatrix(indices=tensor([[387067, 134013, 134013,  ..., 102817, 304115, 529407],\n",
       "                             [     1,      1,      2,  ..., 510171, 392963, 510188]]),\n",
       "             values=tensor([1., 1., 1.,  ..., 1., 1., 1.]),\n",
       "             shape=(544244, 510189), nnz=1091559)"
      ]
     },
     "execution_count": 3,
     "metadata": {},
     "output_type": "execute_result"
    }
   ],
   "source": [
    "g.adj(etype='paper-author')\n"
   ]
  },
  {
   "cell_type": "code",
   "execution_count": 6,
   "metadata": {},
   "outputs": [],
   "source": [
    "import dgl.sparse"
   ]
  },
  {
   "cell_type": "code",
   "execution_count": null,
   "metadata": {},
   "outputs": [],
   "source": []
  }
 ],
 "metadata": {
  "kernelspec": {
   "display_name": "w2",
   "language": "python",
   "name": "python3"
  },
  "language_info": {
   "codemirror_mode": {
    "name": "ipython",
    "version": 3
   },
   "file_extension": ".py",
   "mimetype": "text/x-python",
   "name": "python",
   "nbconvert_exporter": "python",
   "pygments_lexer": "ipython3",
   "version": "3.11.6"
  }
 },
 "nbformat": 4,
 "nbformat_minor": 2
}
