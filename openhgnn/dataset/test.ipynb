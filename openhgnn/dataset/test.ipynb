{
 "cells": [
  {
   "cell_type": "code",
   "execution_count": 1,
   "metadata": {},
   "outputs": [],
   "source": [
    "import dgl\n",
    "import torch as th"
   ]
  },
  {
   "cell_type": "code",
   "execution_count": 3,
   "metadata": {},
   "outputs": [
    {
     "ename": "NameError",
     "evalue": "name 'g' is not defined",
     "output_type": "error",
     "traceback": [
      "\u001b[0;31m---------------------------------------------------------------------------\u001b[0m",
      "\u001b[0;31mNameError\u001b[0m                                 Traceback (most recent call last)",
      "\u001b[1;32m/home/lacuna42/OpenHGNN/openhgnn/dataset/test.ipynb Cell 2\u001b[0m line \u001b[0;36m1\n\u001b[0;32m----> <a href='vscode-notebook-cell://ssh-remote%2B34.122.46.43/home/lacuna42/OpenHGNN/openhgnn/dataset/test.ipynb#W1sdnNjb2RlLXJlbW90ZQ%3D%3D?line=0'>1</a>\u001b[0m g\u001b[39m.\u001b[39mndata[\u001b[39m'\u001b[39m\u001b[39mfeat\u001b[39m\u001b[39m'\u001b[39m]\n",
      "\u001b[0;31mNameError\u001b[0m: name 'g' is not defined"
     ]
    }
   ],
   "source": [
    "g.ndata['feat']"
   ]
  },
  {
   "cell_type": "code",
   "execution_count": 2,
   "metadata": {},
   "outputs": [],
   "source": [
    "glist, dims = dgl.load_graphs(\"oag_cs.bin\")\n",
    "g = glist[0]"
   ]
  },
  {
   "cell_type": "code",
   "execution_count": 22,
   "metadata": {},
   "outputs": [],
   "source": [
    "\n",
    "train_mask = g.nodes['paper'].data[\"train_mask\"]\n",
    "test_mask = g.nodes['paper'].data[\"test_mask\"]\n",
    "train_idx = th.nonzero(train_mask, as_tuple=False).squeeze()\n",
    "test_idx = th.nonzero(test_mask, as_tuple=False).squeeze()"
   ]
  },
  {
   "cell_type": "code",
   "execution_count": 20,
   "metadata": {},
   "outputs": [],
   "source": [
    "sampler = dgl.dataloading.NeighborSampler([1,1,1,1])"
   ]
  },
  {
   "cell_type": "code",
   "execution_count": 26,
   "metadata": {},
   "outputs": [],
   "source": [
    "dataloader = dgl.dataloading.DataLoader(\n",
    "    g, {'paper':train_idx}, sampler,\n",
    "    batch_size=3096, shuffle=True, drop_last=False, num_workers=4)"
   ]
  },
  {
   "cell_type": "code",
   "execution_count": 24,
   "metadata": {},
   "outputs": [
    {
     "name": "stderr",
     "output_type": "stream",
     "text": [
      "/home/lacuna42/miniforge3/envs/t/lib/python3.11/site-packages/dgl/dataloading/dataloader.py:1149: DGLWarning: Dataloader CPU affinity opt is not enabled, consider switching it on (see enable_cpu_affinity() or CPU best practices for DGL [https://docs.dgl.ai/tutorials/cpu/cpu_best_practises.html])\n",
      "  dgl_warning(\n"
     ]
    }
   ],
   "source": [
    "a,b,c=next(iter(dataloader))"
   ]
  },
  {
   "cell_type": "code",
   "execution_count": 27,
   "metadata": {},
   "outputs": [
    {
     "data": {
      "text/plain": [
       "42"
      ]
     },
     "execution_count": 27,
     "metadata": {},
     "output_type": "execute_result"
    }
   ],
   "source": [
    "len(dataloader)"
   ]
  },
  {
   "cell_type": "code",
   "execution_count": null,
   "metadata": {},
   "outputs": [],
   "source": [
    "h=sg.ndata['feat']"
   ]
  },
  {
   "cell_type": "code",
   "execution_count": null,
   "metadata": {},
   "outputs": [
    {
     "data": {
      "text/plain": [
       "{'affiliation': tensor([[ 0.0006, -0.0005,  0.0020,  ..., -0.0009,  0.0008,  0.0547],\n",
       "         [ 0.0012, -0.0009,  0.0037,  ..., -0.0010,  0.0005,  0.0366],\n",
       "         [ 0.0025, -0.0016,  0.0014,  ..., -0.0009,  0.0009,  0.0476],\n",
       "         ...,\n",
       "         [ 0.0025, -0.0009,  0.0004,  ..., -0.0014,  0.0008,  0.0398],\n",
       "         [ 0.0016,  0.0079,  0.0101,  ..., -0.0057,  0.0008,  0.0481],\n",
       "         [ 0.0017, -0.0032, -0.0017,  ...,  0.0001,  0.0007,  0.0186]]),\n",
       " 'author': tensor([[ 0.0000e+00,  0.0000e+00,  0.0000e+00,  ...,  8.4300e-05,\n",
       "          -1.9599e-03,  1.6473e-02],\n",
       "         [ 0.0000e+00,  0.0000e+00,  0.0000e+00,  ..., -5.5311e-04,\n",
       "          -1.8717e-03,  9.1673e-03],\n",
       "         [ 0.0000e+00,  0.0000e+00,  0.0000e+00,  ...,  4.0104e-04,\n",
       "           8.5131e-04,  2.4105e-02],\n",
       "         ...,\n",
       "         [ 0.0000e+00,  0.0000e+00,  0.0000e+00,  ..., -9.4732e-05,\n",
       "           1.2805e-03,  2.4468e-02],\n",
       "         [ 0.0000e+00,  0.0000e+00,  0.0000e+00,  ...,  9.7535e-04,\n",
       "          -1.4246e-03,  9.9716e-03],\n",
       "         [ 0.0000e+00,  0.0000e+00,  0.0000e+00,  ..., -2.4573e-03,\n",
       "          -1.4101e-04,  1.9767e-02]]),\n",
       " 'field': tensor([[-1.2374e-03,  2.2712e-03,  2.5377e-03,  ..., -1.4335e-03,\n",
       "           3.8618e-04,  3.9659e-02],\n",
       "         [ 2.2557e-03, -1.0052e-03,  3.1033e-03,  ..., -2.3446e-03,\n",
       "           7.2324e-04,  3.7728e-02],\n",
       "         [ 2.2860e-03,  5.5796e-04,  2.2576e-03,  ..., -6.8129e-05,\n",
       "           2.2986e-03,  1.6101e-02],\n",
       "         ...,\n",
       "         [ 4.3204e-04,  1.4092e-03,  2.6566e-03,  ..., -9.3332e-04,\n",
       "           3.2024e-04,  2.5088e-02],\n",
       "         [ 5.8435e-03,  2.8204e-03,  3.7854e-03,  ..., -2.4620e-04,\n",
       "           1.4668e-05,  3.0317e-02],\n",
       "         [ 9.5392e-04,  1.8687e-03,  3.4650e-03,  ..., -9.1651e-04,\n",
       "          -3.0210e-04,  3.1784e-02]]),\n",
       " 'paper': tensor([[ 0.0000e+00,  0.0000e+00,  0.0000e+00,  ..., -8.9745e-04,\n",
       "           6.9333e-04,  3.9822e-03],\n",
       "         [ 0.0000e+00,  0.0000e+00,  0.0000e+00,  ..., -2.0507e-03,\n",
       "          -1.5102e-03,  3.6973e-05],\n",
       "         [ 0.0000e+00,  0.0000e+00,  0.0000e+00,  ...,  3.5771e-03,\n",
       "          -1.6349e-03,  3.9024e-03],\n",
       "         ...,\n",
       "         [ 0.0000e+00,  0.0000e+00,  0.0000e+00,  ...,  1.5130e-03,\n",
       "          -2.5632e-03,  9.3126e-03],\n",
       "         [ 0.0000e+00,  0.0000e+00,  0.0000e+00,  ..., -1.9759e-03,\n",
       "          -2.7971e-03,  8.8232e-03],\n",
       "         [ 0.0000e+00,  0.0000e+00,  0.0000e+00,  ...,  8.9553e-04,\n",
       "          -3.9056e-03,  1.0559e-02]]),\n",
       " 'venue': tensor([[-1.0486e-03, -1.0561e-03,  1.3247e-03,  ..., -1.2653e-03,\n",
       "           4.6030e-04,  3.8047e-02],\n",
       "         [ 5.9656e-04,  1.0740e-03,  1.2103e-03,  ..., -1.3882e-03,\n",
       "           4.9742e-04,  3.1526e-02],\n",
       "         [ 2.6881e-03,  1.1712e-05, -4.9155e-04,  ..., -1.6410e-03,\n",
       "           6.8765e-04,  2.9488e-02],\n",
       "         ...,\n",
       "         [ 2.2340e-03,  4.9055e-04,  4.4061e-03,  ..., -1.3087e-03,\n",
       "          -1.5898e-03,  1.6206e-02],\n",
       "         [ 5.9043e-04, -3.5392e-03,  1.0609e-03,  ..., -1.7785e-03,\n",
       "           1.3197e-03,  3.7753e-02],\n",
       "         [ 2.7027e-04, -5.0338e-03,  1.4555e-03,  ..., -2.8099e-03,\n",
       "           7.6070e-04,  3.3942e-02]])}"
      ]
     },
     "execution_count": 9,
     "metadata": {},
     "output_type": "execute_result"
    }
   ],
   "source": [
    "h"
   ]
  },
  {
   "cell_type": "code",
   "execution_count": null,
   "metadata": {},
   "outputs": [
    {
     "data": {
      "text/plain": [
       "torch.Size([1221])"
      ]
     },
     "execution_count": 35,
     "metadata": {},
     "output_type": "execute_result"
    }
   ],
   "source": [
    "a['author'].shape"
   ]
  },
  {
   "cell_type": "code",
   "execution_count": null,
   "metadata": {},
   "outputs": [
    {
     "data": {
      "text/plain": [
       "{'affiliation': tensor([[ 0.0029, -0.0018,  0.0022,  ..., -0.0012,  0.0005,  0.0403],\n",
       "         [ 0.0063,  0.0010,  0.0018,  ..., -0.0010,  0.0011,  0.0296],\n",
       "         [ 0.0037,  0.0021,  0.0017,  ..., -0.0016,  0.0004,  0.0286],\n",
       "         ...,\n",
       "         [ 0.0008, -0.0025,  0.0030,  ..., -0.0001, -0.0033,  0.0099],\n",
       "         [ 0.0025, -0.0022,  0.0038,  ...,  0.0043, -0.0015,  0.0042],\n",
       "         [ 0.0029, -0.0014, -0.0007,  ...,  0.0044,  0.0012,  0.0136]]),\n",
       " 'author': tensor([[ 0.0000e+00,  0.0000e+00,  0.0000e+00,  ...,  8.7267e-05,\n",
       "          -1.3538e-04,  5.7543e-03],\n",
       "         [ 0.0000e+00,  0.0000e+00,  0.0000e+00,  ..., -1.3289e-03,\n",
       "           9.0451e-04,  9.6308e-03],\n",
       "         [ 0.0000e+00,  0.0000e+00,  0.0000e+00,  ..., -1.7089e-04,\n",
       "           3.0572e-03,  4.0321e-03],\n",
       "         ...,\n",
       "         [ 0.0000e+00,  0.0000e+00,  0.0000e+00,  ...,  0.0000e+00,\n",
       "           0.0000e+00, -1.0000e+00],\n",
       "         [ 0.0000e+00,  0.0000e+00,  0.0000e+00,  ...,  0.0000e+00,\n",
       "           0.0000e+00, -1.0000e+00],\n",
       "         [ 0.0000e+00,  0.0000e+00,  0.0000e+00,  ..., -5.0532e-03,\n",
       "          -2.4794e-03,  1.5250e-02]]),\n",
       " 'field': tensor([[-4.6618e-02, -1.1785e-02,  3.0433e-02,  ...,  0.0000e+00,\n",
       "           0.0000e+00, -3.5643e-01],\n",
       "         [ 1.9235e-03, -3.9725e-04,  3.6276e-03,  ..., -4.6246e-03,\n",
       "          -6.4250e-04,  2.5319e-03],\n",
       "         [-1.2349e-03, -2.9300e-03,  3.9127e-03,  ...,  3.2370e-03,\n",
       "           1.6877e-03,  6.3564e-03],\n",
       "         ...,\n",
       "         [ 1.9096e-03,  1.3867e-03,  2.3700e-03,  ...,  1.2364e-03,\n",
       "           2.5083e-03,  7.0780e-03],\n",
       "         [ 3.7830e-05,  5.4851e-04,  8.2707e-04,  ...,  1.0757e-03,\n",
       "           7.5982e-04,  1.5335e-02],\n",
       "         [ 1.4453e-03, -1.7878e-03,  4.6908e-04,  ..., -7.0911e-04,\n",
       "           1.0335e-03,  1.4313e-02]]),\n",
       " 'paper': tensor([[ 0.0000,  0.0000,  0.0000,  ..., -0.0032, -0.0007,  0.0090],\n",
       "         [ 0.0000,  0.0000,  0.0000,  ..., -0.0106,  0.0010,  0.0099],\n",
       "         [ 0.0000,  0.0000,  0.0000,  ..., -0.0009, -0.0046,  0.0082],\n",
       "         ...,\n",
       "         [ 0.0000,  0.0000,  0.0000,  ...,  0.0020, -0.0033,  0.0066],\n",
       "         [ 0.0000,  0.0000,  0.0000,  ..., -0.0028,  0.0002,  0.0027],\n",
       "         [ 0.0000,  0.0000,  0.0000,  ..., -0.0013,  0.0082,  0.0041]]),\n",
       " 'venue': tensor([[ 5.6821e-04,  3.0065e-05,  2.2393e-03,  ..., -2.2604e-03,\n",
       "           1.1174e-03,  2.2809e-02],\n",
       "         [-1.4805e-03, -3.8860e-03,  1.2471e-03,  ..., -6.9615e-04,\n",
       "           5.2194e-04,  3.4028e-02],\n",
       "         [-2.5020e-03, -3.1805e-03, -3.3185e-04,  ..., -2.9193e-04,\n",
       "          -3.8082e-04,  1.5247e-02],\n",
       "         ...,\n",
       "         [-8.2875e-06,  1.2714e-03, -2.5557e-03,  ..., -4.5544e-03,\n",
       "           2.3767e-03,  9.5970e-03],\n",
       "         [ 3.2156e-03, -5.4920e-03,  1.5362e-03,  ..., -2.0576e-03,\n",
       "          -4.7241e-04,  1.6888e-02],\n",
       "         [-1.5940e-03, -3.7156e-04, -4.1280e-04,  ..., -1.3173e-03,\n",
       "           8.2073e-03,  4.0477e-03]])}"
      ]
     },
     "execution_count": 9,
     "metadata": {},
     "output_type": "execute_result"
    }
   ],
   "source": [
    "import torch\n",
    "def process_category(labels: torch.tensor, num_classes: int) -> torch.tensor:\n",
    "    if labels.shape[1] != num_classes:\n",
    "        processed_labels = torch.zeros((labels.shape[0], num_classes))\n",
    "        num_indices = torch.count_nonzero(labels + 1, dim=1)\n",
    "        for i in range(labels.shape[0]):\n",
    "            indices = labels[i, : num_indices[i]].to(torch.int)\n",
    "            processed_labels[i, indices] = 1 / num_indices[i].clamp(min=1)\n",
    "    else:\n",
    "        processed_labels = labels\n",
    "    return processed_labels"
   ]
  },
  {
   "cell_type": "code",
   "execution_count": null,
   "metadata": {},
   "outputs": [],
   "source": [
    "lbl=c[0].ndata['L1']['paper']"
   ]
  },
  {
   "cell_type": "code",
   "execution_count": null,
   "metadata": {},
   "outputs": [],
   "source": [
    "lbl = process_category(lbl, 275)"
   ]
  },
  {
   "cell_type": "code",
   "execution_count": null,
   "metadata": {},
   "outputs": [
    {
     "data": {
      "text/plain": [
       "torch.Size([3027, 275])"
      ]
     },
     "execution_count": 11,
     "metadata": {},
     "output_type": "execute_result"
    }
   ],
   "source": [
    "lbl.size()"
   ]
  },
  {
   "cell_type": "code",
   "execution_count": null,
   "metadata": {},
   "outputs": [
    {
     "ename": "NameError",
     "evalue": "name 'source_sampler' is not defined",
     "output_type": "error",
     "traceback": [
      "\u001b[0;31m---------------------------------------------------------------------------\u001b[0m",
      "\u001b[0;31mNameError\u001b[0m                                 Traceback (most recent call last)",
      "\u001b[1;32m/home/lacuna42/nktn/OpenHGNN/openhgnn/dataset/test.ipynb Cell 12\u001b[0m line \u001b[0;36m4\n\u001b[1;32m      <a href='vscode-notebook-cell://ssh-remote%2B34.81.21.139/home/lacuna42/nktn/OpenHGNN/openhgnn/dataset/test.ipynb#X11sdnNjb2RlLXJlbW90ZQ%3D%3D?line=0'>1</a>\u001b[0m dataloader \u001b[39m=\u001b[39m torch\u001b[39m.\u001b[39mutils\u001b[39m.\u001b[39mdata\u001b[39m.\u001b[39mDataLoader(\n\u001b[1;32m      <a href='vscode-notebook-cell://ssh-remote%2B34.81.21.139/home/lacuna42/nktn/OpenHGNN/openhgnn/dataset/test.ipynb#X11sdnNjb2RlLXJlbW90ZQ%3D%3D?line=1'>2</a>\u001b[0m     train_idx,\n\u001b[1;32m      <a href='vscode-notebook-cell://ssh-remote%2B34.81.21.139/home/lacuna42/nktn/OpenHGNN/openhgnn/dataset/test.ipynb#X11sdnNjb2RlLXJlbW90ZQ%3D%3D?line=2'>3</a>\u001b[0m     batch_size\u001b[39m=\u001b[39m\u001b[39m64\u001b[39m,\n\u001b[0;32m----> <a href='vscode-notebook-cell://ssh-remote%2B34.81.21.139/home/lacuna42/nktn/OpenHGNN/openhgnn/dataset/test.ipynb#X11sdnNjb2RlLXJlbW90ZQ%3D%3D?line=3'>4</a>\u001b[0m     collate_fn\u001b[39m=\u001b[39msource_sampler\u001b[39m.\u001b[39msampler_subgraph,\n\u001b[1;32m      <a href='vscode-notebook-cell://ssh-remote%2B34.81.21.139/home/lacuna42/nktn/OpenHGNN/openhgnn/dataset/test.ipynb#X11sdnNjb2RlLXJlbW90ZQ%3D%3D?line=4'>5</a>\u001b[0m     \u001b[39m# num_workers=self.args.num_workers,\u001b[39;00m\n\u001b[1;32m      <a href='vscode-notebook-cell://ssh-remote%2B34.81.21.139/home/lacuna42/nktn/OpenHGNN/openhgnn/dataset/test.ipynb#X11sdnNjb2RlLXJlbW90ZQ%3D%3D?line=5'>6</a>\u001b[0m     shuffle\u001b[39m=\u001b[39m\u001b[39mTrue\u001b[39;00m,\n\u001b[1;32m      <a href='vscode-notebook-cell://ssh-remote%2B34.81.21.139/home/lacuna42/nktn/OpenHGNN/openhgnn/dataset/test.ipynb#X11sdnNjb2RlLXJlbW90ZQ%3D%3D?line=6'>7</a>\u001b[0m     drop_last\u001b[39m=\u001b[39m\u001b[39mFalse\u001b[39;00m,\n\u001b[1;32m      <a href='vscode-notebook-cell://ssh-remote%2B34.81.21.139/home/lacuna42/nktn/OpenHGNN/openhgnn/dataset/test.ipynb#X11sdnNjb2RlLXJlbW90ZQ%3D%3D?line=7'>8</a>\u001b[0m )\n",
      "\u001b[0;31mNameError\u001b[0m: name 'source_sampler' is not defined"
     ]
    }
   ],
   "source": [
    "dataloader = torch.utils.data.DataLoader(\n",
    "    train_idx,\n",
    "    batch_size=64,\n",
    "    collate_fn=source_sampler.sampler_subgraph,\n",
    "    # num_workers=self.args.num_workers,\n",
    "    shuffle=True,\n",
    "    drop_last=False,\n",
    ")"
   ]
  },
  {
   "cell_type": "code",
   "execution_count": null,
   "metadata": {},
   "outputs": [],
   "source": [
    "a = next(iter(dataloader))"
   ]
  },
  {
   "cell_type": "code",
   "execution_count": null,
   "metadata": {},
   "outputs": [
    {
     "data": {
      "text/plain": [
       "Graph(num_nodes={'affiliation': 3, 'author': 4, 'field': 4, 'paper': 68, 'venue': 4},\n",
       "      num_edges={('affiliation', 'affiliation-author', 'author'): 4, ('author', 'author-affiliation', 'affiliation'): 4, ('author', 'author-paper', 'paper'): 4, ('field', 'field-field', 'field'): 0, ('field', 'field-paper', 'paper'): 12, ('paper', 'paper-author', 'author'): 4, ('paper', 'paper-field', 'field'): 12, ('paper', 'paper-paper', 'paper'): 4, ('paper', 'paper-venue', 'venue'): 6, ('venue', 'venue-paper', 'paper'): 6},\n",
       "      metagraph=[('affiliation', 'author', 'affiliation-author'), ('author', 'affiliation', 'author-affiliation'), ('author', 'paper', 'author-paper'), ('paper', 'author', 'paper-author'), ('paper', 'field', 'paper-field'), ('paper', 'paper', 'paper-paper'), ('paper', 'venue', 'paper-venue'), ('field', 'field', 'field-field'), ('field', 'paper', 'field-paper'), ('venue', 'paper', 'venue-paper')])"
      ]
     },
     "execution_count": 27,
     "metadata": {},
     "output_type": "execute_result"
    }
   ],
   "source": [
    "a[0]"
   ]
  },
  {
   "cell_type": "code",
   "execution_count": null,
   "metadata": {},
   "outputs": [
    {
     "data": {
      "text/plain": [
       "{'paper': tensor([ 33651, 264064,  14129,  39863, 543680, 260598,   1306, 461042, 137527,\n",
       "         294628, 374634, 439779, 517751, 286602, 418241,  67096, 245625, 411516,\n",
       "         296457, 362784, 238363, 507455, 258262, 499626, 481229, 319118, 510740,\n",
       "         230058, 402512, 372653,  83105, 398140, 538131, 137585, 295265, 198069,\n",
       "         152263, 103080, 356339,  83636, 350655, 494942, 339255, 235273, 457007,\n",
       "         287447,  33411, 263254, 379369,  84454, 343389, 278408, 343024, 406782,\n",
       "         407633, 282809, 300775, 396011, 410717,  25376, 170043, 408125, 196552,\n",
       "         126510, 259669, 264690, 350802, 170224]),\n",
       " 'author': tensor([316872, 129736, 316873, 263227]),\n",
       " 'field': tensor([11117, 28920, 26443,  6745]),\n",
       " 'venue': tensor([6216, 4184, 3527, 4798]),\n",
       " 'affiliation': tensor([ 903, 5136, 2587])}"
      ]
     },
     "execution_count": 28,
     "metadata": {},
     "output_type": "execute_result"
    }
   ],
   "source": [
    "a[1]"
   ]
  },
  {
   "cell_type": "code",
   "execution_count": null,
   "metadata": {},
   "outputs": [],
   "source": [
    "sg=a[0]"
   ]
  },
  {
   "cell_type": "code",
   "execution_count": 15,
   "metadata": {},
   "outputs": [],
   "source": [
    "def optimized_process_category(labels: torch.tensor, num_classes: int) -> torch.tensor:\n",
    "    if labels.shape[1] != num_classes:\n",
    "        processed_labels = torch.zeros((labels.shape[0], num_classes), dtype=torch.float)\n",
    "        valid_labels = labels >= 0\n",
    "        num_indices = valid_labels.sum(dim=1)\n",
    "        weights = (1.0 / num_indices.clamp(min=1).unsqueeze(1)).float()\n",
    "        processed_labels.scatter_add_(1, labels * valid_labels, weights * valid_labels)\n",
    "    else:\n",
    "        processed_labels = labels.float()\n",
    "    return processed_labels\n"
   ]
  },
  {
   "cell_type": "code",
   "execution_count": 16,
   "metadata": {},
   "outputs": [
    {
     "name": "stdout",
     "output_type": "stream",
     "text": [
      "tensor([[0.5000, 0.0000, 0.0000, 0.5000, 0.0000, 0.0000],\n",
      "        [0.0000, 0.0000, 0.0000, 0.0000, 0.0000, 1.0000]])\n"
     ]
    }
   ],
   "source": [
    "labels = torch.tensor([[0,3,-1,-1,-1],[5,-1,-1,-1,-1]])\n",
    "num_classes = 6\n",
    "\n",
    "processed_labels = optimized_process_category(labels, num_classes)\n",
    "print(processed_labels)"
   ]
  },
  {
   "cell_type": "code",
   "execution_count": null,
   "metadata": {},
   "outputs": [],
   "source": [
    "lbl="
   ]
  },
  {
   "cell_type": "code",
   "execution_count": null,
   "metadata": {},
   "outputs": [],
   "source": []
  },
  {
   "cell_type": "code",
   "execution_count": null,
   "metadata": {},
   "outputs": [],
   "source": []
  },
  {
   "cell_type": "code",
   "execution_count": null,
   "metadata": {},
   "outputs": [],
   "source": [
    "# sampler = dgl.dataloading.MultiLayerFullNeighborSampler(4)\n",
    "sampler = dgl.dataloading.NeighborSampler([4, 4, 4, 4])\n",
    "dataloader = dgl.dataloading.DataLoader(\n",
    "    g,\n",
    "    {'paper':train_idx},\n",
    "    sampler,\n",
    "    batch_size=64,\n",
    "    shuffle=True,\n",
    "    drop_last=False,\n",
    "    # num_workers=4,\n",
    ")"
   ]
  },
  {
   "cell_type": "code",
   "execution_count": null,
   "metadata": {},
   "outputs": [
    {
     "data": {
      "text/plain": [
       "<dgl.dataloading.dataloader.DataLoader at 0x7f8f213e4bd0>"
      ]
     },
     "execution_count": 38,
     "metadata": {},
     "output_type": "execute_result"
    }
   ],
   "source": [
    "dataloader"
   ]
  },
  {
   "cell_type": "code",
   "execution_count": null,
   "metadata": {},
   "outputs": [
    {
     "name": "stderr",
     "output_type": "stream",
     "text": [
      "/home/lacuna42/miniforge3/envs/t/lib/python3.11/site-packages/dgl/dataloading/dataloader.py:1149: DGLWarning: Dataloader CPU affinity opt is not enabled, consider switching it on (see enable_cpu_affinity() or CPU best practices for DGL [https://docs.dgl.ai/tutorials/cpu/cpu_best_practises.html])\n",
      "  dgl_warning(\n"
     ]
    }
   ],
   "source": [
    "input_nodes, output_nodes, blocks = next(iter(dataloader))"
   ]
  },
  {
   "cell_type": "code",
   "execution_count": null,
   "metadata": {},
   "outputs": [
    {
     "name": "stdout",
     "output_type": "stream",
     "text": [
      "affiliation torch.Size([1456])\n",
      "author torch.Size([27224])\n",
      "field torch.Size([16016])\n",
      "paper torch.Size([95813])\n",
      "venue torch.Size([2276])\n"
     ]
    }
   ],
   "source": [
    "for key, valud in input_nodes.items():\n",
    "    print(key, valud.shape)"
   ]
  },
  {
   "cell_type": "code",
   "execution_count": null,
   "metadata": {},
   "outputs": [
    {
     "data": {
      "text/plain": [
       "{'affiliation': tensor([  12, 1162,  401,  ..., 1976, 8583, 2821]),\n",
       " 'author': tensor([ 39272, 166534, 166535,  ..., 471093, 471095, 471096]),\n",
       " 'field': tensor([19352, 10896, 34017,  ..., 40603, 12309, 27933]),\n",
       " 'paper': tensor([ 64303, 428584, 254819,  ..., 466368, 535494, 323348]),\n",
       " 'venue': tensor([ 562, 5285, 3053,  ..., 1862, 3666,  360])}"
      ]
     },
     "execution_count": 10,
     "metadata": {},
     "output_type": "execute_result"
    }
   ],
   "source": [
    "input_nodes"
   ]
  },
  {
   "cell_type": "code",
   "execution_count": null,
   "metadata": {},
   "outputs": [
    {
     "data": {
      "text/plain": [
       "{'affiliation': tensor([[ 0.0029, -0.0018,  0.0022,  ..., -0.0012,  0.0005,  0.0403],\n",
       "         [ 0.0063,  0.0010,  0.0018,  ..., -0.0010,  0.0011,  0.0296],\n",
       "         [ 0.0037,  0.0021,  0.0017,  ..., -0.0016,  0.0004,  0.0286],\n",
       "         ...,\n",
       "         [ 0.0008, -0.0025,  0.0030,  ..., -0.0001, -0.0033,  0.0099],\n",
       "         [ 0.0025, -0.0022,  0.0038,  ...,  0.0043, -0.0015,  0.0042],\n",
       "         [ 0.0029, -0.0014, -0.0007,  ...,  0.0044,  0.0012,  0.0136]]),\n",
       " 'author': tensor([[ 0.0000e+00,  0.0000e+00,  0.0000e+00,  ...,  8.7267e-05,\n",
       "          -1.3538e-04,  5.7543e-03],\n",
       "         [ 0.0000e+00,  0.0000e+00,  0.0000e+00,  ..., -1.3289e-03,\n",
       "           9.0451e-04,  9.6308e-03],\n",
       "         [ 0.0000e+00,  0.0000e+00,  0.0000e+00,  ..., -1.7089e-04,\n",
       "           3.0572e-03,  4.0321e-03],\n",
       "         ...,\n",
       "         [ 0.0000e+00,  0.0000e+00,  0.0000e+00,  ...,  0.0000e+00,\n",
       "           0.0000e+00, -1.0000e+00],\n",
       "         [ 0.0000e+00,  0.0000e+00,  0.0000e+00,  ...,  0.0000e+00,\n",
       "           0.0000e+00, -1.0000e+00],\n",
       "         [ 0.0000e+00,  0.0000e+00,  0.0000e+00,  ..., -5.0532e-03,\n",
       "          -2.4794e-03,  1.5250e-02]]),\n",
       " 'field': tensor([[-4.6618e-02, -1.1785e-02,  3.0433e-02,  ...,  0.0000e+00,\n",
       "           0.0000e+00, -3.5643e-01],\n",
       "         [ 1.9235e-03, -3.9725e-04,  3.6276e-03,  ..., -4.6246e-03,\n",
       "          -6.4250e-04,  2.5319e-03],\n",
       "         [-1.2349e-03, -2.9300e-03,  3.9127e-03,  ...,  3.2370e-03,\n",
       "           1.6877e-03,  6.3564e-03],\n",
       "         ...,\n",
       "         [ 1.9096e-03,  1.3867e-03,  2.3700e-03,  ...,  1.2364e-03,\n",
       "           2.5083e-03,  7.0780e-03],\n",
       "         [ 3.7830e-05,  5.4851e-04,  8.2707e-04,  ...,  1.0757e-03,\n",
       "           7.5982e-04,  1.5335e-02],\n",
       "         [ 1.4453e-03, -1.7878e-03,  4.6908e-04,  ..., -7.0911e-04,\n",
       "           1.0335e-03,  1.4313e-02]]),\n",
       " 'paper': tensor([[ 0.0000,  0.0000,  0.0000,  ..., -0.0032, -0.0007,  0.0090],\n",
       "         [ 0.0000,  0.0000,  0.0000,  ..., -0.0106,  0.0010,  0.0099],\n",
       "         [ 0.0000,  0.0000,  0.0000,  ..., -0.0009, -0.0046,  0.0082],\n",
       "         ...,\n",
       "         [ 0.0000,  0.0000,  0.0000,  ...,  0.0020, -0.0033,  0.0066],\n",
       "         [ 0.0000,  0.0000,  0.0000,  ..., -0.0028,  0.0002,  0.0027],\n",
       "         [ 0.0000,  0.0000,  0.0000,  ..., -0.0013,  0.0082,  0.0041]]),\n",
       " 'venue': tensor([[ 5.6821e-04,  3.0065e-05,  2.2393e-03,  ..., -2.2604e-03,\n",
       "           1.1174e-03,  2.2809e-02],\n",
       "         [-1.4805e-03, -3.8860e-03,  1.2471e-03,  ..., -6.9615e-04,\n",
       "           5.2194e-04,  3.4028e-02],\n",
       "         [-2.5020e-03, -3.1805e-03, -3.3185e-04,  ..., -2.9193e-04,\n",
       "          -3.8082e-04,  1.5247e-02],\n",
       "         ...,\n",
       "         [-8.2875e-06,  1.2714e-03, -2.5557e-03,  ..., -4.5544e-03,\n",
       "           2.3767e-03,  9.5970e-03],\n",
       "         [ 3.2156e-03, -5.4920e-03,  1.5362e-03,  ..., -2.0576e-03,\n",
       "          -4.7241e-04,  1.6888e-02],\n",
       "         [-1.5940e-03, -3.7156e-04, -4.1280e-04,  ..., -1.3173e-03,\n",
       "           8.2073e-03,  4.0477e-03]])}"
      ]
     },
     "execution_count": 11,
     "metadata": {},
     "output_type": "execute_result"
    }
   ],
   "source": [
    "g.ndata[\"feat\"]"
   ]
  },
  {
   "cell_type": "code",
   "execution_count": null,
   "metadata": {},
   "outputs": [],
   "source": [
    "labels = g.ndata[\"L1\"][\"author\"]"
   ]
  },
  {
   "cell_type": "code",
   "execution_count": null,
   "metadata": {},
   "outputs": [],
   "source": [
    "lbl_dim = dims[\"L1\"]"
   ]
  },
  {
   "cell_type": "code",
   "execution_count": null,
   "metadata": {},
   "outputs": [
    {
     "ename": "RuntimeError",
     "evalue": "shape mismatch: value tensor of shape [510189, 275] cannot be broadcast to indexing result of shape [668109]",
     "output_type": "error",
     "traceback": [
      "\u001b[0;31m---------------------------------------------------------------------------\u001b[0m",
      "\u001b[0;31mRuntimeError\u001b[0m                              Traceback (most recent call last)",
      "\u001b[1;32m/home/lacuna42/OpenHGNN/openhgnn/dataset/test.ipynb Cell 14\u001b[0m line \u001b[0;36m1\n\u001b[1;32m     <a href='vscode-notebook-cell://ssh-remote%2B34.27.125.147/home/lacuna42/OpenHGNN/openhgnn/dataset/test.ipynb#X16sdnNjb2RlLXJlbW90ZQ%3D%3D?line=13'>14</a>\u001b[0m     mask \u001b[39m=\u001b[39m indices \u001b[39m<\u001b[39m num_indices\u001b[39m.\u001b[39munsqueeze(\u001b[39m1\u001b[39m)\n\u001b[1;32m     <a href='vscode-notebook-cell://ssh-remote%2B34.27.125.147/home/lacuna42/OpenHGNN/openhgnn/dataset/test.ipynb#X16sdnNjb2RlLXJlbW90ZQ%3D%3D?line=14'>15</a>\u001b[0m     values \u001b[39m=\u001b[39m torch\u001b[39m.\u001b[39mones_like(num_indices, dtype\u001b[39m=\u001b[39mtorch\u001b[39m.\u001b[39mfloat) \u001b[39m/\u001b[39m num_indices\u001b[39m.\u001b[39mclamp(\u001b[39mmin\u001b[39m\u001b[39m=\u001b[39m\u001b[39m1\u001b[39m)\n\u001b[0;32m---> <a href='vscode-notebook-cell://ssh-remote%2B34.27.125.147/home/lacuna42/OpenHGNN/openhgnn/dataset/test.ipynb#X16sdnNjb2RlLXJlbW90ZQ%3D%3D?line=15'>16</a>\u001b[0m     processed_labels[task_type][node_type][mask] \u001b[39m=\u001b[39m values\u001b[39m.\u001b[39munsqueeze(\u001b[39m1\u001b[39m)\u001b[39m.\u001b[39mexpand(\u001b[39m-\u001b[39m\u001b[39m1\u001b[39m, dims[task_type])\n\u001b[1;32m     <a href='vscode-notebook-cell://ssh-remote%2B34.27.125.147/home/lacuna42/OpenHGNN/openhgnn/dataset/test.ipynb#X16sdnNjb2RlLXJlbW90ZQ%3D%3D?line=16'>17</a>\u001b[0m \u001b[39melse\u001b[39;00m:\n\u001b[1;32m     <a href='vscode-notebook-cell://ssh-remote%2B34.27.125.147/home/lacuna42/OpenHGNN/openhgnn/dataset/test.ipynb#X16sdnNjb2RlLXJlbW90ZQ%3D%3D?line=17'>18</a>\u001b[0m     processed_labels[task_type][node_type] \u001b[39m=\u001b[39m labels\n",
      "\u001b[0;31mRuntimeError\u001b[0m: shape mismatch: value tensor of shape [510189, 275] cannot be broadcast to indexing result of shape [668109]"
     ]
    }
   ],
   "source": [
    "processed_labels = {}\n",
    "for task_type in [\"L1\"]:\n",
    "    processed_labels[task_type] = {}\n",
    "    for node_type in [\"author\"]:\n",
    "        labels = g.ndata[task_type][node_type]\n",
    "        if labels.shape[1] != dims[task_type]:\n",
    "            processed_labels[task_type][node_type] = torch.zeros(\n",
    "                (labels.shape[0], dims[task_type])\n",
    "            )\n",
    "            num_indices = torch.count_nonzero(labels + 1, dim=1)\n",
    "            for i in range(labels.shape[0]):\n",
    "                indices = labels[i, : num_indices[i]].to(torch.int)\n",
    "                processed_labels[task_type][node_type][i, indices] = 1 / num_indices[\n",
    "                    i\n",
    "                ].clamp(min=1)\n",
    "        else:\n",
    "            processed_labels[task_type][node_type] = labels"
   ]
  },
  {
   "cell_type": "code",
   "execution_count": null,
   "metadata": {},
   "outputs": [],
   "source": [
    "def process_category(labels: torch.tensor, num_classes: int) -> torch.tensor:\n",
    "    if labels.shape[1] != num_classes:\n",
    "        processed_labels = torch.zeros((labels.shape[0], num_classes))\n",
    "        num_indices = torch.count_nonzero(labels + 1, dim=1)\n",
    "        for i in range(labels.shape[0]):\n",
    "            indices = labels[i, : num_indices[i]].to(torch.int)\n",
    "            processed_labels[i, indices] = 1 / num_indices[i].clamp(min=1)\n",
    "    else:\n",
    "        processed_labels = labels\n",
    "    return processed_labels"
   ]
  },
  {
   "cell_type": "code",
   "execution_count": null,
   "metadata": {},
   "outputs": [],
   "source": [
    "lb = g.ndata[\"L1\"][\"author\"]"
   ]
  },
  {
   "cell_type": "code",
   "execution_count": null,
   "metadata": {},
   "outputs": [],
   "source": [
    "num_indices"
   ]
  },
  {
   "cell_type": "code",
   "execution_count": null,
   "metadata": {},
   "outputs": [],
   "source": [
    "a = process_category(lb[:50], dims[\"L1\"].item())"
   ]
  },
  {
   "cell_type": "code",
   "execution_count": null,
   "metadata": {},
   "outputs": [
    {
     "data": {
      "text/plain": [
       "tensor([[0.0000, 0.0000, 0.0000,  ..., 0.0000, 0.0000, 0.0000],\n",
       "        [0.5000, 0.5000, 0.0000,  ..., 0.0000, 0.0000, 0.0000],\n",
       "        [0.0000, 0.0000, 0.0000,  ..., 0.0000, 0.0000, 0.0000],\n",
       "        ...,\n",
       "        [1.0000, 0.0000, 0.0000,  ..., 0.0000, 0.0000, 0.0000],\n",
       "        [0.0000, 0.0000, 0.0000,  ..., 0.0000, 0.0000, 0.0000],\n",
       "        [0.0000, 0.0000, 0.0000,  ..., 0.0000, 0.0000, 0.0000]])"
      ]
     },
     "execution_count": 68,
     "metadata": {},
     "output_type": "execute_result"
    }
   ],
   "source": [
    "a"
   ]
  },
  {
   "cell_type": "code",
   "execution_count": null,
   "metadata": {},
   "outputs": [
    {
     "data": {
      "text/plain": [
       "tensor([19., -1., -1., -1., -1., -1., -1., -1., -1., -1., -1., -1., -1., -1.,\n",
       "        -1., -1., -1., -1., -1., -1., -1., -1., -1., -1., -1., -1., -1., -1.,\n",
       "        -1., -1., -1., -1., -1., -1., -1., -1., -1., -1., -1., -1., -1., -1.,\n",
       "        -1., -1., -1., -1., -1., -1., -1., -1.])"
      ]
     },
     "execution_count": 34,
     "metadata": {},
     "output_type": "execute_result"
    }
   ],
   "source": [
    "lb[42]"
   ]
  },
  {
   "cell_type": "code",
   "execution_count": null,
   "metadata": {},
   "outputs": [
    {
     "data": {
      "text/plain": [
       "tensor(1.)"
      ]
     },
     "execution_count": 35,
     "metadata": {},
     "output_type": "execute_result"
    }
   ],
   "source": [
    "a[42][19]"
   ]
  },
  {
   "cell_type": "code",
   "execution_count": null,
   "metadata": {},
   "outputs": [
    {
     "data": {
      "text/plain": [
       "SparseMatrix(indices=tensor([[387067, 134013, 134013,  ..., 102817, 304115, 529407],\n",
       "                             [     1,      1,      2,  ..., 510171, 392963, 510188]]),\n",
       "             values=tensor([1., 1., 1.,  ..., 1., 1., 1.]),\n",
       "             shape=(544244, 510189), nnz=1091559)"
      ]
     },
     "execution_count": 3,
     "metadata": {},
     "output_type": "execute_result"
    }
   ],
   "source": [
    "g.adj(etype='paper-author')\n"
   ]
  },
  {
   "cell_type": "code",
   "execution_count": null,
   "metadata": {},
   "outputs": [],
   "source": [
    "import dgl.sparse"
   ]
  },
  {
   "cell_type": "code",
   "execution_count": 5,
   "metadata": {},
   "outputs": [
    {
     "data": {
      "text/plain": [
       "{'author': tensor([[-1., -1., -1.,  ..., -1., -1., -1.],\n",
       "         [ 1.,  0., -1.,  ..., -1., -1., -1.],\n",
       "         [-1., -1., -1.,  ..., -1., -1., -1.],\n",
       "         ...,\n",
       "         [-1., -1., -1.,  ..., -1., -1., -1.],\n",
       "         [27., 40., -1.,  ..., -1., -1., -1.],\n",
       "         [-1., -1., -1.,  ..., -1., -1., -1.]]),\n",
       " 'paper': tensor([[ 7., 13.,  4.,  ..., -1., -1., -1.],\n",
       "         [40., -1., -1.,  ..., -1., -1., -1.],\n",
       "         [ 7., 13.,  4.,  ..., -1., -1., -1.],\n",
       "         ...,\n",
       "         [ 9.,  4., 31.,  ..., -1., -1., -1.],\n",
       "         [ 6., 20., -1.,  ..., -1., -1., -1.],\n",
       "         [ 5., 89., -1.,  ..., -1., -1., -1.]]),\n",
       " 'venue': tensor([[19., 20.,  9.,  ..., -1., -1., -1.],\n",
       "         [ 2.,  1., 18.,  ..., -1., -1., -1.],\n",
       "         [46.,  1., 49.,  ..., -1., -1., -1.],\n",
       "         ...,\n",
       "         [ 3., 21., 20.,  ..., -1., -1., -1.],\n",
       "         [ 7., 40., 10.,  ..., -1., -1., -1.],\n",
       "         [ 5., 89., -1.,  ..., -1., -1., -1.]])}"
      ]
     },
     "execution_count": 5,
     "metadata": {},
     "output_type": "execute_result"
    }
   ],
   "source": [
    "g.ndata['L1']"
   ]
  },
  {
   "cell_type": "code",
   "execution_count": 34,
   "metadata": {},
   "outputs": [],
   "source": [
    "x=g.ndata['L1']['author']"
   ]
  },
  {
   "cell_type": "code",
   "execution_count": 36,
   "metadata": {},
   "outputs": [],
   "source": [
    "import torch\n",
    "y=torch.count_nonzero(x+1, dim=1)"
   ]
  },
  {
   "cell_type": "code",
   "execution_count": 37,
   "metadata": {},
   "outputs": [
    {
     "data": {
      "text/plain": [
       "tensor([0, 2, 0,  ..., 0, 2, 0])"
      ]
     },
     "execution_count": 37,
     "metadata": {},
     "output_type": "execute_result"
    }
   ],
   "source": [
    "y\n"
   ]
  },
  {
   "cell_type": "code",
   "execution_count": 38,
   "metadata": {},
   "outputs": [
    {
     "data": {
      "text/plain": [
       "tensor(30)"
      ]
     },
     "execution_count": 38,
     "metadata": {},
     "output_type": "execute_result"
    }
   ],
   "source": [
    "max(y)"
   ]
  },
  {
   "cell_type": "code",
   "execution_count": 26,
   "metadata": {},
   "outputs": [],
   "source": [
    "z=(y==0)"
   ]
  },
  {
   "cell_type": "code",
   "execution_count": 27,
   "metadata": {},
   "outputs": [
    {
     "data": {
      "text/plain": [
       "tensor([ True, False,  True,  ...,  True, False,  True])"
      ]
     },
     "execution_count": 27,
     "metadata": {},
     "output_type": "execute_result"
    }
   ],
   "source": [
    "z"
   ]
  },
  {
   "cell_type": "code",
   "execution_count": 29,
   "metadata": {},
   "outputs": [
    {
     "data": {
      "text/plain": [
       "tensor(0.5462)"
      ]
     },
     "execution_count": 29,
     "metadata": {},
     "output_type": "execute_result"
    }
   ],
   "source": [
    "z.sum()/len(z)"
   ]
  },
  {
   "cell_type": "code",
   "execution_count": 5,
   "metadata": {},
   "outputs": [
    {
     "name": "stdout",
     "output_type": "stream",
     "text": [
      "tensor(30)\n",
      "L1 author 278663 510189 0.5461956262588501\n",
      "tensor(7)\n",
      "L1 paper 0 544244 0.0\n",
      "tensor(50)\n",
      "L1 venue 19 6934 0.0027401212137192488\n",
      "tensor(50)\n",
      "L2 author 283331 510189 0.5553451776504517\n",
      "tensor(8)\n",
      "L2 paper 16801 544244 0.03087034448981285\n",
      "tensor(50)\n",
      "L2 venue 74 6934 0.010672050528228283\n"
     ]
    }
   ],
   "source": [
    "import torch\n",
    "new_label={}\n",
    "for label_type in ['L1','L2']:\n",
    "    label=g.ndata[label_type]\n",
    "    new_label[label_type]={}\n",
    "    for ntype in label.keys():\n",
    "        x=label[ntype]\n",
    "        y=torch.count_nonzero(x+1, dim=1)\n",
    "        max_len=max(y)\n",
    "        print(max_len)\n",
    "        new_label[label_type][ntype]=x[:,:max_len]\n",
    "        z=(y==0)\n",
    "        print(f\"{label_type} {ntype} {z.sum()} {len(z)} {z.sum()/len(z)}\")"
   ]
  },
  {
   "cell_type": "code",
   "execution_count": 11,
   "metadata": {},
   "outputs": [],
   "source": [
    "for label_type in new_label.keys():\n",
    "    g.ndata.pop(label_type)\n",
    "    g.ndata[label_type]=new_label[label_type]"
   ]
  },
  {
   "cell_type": "code",
   "execution_count": 15,
   "metadata": {},
   "outputs": [],
   "source": [
    "dgl.save_graphs(\"noag_cs.bin\", [g], dims)"
   ]
  },
  {
   "cell_type": "code",
   "execution_count": null,
   "metadata": {},
   "outputs": [],
   "source": []
  },
  {
   "cell_type": "code",
   "execution_count": null,
   "metadata": {},
   "outputs": [],
   "source": []
  },
  {
   "cell_type": "code",
   "execution_count": null,
   "metadata": {},
   "outputs": [],
   "source": []
  },
  {
   "cell_type": "code",
   "execution_count": 14,
   "metadata": {},
   "outputs": [
    {
     "data": {
      "text/plain": [
       "torch.Size([510189, 30])"
      ]
     },
     "execution_count": 14,
     "metadata": {},
     "output_type": "execute_result"
    }
   ],
   "source": [
    "g.ndata['L1']['author'].shape"
   ]
  },
  {
   "cell_type": "code",
   "execution_count": 42,
   "metadata": {},
   "outputs": [],
   "source": [
    "l1=g.ndata.pop('L1')"
   ]
  },
  {
   "cell_type": "code",
   "execution_count": 43,
   "metadata": {},
   "outputs": [
    {
     "data": {
      "text/plain": [
       "{'author': tensor([[-1., -1., -1.,  ..., -1., -1., -1.],\n",
       "         [ 1.,  0., -1.,  ..., -1., -1., -1.],\n",
       "         [-1., -1., -1.,  ..., -1., -1., -1.],\n",
       "         ...,\n",
       "         [-1., -1., -1.,  ..., -1., -1., -1.],\n",
       "         [27., 40., -1.,  ..., -1., -1., -1.],\n",
       "         [-1., -1., -1.,  ..., -1., -1., -1.]]),\n",
       " 'paper': tensor([[ 7., 13.,  4.,  ..., -1., -1., -1.],\n",
       "         [40., -1., -1.,  ..., -1., -1., -1.],\n",
       "         [ 7., 13.,  4.,  ..., -1., -1., -1.],\n",
       "         ...,\n",
       "         [ 9.,  4., 31.,  ..., -1., -1., -1.],\n",
       "         [ 6., 20., -1.,  ..., -1., -1., -1.],\n",
       "         [ 5., 89., -1.,  ..., -1., -1., -1.]]),\n",
       " 'venue': tensor([[19., 20.,  9.,  ..., -1., -1., -1.],\n",
       "         [ 2.,  1., 18.,  ..., -1., -1., -1.],\n",
       "         [46.,  1., 49.,  ..., -1., -1., -1.],\n",
       "         ...,\n",
       "         [ 3., 21., 20.,  ..., -1., -1., -1.],\n",
       "         [ 7., 40., 10.,  ..., -1., -1., -1.],\n",
       "         [ 5., 89., -1.,  ..., -1., -1., -1.]])}"
      ]
     },
     "execution_count": 43,
     "metadata": {},
     "output_type": "execute_result"
    }
   ],
   "source": [
    "l1"
   ]
  },
  {
   "cell_type": "code",
   "execution_count": 44,
   "metadata": {},
   "outputs": [
    {
     "data": {
      "text/plain": [
       "dict_keys(['feat', 'train_mask', 'val_mask', 'test_mask', 'L2', 'dists', 'venue'])"
      ]
     },
     "execution_count": 44,
     "metadata": {},
     "output_type": "execute_result"
    }
   ],
   "source": [
    "g.ndata.keys()"
   ]
  },
  {
   "cell_type": "code",
   "execution_count": 45,
   "metadata": {},
   "outputs": [
    {
     "data": {
      "text/plain": [
       "{'author': tensor([[-1., -1., -1.,  ..., -1., -1., -1.],\n",
       "         [ 1.,  0., -1.,  ..., -1., -1., -1.],\n",
       "         [-1., -1., -1.,  ..., -1., -1., -1.],\n",
       "         ...,\n",
       "         [-1., -1., -1.,  ..., -1., -1., -1.],\n",
       "         [27., 40., -1.,  ..., -1., -1., -1.],\n",
       "         [-1., -1., -1.,  ..., -1., -1., -1.]]),\n",
       " 'paper': tensor([[ 7., 13.,  4.,  ..., -1., -1., -1.],\n",
       "         [40., -1., -1.,  ..., -1., -1., -1.],\n",
       "         [ 7., 13.,  4.,  ..., -1., -1., -1.],\n",
       "         ...,\n",
       "         [ 9.,  4., 31.,  ..., -1., -1., -1.],\n",
       "         [ 6., 20., -1.,  ..., -1., -1., -1.],\n",
       "         [ 5., 89., -1.,  ..., -1., -1., -1.]]),\n",
       " 'venue': tensor([[19., 20.,  9.,  ..., -1., -1., -1.],\n",
       "         [ 2.,  1., 18.,  ..., -1., -1., -1.],\n",
       "         [46.,  1., 49.,  ..., -1., -1., -1.],\n",
       "         ...,\n",
       "         [ 3., 21., 20.,  ..., -1., -1., -1.],\n",
       "         [ 7., 40., 10.,  ..., -1., -1., -1.],\n",
       "         [ 5., 89., -1.,  ..., -1., -1., -1.]])}"
      ]
     },
     "execution_count": 45,
     "metadata": {},
     "output_type": "execute_result"
    }
   ],
   "source": [
    "l1"
   ]
  },
  {
   "cell_type": "code",
   "execution_count": 46,
   "metadata": {},
   "outputs": [],
   "source": [
    "l1_author=l1.pop('author')"
   ]
  },
  {
   "cell_type": "code",
   "execution_count": 47,
   "metadata": {},
   "outputs": [
    {
     "data": {
      "text/plain": [
       "tensor([[-1., -1., -1.,  ..., -1., -1., -1.],\n",
       "        [ 1.,  0., -1.,  ..., -1., -1., -1.],\n",
       "        [-1., -1., -1.,  ..., -1., -1., -1.],\n",
       "        ...,\n",
       "        [-1., -1., -1.,  ..., -1., -1., -1.],\n",
       "        [27., 40., -1.,  ..., -1., -1., -1.],\n",
       "        [-1., -1., -1.,  ..., -1., -1., -1.]])"
      ]
     },
     "execution_count": 47,
     "metadata": {},
     "output_type": "execute_result"
    }
   ],
   "source": [
    "l1_author"
   ]
  },
  {
   "cell_type": "code",
   "execution_count": 51,
   "metadata": {},
   "outputs": [
    {
     "data": {
      "text/plain": [
       "tensor([[-1., -1., -1.,  ..., -1., -1., -1.],\n",
       "        [ 1.,  0., -1.,  ..., -1., -1., -1.],\n",
       "        [-1., -1., -1.,  ..., -1., -1., -1.],\n",
       "        ...,\n",
       "        [-1., -1., -1.,  ..., -1., -1., -1.],\n",
       "        [27., 40., -1.,  ..., -1., -1., -1.],\n",
       "        [-1., -1., -1.,  ..., -1., -1., -1.]])"
      ]
     },
     "execution_count": 51,
     "metadata": {},
     "output_type": "execute_result"
    }
   ],
   "source": [
    "l1_author[:,:30]"
   ]
  },
  {
   "cell_type": "code",
   "execution_count": 52,
   "metadata": {},
   "outputs": [],
   "source": [
    "nl1_author=l1_author[:,:30]"
   ]
  },
  {
   "cell_type": "code",
   "execution_count": 53,
   "metadata": {},
   "outputs": [
    {
     "data": {
      "text/plain": [
       "torch.Size([510189, 30])"
      ]
     },
     "execution_count": 53,
     "metadata": {},
     "output_type": "execute_result"
    }
   ],
   "source": [
    "nl1_author.shape"
   ]
  },
  {
   "cell_type": "code",
   "execution_count": 58,
   "metadata": {},
   "outputs": [
    {
     "data": {
      "text/plain": [
       "tensor([  4455, 340130, 340122,  ..., 170057, 170056, 170055])"
      ]
     },
     "execution_count": 58,
     "metadata": {},
     "output_type": "execute_result"
    }
   ],
   "source": [
    "torch.argsort(nl1_author[:,-1],descending=True)"
   ]
  },
  {
   "cell_type": "code",
   "execution_count": 59,
   "metadata": {},
   "outputs": [
    {
     "data": {
      "text/plain": [
       "tensor([ 14., 111., 191.,  39.,  19., 134., 226., 119.,  44.,  36., 208.,  28.,\n",
       "         29., 209.,  62., 159.,  10.,  16.,  23.,  31.,   4.,  53.,   2.,  61.,\n",
       "         40.,  46.,  59.,  13.,  20.,   6.,  -1.,  -1.,  -1.,  -1.,  -1.,  -1.,\n",
       "         -1.,  -1.,  -1.,  -1.,  -1.,  -1.,  -1.,  -1.,  -1.,  -1.,  -1.,  -1.,\n",
       "         -1.,  -1.])"
      ]
     },
     "execution_count": 59,
     "metadata": {},
     "output_type": "execute_result"
    }
   ],
   "source": [
    "l1_author[4455]"
   ]
  },
  {
   "cell_type": "code",
   "execution_count": 60,
   "metadata": {},
   "outputs": [
    {
     "data": {
      "text/plain": [
       "tensor([ 14., 111., 191.,  39.,  19., 134., 226., 119.,  44.,  36., 208.,  28.,\n",
       "         29., 209.,  62., 159.,  10.,  16.,  23.,  31.,   4.,  53.,   2.,  61.,\n",
       "         40.,  46.,  59.,  13.,  20.,   6.])"
      ]
     },
     "execution_count": 60,
     "metadata": {},
     "output_type": "execute_result"
    }
   ],
   "source": [
    "nl1_author[4455]"
   ]
  },
  {
   "cell_type": "code",
   "execution_count": 61,
   "metadata": {},
   "outputs": [],
   "source": [
    "l1['author']=nl1_author"
   ]
  },
  {
   "cell_type": "code",
   "execution_count": 62,
   "metadata": {},
   "outputs": [
    {
     "data": {
      "text/plain": [
       "{'paper': tensor([[ 7., 13.,  4.,  ..., -1., -1., -1.],\n",
       "         [40., -1., -1.,  ..., -1., -1., -1.],\n",
       "         [ 7., 13.,  4.,  ..., -1., -1., -1.],\n",
       "         ...,\n",
       "         [ 9.,  4., 31.,  ..., -1., -1., -1.],\n",
       "         [ 6., 20., -1.,  ..., -1., -1., -1.],\n",
       "         [ 5., 89., -1.,  ..., -1., -1., -1.]]),\n",
       " 'venue': tensor([[19., 20.,  9.,  ..., -1., -1., -1.],\n",
       "         [ 2.,  1., 18.,  ..., -1., -1., -1.],\n",
       "         [46.,  1., 49.,  ..., -1., -1., -1.],\n",
       "         ...,\n",
       "         [ 3., 21., 20.,  ..., -1., -1., -1.],\n",
       "         [ 7., 40., 10.,  ..., -1., -1., -1.],\n",
       "         [ 5., 89., -1.,  ..., -1., -1., -1.]]),\n",
       " 'author': tensor([[-1., -1., -1.,  ..., -1., -1., -1.],\n",
       "         [ 1.,  0., -1.,  ..., -1., -1., -1.],\n",
       "         [-1., -1., -1.,  ..., -1., -1., -1.],\n",
       "         ...,\n",
       "         [-1., -1., -1.,  ..., -1., -1., -1.],\n",
       "         [27., 40., -1.,  ..., -1., -1., -1.],\n",
       "         [-1., -1., -1.,  ..., -1., -1., -1.]])}"
      ]
     },
     "execution_count": 62,
     "metadata": {},
     "output_type": "execute_result"
    }
   ],
   "source": [
    "l1"
   ]
  },
  {
   "cell_type": "code",
   "execution_count": 63,
   "metadata": {},
   "outputs": [],
   "source": [
    "l1_paper=l1.pop('paper')"
   ]
  },
  {
   "cell_type": "code",
   "execution_count": 64,
   "metadata": {},
   "outputs": [
    {
     "data": {
      "text/plain": [
       "tensor([[ 7., 13.,  4.,  ..., -1., -1., -1.],\n",
       "        [40., -1., -1.,  ..., -1., -1., -1.],\n",
       "        [ 7., 13.,  4.,  ..., -1., -1., -1.],\n",
       "        ...,\n",
       "        [ 9.,  4., 31.,  ..., -1., -1., -1.],\n",
       "        [ 6., 20., -1.,  ..., -1., -1., -1.],\n",
       "        [ 5., 89., -1.,  ..., -1., -1., -1.]])"
      ]
     },
     "execution_count": 64,
     "metadata": {},
     "output_type": "execute_result"
    }
   ],
   "source": [
    "l1_paper"
   ]
  },
  {
   "cell_type": "code",
   "execution_count": null,
   "metadata": {},
   "outputs": [],
   "source": []
  }
 ],
 "metadata": {
  "kernelspec": {
   "display_name": "w2",
   "language": "python",
   "name": "python3"
  },
  "language_info": {
   "codemirror_mode": {
    "name": "ipython",
    "version": 3
   },
   "file_extension": ".py",
   "mimetype": "text/x-python",
   "name": "python",
   "nbconvert_exporter": "python",
   "pygments_lexer": "ipython3",
   "version": "3.11.6"
  }
 },
 "nbformat": 4,
 "nbformat_minor": 2
}
