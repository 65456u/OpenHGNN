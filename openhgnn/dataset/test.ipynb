{
 "cells": [
  {
   "cell_type": "code",
   "execution_count": 1,
   "metadata": {},
   "outputs": [],
   "source": [
    "import dgl\n",
    "import torch"
   ]
  },
  {
   "cell_type": "code",
   "execution_count": 2,
   "metadata": {},
   "outputs": [],
   "source": [
    "glist, dims = dgl.load_graphs(\"oag_cs.bin\")\n",
    "g = glist[0]"
   ]
  },
  {
   "cell_type": "code",
   "execution_count": 3,
   "metadata": {},
   "outputs": [],
   "source": [
    "train_mask = g.ndata[\"train_mask\"]"
   ]
  },
  {
   "cell_type": "code",
   "execution_count": 4,
   "metadata": {},
   "outputs": [],
   "source": [
    "import torch\n",
    "\n",
    "train_mask = {}\n",
    "for ntype in [\"author\", \"paper\", \"venue\"]:\n",
    "    idx = torch.nonzero(g.ndata[\"train_mask\"][ntype], as_tuple=False).squeeze()\n",
    "    train_mask[ntype] = idx"
   ]
  },
  {
   "cell_type": "code",
   "execution_count": 5,
   "metadata": {},
   "outputs": [
    {
     "data": {
      "text/plain": [
       "{'author': tensor([     1,      3,      4,  ..., 510167, 510168, 510175]),\n",
       " 'paper': tensor([    34,     39,     47,  ..., 544224, 544233, 544236]),\n",
       " 'venue': tensor([   0,    1,    5,  ..., 6930, 6931, 6932])}"
      ]
     },
     "execution_count": 5,
     "metadata": {},
     "output_type": "execute_result"
    }
   ],
   "source": [
    "train_mask"
   ]
  },
  {
   "cell_type": "code",
   "execution_count": 6,
   "metadata": {},
   "outputs": [],
   "source": [
    "sampler = dgl.dataloading.MultiLayerFullNeighborSampler(4)\n",
    "dataloader = dgl.dataloading.DataLoader(\n",
    "    g,\n",
    "    {\"paper\": train_mask[\"paper\"]},\n",
    "    sampler,\n",
    "    batch_size=64,\n",
    "    shuffle=True,\n",
    "    drop_last=False,\n",
    "    # num_workers=4,\n",
    ")"
   ]
  },
  {
   "cell_type": "code",
   "execution_count": 7,
   "metadata": {},
   "outputs": [
    {
     "data": {
      "text/plain": [
       "<dgl.dataloading.dataloader.DataLoader at 0xfffdfee24c90>"
      ]
     },
     "execution_count": 7,
     "metadata": {},
     "output_type": "execute_result"
    }
   ],
   "source": [
    "dataloader"
   ]
  },
  {
   "cell_type": "code",
   "execution_count": 8,
   "metadata": {},
   "outputs": [
    {
     "name": "stderr",
     "output_type": "stream",
     "text": [
      "/home/lacuna42/miniforge3/envs/w/lib/python3.11/site-packages/dgl/dataloading/dataloader.py:1149: DGLWarning: Dataloader CPU affinity opt is not enabled, consider switching it on (see enable_cpu_affinity() or CPU best practices for DGL [https://docs.dgl.ai/tutorials/cpu/cpu_best_practises.html])\n",
      "  dgl_warning(\n"
     ]
    }
   ],
   "source": [
    "input_nodes, output_nodes, blocks = next(iter(dataloader))"
   ]
  },
  {
   "cell_type": "code",
   "execution_count": 9,
   "metadata": {},
   "outputs": [
    {
     "name": "stdout",
     "output_type": "stream",
     "text": [
      "affiliation torch.Size([7830])\n",
      "author torch.Size([471707])\n",
      "field torch.Size([45717])\n",
      "paper torch.Size([544243])\n",
      "venue torch.Size([6916])\n"
     ]
    }
   ],
   "source": [
    "for key, valud in input_nodes.items():\n",
    "    print(key, valud.shape)"
   ]
  },
  {
   "cell_type": "code",
   "execution_count": 10,
   "metadata": {},
   "outputs": [
    {
     "data": {
      "text/plain": [
       "{'affiliation': tensor([  12, 1162,  401,  ..., 1976, 8583, 2821]),\n",
       " 'author': tensor([ 39272, 166534, 166535,  ..., 471093, 471095, 471096]),\n",
       " 'field': tensor([19352, 10896, 34017,  ..., 40603, 12309, 27933]),\n",
       " 'paper': tensor([ 64303, 428584, 254819,  ..., 466368, 535494, 323348]),\n",
       " 'venue': tensor([ 562, 5285, 3053,  ..., 1862, 3666,  360])}"
      ]
     },
     "execution_count": 10,
     "metadata": {},
     "output_type": "execute_result"
    }
   ],
   "source": [
    "input_nodes"
   ]
  },
  {
   "cell_type": "code",
   "execution_count": 11,
   "metadata": {},
   "outputs": [
    {
     "data": {
      "text/plain": [
       "{'affiliation': tensor([[ 0.0029, -0.0018,  0.0022,  ..., -0.0012,  0.0005,  0.0403],\n",
       "         [ 0.0063,  0.0010,  0.0018,  ..., -0.0010,  0.0011,  0.0296],\n",
       "         [ 0.0037,  0.0021,  0.0017,  ..., -0.0016,  0.0004,  0.0286],\n",
       "         ...,\n",
       "         [ 0.0008, -0.0025,  0.0030,  ..., -0.0001, -0.0033,  0.0099],\n",
       "         [ 0.0025, -0.0022,  0.0038,  ...,  0.0043, -0.0015,  0.0042],\n",
       "         [ 0.0029, -0.0014, -0.0007,  ...,  0.0044,  0.0012,  0.0136]]),\n",
       " 'author': tensor([[ 0.0000e+00,  0.0000e+00,  0.0000e+00,  ...,  8.7267e-05,\n",
       "          -1.3538e-04,  5.7543e-03],\n",
       "         [ 0.0000e+00,  0.0000e+00,  0.0000e+00,  ..., -1.3289e-03,\n",
       "           9.0451e-04,  9.6308e-03],\n",
       "         [ 0.0000e+00,  0.0000e+00,  0.0000e+00,  ..., -1.7089e-04,\n",
       "           3.0572e-03,  4.0321e-03],\n",
       "         ...,\n",
       "         [ 0.0000e+00,  0.0000e+00,  0.0000e+00,  ...,  0.0000e+00,\n",
       "           0.0000e+00, -1.0000e+00],\n",
       "         [ 0.0000e+00,  0.0000e+00,  0.0000e+00,  ...,  0.0000e+00,\n",
       "           0.0000e+00, -1.0000e+00],\n",
       "         [ 0.0000e+00,  0.0000e+00,  0.0000e+00,  ..., -5.0532e-03,\n",
       "          -2.4794e-03,  1.5250e-02]]),\n",
       " 'field': tensor([[-4.6618e-02, -1.1785e-02,  3.0433e-02,  ...,  0.0000e+00,\n",
       "           0.0000e+00, -3.5643e-01],\n",
       "         [ 1.9235e-03, -3.9725e-04,  3.6276e-03,  ..., -4.6246e-03,\n",
       "          -6.4250e-04,  2.5319e-03],\n",
       "         [-1.2349e-03, -2.9300e-03,  3.9127e-03,  ...,  3.2370e-03,\n",
       "           1.6877e-03,  6.3564e-03],\n",
       "         ...,\n",
       "         [ 1.9096e-03,  1.3867e-03,  2.3700e-03,  ...,  1.2364e-03,\n",
       "           2.5083e-03,  7.0780e-03],\n",
       "         [ 3.7830e-05,  5.4851e-04,  8.2707e-04,  ...,  1.0757e-03,\n",
       "           7.5982e-04,  1.5335e-02],\n",
       "         [ 1.4453e-03, -1.7878e-03,  4.6908e-04,  ..., -7.0911e-04,\n",
       "           1.0335e-03,  1.4313e-02]]),\n",
       " 'paper': tensor([[ 0.0000,  0.0000,  0.0000,  ..., -0.0032, -0.0007,  0.0090],\n",
       "         [ 0.0000,  0.0000,  0.0000,  ..., -0.0106,  0.0010,  0.0099],\n",
       "         [ 0.0000,  0.0000,  0.0000,  ..., -0.0009, -0.0046,  0.0082],\n",
       "         ...,\n",
       "         [ 0.0000,  0.0000,  0.0000,  ...,  0.0020, -0.0033,  0.0066],\n",
       "         [ 0.0000,  0.0000,  0.0000,  ..., -0.0028,  0.0002,  0.0027],\n",
       "         [ 0.0000,  0.0000,  0.0000,  ..., -0.0013,  0.0082,  0.0041]]),\n",
       " 'venue': tensor([[ 5.6821e-04,  3.0065e-05,  2.2393e-03,  ..., -2.2604e-03,\n",
       "           1.1174e-03,  2.2809e-02],\n",
       "         [-1.4805e-03, -3.8860e-03,  1.2471e-03,  ..., -6.9615e-04,\n",
       "           5.2194e-04,  3.4028e-02],\n",
       "         [-2.5020e-03, -3.1805e-03, -3.3185e-04,  ..., -2.9193e-04,\n",
       "          -3.8082e-04,  1.5247e-02],\n",
       "         ...,\n",
       "         [-8.2875e-06,  1.2714e-03, -2.5557e-03,  ..., -4.5544e-03,\n",
       "           2.3767e-03,  9.5970e-03],\n",
       "         [ 3.2156e-03, -5.4920e-03,  1.5362e-03,  ..., -2.0576e-03,\n",
       "          -4.7241e-04,  1.6888e-02],\n",
       "         [-1.5940e-03, -3.7156e-04, -4.1280e-04,  ..., -1.3173e-03,\n",
       "           8.2073e-03,  4.0477e-03]])}"
      ]
     },
     "execution_count": 11,
     "metadata": {},
     "output_type": "execute_result"
    }
   ],
   "source": [
    "g.ndata[\"feat\"]"
   ]
  },
  {
   "cell_type": "code",
   "execution_count": 79,
   "metadata": {},
   "outputs": [],
   "source": [
    "labels = g.ndata[\"L1\"][\"author\"]"
   ]
  },
  {
   "cell_type": "code",
   "execution_count": 80,
   "metadata": {},
   "outputs": [],
   "source": [
    "lbl_dim = dims[\"L1\"]"
   ]
  },
  {
   "cell_type": "code",
   "execution_count": 44,
   "metadata": {},
   "outputs": [
    {
     "ename": "RuntimeError",
     "evalue": "shape mismatch: value tensor of shape [510189, 275] cannot be broadcast to indexing result of shape [668109]",
     "output_type": "error",
     "traceback": [
      "\u001b[0;31m---------------------------------------------------------------------------\u001b[0m",
      "\u001b[0;31mRuntimeError\u001b[0m                              Traceback (most recent call last)",
      "\u001b[1;32m/home/lacuna42/OpenHGNN/openhgnn/dataset/test.ipynb Cell 14\u001b[0m line \u001b[0;36m1\n\u001b[1;32m     <a href='vscode-notebook-cell://ssh-remote%2B34.27.125.147/home/lacuna42/OpenHGNN/openhgnn/dataset/test.ipynb#X16sdnNjb2RlLXJlbW90ZQ%3D%3D?line=13'>14</a>\u001b[0m     mask \u001b[39m=\u001b[39m indices \u001b[39m<\u001b[39m num_indices\u001b[39m.\u001b[39munsqueeze(\u001b[39m1\u001b[39m)\n\u001b[1;32m     <a href='vscode-notebook-cell://ssh-remote%2B34.27.125.147/home/lacuna42/OpenHGNN/openhgnn/dataset/test.ipynb#X16sdnNjb2RlLXJlbW90ZQ%3D%3D?line=14'>15</a>\u001b[0m     values \u001b[39m=\u001b[39m torch\u001b[39m.\u001b[39mones_like(num_indices, dtype\u001b[39m=\u001b[39mtorch\u001b[39m.\u001b[39mfloat) \u001b[39m/\u001b[39m num_indices\u001b[39m.\u001b[39mclamp(\u001b[39mmin\u001b[39m\u001b[39m=\u001b[39m\u001b[39m1\u001b[39m)\n\u001b[0;32m---> <a href='vscode-notebook-cell://ssh-remote%2B34.27.125.147/home/lacuna42/OpenHGNN/openhgnn/dataset/test.ipynb#X16sdnNjb2RlLXJlbW90ZQ%3D%3D?line=15'>16</a>\u001b[0m     processed_labels[task_type][node_type][mask] \u001b[39m=\u001b[39m values\u001b[39m.\u001b[39munsqueeze(\u001b[39m1\u001b[39m)\u001b[39m.\u001b[39mexpand(\u001b[39m-\u001b[39m\u001b[39m1\u001b[39m, dims[task_type])\n\u001b[1;32m     <a href='vscode-notebook-cell://ssh-remote%2B34.27.125.147/home/lacuna42/OpenHGNN/openhgnn/dataset/test.ipynb#X16sdnNjb2RlLXJlbW90ZQ%3D%3D?line=16'>17</a>\u001b[0m \u001b[39melse\u001b[39;00m:\n\u001b[1;32m     <a href='vscode-notebook-cell://ssh-remote%2B34.27.125.147/home/lacuna42/OpenHGNN/openhgnn/dataset/test.ipynb#X16sdnNjb2RlLXJlbW90ZQ%3D%3D?line=17'>18</a>\u001b[0m     processed_labels[task_type][node_type] \u001b[39m=\u001b[39m labels\n",
      "\u001b[0;31mRuntimeError\u001b[0m: shape mismatch: value tensor of shape [510189, 275] cannot be broadcast to indexing result of shape [668109]"
     ]
    }
   ],
   "source": [
    "processed_labels = {}\n",
    "for task_type in [\"L1\"]:\n",
    "    processed_labels[task_type] = {}\n",
    "    for node_type in [\"author\"]:\n",
    "        labels = g.ndata[task_type][node_type]\n",
    "        if labels.shape[1] != dims[task_type]:\n",
    "            processed_labels[task_type][node_type] = torch.zeros(\n",
    "                (labels.shape[0], dims[task_type])\n",
    "            )\n",
    "            num_indices = torch.count_nonzero(labels + 1, dim=1)\n",
    "            for i in range(labels.shape[0]):\n",
    "                indices = labels[i, : num_indices[i]].to(torch.int)\n",
    "                processed_labels[task_type][node_type][i, indices] = 1 / num_indices[\n",
    "                    i\n",
    "                ].clamp(min=1)\n",
    "        else:\n",
    "            processed_labels[task_type][node_type] = labels"
   ]
  },
  {
   "cell_type": "code",
   "execution_count": 66,
   "metadata": {},
   "outputs": [],
   "source": [
    "def process_category(labels: torch.tensor, num_classes: int) -> torch.tensor:\n",
    "    if labels.shape[1] != num_classes:\n",
    "        processed_labels = torch.zeros((labels.shape[0], num_classes))\n",
    "        num_indices = torch.count_nonzero(labels + 1, dim=1)\n",
    "        for i in range(labels.shape[0]):\n",
    "            indices = labels[i, : num_indices[i]].to(torch.int)\n",
    "            processed_labels[i, indices] = 1 / num_indices[i].clamp(min=1)\n",
    "    else:\n",
    "        processed_labels = labels\n",
    "    return processed_labels"
   ]
  },
  {
   "cell_type": "code",
   "execution_count": 43,
   "metadata": {},
   "outputs": [],
   "source": [
    "lb = g.ndata[\"L1\"][\"author\"]"
   ]
  },
  {
   "cell_type": "code",
   "execution_count": 49,
   "metadata": {},
   "outputs": [],
   "source": [
    "num_indices"
   ]
  },
  {
   "cell_type": "code",
   "execution_count": 67,
   "metadata": {},
   "outputs": [],
   "source": [
    "a = process_category(lb[:50], dims[\"L1\"].item())"
   ]
  },
  {
   "cell_type": "code",
   "execution_count": 68,
   "metadata": {},
   "outputs": [
    {
     "data": {
      "text/plain": [
       "tensor([[0.0000, 0.0000, 0.0000,  ..., 0.0000, 0.0000, 0.0000],\n",
       "        [0.5000, 0.5000, 0.0000,  ..., 0.0000, 0.0000, 0.0000],\n",
       "        [0.0000, 0.0000, 0.0000,  ..., 0.0000, 0.0000, 0.0000],\n",
       "        ...,\n",
       "        [1.0000, 0.0000, 0.0000,  ..., 0.0000, 0.0000, 0.0000],\n",
       "        [0.0000, 0.0000, 0.0000,  ..., 0.0000, 0.0000, 0.0000],\n",
       "        [0.0000, 0.0000, 0.0000,  ..., 0.0000, 0.0000, 0.0000]])"
      ]
     },
     "execution_count": 68,
     "metadata": {},
     "output_type": "execute_result"
    }
   ],
   "source": [
    "a"
   ]
  },
  {
   "cell_type": "code",
   "execution_count": 34,
   "metadata": {},
   "outputs": [
    {
     "data": {
      "text/plain": [
       "tensor([19., -1., -1., -1., -1., -1., -1., -1., -1., -1., -1., -1., -1., -1.,\n",
       "        -1., -1., -1., -1., -1., -1., -1., -1., -1., -1., -1., -1., -1., -1.,\n",
       "        -1., -1., -1., -1., -1., -1., -1., -1., -1., -1., -1., -1., -1., -1.,\n",
       "        -1., -1., -1., -1., -1., -1., -1., -1.])"
      ]
     },
     "execution_count": 34,
     "metadata": {},
     "output_type": "execute_result"
    }
   ],
   "source": [
    "lb[42]"
   ]
  },
  {
   "cell_type": "code",
   "execution_count": 35,
   "metadata": {},
   "outputs": [
    {
     "data": {
      "text/plain": [
       "tensor(1.)"
      ]
     },
     "execution_count": 35,
     "metadata": {},
     "output_type": "execute_result"
    }
   ],
   "source": [
    "a[42][19]"
   ]
  },
  {
   "cell_type": "code",
   "execution_count": 3,
   "metadata": {},
   "outputs": [
    {
     "data": {
      "text/plain": [
       "SparseMatrix(indices=tensor([[387067, 134013, 134013,  ..., 102817, 304115, 529407],\n",
       "                             [     1,      1,      2,  ..., 510171, 392963, 510188]]),\n",
       "             values=tensor([1., 1., 1.,  ..., 1., 1., 1.]),\n",
       "             shape=(544244, 510189), nnz=1091559)"
      ]
     },
     "execution_count": 3,
     "metadata": {},
     "output_type": "execute_result"
    }
   ],
   "source": [
    "g.adj(etype='paper-author')\n"
   ]
  },
  {
   "cell_type": "code",
   "execution_count": 6,
   "metadata": {},
   "outputs": [],
   "source": [
    "import dgl.sparse"
   ]
  },
  {
   "cell_type": "code",
   "execution_count": null,
   "metadata": {},
   "outputs": [],
   "source": []
  }
 ],
 "metadata": {
  "kernelspec": {
   "display_name": "w2",
   "language": "python",
   "name": "python3"
  },
  "language_info": {
   "codemirror_mode": {
    "name": "ipython",
    "version": 3
   },
   "file_extension": ".py",
   "mimetype": "text/x-python",
   "name": "python",
   "nbconvert_exporter": "python",
   "pygments_lexer": "ipython3",
   "version": "3.11.6"
  }
 },
 "nbformat": 4,
 "nbformat_minor": 2
}
