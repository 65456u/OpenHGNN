{
 "cells": [
  {
   "cell_type": "code",
   "execution_count": 1,
   "metadata": {},
   "outputs": [],
   "source": [
    "import dgl"
   ]
  },
  {
   "cell_type": "code",
   "execution_count": 2,
   "metadata": {},
   "outputs": [],
   "source": [
    "glist,dims= dgl.load_graphs(\"oag_cs.bin\")\n",
    "g=glist[0]"
   ]
  },
  {
   "cell_type": "code",
   "execution_count": 3,
   "metadata": {},
   "outputs": [],
   "source": [
    "train_mask=g.ndata['train_mask']"
   ]
  },
  {
   "cell_type": "code",
   "execution_count": 4,
   "metadata": {},
   "outputs": [],
   "source": [
    "import torch\n",
    "train_mask={}\n",
    "for ntype in ['author','paper','venue']:\n",
    "    idx=torch.nonzero(g.ndata['train_mask'][ntype], as_tuple=False).squeeze()\n",
    "    train_mask[ntype]=idx"
   ]
  },
  {
   "cell_type": "code",
   "execution_count": 5,
   "metadata": {},
   "outputs": [
    {
     "data": {
      "text/plain": [
       "{'author': tensor([     1,      3,      4,  ..., 510167, 510168, 510175]),\n",
       " 'paper': tensor([    34,     39,     47,  ..., 544224, 544233, 544236]),\n",
       " 'venue': tensor([   0,    1,    5,  ..., 6930, 6931, 6932])}"
      ]
     },
     "execution_count": 5,
     "metadata": {},
     "output_type": "execute_result"
    }
   ],
   "source": [
    "train_mask"
   ]
  },
  {
   "cell_type": "code",
   "execution_count": 6,
   "metadata": {},
   "outputs": [],
   "source": [
    "sampler = dgl.dataloading.MultiLayerFullNeighborSampler(4)\n",
    "dataloader = dgl.dataloading.DataLoader(\n",
    "                g,\n",
    "                {'paper':train_mask['paper']},\n",
    "                sampler,\n",
    "                batch_size=64,\n",
    "                shuffle=True,\n",
    "                drop_last=False,\n",
    "                # num_workers=4,\n",
    "            )"
   ]
  },
  {
   "cell_type": "code",
   "execution_count": 7,
   "metadata": {},
   "outputs": [
    {
     "data": {
      "text/plain": [
       "<dgl.dataloading.dataloader.DataLoader at 0x7ff87b4d1490>"
      ]
     },
     "execution_count": 7,
     "metadata": {},
     "output_type": "execute_result"
    }
   ],
   "source": [
    "dataloader"
   ]
  },
  {
   "cell_type": "code",
   "execution_count": 9,
   "metadata": {},
   "outputs": [
    {
     "name": "stderr",
     "output_type": "stream",
     "text": [
      "/home/lacuna42/miniforge3/envs/w2/lib/python3.11/site-packages/dgl/dataloading/dataloader.py:1149: DGLWarning: Dataloader CPU affinity opt is not enabled, consider switching it on (see enable_cpu_affinity() or CPU best practices for DGL [https://docs.dgl.ai/tutorials/cpu/cpu_best_practises.html])\n",
      "  dgl_warning(\n"
     ]
    }
   ],
   "source": [
    "input_nodes, output_nodes, blocks = next(iter(dataloader))"
   ]
  },
  {
   "cell_type": "code",
   "execution_count": 25,
   "metadata": {},
   "outputs": [
    {
     "name": "stdout",
     "output_type": "stream",
     "text": [
      "affiliation torch.Size([7823])\n",
      "author torch.Size([474514])\n",
      "field torch.Size([45717])\n",
      "paper torch.Size([544242])\n",
      "venue torch.Size([6923])\n"
     ]
    }
   ],
   "source": [
    "for key,valud in input_nodes.items():\n",
    "    print(key,valud.shape)"
   ]
  },
  {
   "cell_type": "code",
   "execution_count": 26,
   "metadata": {},
   "outputs": [
    {
     "data": {
      "text/plain": [
       "{'affiliation': tensor([1142,  388,    3,  ..., 6822, 7436, 8386]),\n",
       " 'author': tensor([ 28894, 472106,   8481,  ..., 236161, 236160, 439882]),\n",
       " 'field': tensor([31981, 31997, 32281,  ..., 43840, 45135, 25238]),\n",
       " 'paper': tensor([ 39530, 262527, 479358,  ..., 211099, 466368, 504140]),\n",
       " 'venue': tensor([ 444, 3118, 5882,  ..., 4975,  511,   14])}"
      ]
     },
     "execution_count": 26,
     "metadata": {},
     "output_type": "execute_result"
    }
   ],
   "source": [
    "input_nodes"
   ]
  },
  {
   "cell_type": "code",
   "execution_count": 18,
   "metadata": {},
   "outputs": [
    {
     "data": {
      "text/plain": [
       "{'affiliation': tensor([[ 0.0029, -0.0018,  0.0022,  ..., -0.0012,  0.0005,  0.0403],\n",
       "         [ 0.0063,  0.0010,  0.0018,  ..., -0.0010,  0.0011,  0.0296],\n",
       "         [ 0.0037,  0.0021,  0.0017,  ..., -0.0016,  0.0004,  0.0286],\n",
       "         ...,\n",
       "         [ 0.0008, -0.0025,  0.0030,  ..., -0.0001, -0.0033,  0.0099],\n",
       "         [ 0.0025, -0.0022,  0.0038,  ...,  0.0043, -0.0015,  0.0042],\n",
       "         [ 0.0029, -0.0014, -0.0007,  ...,  0.0044,  0.0012,  0.0136]]),\n",
       " 'author': tensor([[ 0.0000e+00,  0.0000e+00,  0.0000e+00,  ...,  8.7267e-05,\n",
       "          -1.3538e-04,  5.7543e-03],\n",
       "         [ 0.0000e+00,  0.0000e+00,  0.0000e+00,  ..., -1.3289e-03,\n",
       "           9.0451e-04,  9.6308e-03],\n",
       "         [ 0.0000e+00,  0.0000e+00,  0.0000e+00,  ..., -1.7089e-04,\n",
       "           3.0572e-03,  4.0321e-03],\n",
       "         ...,\n",
       "         [ 0.0000e+00,  0.0000e+00,  0.0000e+00,  ...,  0.0000e+00,\n",
       "           0.0000e+00, -1.0000e+00],\n",
       "         [ 0.0000e+00,  0.0000e+00,  0.0000e+00,  ...,  0.0000e+00,\n",
       "           0.0000e+00, -1.0000e+00],\n",
       "         [ 0.0000e+00,  0.0000e+00,  0.0000e+00,  ..., -5.0532e-03,\n",
       "          -2.4794e-03,  1.5250e-02]]),\n",
       " 'field': tensor([[-4.6618e-02, -1.1785e-02,  3.0433e-02,  ...,  0.0000e+00,\n",
       "           0.0000e+00, -3.5643e-01],\n",
       "         [ 1.9235e-03, -3.9725e-04,  3.6276e-03,  ..., -4.6246e-03,\n",
       "          -6.4250e-04,  2.5319e-03],\n",
       "         [-1.2349e-03, -2.9300e-03,  3.9127e-03,  ...,  3.2370e-03,\n",
       "           1.6877e-03,  6.3564e-03],\n",
       "         ...,\n",
       "         [ 1.9096e-03,  1.3867e-03,  2.3700e-03,  ...,  1.2364e-03,\n",
       "           2.5083e-03,  7.0780e-03],\n",
       "         [ 3.7830e-05,  5.4851e-04,  8.2707e-04,  ...,  1.0757e-03,\n",
       "           7.5982e-04,  1.5335e-02],\n",
       "         [ 1.4453e-03, -1.7878e-03,  4.6908e-04,  ..., -7.0911e-04,\n",
       "           1.0335e-03,  1.4313e-02]]),\n",
       " 'paper': tensor([[ 0.0000,  0.0000,  0.0000,  ..., -0.0032, -0.0007,  0.0090],\n",
       "         [ 0.0000,  0.0000,  0.0000,  ..., -0.0106,  0.0010,  0.0099],\n",
       "         [ 0.0000,  0.0000,  0.0000,  ..., -0.0009, -0.0046,  0.0082],\n",
       "         ...,\n",
       "         [ 0.0000,  0.0000,  0.0000,  ...,  0.0020, -0.0033,  0.0066],\n",
       "         [ 0.0000,  0.0000,  0.0000,  ..., -0.0028,  0.0002,  0.0027],\n",
       "         [ 0.0000,  0.0000,  0.0000,  ..., -0.0013,  0.0082,  0.0041]]),\n",
       " 'venue': tensor([[ 5.6821e-04,  3.0065e-05,  2.2393e-03,  ..., -2.2604e-03,\n",
       "           1.1174e-03,  2.2809e-02],\n",
       "         [-1.4805e-03, -3.8860e-03,  1.2471e-03,  ..., -6.9615e-04,\n",
       "           5.2194e-04,  3.4028e-02],\n",
       "         [-2.5020e-03, -3.1805e-03, -3.3185e-04,  ..., -2.9193e-04,\n",
       "          -3.8082e-04,  1.5247e-02],\n",
       "         ...,\n",
       "         [-8.2875e-06,  1.2714e-03, -2.5557e-03,  ..., -4.5544e-03,\n",
       "           2.3767e-03,  9.5970e-03],\n",
       "         [ 3.2156e-03, -5.4920e-03,  1.5362e-03,  ..., -2.0576e-03,\n",
       "          -4.7241e-04,  1.6888e-02],\n",
       "         [-1.5940e-03, -3.7156e-04, -4.1280e-04,  ..., -1.3173e-03,\n",
       "           8.2073e-03,  4.0477e-03]])}"
      ]
     },
     "execution_count": 18,
     "metadata": {},
     "output_type": "execute_result"
    }
   ],
   "source": [
    "g.ndata['feat']"
   ]
  },
  {
   "cell_type": "code",
   "execution_count": 23,
   "metadata": {},
   "outputs": [],
   "source": [
    "labels=g.ndata['L1']['paper']"
   ]
  },
  {
   "cell_type": "code",
   "execution_count": 20,
   "metadata": {},
   "outputs": [
    {
     "data": {
      "text/plain": [
       "{'author': tensor([[-1., -1., -1.,  ..., -1., -1., -1.],\n",
       "         [ 1.,  0., -1.,  ..., -1., -1., -1.],\n",
       "         [-1., -1., -1.,  ..., -1., -1., -1.],\n",
       "         ...,\n",
       "         [-1., -1., -1.,  ..., -1., -1., -1.],\n",
       "         [27., 40., -1.,  ..., -1., -1., -1.],\n",
       "         [-1., -1., -1.,  ..., -1., -1., -1.]]),\n",
       " 'paper': tensor([[ 7., 13.,  4.,  ..., -1., -1., -1.],\n",
       "         [40., -1., -1.,  ..., -1., -1., -1.],\n",
       "         [ 7., 13.,  4.,  ..., -1., -1., -1.],\n",
       "         ...,\n",
       "         [ 9.,  4., 31.,  ..., -1., -1., -1.],\n",
       "         [ 6., 20., -1.,  ..., -1., -1., -1.],\n",
       "         [ 5., 89., -1.,  ..., -1., -1., -1.]]),\n",
       " 'venue': tensor([[19., 20.,  9.,  ..., -1., -1., -1.],\n",
       "         [ 2.,  1., 18.,  ..., -1., -1., -1.],\n",
       "         [46.,  1., 49.,  ..., -1., -1., -1.],\n",
       "         ...,\n",
       "         [ 3., 21., 20.,  ..., -1., -1., -1.],\n",
       "         [ 7., 40., 10.,  ..., -1., -1., -1.],\n",
       "         [ 5., 89., -1.,  ..., -1., -1., -1.]])}"
      ]
     },
     "execution_count": 20,
     "metadata": {},
     "output_type": "execute_result"
    }
   ],
   "source": [
    "labels[]"
   ]
  },
  {
   "cell_type": "code",
   "execution_count": 24,
   "metadata": {},
   "outputs": [
    {
     "data": {
      "text/plain": [
       "tensor([[ 9.,  4.,  3.,  ..., -1., -1., -1.],\n",
       "        [ 7.,  4.,  3.,  ..., -1., -1., -1.],\n",
       "        [19., -1., -1.,  ..., -1., -1., -1.],\n",
       "        ...,\n",
       "        [ 4., 55.,  9.,  ..., -1., -1., -1.],\n",
       "        [ 7.,  4.,  1.,  ..., -1., -1., -1.],\n",
       "        [11., 12., 26.,  ..., -1., -1., -1.]])"
      ]
     },
     "execution_count": 24,
     "metadata": {},
     "output_type": "execute_result"
    }
   ],
   "source": [
    "labels[output_nodes['paper']]"
   ]
  },
  {
   "cell_type": "code",
   "execution_count": null,
   "metadata": {},
   "outputs": [],
   "source": []
  }
 ],
 "metadata": {
  "kernelspec": {
   "display_name": "w2",
   "language": "python",
   "name": "python3"
  },
  "language_info": {
   "codemirror_mode": {
    "name": "ipython",
    "version": 3
   },
   "file_extension": ".py",
   "mimetype": "text/x-python",
   "name": "python",
   "nbconvert_exporter": "python",
   "pygments_lexer": "ipython3",
   "version": "3.11.6"
  }
 },
 "nbformat": 4,
 "nbformat_minor": 2
}
